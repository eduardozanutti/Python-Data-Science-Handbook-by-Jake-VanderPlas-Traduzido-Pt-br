{
 "cells": [
  {
   "cell_type": "markdown",
   "id": "e6f6cf42",
   "metadata": {},
   "source": [
    "# Python - Livro de mão para Ciência de Dados (Data Science) <a id='home'></a>"
   ]
  },
  {
   "cell_type": "markdown",
   "id": "78c2cc01",
   "metadata": {},
   "source": [
    "*Jake VanderPlas*\n",
    "\n",
    "![Book Cover](https://github.com/jakevdp/PythonDataScienceHandbook/blob/master/notebooks/figures/PDSH-cover.png?raw=true)"
   ]
  },
  {
   "cell_type": "markdown",
   "id": "4222c214",
   "metadata": {},
   "source": [
    "Esta é a versão do notebook Jupyter do [Python Data Science Handbook](http://shop.oreilly.com/product/0636920034919.do) por Jake VanderPlas; o conteúdo está disponível [no GitHub](https://github.com/jakevdp/PythonDataScienceHandbook).*\n",
    "O texto é publicado sob o [CC-BY-NC-ND license](https://creativecommons.org/licenses/by-nc-nd/3.0/us/legalcode), e o código é lançado sob o [MIT license](https://opensource.org/licenses/MIT). Se você achar este conteúdo útil, considere apoiar o trabalho [comprando o livro](http://shop.oreilly.com/product/0636920034919.do)!"
   ]
  },
  {
   "cell_type": "markdown",
   "id": "9c43159f",
   "metadata": {},
   "source": [
    "## Tabela de conteúdos <a id='index'></a>\n",
    "\n",
    "### [Capa](#home)\n",
    "### [Prefácio](#preface)\n",
    "\n",
    "### [1. IPython: Além do Python normal](#ipython)\n",
    "- [Ajuda e Documentação no IPython](#help_documentation)\n",
    "- [Atalhos de teclado no IPython Shell](#shortcuts)\n",
    "- [Comandos mágicos do IPython](#magic)\n",
    "- [Histórico de Input e Output](#history_in_out)\n",
    "- [Comandos Shell e IPython](#ipython_shell_commmands)\n",
    "- [Erros e Depuração](#erros)\n",
    "- [Código para criar perfis e cronômetrar](#time_profile)\n",
    "- [Mais recursos do IPython](#more_resources)\n",
    "\n",
    "### [2. Introduction to NumPy]\n",
    "- [Understanding Data Types in Python]\n",
    "- [The Basics of NumPy Arrays]\n",
    "- [Computation on NumPy Arrays: Universal Functions]\n",
    "- [Aggregations: Min, Max, and Everything In Between]\n",
    "- [Computation on Arrays: Broadcasting]\n",
    "- [Comparisons, Masks, and Boolean Logic]\n",
    "- [Fancy Indexing]\n",
    "- [Sorting Arrays]\n",
    "- [Structured Data: NumPy's Structured Arrays]\n",
    "\n",
    "### [3. Data Manipulation with Pandas]\n",
    "- [Introducing Pandas Objects]\n",
    "- [Data Indexing and Selection]\n",
    "- [Operating on Data in Pandas]\n",
    "- [Handling Missing Data]\n",
    "- [Hierarchical Indexing]\n",
    "- [Combining Datasets: Concat and Append]\n",
    "- [Combining Datasets: Merge and Join]\n",
    "- [Aggregation and Grouping]\n",
    "- [Pivot Tables]\n",
    "- [Vectorized String Operations]\n",
    "- [Working with Time Series]\n",
    "- [High-Performance Pandas: eval() and query()]\n",
    "- [Further Resources]\n",
    "\n",
    "### [4. Visualization with Matplotlib]\n",
    "- [Simple Line Plots]\n",
    "- [Simple Scatter Plots]\n",
    "- [Visualizing Errors]\n",
    "- [Density and Contour Plots]\n",
    "- [Histograms, Binnings, and Density]\n",
    "- [Customizing Plot Legends]\n",
    "- [Customizing Colorbars]\n",
    "- [Multiple Subplots]\n",
    "- [Text and Annotation]\n",
    "- [Customizing Ticks]\n",
    "- [Customizing Matplotlib: Configurations and Stylesheets]\n",
    "- [Three-Dimensional Plotting in Matplotlib]\n",
    "- [Geographic Data with Basemap]\n",
    "- [Visualization with Seaborn]\n",
    "- [Further Resources]\n",
    "\n",
    "### [5. Machine Learning](#machine_learning)\n",
    "- [O que é Machine Learning?](#whats_ml)\n",
    "- [Introduzindo o Scikit-Learn](#scikit_learn)\n",
    "- [Hyperparameters and Model Validation](#hyperparameters_validation)\n",
    "- [Feature Engineering]\n",
    "- [In Depth: Naive Bayes Classification]\n",
    "- [In Depth: Linear Regression]\n",
    "- [In-Depth: Support Vector Machines]\n",
    "- [In-Depth: Decision Trees and Random Forests]\n",
    "- [In Depth: Principal Component Analysis]\n",
    "- [In-Depth: Manifold Learning]\n",
    "- [In Depth: k-Means Clustering]\n",
    "- [In Depth: Gaussian Mixture Models]\n",
    "- [In-Depth: Kernel Density Estimation]\n",
    "- [Application: A Face Detection Pipeline]\n",
    "- [Further Machine Learning Resources]\n",
    "\n",
    "### [Appendix: Figure Code]"
   ]
  },
  {
   "cell_type": "markdown",
   "id": "f0235135",
   "metadata": {},
   "source": [
    "<!--BOOK_INFORMATION-->\n",
    "<img align=\"left\" style=\"padding-right:10px;\" src=\"https://github.com/jakevdp/PythonDataScienceHandbook/blob/master/notebooks/figures/PDSH-cover-small.png?raw=true\">\n",
    "\n",
    "*Esse notebook contém trechos do [Python Data Science Handbook](http://shop.oreilly.com/product/0636920034919.do) por Jake VanderPlas; o conteúdo está disponível [on GitHub](https://github.com/jakevdp/PythonDataScienceHandbook).*\n",
    "*O texto é publicado sob o [CC-BY-NC-ND license](https://creativecommons.org/licenses/by-nc-nd/3.0/us/legalcode), and code is lançado sob o [MIT license](https://opensource.org/licenses/MIT). Se você achar este conteúdo útil, considere apoiar o trabalho  [comprando o livro](http://shop.oreilly.com/product/0636920034919.do)!*"
   ]
  },
  {
   "cell_type": "markdown",
   "id": "8f17e095",
   "metadata": {},
   "source": [
    "# Prefácio <a id='preface'></a>"
   ]
  },
  {
   "cell_type": "markdown",
   "id": "d0fcec1a",
   "metadata": {},
   "source": [
    "<!--NAVIGATION-->\n",
    "| [Índice](#index) | [IPython: Além do Python normal](#ipython) >\n",
    "\n",
    "<a href=\"https://colab.research.google.com/github/jakevdp/PythonDataScienceHandbook/blob/master/notebooks/00.00-Preface.ipynb\"><img align=\"left\" src=\"https://colab.research.google.com/assets/colab-badge.svg\" alt=\"Open in Colab\" title=\"Open and Execute in Google Colaboratory\"></a>"
   ]
  },
  {
   "cell_type": "markdown",
   "id": "5c72980b",
   "metadata": {},
   "source": [
    "## O que é Data Science?\n",
    "Este é um livro sobre como fazer ciência de dados com Python, o que imediatamente levanta a questão: o que é ciência de dados? É uma definição surpreendentemente difícil de definir, especialmente considerando o quão onipresente o termo se tornou. Os críticos vocais têm rejeitado o termo de várias maneiras como um rótulo supérfluo (afinal, que ciência não envolve dados?) Ou um chavão simples que só existe para salgar currículos e chamar a atenção de recrutadores de tecnologia excessivamente zelosos.\n",
    "\n",
    "Em minha mente, essas críticas deixam passar algo importante. A ciência de dados, apesar de seu verniz carregado de expectativa, é talvez o melhor rótulo que temos para o conjunto interdisciplinar de habilidades que estão se tornando cada vez mais importantes em muitas aplicações na indústria e na academia. Esta peça interdisciplinar é a chave: em minha opinião, a melhor definição existente de ciência de dados é ilustrada pelo Diagrama de Venn de Ciência de Dados de Drew Conway, publicado pela primeira vez em seu blog em setembro de 2010:"
   ]
  },
  {
   "cell_type": "markdown",
   "id": "85c924f7",
   "metadata": {},
   "source": [
    "![Data Science Venn Diagram](https://images.squarespace-cdn.com/content/v1/5150aec6e4b0e340ec52710a/1364352051365-HZAS3CLBF7ABLE3F5OBY/Data_Science_VD.png?format=750w)\n",
    "\n",
    "<small>(Source: [Drew Conway](http://drewconway.com/zia/2013/3/26/the-data-science-venn-diagram). Used by permission.)</small>"
   ]
  },
  {
   "cell_type": "markdown",
   "id": "2316e7cd",
   "metadata": {},
   "source": [
    "Embora alguns dos rótulos de interseção sejam um tanto irônicos, este diagrama captura a essência do que eu acho que as pessoas querem dizer quando dizem \"ciência de dados\": é fundamentalmente um assunto interdisciplinar. A ciência de dados compreende três áreas distintas e sobrepostas: as habilidades de um estatístico que sabe como modelar e resumir conjuntos de dados (que estão cada vez maiores); as habilidades de um cientista da computação que pode projetar e usar algoritmos para armazenar, processar e visualizar esses dados com eficiência; e o domínio da <i>expertise</i> - o que podemos pensar como treinamento \"clássico\" em um assunto - necessária tanto para formular as perguntas certas quanto para colocar suas respostas no contexto.\n",
    "\n",
    "Com isso em mente, eu o encorajaria a pensar em ciência de dados não como um novo domínio de conhecimento a ser aprendido, mas um novo conjunto de habilidades que você pode aplicar em sua área de especialização atual. Esteja você relatando resultados eleitorais, prevendo retornos de ações, otimizando cliques em anúncios online, identificando microorganismos em fotos de microscópio, buscando novas classes de objetos astronômicos ou trabalhando com dados em qualquer outro campo, o objetivo deste livro é fornecer a você a capacidade de pergunte e responda novas perguntas sobre a área de assunto escolhida."
   ]
  },
  {
   "cell_type": "markdown",
   "id": "2b852431",
   "metadata": {},
   "source": [
    "## Para quem é este livro?\n",
    "\n",
    "Em minhas aulas na Universidade de Washington e em várias conferências e encontros com foco em tecnologia, uma das perguntas mais comuns que ouvi é esta: \"como devo aprender Python?\"\n",
    "As pessoas que perguntam isso são geralmente estudantes, desenvolvedores ou pesquisadores com mentalidade técnica, muitas vezes com uma sólida experiência em escrever códigos e usar ferramentas computacionais e numéricas.\n",
    "A maioria dessas pessoas não querem aprender Python *por si só*, mas querem aprender a linguagem com o objetivo de usá-la como uma ferramenta para uso intensivo de dados e ciência computacional.\n",
    "Embora uma grande colcha de retalhos de vídeos, postagens em blogs e tutoriais para esse público esteja disponível online, há muito tempo fico frustrado com a falta de uma única resposta adequada para essa pergunta; foi isso que inspirou este livro.\n",
    "\n",
    "O livro não pretende ser uma introdução ao Python ou à programação em geral; Presumo que o leitor tenha familiaridade com a linguagem Python, incluindo definição de funções, atribuição de variáveis, chamada de métodos de objetos, controle do fluxo de um programa e outras tarefas básicas.\n",
    "Em vez disso, destina-se a ajudar os usuários de Python a aprender a usar as bibliotecas de pilha de ciência de dados do Python, como IPython, NumPy, Pandas, Matplotlib, Scikit-Learn e ferramentas relacionadas - para armazenar, manipular e obter informações de dados de maneira eficaz."
   ]
  },
  {
   "cell_type": "markdown",
   "id": "648a66d4",
   "metadata": {},
   "source": [
    "## Por que Python?\n",
    "\n",
    "Python surgiu nas últimas décadas como uma ferramenta de primeira classe para tarefas de computação científica, incluindo a análise e visualização de grandes conjuntos de dados.\n",
    "Isso pode ter sido uma surpresa para os criadores da linguagem Python: a linguagem em si não foi projetada especificamente para a análise de dados ou computação científica.\n",
    "A utilidade do Python para a ciência de dados deriva principalmente do grande e ativo ecossistema de pacotes de terceiros: *NumPy* para manipulação de dados homogêneos baseados em array (matrizes), *Pandas* para manipulação de dados heterogêneos e rotulados, *SciPy* para dados científicos comuns tarefas de computação, *Matplotlib* para visualização de dados com qualidade de publicação, *IPython* para execução interativa e compartilhamento de código, *Scikit-Learn* para aprendizado de máquina e muitas outras ferramentas que serão mencionadas nas páginas a seguir.\n",
    "\n",
    "Se você está procurando um guia para a linguagem Python em si, sugiro o projeto irmão deste livro, \"[Um tour rápido pela linguagem Python](https://jakevdp.github.io/WhirlwindTourOfPython)\".\n",
    "Este breve relatório fornece um tour pelos recursos essenciais da linguagem Python, voltado para cientistas de dados que já estão familiarizados com uma ou mais outras linguagens de programação."
   ]
  },
  {
   "cell_type": "markdown",
   "id": "3c633f39",
   "metadata": {},
   "source": [
    "### Python 2 vs Python 3\n",
    "\n",
    "Este livro usa a sintaxe do Python 3, que contém aprimoramentos de linguagem que não são compatíveis com a série 2.x do Python.\n",
    "Embora o Python 3.0 tenha sido lançado pela primeira vez em 2008, a adoção tem sido relativamente lenta, particularmente nas comunidades científica e de desenvolvimento da web.\n",
    "Isso ocorre principalmente porque levou algum tempo para que muitos dos pacotes e kits de ferramentas essenciais de terceiros se tornassem compatíveis com as novas linguagens internas.\n",
    "Desde o início de 2014, no entanto, as versões estáveis das ferramentas mais importantes no ecossistema de ciência de dados são totalmente compatíveis com Python 2 e 3 e, portanto, este livro usará a sintaxe Python 3 mais recente.\n",
    "No entanto, a grande maioria dos fragmentos de código neste livro também funcionará sem modificação no Python 2: nos casos em que uma sintaxe incompatível com Py2 for usada, farei todo o possível para observá-la explicitamente."
   ]
  },
  {
   "cell_type": "markdown",
   "id": "d4f392f5",
   "metadata": {},
   "source": [
    "## Esboço do livro\n",
    "\n",
    "Cada capítulo deste livro enfoca um pacote ou ferramenta particular que contribui com uma parte fundamental da história do Python Data Science.\n",
    "\n",
    "1. IPython e Jupyter: esses pacotes fornecem o ambiente computacional no qual trabalham muitos cientistas de dados que usam Python.\n",
    "2. NumPy: esta biblioteca fornece o `` ndarray`` para armazenamento e manipulação eficientes de matrizes de dados densos em Python.\n",
    "3. Pandas: esta biblioteca fornece o `` DataFrame`` para armazenamento e manipulação eficientes de dados rotulados / colunares em Python.\n",
    "4. Matplotlib: esta biblioteca fornece recursos para uma gama flexível de visualizações de dados em Python.\n",
    "5. Scikit-Learn: esta biblioteca fornece implementações Python eficientes e limpas dos algoritmos de aprendizado de máquina mais importantes e estabelecidos.\n",
    "\n",
    "O mundo PyData é certamente muito maior do que esses cinco pacotes e está crescendo a cada dia.\n",
    "Com isso em mente, faço todas as tentativas dessas páginas para fornecer referências a outros esforços, projetos e pacotes interessantes que estão ultrapassando os limites do que pode ser feito em Python.\n",
    "No entanto, esses cinco são atualmente fundamentais para grande parte do trabalho que está sendo feito no espaço da ciência de dados Python, e espero que continuem importantes mesmo que o ecossistema continue crescendo ao seu redor."
   ]
  },
  {
   "cell_type": "markdown",
   "id": "8f7ef4bd",
   "metadata": {},
   "source": [
    "## Usando exemplos de código\n",
    "\n",
    "O material complementar (exemplos de código, figuras, etc.) está disponível para download em http://github.com/jakevdp/PythonDataScienceHandbook/. Este livro está aqui para ajudá-lo a realizar seu trabalho. Em geral, se o código de exemplo é oferecido com este livro, você pode usá-lo em seus programas e documentação. Você não precisa entrar em contato conosco para obter permissão, a menos que esteja reproduzindo uma parte significativa do código. Por exemplo, escrever um programa que usa vários pedaços de código deste livro não requer permissão. Vender ou distribuir um CD-ROM de exemplos de livros O’Reilly requer permissão. Responder a uma pergunta citando este livro e citando um código de exemplo não requer permissão. Incorporar uma quantidade significativa de código de exemplo deste livro na documentação do seu produto requer permissão.\n",
    "\n",
    "Agradecemos, mas não exigimos atribuição. Uma atribuição geralmente inclui o título, autor, editora e ISBN. Por exemplo:\n",
    "\n",
    "> *The Python Data Science Handbook* por Jake VanderPlas (O’Reilly). Copyright 2016 Jake VanderPlas, 978-1-491-91205-8.\n",
    "\n",
    "Se você acha que o uso de exemplos de código está fora do uso justo ou da permissão fornecida acima, sinta-se à vontade para nos contatar em permissions@oreilly.com."
   ]
  },
  {
   "cell_type": "code",
   "execution_count": null,
   "id": "c42268e0",
   "metadata": {},
   "outputs": [],
   "source": []
  },
  {
   "cell_type": "markdown",
   "id": "65609ab5",
   "metadata": {},
   "source": [
    "# 1. IPython: além do Python normal <a id='ipython'></a>"
   ]
  },
  {
   "cell_type": "markdown",
   "id": "6ad2877c",
   "metadata": {},
   "source": [
    "<!--NAVIGATION-->\n",
    "< [Prefácio](#preface) | [Índice](#index) | [Ajuda e Documentação do IPhyton](#help_documentation) >\n",
    "\n",
    "<a href=\"https://colab.research.google.com/github/jakevdp/PythonDataScienceHandbook/blob/master/notebooks/01.00-IPython-Beyond-Normal-Python.ipynb\"><img align=\"left\" src=\"https://colab.research.google.com/assets/colab-badge.svg\" alt=\"Open in Colab\" title=\"Open and Execute in Google Colaboratory\"></a>\n"
   ]
  },
  {
   "cell_type": "markdown",
   "id": "558649e0",
   "metadata": {},
   "source": [
    "Existem muitas opções para ambientes de desenvolvimento para Python, e muitas vezes me perguntam qual eu uso em meu próprio trabalho.\n",
    "Minha resposta às vezes surpreende as pessoas: meu ambiente preferido é [IPython](http://ipython.org/) e mais um editor de texto (no meu caso, Emacs ou Atom dependendo do meu humor).\n",
    "IPython (abreviação de *Interactive Python*) foi iniciado em 2001 por Fernando Perez como um interpretador Python aprimorado e, desde então, se tornou um projeto com o objetivo de fornecer, nas palavras de Perez, \"Ferramentas para todo o ciclo de vida da computação de pesquisa.\"\n",
    "Se Python é o motor de nossa tarefa de ciência de dados, você pode pensar em IPython como o painel de controle interativo.\n",
    "\n",
    "Além de ser uma interface interativa útil para Python, o IPython também fornece uma série de adições sintáticas úteis para a linguagem; vamos cobrir as mais úteis dessas adições aqui.\n",
    "Além disso, o IPython está intimamente ligado ao [projeto Jupyter](http://jupyter.org), que fornece um bloco de notas baseado em navegador que é útil para desenvolvimento, colaboração, compartilhamento e até publicação de resultados de ciência de dados.\n",
    "O bloco de notas IPython é na verdade um caso especial da estrutura de bloco de notas Jupyter (*Jupyter Notebook*) mais ampla, que abrange blocos de notas para Julia, R e outras linguagens de programação.\n",
    "Como exemplo da utilidade do formato de *notebook*, basta olhar para a página que você está lendo: todo o manuscrito deste livro foi composto como um conjunto de blocos de notas IPython.\n",
    "\n",
    "IPython é sobre como usar Python efetivamente para computação científica interativa e com uso intensivo de dados.\n",
    "Este capítulo começará percorrendo alguns dos recursos do IPython que são úteis para a prática da ciência de dados, focando especialmente na sintaxe que oferece além dos recursos padrão do Python.\n",
    "A seguir, vamos nos aprofundar um pouco mais em alguns dos \"comandos mágicos\" (*Magic Tools*) mais úteis que podem acelerar tarefas comuns na criação e no uso de código de ciência de dados.\n",
    "Por fim, abordaremos alguns dos recursos do bloco de notas que o tornam útil na compreensão de dados e no compartilhamento de resultados."
   ]
  },
  {
   "cell_type": "markdown",
   "id": "4e1b4152",
   "metadata": {},
   "source": [
    "## Shell ou Notebook?\n",
    "\n",
    "Existem dois meios principais de usar IPython que discutiremos neste capítulo: o IPython shell e o IPython notebook.\n",
    "A maior parte do material neste capítulo é relevante para ambos, e os exemplos irão alternar entre eles dependendo do que for mais conveniente.\n",
    "Nas poucas seções que são relevantes apenas para um ou outro, declararemos explicitamente esse fato.\n",
    "Antes de começar, algumas palavras sobre como iniciar o IPython shell e o IPython notebook."
   ]
  },
  {
   "cell_type": "markdown",
   "id": "d3b031b7",
   "metadata": {},
   "source": [
    "### Lançando o IPython Shell\n",
    "\n",
    "Este capítulo, como a maior parte deste livro, não foi projetado para ser absorvido passivamente.\n",
    "Recomendo que, ao lê-lo, você acompanhe e experimente as ferramentas e a sintaxe que abordamos: a memória muscular que você constrói ao fazer isso será muito mais útil do que o simples ato de ler sobre ela.\n",
    "Comece iniciando o interpretador IPython digitando **``ipython``** na linha de comando; alternativamente, se você instalou uma distribuição como Anaconda ou EPD, pode haver um inicializador específico para seu sistema (discutiremos isso mais detalhadamente em [Ajuda e documentação em IPython](#help_documentation)\n",
    "\n",
    "Depois de fazer isso, você verá um prompt como o seguinte:\n",
    "```ipython\n",
    "IPython 4.0.1 - Um Python interativo aprimorado.\n",
    "? -> Introdução e visão geral dos recursos do IPython.\n",
    "% quickref -> Referência rápida.\n",
    "help -> O próprio sistema de ajuda do Python.\n",
    "object? -> Detalhes sobre 'objeto', use 'objeto ??' para detalhes extras.\n",
    "In [1]:\n",
    "```\n",
    "<p>\n",
    "Com isso, você está pronto para seguir em frente."
   ]
  },
  {
   "cell_type": "markdown",
   "id": "a906a4ee",
   "metadata": {},
   "source": [
    "### Lançando o Jupyter Notebook\n",
    "\n",
    "O notebook Jupyter é uma interface gráfica baseada em navegador para o IPython shell e se baseia em um rico conjunto de recursos de exibição dinâmica.\n",
    "Além de executar instruções Python / IPython, o notebook permite ao usuário incluir texto formatado, visualizações estáticas e dinâmicas, equações matemáticas, widgets JavaScript e muito mais.\n",
    "Além disso, esses documentos podem ser salvos de forma que outras pessoas os abram e executem o código em seus próprios sistemas.\n",
    "\n",
    "Embora o bloco de notas IPython seja visualizado e editado por meio da janela do navegador da web, ele deve se conectar a um processo Python em execução para executar o código.\n",
    "Esse processo (conhecido como \"kernel\") pode ser iniciado executando o seguinte comando no shell do sistema:\n",
    "\n",
    "```ipython\n",
    "$ jupyter notebook\n",
    "```\n",
    "\n",
    "Este comando irá lançar um servidor web local que ficará visível para o seu navegador.\n",
    "Ele imediatamente cospe um registro mostrando o que está fazendo; esse registro será semelhante a este:\n",
    "\n",
    "```ipython\n",
    "$ jupyter notebook\n",
    "[NotebookApp] Serving notebooks from local directory: /Users/jakevdp/PythonDataScienceHandbook\n",
    "[NotebookApp] 0 active kernels\n",
    "[NotebookApp] The IPython Notebook is running at: http://localhost:8888/\n",
    "[NotebookApp] Use Control-C to stop this server and shut down all kernels (twice to skip confirmation).\n",
    "```\n",
    "\n",
    "Ao emitir o comando, seu navegador padrão deve abrir automaticamente e navegar para o URL local listado;\n",
    "o endereço exato dependerá do seu sistema.\n",
    "Se o navegador não abrir automaticamente, você pode abrir uma janela e abrir manualmente este endereço (*http://localhost:8888/* neste exemplo)."
   ]
  },
  {
   "cell_type": "markdown",
   "id": "25d79e03",
   "metadata": {},
   "source": [
    "<!--BOOK_INFORMATION-->\n",
    "<img align=\"left\" style=\"padding-right:10px;\" src=\"https://github.com/jakevdp/PythonDataScienceHandbook/blob/master/notebooks/figures/PDSH-cover-small.png?raw=true\">\n",
    "\n",
    "*Esse notebook contém trechos do [Python Data Science Handbook](http://shop.oreilly.com/product/0636920034919.do) por Jake VanderPlas; o conteúdo está disponível [on GitHub](https://github.com/jakevdp/PythonDataScienceHandbook).*\n",
    "*O texto é publicado sob o [CC-BY-NC-ND license](https://creativecommons.org/licenses/by-nc-nd/3.0/us/legalcode), and code is lançado sob o [MIT license](https://opensource.org/licenses/MIT). Se você achar este conteúdo útil, considere apoiar o trabalho  [comprando o livro](http://shop.oreilly.com/product/0636920034919.do)!*"
   ]
  },
  {
   "cell_type": "markdown",
   "id": "144dd67f",
   "metadata": {},
   "source": [
    "## 1.1 Ajuda e documentação no IPython <a id='help_documentation'></a>"
   ]
  },
  {
   "cell_type": "markdown",
   "id": "cf046cf2",
   "metadata": {},
   "source": [
    "<!--NAVIGATION-->\n",
    "< [IPython: Além do Python Normal](#ipython) | [Índice](#index) | [Atalhos de teclado no IPython Shell](#shortcuts) >\n",
    "\n",
    "<a href=\"https://colab.research.google.com/github/jakevdp/PythonDataScienceHandbook/blob/master/notebooks/01.01-Help-And-Documentation.ipynb\"><img align=\"left\" src=\"https://colab.research.google.com/assets/colab-badge.svg\" alt=\"Open in Colab\" title=\"Open and Execute in Google Colaboratory\"></a>"
   ]
  },
  {
   "cell_type": "markdown",
   "id": "97d0f344",
   "metadata": {},
   "source": [
    "Se você não leu nenhuma outra seção neste capítulo, leia esta: Acho que as ferramentas discutidas aqui são as contribuições mais transformadoras do IPython para meu fluxo de trabalho diário.\n",
    "\n",
    "Quando uma pessoa com mentalidade tecnológica é solicitada a ajudar um amigo, parente ou colega com um problema de computador, na maioria das vezes é menos uma questão de saber a resposta do que de saber como encontrar rapidamente uma resposta desconhecida.\n",
    "Na ciência de dados é o mesmo: recursos pesquisáveis ​​da web, como documentação online, tópicos de listas de discussão e respostas StackOverflow contêm uma riqueza de informações, mesmo (especialmente?) Se for um tópico que você já pesquisou antes.\n",
    "Ser um praticante eficaz da ciência de dados é menos sobre memorizar a ferramenta ou comando que você deve usar para todas as situações possíveis, e mais sobre aprender a encontrar efetivamente as informações que você não conhece, seja por meio de um mecanismo de pesquisa na web ou outro meio.\n",
    "\n",
    "Uma das funções mais úteis do IPython / Jupyter é reduzir a lacuna entre o usuário e o tipo de documentação e pesquisa que o ajudará a fazer seu trabalho com eficácia.\n",
    "Embora as pesquisas na web ainda desempenhem um papel na resposta a perguntas complicadas, uma quantidade incrível de informações pode ser encontrada apenas por meio do IPython.\n",
    "Alguns exemplos das perguntas que o IPython pode ajudar a responder com apenas alguns toques de tecla:\n",
    "\n",
    "- Como faço para chamar essa função? Que argumentos e opções ele tem?\n",
    "- Qual é a aparência do código-fonte deste objeto Python?\n",
    "- O que tem nesse pacote que importei? Quais atributos ou métodos este objeto possui?\n",
    "\n",
    "Aqui, discutiremos as ferramentas do IPython para acessar rapidamente essas informações, nomeadamente o caractere ``? `` Para explorar a documentação, os caracteres `` ?? `` para explorar o código-fonte e a tecla Tab para autocompletar."
   ]
  },
  {
   "cell_type": "markdown",
   "id": "af88f427",
   "metadata": {},
   "source": [
    "## Acessando a documentação com ``? ``\n",
    "\n",
    "A linguagem Python e seu ecossistema de ciência de dados são construídos com o usuário em mente, e uma grande parte disso é o acesso à documentação.\n",
    "Cada objeto Python contém a referência a uma string, conhecida como * doc string *, que na maioria dos casos conterá um resumo conciso do objeto e como usá-lo.\n",
    "Python tem uma função `` help () `` embutida que pode acessar essas informações e imprimir os resultados.\n",
    "Por exemplo, para ver a documentação da função incorporada `` len``, você pode fazer o seguinte:\n",
    "\n",
    "```ipython\n",
    "In [1]: help(len)\n",
    "Help on built-in function len in module builtins:\n",
    "\n",
    "len(...)\n",
    "    len(object) -> integer\n",
    "    \n",
    "    Return the number of items of a sequence or mapping.\n",
    "```\n",
    "Dependendo do seu intérprete, essas informações podem ser exibidas como texto embutido ou em alguma janela pop-up separada."
   ]
  },
  {
   "cell_type": "markdown",
   "id": "270ae726",
   "metadata": {},
   "source": [
    "**Insira seu código abaixo:**"
   ]
  },
  {
   "cell_type": "code",
   "execution_count": null,
   "id": "d9928638",
   "metadata": {},
   "outputs": [],
   "source": []
  },
  {
   "cell_type": "code",
   "execution_count": null,
   "id": "8b39add8",
   "metadata": {},
   "outputs": [],
   "source": []
  },
  {
   "cell_type": "code",
   "execution_count": null,
   "id": "ccd129ca",
   "metadata": {},
   "outputs": [],
   "source": []
  },
  {
   "cell_type": "code",
   "execution_count": null,
   "id": "7b18953a",
   "metadata": {},
   "outputs": [],
   "source": []
  },
  {
   "cell_type": "code",
   "execution_count": null,
   "id": "51caa40e",
   "metadata": {},
   "outputs": [],
   "source": []
  },
  {
   "cell_type": "markdown",
   "id": "c6f6684e",
   "metadata": {},
   "source": [
    "Como encontrar ajuda em um objeto é tão comum e útil, o IPython apresenta o caractere ``? `` Como um atalho para acessar esta documentação e outras informações relevantes:\n",
    "\n",
    "```ipython\n",
    "In [2]: len?\n",
    "Type:        builtin_function_or_method\n",
    "String form: <built-in function len>\n",
    "Namespace:   Python builtin\n",
    "Docstring:\n",
    "len(object) -> integer\n",
    "\n",
    "Return the number of items of a sequence or mapping.\n",
    "```"
   ]
  },
  {
   "cell_type": "markdown",
   "id": "b2416366",
   "metadata": {},
   "source": [
    "**Insira seu código abaixo:**"
   ]
  },
  {
   "cell_type": "code",
   "execution_count": null,
   "id": "0710b94b",
   "metadata": {},
   "outputs": [],
   "source": []
  },
  {
   "cell_type": "code",
   "execution_count": null,
   "id": "7635615c",
   "metadata": {},
   "outputs": [],
   "source": []
  },
  {
   "cell_type": "code",
   "execution_count": null,
   "id": "b3c6ddb0",
   "metadata": {},
   "outputs": [],
   "source": []
  },
  {
   "cell_type": "code",
   "execution_count": null,
   "id": "3abca230",
   "metadata": {},
   "outputs": [],
   "source": []
  },
  {
   "cell_type": "code",
   "execution_count": null,
   "id": "84864139",
   "metadata": {},
   "outputs": [],
   "source": []
  },
  {
   "cell_type": "markdown",
   "id": "d8707dec",
   "metadata": {},
   "source": [
    "Essa notação funciona para quase tudo, incluindo métodos de objeto:\n",
    "\n",
    "```ipython\n",
    "In [3]: L = [1, 2, 3]\n",
    "In [4]: L.insert?\n",
    "Type:        builtin_function_or_method\n",
    "String form: <built-in method insert of list object at 0x1024b8ea8>\n",
    "Docstring:   L.insert(index, object) -- insert object before index\n",
    "```\n",
    "\n",
    "ou ainda os próprios objetos, com a documentação de seu tipo:\n",
    "\n",
    "```ipython\n",
    "In [5]: L?\n",
    "Type:        list\n",
    "String form: [1, 2, 3]\n",
    "Length:      3\n",
    "Docstring:\n",
    "list() -> new empty list\n",
    "list(iterable) -> new list initialized from iterable's items\n",
    "```"
   ]
  },
  {
   "cell_type": "markdown",
   "id": "b5fa3550",
   "metadata": {},
   "source": [
    "**Insira seu código abaixo:**"
   ]
  },
  {
   "cell_type": "code",
   "execution_count": null,
   "id": "8f9b2e53",
   "metadata": {},
   "outputs": [],
   "source": []
  },
  {
   "cell_type": "code",
   "execution_count": null,
   "id": "7e6f9df1",
   "metadata": {},
   "outputs": [],
   "source": []
  },
  {
   "cell_type": "code",
   "execution_count": null,
   "id": "41b5d354",
   "metadata": {},
   "outputs": [],
   "source": []
  },
  {
   "cell_type": "code",
   "execution_count": null,
   "id": "b7a2bf69",
   "metadata": {},
   "outputs": [],
   "source": []
  },
  {
   "cell_type": "code",
   "execution_count": null,
   "id": "af12f93d",
   "metadata": {},
   "outputs": [],
   "source": []
  },
  {
   "cell_type": "markdown",
   "id": "f4021194",
   "metadata": {},
   "source": [
    "É importante ressaltar que isso funcionará até mesmo para funções ou outros objetos que você mesmo criar! Aqui definiremos uma pequena função com uma docstring:\n",
    "\n",
    "```ipython\n",
    "In [6]: def square(a):\n",
    "  ....:     \"\"\"Return the square of a.\"\"\"\n",
    "  ....:     return a ** 2\n",
    "  ....:\n",
    "```\n",
    "Observe que, para criar uma docstring para nossa função, simplesmente colocamos uma string literal na primeira linha. Como as strings de doc geralmente têm várias linhas, por convenção usamos a notação de aspas triplas do Python para strings de várias linhas."
   ]
  },
  {
   "cell_type": "markdown",
   "id": "d326c7ee",
   "metadata": {},
   "source": [
    "**Insira seu código abaixo:**"
   ]
  },
  {
   "cell_type": "code",
   "execution_count": null,
   "id": "5fbe9d20",
   "metadata": {},
   "outputs": [],
   "source": []
  },
  {
   "cell_type": "code",
   "execution_count": null,
   "id": "8d4c47c2",
   "metadata": {},
   "outputs": [],
   "source": []
  },
  {
   "cell_type": "code",
   "execution_count": null,
   "id": "46650a1c",
   "metadata": {},
   "outputs": [],
   "source": []
  },
  {
   "cell_type": "code",
   "execution_count": null,
   "id": "6dd8acbe",
   "metadata": {},
   "outputs": [],
   "source": []
  },
  {
   "cell_type": "code",
   "execution_count": null,
   "id": "0fd5c161",
   "metadata": {},
   "outputs": [],
   "source": []
  },
  {
   "cell_type": "markdown",
   "id": "3de33007",
   "metadata": {},
   "source": [
    "Agora usaremos a marca ``? `` Para encontrar esta string doc:\n",
    "\n",
    "```ipython\n",
    "In [7]: square?\n",
    "Type:        function\n",
    "String form: <function square at 0x103713cb0>\n",
    "Definition:  square(a)\n",
    "Docstring:   Return the square of a.\n",
    "```\n",
    "\n",
    "Este acesso rápido à documentação por meio de docstrings é uma razão pela qual você deve adquirir o hábito de sempre adicionar tal documentação embutida ao código que você escreve!"
   ]
  },
  {
   "cell_type": "markdown",
   "id": "2dba63d2",
   "metadata": {},
   "source": [
    "**Insira seu código abaixo:**"
   ]
  },
  {
   "cell_type": "code",
   "execution_count": null,
   "id": "e0d5a633",
   "metadata": {},
   "outputs": [],
   "source": []
  },
  {
   "cell_type": "code",
   "execution_count": null,
   "id": "1c027c69",
   "metadata": {},
   "outputs": [],
   "source": []
  },
  {
   "cell_type": "code",
   "execution_count": null,
   "id": "a05d6064",
   "metadata": {},
   "outputs": [],
   "source": []
  },
  {
   "cell_type": "code",
   "execution_count": null,
   "id": "b15daf33",
   "metadata": {},
   "outputs": [],
   "source": []
  },
  {
   "cell_type": "code",
   "execution_count": null,
   "id": "d56a9e85",
   "metadata": {},
   "outputs": [],
   "source": []
  },
  {
   "cell_type": "markdown",
   "id": "3125ef84",
   "metadata": {},
   "source": [
    "## Acessando o código-fonte com `` ?? `` \n",
    "Como a linguagem Python é facilmente legível, outro nível de percepção geralmente pode ser obtido lendo o código-fonte do objeto sobre o qual você está curioso. IPython fornece um atalho para o código-fonte com o ponto de interrogação duplo (``??``):\n",
    "\n",
    "```ipython\n",
    "In [8]: square??\n",
    "Type:        function\n",
    "String form: <function square at 0x103713cb0>\n",
    "Definition:  square(a)\n",
    "Source:\n",
    "def square(a):\n",
    "    \"Return the square of a\"\n",
    "    return a ** 2\n",
    "```\n",
    "\n",
    "Para funções simples como essa, o ponto de interrogação duplo pode fornecer uma visão rápida dos detalhes sob o capô."
   ]
  },
  {
   "cell_type": "markdown",
   "id": "96714d4e",
   "metadata": {},
   "source": [
    "**Insira seu código abaixo:**"
   ]
  },
  {
   "cell_type": "code",
   "execution_count": null,
   "id": "e443d80b",
   "metadata": {},
   "outputs": [],
   "source": []
  },
  {
   "cell_type": "code",
   "execution_count": null,
   "id": "1983e1a8",
   "metadata": {},
   "outputs": [],
   "source": []
  },
  {
   "cell_type": "code",
   "execution_count": null,
   "id": "30afe170",
   "metadata": {},
   "outputs": [],
   "source": []
  },
  {
   "cell_type": "code",
   "execution_count": null,
   "id": "22dab5d6",
   "metadata": {},
   "outputs": [],
   "source": []
  },
  {
   "cell_type": "code",
   "execution_count": null,
   "id": "029ac754",
   "metadata": {},
   "outputs": [],
   "source": []
  },
  {
   "cell_type": "markdown",
   "id": "d6cbcaf6",
   "metadata": {},
   "source": [
    "Se você brincar com isso, você notará que às vezes o sufixo `` ?? `` não exibe nenhum código-fonte: isso geralmente ocorre porque o objeto em questão não é implementado em Python, mas em C ou algum outro compilado linguagem de extensão. Se for este o caso, o sufixo `` ?? `` dá a mesma saída que o sufixo ``? ``. Você encontrará isso particularmente com muitos dos objetos e tipos integrados do Python, por exemplo, `` len`` acima:\n",
    "\n",
    "\n",
    "```ipython\n",
    "In [9]: len??\n",
    "Type:        builtin_function_or_method\n",
    "String form: <built-in function len>\n",
    "Namespace:   Python builtin\n",
    "Docstring:\n",
    "len(object) -> integer\n",
    "\n",
    "Return the number of items of a sequence or mapping.\n",
    "```\n",
    "\n",
    "Usar ``? `` E / ou `` ?? `` fornece uma interface poderosa e rápida para encontrar informações sobre o que qualquer função ou módulo Python faz."
   ]
  },
  {
   "cell_type": "markdown",
   "id": "2befdef9",
   "metadata": {},
   "source": [
    "**Insira seu código abaixo:**"
   ]
  },
  {
   "cell_type": "code",
   "execution_count": null,
   "id": "73547b98",
   "metadata": {},
   "outputs": [],
   "source": []
  },
  {
   "cell_type": "code",
   "execution_count": null,
   "id": "f76ca25e",
   "metadata": {},
   "outputs": [],
   "source": []
  },
  {
   "cell_type": "code",
   "execution_count": null,
   "id": "0f1f56a6",
   "metadata": {},
   "outputs": [],
   "source": []
  },
  {
   "cell_type": "code",
   "execution_count": null,
   "id": "ccbd8dda",
   "metadata": {},
   "outputs": [],
   "source": []
  },
  {
   "cell_type": "code",
   "execution_count": null,
   "id": "c2265b43",
   "metadata": {},
   "outputs": [],
   "source": []
  },
  {
   "cell_type": "markdown",
   "id": "86d5ba1f",
   "metadata": {},
   "source": [
    "## Explorando Módulos com Completamento de Aba \n",
    "A outra interface útil do IPython é o uso da tecla tab para autocompletar e explorar o conteúdo de objetos, módulos e espaços de nomes. Nos exemplos a seguir, usaremos `` <TAB> `` para indicar quando a tecla Tab deve ser pressionada."
   ]
  },
  {
   "cell_type": "markdown",
   "id": "3fb1fa6b",
   "metadata": {},
   "source": [
    "### Preenchimento do conteúdo do objeto com tabulação\n",
    "\n",
    "Cada objeto Python possui vários atributos e métodos associados a ele. Como com a função `` help`` discutida antes, Python tem uma função `` dir`` embutida que retorna uma lista delas, mas a interface de preenchimento de tabulação é muito mais fácil de usar na prática. Para ver uma lista de todos os atributos disponíveis de um objeto, você pode digitar o nome do objeto seguido por um ponto (\"``.``\") e a tecla Tab:\n",
    "\n",
    "\n",
    "```ipython\n",
    "In [10]: L.<TAB>\n",
    "L.append   L.copy     L.extend   L.insert   L.remove   L.sort     \n",
    "L.clear    L.count    L.index    L.pop      L.reverse  \n",
    "```\n",
    "\n",
    "Para restringir a lista, você pode digitar o primeiro caractere ou vários caracteres do nome e a tecla Tab encontrará os atributos e métodos correspondentes:\n",
    "\n",
    "\n",
    "```ipython\n",
    "In [10]: L.c<TAB>\n",
    "L.clear  L.copy   L.count  \n",
    "\n",
    "In [10]: L.co<TAB>\n",
    "L.copy   L.count \n",
    "```\n",
    "\n",
    "Se houver apenas uma opção, pressione a tecla Tab para completar a linha para você. Por exemplo, o seguinte será instantaneamente substituído por `` L.count``:\n",
    "\n",
    "```ipython\n",
    "In [10]: L.cou<TAB>\n",
    "\n",
    "```\n",
    "\n",
    "Embora o Python não tenha uma distinção estritamente imposta entre atributos públicos / externos e atributos privados / internos, por convenção, um sublinhado anterior é usado para denotar tais métodos. Para maior clareza, esses métodos privados e métodos especiais são omitidos da lista por padrão, mas é possível listá-los digitando explicitamente o sublinhado:\n",
    "\n",
    "```ipython\n",
    "In [10]: L._<TAB>\n",
    "L.__add__           L.__gt__            L.__reduce__\n",
    "L.__class__         L.__hash__          L.__reduce_ex__\n",
    "```\n",
    "\n",
    "Para resumir, mostramos apenas as primeiras linhas da saída. A maioria deles são métodos especiais de sublinhado duplo do Python (freqüentemente apelidados de métodos \"dunder\")."
   ]
  },
  {
   "cell_type": "markdown",
   "id": "8fa3b60f",
   "metadata": {},
   "source": [
    "**Insira seu código abaixo:**"
   ]
  },
  {
   "cell_type": "code",
   "execution_count": null,
   "id": "06cd8aee",
   "metadata": {},
   "outputs": [],
   "source": []
  },
  {
   "cell_type": "code",
   "execution_count": null,
   "id": "55d803b4",
   "metadata": {},
   "outputs": [],
   "source": []
  },
  {
   "cell_type": "code",
   "execution_count": null,
   "id": "992ac587",
   "metadata": {},
   "outputs": [],
   "source": []
  },
  {
   "cell_type": "code",
   "execution_count": null,
   "id": "bf5e7cde",
   "metadata": {},
   "outputs": [],
   "source": []
  },
  {
   "cell_type": "code",
   "execution_count": null,
   "id": "583a952d",
   "metadata": {},
   "outputs": [],
   "source": []
  },
  {
   "cell_type": "markdown",
   "id": "c84ee650",
   "metadata": {},
   "source": [
    "### Preenchimento de tabulação quando importar\n",
    "\n",
    "O preenchimento de tabulação também é útil ao importar objetos de pacotes. Aqui, vamos usá-lo para encontrar todas as importações possíveis no pacote `` itertools`` que começam com `` co``:\n",
    "```\n",
    "In [10]: from itertools import co<TAB>\n",
    "combinations                   compress\n",
    "combinations_with_replacement  count\n",
    "```\n",
    "Da mesma forma, você pode usar o preenchimento com tab para ver quais importações estão disponíveis em seu sistema (isso mudará dependendo de quais scripts e módulos de terceiros estão visíveis para sua sessão Python):\n",
    "```\n",
    "In [10]: import <TAB>\n",
    "Display all 399 possibilities? (y or n)\n",
    "Crypto              dis                 py_compile\n",
    "Cython              distutils           pyclbr\n",
    "...                 ...                 ...\n",
    "difflib             pwd                 zmq\n",
    "\n",
    "In [10]: import h<TAB>\n",
    "hashlib             hmac                http         \n",
    "heapq               html                husl         \n",
    "```\n",
    "(Observe que, para resumir, não imprimi aqui todos os 399 pacotes e módulos importáveis ​​em meu sistema.)"
   ]
  },
  {
   "cell_type": "markdown",
   "id": "9bf5cf84",
   "metadata": {},
   "source": [
    "**Insira seu código abaixo:**"
   ]
  },
  {
   "cell_type": "code",
   "execution_count": null,
   "id": "b9931ee8",
   "metadata": {},
   "outputs": [],
   "source": []
  },
  {
   "cell_type": "code",
   "execution_count": null,
   "id": "5eb4a567",
   "metadata": {},
   "outputs": [],
   "source": []
  },
  {
   "cell_type": "code",
   "execution_count": null,
   "id": "d4a13e3c",
   "metadata": {},
   "outputs": [],
   "source": []
  },
  {
   "cell_type": "code",
   "execution_count": null,
   "id": "1a8e2c1d",
   "metadata": {},
   "outputs": [],
   "source": []
  },
  {
   "cell_type": "code",
   "execution_count": null,
   "id": "43240b24",
   "metadata": {},
   "outputs": [],
   "source": []
  },
  {
   "cell_type": "markdown",
   "id": "73ba8524",
   "metadata": {},
   "source": [
    "### Além do preenchimento da guia: correspondência de curinga\n",
    "\n",
    "O preenchimento com tabulação é útil se você conhece os primeiros caracteres do objeto ou atributo que está procurando, mas não ajuda muito se desejar combinar caracteres no meio ou no final da palavra. Para este caso de uso, o IPython fornece um meio de correspondência curinga para nomes usando o caractere `` * ``.\n",
    "\n",
    "Por exemplo, podemos usar isso para listar todos os objetos no namespace que termina com `` Warning``:\n",
    "\n",
    "```ipython\n",
    "In [10]: *Warning?\n",
    "BytesWarning                  RuntimeWarning\n",
    "DeprecationWarning            SyntaxWarning\n",
    "FutureWarning                 UnicodeWarning\n",
    "ImportWarning                 UserWarning\n",
    "PendingDeprecationWarning     Warning\n",
    "ResourceWarning\n",
    "```\n",
    "\n",
    "Observe que o caractere `` * `` corresponde a qualquer string, incluindo a string vazia.\n",
    "\n",
    "Da forma similar, suponha que estejamos procurando um método string que contenha a palavra `` find`` em algum lugar em seu nome. Podemos pesquisar desta forma:\n",
    "\n",
    "```ipython\n",
    "In [10]: str.*find*?\n",
    "str.find\n",
    "str.rfind\n",
    "```\n",
    "\n",
    "Acho que esse tipo de pesquisa de curinga flexível pode ser muito útil para encontrar um comando específico quando estiver conhecendo um novo pacote ou me familiarizando com um outro."
   ]
  },
  {
   "cell_type": "markdown",
   "id": "ed6da0e5",
   "metadata": {},
   "source": [
    "**Insira seu código abaixo:**"
   ]
  },
  {
   "cell_type": "code",
   "execution_count": null,
   "id": "55cdcf86",
   "metadata": {},
   "outputs": [],
   "source": []
  },
  {
   "cell_type": "code",
   "execution_count": null,
   "id": "f9142045",
   "metadata": {},
   "outputs": [],
   "source": []
  },
  {
   "cell_type": "code",
   "execution_count": null,
   "id": "df93984e",
   "metadata": {},
   "outputs": [],
   "source": []
  },
  {
   "cell_type": "code",
   "execution_count": null,
   "id": "a2366ef0",
   "metadata": {},
   "outputs": [],
   "source": []
  },
  {
   "cell_type": "code",
   "execution_count": null,
   "id": "cbb075af",
   "metadata": {},
   "outputs": [],
   "source": []
  },
  {
   "cell_type": "markdown",
   "id": "121f43a3",
   "metadata": {},
   "source": [
    "<!--BOOK_INFORMATION-->\n",
    "<img align=\"left\" style=\"padding-right:10px;\" src=\"https://github.com/jakevdp/PythonDataScienceHandbook/blob/master/notebooks/figures/PDSH-cover-small.png?raw=true\">\n",
    "\n",
    "*Esse notebook contém trechos do [Python Data Science Handbook](http://shop.oreilly.com/product/0636920034919.do) por Jake VanderPlas; o conteúdo está disponível [on GitHub](https://github.com/jakevdp/PythonDataScienceHandbook).*\n",
    "*O texto é publicado sob o [CC-BY-NC-ND license](https://creativecommons.org/licenses/by-nc-nd/3.0/us/legalcode), and code is lançado sob o [MIT license](https://opensource.org/licenses/MIT). Se você achar este conteúdo útil, considere apoiar o trabalho  [comprando o livro](http://shop.oreilly.com/product/0636920034919.do)!*"
   ]
  },
  {
   "cell_type": "markdown",
   "id": "ec727591",
   "metadata": {},
   "source": [
    "## 1.2 Atalhos de teclado no IPython Shell <a id='shortcuts'></a>"
   ]
  },
  {
   "cell_type": "markdown",
   "id": "896fdad4",
   "metadata": {},
   "source": [
    "<!--NAVIGATION-->\n",
    "< [Ajuda e documentação no IPython](#help_documentation) | [Índice](#index) | [IPython Magic Commands](#magic) >\n",
    "\n",
    "<a href=\"https://colab.research.google.com/github/jakevdp/PythonDataScienceHandbook/blob/master/notebooks/01.02-Shell-Keyboard-Shortcuts.ipynb\"><img align=\"left\" src=\"https://colab.research.google.com/assets/colab-badge.svg\" alt=\"Open in Colab\" title=\"Open and Execute in Google Colaboratory\"></a>\n"
   ]
  },
  {
   "cell_type": "markdown",
   "id": "47504e15",
   "metadata": {},
   "source": [
    "Se você passa algum tempo no computador, provavelmente encontrou um uso para atalhos de teclado em seu fluxo de trabalho.\n",
    "Mais familiares talvez sejam o Cmd-C e o Cmd-V (ou Ctrl-C e Ctrl-V) para copiar e colar em uma ampla variedade de programas e sistemas.\n",
    "Usuários avançados tendem a ir ainda mais longe: editores de texto populares como Emacs, Vim e outros fornecem aos usuários uma gama incrível de operações por meio de combinações intrincadas de pressionamentos de tecla.\n",
    "\n",
    "O shell IPython não vai tão longe, mas fornece uma série de atalhos de teclado para navegação rápida enquanto digita comandos.\n",
    "Esses atalhos não são de fato fornecidos pelo próprio IPython, mas por meio de sua dependência da biblioteca GNU Readline: como tal, alguns dos seguintes atalhos podem ser diferentes dependendo da configuração do seu sistema.\n",
    "Além disso, embora alguns desses atalhos funcionem no bloco de notas baseado em navegador, esta seção é principalmente sobre atalhos no shell IPython.\n",
    "\n",
    "Depois de se acostumar com eles, eles podem ser muito úteis para executar rapidamente certos comandos sem mover as mãos da posição \"inicial\" do teclado.\n",
    "Se você for um usuário Emacs ou se tiver experiência com shells do estilo Linux, o seguinte será bastante familiar.\n",
    "Agruparemos esses atalhos dentro de algumas categorias: *atalhos de navegação*, *atalhos de entrada de texto*, *atalhos de histórico de comando*, and *Atalhos diversos*\n"
   ]
  },
  {
   "cell_type": "markdown",
   "id": "7ee879af",
   "metadata": {},
   "source": [
    "## Atalhos de navegação\n",
    "\n",
    "\n",
    "Embora o uso das teclas de seta esquerda e direita para mover para trás e para frente na linha seja bastante óbvio, existem outras opções que não requerem mover suas mãos da posição \"inicial\" do teclado:\n",
    "\n",
    "| Pressionamento de tecla                   | Ação                                       |\n",
    "|-------------------------------------------|--------------------------------------------|\n",
    "| ``Ctrl-a``                                | Move o cursor para o início da linha       |\n",
    "| ``Ctrl-e``                                | Move o cursor para o final da linha        |\n",
    "| ``Ctrl-b`` ou tecla de seta para esquerda | Move o cursor um caractere para trás       |\n",
    "| ``Ctrl-f`` ou tecla de seta para direita  | Move o cursor um caractere para frente     |\n"
   ]
  },
  {
   "cell_type": "markdown",
   "id": "daa200ff",
   "metadata": {},
   "source": [
    "## Atalhos de entrada de texto\n",
    "\n",
    "Embora todos estejam familiarizados com o uso da tecla Backspace para excluir o caractere anterior, alcançar a tecla geralmente requer uma pequena ginástica com os dedos e apenas exclui um único caractere por vez. No IPython, existem vários atalhos para remover parte do texto que você está digitando. Os mais úteis imediatamente são os comandos para excluir linhas inteiras de texto. Você saberá que eles se tornaram uma segunda natureza se você estiver usando uma combinação de Ctrl-b e Ctrl-d em vez de usar a tecla Backspace para excluir o caractere anterior!\n",
    "\n",
    "| Pressionamento de tecla       | Ação                                                            |\n",
    "|-------------------------------|-----------------------------------------------------------------|\n",
    "| tecla Backspace               | Deleta caractere anterior na linha                              |\n",
    "| ``Ctrl-d``                    | Deleta próximo caractere na linha                               |\n",
    "| ``Ctrl-k``                    | Corta o texto de um cursor para o final da linha                |\n",
    "| ``Ctrl-u``                    | Corta o texto do início da linha até o cursor                   |\n",
    "| ``Ctrl-y``                    | Arrancar (ou seja, colar) o texto que foi cortado anteriormente |\n",
    "| ``Ctrl-t``                    | Transpor (ou seja, trocar) os dois caracteres anteriores        |\n"
   ]
  },
  {
   "cell_type": "markdown",
   "id": "02ca81f4",
   "metadata": {},
   "source": [
    "## Atalhos do histórico de comandos \n",
    "\n",
    "Talvez os atalhos mais impactantes discutidos aqui sejam aqueles que o IPython fornece para navegar no histórico de comandos. Este histórico de comando vai além de sua sessão IPython atual: todo o seu histórico de comando é armazenado em um banco de dados SQLite no diretório de perfil IPython. A maneira mais direta de acessá-los é com as teclas de seta para cima e para baixo para percorrer o histórico, mas também existem outras opções:\n",
    "\n",
    "| Pressionamento de tecla                   | Ação                                       |\n",
    "|-------------------------------------------|--------------------------------------------|\n",
    "| ``Ctrl-p`` (ou a tecla de seta para cima) | Acesse o comando anterior no histórico     |\n",
    "| ``Ctrl-n`` (ou a tecla de seta para baixo)| Acesse o próximo comando no histórico      |\n",
    "| ``Ctrl-r``                                | Pesquisa reversa no histórico de comandos  |\n"
   ]
  },
  {
   "cell_type": "markdown",
   "id": "d5339f37",
   "metadata": {},
   "source": [
    "A busca reversa pode ser particularmente útil. Lembre-se de que na seção anterior definimos uma função chamada ``square``. Vamos fazer uma busca reversa em nosso histórico Python a partir de um novo shell IPython e encontrar essa definição novamente. Ao pressionar Ctrl-r no terminal IPython, você verá o seguinte prompt:\n",
    "\n",
    "\n",
    "```ipython\n",
    "In [1]:\n",
    "(reverse-i-search)`': \n",
    "```\n",
    "\n",
    "Se você começar a digitar caracteres neste prompt, o IPython preencherá automaticamente o comando mais recente, se houver, que corresponda a esses caracteres:\n",
    "\n",
    "\n",
    "```ipython\n",
    "In [1]: \n",
    "(reverse-i-search)`sqa': square??\n",
    "```\n",
    "\n",
    "A qualquer momento, você pode adicionar mais caracteres para refinar a pesquisa ou pressionar Ctrl-r novamente para pesquisar outro comando que corresponda à consulta. Se você acompanhou a seção anterior, pressionar Ctrl-r mais duas vezes dá:\n",
    "\n",
    "\n",
    "```ipython\n",
    "In [1]: \n",
    "(reverse-i-search)`sqa': def square(a):\n",
    "    \"\"\"Return the square of a\"\"\"\n",
    "    return a ** 2\n",
    "```\n",
    "\n",
    "Depois de encontrar o comando que está procurando, pressione Return e a pesquisa será encerrada. Podemos então usar o comando recuperado e continuar com nossa sessão:\n",
    "\n",
    "\n",
    "```ipython\n",
    "In [1]: def square(a):\n",
    "    \"\"\"Return the square of a\"\"\"\n",
    "    return a ** 2\n",
    "\n",
    "In [2]: square(2)\n",
    "Out[2]: 4\n",
    "```\n",
    "\n",
    "Observe que Ctrl-p / Ctrl-n ou as teclas de seta para cima / para baixo também podem ser usadas para pesquisar no histórico, mas apenas combinando caracteres no início da linha. Ou seja, se você digitar **``def``** e pressionar Ctrl-p, ele encontrará o comando mais recente (se houver) em seu histórico que começa com os caracteres ``def``.\n"
   ]
  },
  {
   "cell_type": "markdown",
   "id": "0c41b1c1",
   "metadata": {},
   "source": [
    "**Insira seu código abaixo:**"
   ]
  },
  {
   "cell_type": "code",
   "execution_count": null,
   "id": "c7bc9bf2",
   "metadata": {},
   "outputs": [],
   "source": []
  },
  {
   "cell_type": "code",
   "execution_count": null,
   "id": "26bede25",
   "metadata": {},
   "outputs": [],
   "source": []
  },
  {
   "cell_type": "code",
   "execution_count": null,
   "id": "ac5619a0",
   "metadata": {},
   "outputs": [],
   "source": []
  },
  {
   "cell_type": "code",
   "execution_count": null,
   "id": "9e0f4593",
   "metadata": {},
   "outputs": [],
   "source": []
  },
  {
   "cell_type": "code",
   "execution_count": null,
   "id": "2955ed05",
   "metadata": {},
   "outputs": [],
   "source": []
  },
  {
   "cell_type": "markdown",
   "id": "77c2d8ae",
   "metadata": {},
   "source": [
    "## Atalhos diversos\n",
    "\n",
    "Finalmente, existem alguns atalhos diversos que não se encaixam em nenhuma das categorias anteriores, mas são úteis saber:\n",
    "\n",
    "| Pressionamento de tecla       | Ação                                       |\n",
    "|-------------------------------|--------------------------------------------|\n",
    "| ``Ctrl-l``                    | Limpar a tela do terminal                  |\n",
    "| ``Ctrl-c``                    | Interromper o comando Python atual         |\n",
    "| ``Ctrl-d``                    | Sair da sessão IPython                     |\n",
    "\n",
    "O Ctrl-c em particular pode ser útil quando você inicia inadvertidamente um trabalho de execução muito longa."
   ]
  },
  {
   "cell_type": "markdown",
   "id": "ab78f3aa",
   "metadata": {},
   "source": [
    "Embora alguns dos atalhos discutidos aqui possam parecer um pouco enfadonhos no início, eles rapidamente se tornam automáticos com a prática. Depois de desenvolver essa memória muscular, suspeito que você até desejará que eles estivessem disponíveis em outros contextos."
   ]
  },
  {
   "cell_type": "markdown",
   "id": "1336224c",
   "metadata": {},
   "source": [
    "<!--BOOK_INFORMATION-->\n",
    "<img align=\"left\" style=\"padding-right:10px;\" src=\"https://github.com/jakevdp/PythonDataScienceHandbook/blob/master/notebooks/figures/PDSH-cover-small.png?raw=true\">\n",
    "\n",
    "*Esse notebook contém trechos do [Python Data Science Handbook](http://shop.oreilly.com/product/0636920034919.do) por Jake VanderPlas; o conteúdo está disponível [on GitHub](https://github.com/jakevdp/PythonDataScienceHandbook).*\n",
    "*O texto é publicado sob o [CC-BY-NC-ND license](https://creativecommons.org/licenses/by-nc-nd/3.0/us/legalcode), and code is lançado sob o [MIT license](https://opensource.org/licenses/MIT). Se você achar este conteúdo útil, considere apoiar o trabalho  [comprando o livro](http://shop.oreilly.com/product/0636920034919.do)!*"
   ]
  },
  {
   "cell_type": "markdown",
   "id": "f75bd716",
   "metadata": {},
   "source": [
    "## 1.3 Comandos mágicos do IPython <a id='magic'></a>"
   ]
  },
  {
   "cell_type": "markdown",
   "id": "2f0aea83",
   "metadata": {},
   "source": [
    "<!--NAVIGATION-->\n",
    "< [Atalhos de teclado no IPython Shell](#shortcuts) | [Índice](#index) | [Histórico de Input e Output](#history_in_out) >\n",
    "\n",
    "<a href=\"https://colab.research.google.com/github/jakevdp/PythonDataScienceHandbook/blob/master/notebooks/01.02-Shell-Keyboard-Shortcuts.ipynb\"><img align=\"left\" src=\"https://colab.research.google.com/assets/colab-badge.svg\" alt=\"Open in Colab\" title=\"Open and Execute in Google Colaboratory\"></a>"
   ]
  },
  {
   "cell_type": "markdown",
   "id": "2cc43225",
   "metadata": {},
   "source": [
    "As duas seções anteriores mostraram como o IPython permite que você use e explore o Python de maneira eficiente e interativa. Aqui, começaremos a discutir alguns dos aprimoramentos que o IPython adiciona à sintaxe normal do Python. Eles são conhecidos no IPython como *comandos mágicos* e são prefixados pelo caractere ``% ``. Esses comandos mágicos são projetados para resolver sucintamente vários problemas comuns na análise de dados padrão. Os comandos mágicos vêm em dois sabores: *line magics*, que são denotados por um único prefixo ``% `` e operam em uma única linha de entrada, e *cell magics*, que são denotados por um duplo ``%%`` prefixar e operar em várias linhas de entrada. Demonstraremos e discutiremos alguns breves exemplos aqui e voltaremos a uma discussão mais focada de vários comandos mágicos úteis posteriormente neste capítulo.\n"
   ]
  },
  {
   "cell_type": "markdown",
   "id": "1472fe05",
   "metadata": {},
   "source": [
    "## Colando Blocos de Código: ``%paste`` e ``%cpaste``\n",
    "\n",
    "Ao trabalhar no interpretador IPython, uma pegadinha comum é que colar blocos de código de várias linhas pode levar a erros inesperados, especialmente quando marcadores de indentação e de interpretador estão envolvidos. Um caso comum é encontrar algum código de exemplo em um site e desejar colá-lo em seu interpretador. Considere a seguinte função simples:\n",
    "\n",
    "\n",
    "``` python\n",
    ">>> def donothing(x):\n",
    "...     return x\n",
    "\n",
    "```\n",
    "O código é formatado como apareceria no interpretador Python e, se você copiar e colar isso diretamente no IPython, obterá um erro:\n",
    "\n",
    "\n",
    "```ipython\n",
    "In [2]: >>> def donothing(x):\n",
    "   ...:     ...     return x\n",
    "   ...:     \n",
    "  File \"<ipython-input-20-5a66c8964687>\", line 2\n",
    "    ...     return x\n",
    "                 ^\n",
    "SyntaxError: invalid syntax\n",
    "```\n",
    "\n",
    "Na colagem direta, o interpretador fica confuso com os caracteres adicionais de prompt. Mas não se preocupe - a função mágica ``%paste`` do IPython foi projetada para lidar com este tipo exato de entrada marcada com várias linhas:\n",
    "\n",
    "\n",
    "```ipython\n",
    "In [3]: %paste\n",
    ">>> def donothing(x):\n",
    "...     return x\n",
    "\n",
    "## -- End pasted text --\n",
    "```\n",
    "\n",
    "O comando ``%paste`` insere e executa o código, então agora a função está pronta para ser usada:\n",
    "\n",
    "```ipython\n",
    "In [4]: donothing(10)\n",
    "Out[4]: 10\n",
    "```\n",
    "\n",
    "Um comando com uma intenção semelhante é ``%cpaste``, que abre um prompt multilinha interativo no qual você pode colar um ou mais pedaços de código para serem executados em um lote:\n",
    "\n",
    "\n",
    "```ipython\n",
    "In [5]: %cpaste\n",
    "Pasting code; enter '--' alone on the line to stop or use Ctrl-D.\n",
    ":>>> def donothing(x):\n",
    ":...     return x\n",
    ":--\n",
    "```\n",
    "\n",
    "Esses comandos mágicos, como outros que veremos, disponibilizam funcionalidades que seriam difíceis ou impossíveis em um interpretador Python padrão."
   ]
  },
  {
   "cell_type": "markdown",
   "id": "f3562ac5",
   "metadata": {},
   "source": [
    "**Insira seu código abaixo:**"
   ]
  },
  {
   "cell_type": "code",
   "execution_count": null,
   "id": "970757ee",
   "metadata": {},
   "outputs": [],
   "source": []
  },
  {
   "cell_type": "code",
   "execution_count": null,
   "id": "98b6e99b",
   "metadata": {},
   "outputs": [],
   "source": []
  },
  {
   "cell_type": "code",
   "execution_count": null,
   "id": "0e3416bd",
   "metadata": {},
   "outputs": [],
   "source": []
  },
  {
   "cell_type": "code",
   "execution_count": null,
   "id": "296bfab7",
   "metadata": {},
   "outputs": [],
   "source": []
  },
  {
   "cell_type": "code",
   "execution_count": null,
   "id": "68b34d8e",
   "metadata": {},
   "outputs": [],
   "source": []
  },
  {
   "cell_type": "markdown",
   "id": "c74b2f2a",
   "metadata": {},
   "source": [
    "## Executando Código Externo: ``%run``\n",
    "Conforme você começa a desenvolver um código mais extenso, provavelmente se verá trabalhando tanto em IPython para exploração interativa quanto em um editor de texto para armazenar o código que deseja reutilizar. \n",
    "Em vez de executar esse código em uma nova janela, pode ser conveniente executá-lo em sua sessão IPython. Isso pode ser feito com a mágica ``%run``.\n",
    "\n",
    "\n",
    "Por exemplo, imagine que você criou um arquivo ``myscript.py`` com o seguinte conteúdo:\n",
    "\n",
    "\n",
    "```python\n",
    "#-------------------------------------\n",
    "# file: myscript.py\n",
    "\n",
    "def square(x):\n",
    "    \"\"\"square a number\"\"\"\n",
    "    return x ** 2\n",
    "\n",
    "for N in range(1, 4):\n",
    "    print(N, \"squared is\", square(N))\n",
    "```\n",
    "\n",
    "Você pode executar isso a partir de sua sessão IPython da seguinte maneira:\n",
    "\n",
    "```ipython\n",
    "In [6]: %run myscript.py\n",
    "1 squared is 1\n",
    "2 squared is 4\n",
    "3 squared is 9\n",
    "```\n",
    "\n",
    "Observe também que, depois de executar este script, todas as funções definidas nele estarão disponíveis para uso em sua sessão IPython:\n",
    "\n",
    "```ipython\n",
    "In [7]: square(5)\n",
    "Out[7]: 25\n",
    "```\n",
    "\n",
    "Existem várias opções para ajustar como seu código é executado; você pode ver a documentação da maneira normal, digitando **``%run?``** no interpretador IPython."
   ]
  },
  {
   "cell_type": "markdown",
   "id": "dc846910",
   "metadata": {},
   "source": [
    "**Insira seu código abaixo:**"
   ]
  },
  {
   "cell_type": "code",
   "execution_count": null,
   "id": "34f614eb",
   "metadata": {},
   "outputs": [],
   "source": []
  },
  {
   "cell_type": "code",
   "execution_count": null,
   "id": "191160d0",
   "metadata": {},
   "outputs": [],
   "source": []
  },
  {
   "cell_type": "code",
   "execution_count": null,
   "id": "2a0c91bd",
   "metadata": {},
   "outputs": [],
   "source": []
  },
  {
   "cell_type": "code",
   "execution_count": null,
   "id": "7d4bb89e",
   "metadata": {},
   "outputs": [],
   "source": []
  },
  {
   "cell_type": "code",
   "execution_count": null,
   "id": "36128721",
   "metadata": {},
   "outputs": [],
   "source": []
  },
  {
   "cell_type": "markdown",
   "id": "22b19f78",
   "metadata": {},
   "source": [
    "## Execução do código de tempo: ``%timeit``\n",
    "Outro exemplo de função mágica útil é ``%timeit``, que determinará automaticamente o tempo de execução da instrução Python de uma linha que a segue.\n",
    "Por exemplo, podemos querer verificar o desempenho da compreensão de uma lista:\n",
    "\n",
    "```ipython\n",
    "In [8]: %timeit L = [n ** 2 for n in range(1000)]\n",
    "1000 loops, best of 3: 325 µs per loop\n",
    "```\n",
    "\n",
    "O benefício do ``% timeit`` é que para comandos curtos, ele executa automaticamente várias execuções para obter resultados mais robustos.\n",
    "Para instruções de várias linhas, adicionar um segundo sinal de ``% `` transformará isso em uma *magic cell* que pode lidar com várias linhas de entrada.\n",
    "Por exemplo, aqui está a construção equivalente com um -loop ``for``:\n",
    "\n",
    "\n",
    "```ipython\n",
    "In [9]: %%timeit\n",
    "   ...: L = []\n",
    "   ...: for n in range(1000):\n",
    "   ...:     L.append(n ** 2)\n",
    "   ...: \n",
    "1000 loops, best of 3: 373 µs per loop\n",
    "```\n",
    "\n",
    "Podemos ver imediatamente que as compreensões de lista são cerca de 10% mais rápidas do que a construção do -loop ``for`` equivalente neste caso.\n",
    "Exploraremos o ``%timeit`` e outras abordagens para cronometrar e criar perfis de código em [Código para criar perfis e cronômetrar](#time_profile)."
   ]
  },
  {
   "cell_type": "markdown",
   "id": "e1c64648",
   "metadata": {},
   "source": [
    "**Insira seu código abaixo:**"
   ]
  },
  {
   "cell_type": "code",
   "execution_count": null,
   "id": "160d466e",
   "metadata": {},
   "outputs": [],
   "source": []
  },
  {
   "cell_type": "code",
   "execution_count": null,
   "id": "642b8bda",
   "metadata": {},
   "outputs": [],
   "source": []
  },
  {
   "cell_type": "code",
   "execution_count": null,
   "id": "0200e0ec",
   "metadata": {},
   "outputs": [],
   "source": []
  },
  {
   "cell_type": "code",
   "execution_count": null,
   "id": "986040a8",
   "metadata": {},
   "outputs": [],
   "source": []
  },
  {
   "cell_type": "code",
   "execution_count": null,
   "id": "e949c7d2",
   "metadata": {},
   "outputs": [],
   "source": []
  },
  {
   "cell_type": "markdown",
   "id": "abdf449a",
   "metadata": {},
   "source": [
    "## Ajuda sobre funções mágicas: ``?``, ``%magic``, e ``%lsmagic``\n",
    "\n",
    "Como as funções normais do Python, as funções mágicas do IPython têm docstrings, e isso é útil a documentação pode ser acessada da maneira padrão. \n",
    "Então, por exemplo, para ler a documentação da mágica ``%timeit`` simplesmente digite isto:\n",
    "\n",
    "```ipython\n",
    "In [10]: %timeit?\n",
    "```\n",
    "\n",
    "A documentação para outras funções pode ser acessada de forma semelhante. \n",
    "Para acessar uma descrição geral das funções mágicas disponíveis, incluindo alguns exemplos, você pode digitar isto:\n",
    "\n",
    "\n",
    "```ipython\n",
    "In [11]: %magic\n",
    "```\n",
    "\n",
    "Para obter uma lista rápida e simples de todas as funções mágicas disponíveis, digite o seguinte:\n",
    "\n",
    "\n",
    "```ipython\n",
    "In [12]: %lsmagic\n",
    "```\n",
    "\n",
    "Finalmente, mencionarei que é bastante simples definir suas próprias funções mágicas, se desejar.\n",
    "Não discutiremos isso aqui, mas se você estiver interessado, consulte as referências listadas em [Mais recursos do IPython](#more_resources).\n"
   ]
  },
  {
   "cell_type": "markdown",
   "id": "4ea81054",
   "metadata": {},
   "source": [
    "**Insira seu código abaixo:**"
   ]
  },
  {
   "cell_type": "code",
   "execution_count": null,
   "id": "1a02ecf5",
   "metadata": {},
   "outputs": [],
   "source": []
  },
  {
   "cell_type": "code",
   "execution_count": null,
   "id": "1701bb3e",
   "metadata": {},
   "outputs": [],
   "source": []
  },
  {
   "cell_type": "code",
   "execution_count": null,
   "id": "97bb2fcf",
   "metadata": {},
   "outputs": [],
   "source": []
  },
  {
   "cell_type": "markdown",
   "id": "f9da7e10",
   "metadata": {},
   "source": [
    "<!--BOOK_INFORMATION-->\n",
    "<img align=\"left\" style=\"padding-right:10px;\" src=\"https://github.com/jakevdp/PythonDataScienceHandbook/blob/master/notebooks/figures/PDSH-cover-small.png?raw=true\">\n",
    "\n",
    "*Esse notebook contém trechos do [Python Data Science Handbook](http://shop.oreilly.com/product/0636920034919.do) por Jake VanderPlas; o conteúdo está disponível [on GitHub](https://github.com/jakevdp/PythonDataScienceHandbook).*\n",
    "*O texto é publicado sob o [CC-BY-NC-ND license](https://creativecommons.org/licenses/by-nc-nd/3.0/us/legalcode), and code is lançado sob o [MIT license](https://opensource.org/licenses/MIT). Se você achar este conteúdo útil, considere apoiar o trabalho  [comprando o livro](http://shop.oreilly.com/product/0636920034919.do)!*"
   ]
  },
  {
   "cell_type": "markdown",
   "id": "b84eb801",
   "metadata": {},
   "source": [
    "## 1.4 Histórico de Input e Output <a id='history_in_out'></a>"
   ]
  },
  {
   "cell_type": "markdown",
   "id": "a51e143a",
   "metadata": {},
   "source": [
    "<!--NAVIGATION-->\n",
    "< [Comandos Mágicos do IPython](#magic) | [Índice](#index) | [Comandos Shell e IPython](#ipython_shell_commmands) >\n",
    "\n",
    "<a href=\"https://colab.research.google.com/github/jakevdp/PythonDataScienceHandbook/blob/master/notebooks/01.04-Input-Output-History.ipynb\"><img align=\"left\" src=\"https://colab.research.google.com/assets/colab-badge.svg\" alt=\"Open in Colab\" title=\"Open and Execute in Google Colaboratory\"></a>"
   ]
  },
  {
   "cell_type": "markdown",
   "id": "fa17b22d",
   "metadata": {},
   "source": [
    "Anteriormente, vimos que o shell IPython permite que você acesse os comandos anteriores com as teclas de seta para cima e para baixo ou, de forma equivalente, os atalhos Ctrl-p / Ctrl-n.\n",
    "Além disso, tanto no shell quanto no notebook, o IPython expõe várias maneiras de obter a saída de comandos anteriores, bem como versões de string dos próprios comandos. Vamos explorá-los aqui."
   ]
  },
  {
   "cell_type": "markdown",
   "id": "c94b4201",
   "metadata": {},
   "source": [
    "## Objetos `` In`` e `` Out`` do IPython\n",
    "\n",
    "Agora eu imagino que você esteja bem familiarizado com os prompts do estilo ``In [1]:``/``Out [1]:`` usados pelo IPython.\n",
    "Mas acontece que não são apenas uma decoração bonita: eles dão uma pista de como você pode acessar entradas e saídas anteriores em sua sessão atual.\n",
    "Imagine que você inicia uma sessão semelhante a esta:\n",
    "\n",
    "```ipython\n",
    "In [1]: import math\n",
    "\n",
    "In [2]: math.sin(2)\n",
    "Out[2]: 0.9092974268256817\n",
    "\n",
    "In [3]: math.cos(2)\n",
    "Out[3]: -0.4161468365471424\n",
    "```\n"
   ]
  },
  {
   "cell_type": "markdown",
   "id": "774739a5",
   "metadata": {},
   "source": [
    "**Insira seu código abaixo:**"
   ]
  },
  {
   "cell_type": "code",
   "execution_count": null,
   "id": "b9d345a8",
   "metadata": {},
   "outputs": [],
   "source": []
  },
  {
   "cell_type": "code",
   "execution_count": null,
   "id": "d77042bc",
   "metadata": {},
   "outputs": [],
   "source": []
  },
  {
   "cell_type": "code",
   "execution_count": null,
   "id": "b32b42bd",
   "metadata": {},
   "outputs": [],
   "source": []
  },
  {
   "cell_type": "markdown",
   "id": "e71f1463",
   "metadata": {},
   "source": [
    "Importamos o pacote ``math`` embutido e, em seguida, calculamos o seno e o cosseno do número 2. Essas entradas e saídas são exibidas no shell com rótulos ``In``/`` Out``, mas há mais o IPython na verdade cria algumas variáveis Python chamadas ``In`` e ``Out`` que são automaticamente atualizadas para refletem esta história:\n",
    "\n",
    "\n",
    "```ipython\n",
    "In [4]: print(In)\n",
    "['', 'import math', 'math.sin(2)', 'math.cos(2)', 'print(In)']\n",
    "\n",
    "In [5]: Out\n",
    "Out[5]: {2: 0.9092974268256817, 3: -0.4161468365471424}\n",
    "```"
   ]
  },
  {
   "cell_type": "markdown",
   "id": "781413ce",
   "metadata": {},
   "source": [
    "**Insira seu código abaixo:**"
   ]
  },
  {
   "cell_type": "code",
   "execution_count": null,
   "id": "2ca0afab",
   "metadata": {},
   "outputs": [],
   "source": []
  },
  {
   "cell_type": "code",
   "execution_count": null,
   "id": "79980287",
   "metadata": {},
   "outputs": [],
   "source": []
  },
  {
   "cell_type": "markdown",
   "id": "527a28f5",
   "metadata": {},
   "source": [
    "\n",
    "O objeto ``In`` é uma lista, que mantém o controle dos comandos em ordem (o primeiro item da lista é um marcador de posição para que ``In [1]`` possa se referir ao primeiro comando):\n",
    "\n",
    "\n",
    "```ipython\n",
    "In [6]: print(In[1])\n",
    "import math\n",
    "```\n",
    "\n",
    "O objeto ``Out`` não é uma lista, mas um dicionário mapeando os números de entrada para suas saídas (se houver):\n",
    "\n",
    "```ipython\n",
    "In [7]: print(Out[2])\n",
    "0.9092974268256817\n",
    "```\n",
    "\n",
    "Observe que nem todas as operações têm saídas: por exemplo, as instruções ``import`` e ``print`` não afetam a saída.\n",
    "O último pode ser surpreendente, mas faz sentido se você considerar que `` print`` é uma função que retorna ``None``; para resumir, qualquer comando que retorne ``None`` não é adicionado a ``Out``.\n",
    "\n",
    "Isso pode ser útil se você quiser interagir com resultados anteriores.\n",
    "Por exemplo, vamos verificar a soma de ``sin (2) ** 2`` e ``cos (2) ** 2`` usando os resultados calculados anteriormente:\n",
    "\n",
    "```ipython\n",
    "In [8]: Out[2] ** 2 + Out[3] ** 2\n",
    "Out[8]: 1.0\n",
    "```\n",
    "\n",
    "O resultado é ``1.0`` como esperaríamos da conhecida identidade trigonométrica.\n",
    "Neste caso, usar esses resultados anteriores provavelmente não é necessário, mas pode se tornar muito útil se você executar um cálculo muito caro e quiser reutilizar o resultado!"
   ]
  },
  {
   "cell_type": "markdown",
   "id": "3a91d87c",
   "metadata": {},
   "source": [
    "**Insira seu código abaixo:**"
   ]
  },
  {
   "cell_type": "code",
   "execution_count": null,
   "id": "a848ca01",
   "metadata": {},
   "outputs": [],
   "source": []
  },
  {
   "cell_type": "code",
   "execution_count": null,
   "id": "def27da8",
   "metadata": {},
   "outputs": [],
   "source": []
  },
  {
   "cell_type": "code",
   "execution_count": null,
   "id": "8a849d64",
   "metadata": {},
   "outputs": [],
   "source": []
  },
  {
   "cell_type": "code",
   "execution_count": null,
   "id": "80ce287b",
   "metadata": {},
   "outputs": [],
   "source": []
  },
  {
   "cell_type": "code",
   "execution_count": null,
   "id": "e72e5a76",
   "metadata": {},
   "outputs": [],
   "source": []
  },
  {
   "cell_type": "markdown",
   "id": "0c79cc1e",
   "metadata": {},
   "source": [
    "## Atalhos de sublinhado e saídas anteriores\n",
    "\n",
    "O shell Python padrão contém apenas um atalho simples para acessar a saída anterior; a variável ``_`` (ou seja, um único sublinhado) é mantida atualizada com a saída anterior; isso também funciona no IPython:\n",
    "\n",
    "\n",
    "```ipython\n",
    "In [9]: print(_)\n",
    "1.0\n",
    "```\n",
    "\n",
    "Mas o IPython leva isso um pouco mais longe - você pode usar um sublinhado duplo para acessar a penúltima saída e um sublinhado triplo para acessar a penúltima saída (pulando quaisquer comandos sem saída):\n",
    "\n",
    "\n",
    "```ipython\n",
    "In [10]: print(__)\n",
    "-0.4161468365471424\n",
    "\n",
    "In [11]: print(___)\n",
    "0.9092974268256817\n",
    "```\n",
    "\n",
    "O IPython para por aí: mais de três sublinhados começa a ficar um pouco difícil de contar e, nesse ponto, é mais fácil referir-se à saída por número de linha. \n",
    "\n",
    "Há mais um atalho que devemos mencionar, no entanto um atalho para ``Out [X]`` é ``_X`` (ou seja, um único sublinhado seguido pelo número da linha):\n",
    "\n",
    "```ipython\n",
    "In [12]: Out[2]\n",
    "Out[12]: 0.9092974268256817\n",
    "\n",
    "In [13]: _2\n",
    "Out[13]: 0.9092974268256817\n",
    "```"
   ]
  },
  {
   "cell_type": "markdown",
   "id": "a9178f0e",
   "metadata": {},
   "source": [
    "**Insira seu código abaixo:**"
   ]
  },
  {
   "cell_type": "markdown",
   "id": "3e77629c",
   "metadata": {},
   "source": []
  },
  {
   "cell_type": "code",
   "execution_count": null,
   "id": "815cb1c0",
   "metadata": {},
   "outputs": [],
   "source": []
  },
  {
   "cell_type": "code",
   "execution_count": null,
   "id": "ca1f133f",
   "metadata": {},
   "outputs": [],
   "source": []
  },
  {
   "cell_type": "code",
   "execution_count": null,
   "id": "5ff49a90",
   "metadata": {},
   "outputs": [],
   "source": []
  },
  {
   "cell_type": "code",
   "execution_count": null,
   "id": "07cb4b00",
   "metadata": {},
   "outputs": [],
   "source": []
  },
  {
   "cell_type": "markdown",
   "id": "8ee5a043",
   "metadata": {},
   "source": [
    "## Supressão de saída \n",
    "Às vezes, você pode desejar suprimir a saída de uma instrução (isso talvez seja mais comum com os comandos de plotagem que exploraremos em [Introdução ao Matplotlib] (#matplotlib)).\n",
    "Ou talvez o comando que você está executando produza um resultado que você prefere não armazenar em seu histórico de saída, talvez para que possa ser desalocado quando outras referências forem removidas.\n",
    "A maneira mais fácil de suprimir a saída de um comando é adicionar um ponto e vírgula ao final da linha:\n",
    "\n",
    "\n",
    "```ipython\n",
    "In [14]: math.sin(2) + math.cos(2);\n",
    "```\n",
    "\n",
    "Note that the result is computed silently, and the output is neither displayed on the screen or stored in the ``Out`` dictionary:\n",
    "\n",
    "```ipython\n",
    "In [15]: 14 in Out\n",
    "Out[15]: False\n",
    "```"
   ]
  },
  {
   "cell_type": "markdown",
   "id": "907bf841",
   "metadata": {},
   "source": [
    "**Insira seu código abaixo:**"
   ]
  },
  {
   "cell_type": "markdown",
   "id": "3b6f186e",
   "metadata": {},
   "source": []
  },
  {
   "cell_type": "code",
   "execution_count": null,
   "id": "7b301b71",
   "metadata": {},
   "outputs": [],
   "source": []
  },
  {
   "cell_type": "code",
   "execution_count": null,
   "id": "c428bacc",
   "metadata": {},
   "outputs": [],
   "source": []
  },
  {
   "cell_type": "code",
   "execution_count": null,
   "id": "3618b4bc",
   "metadata": {},
   "outputs": [],
   "source": []
  },
  {
   "cell_type": "code",
   "execution_count": null,
   "id": "a4ccf8e9",
   "metadata": {},
   "outputs": [],
   "source": []
  },
  {
   "cell_type": "markdown",
   "id": "85c0ba71",
   "metadata": {},
   "source": [
    "## Comandos mágicos relacionados\n",
    "Para acessar um lote de entradas anteriores de uma vez, o comando mágico ``%history`` é muito útil. Aqui está como você pode imprimir as primeiras quatro entradas:\n",
    "\n",
    "\n",
    "```ipython\n",
    "In [16]: %history -n 1-4\n",
    "   1: import math\n",
    "   2: math.sin(2)\n",
    "   3: math.cos(2)\n",
    "   4: print(In)\n",
    "```\n",
    "\n",
    "Como de costume, você pode digitar ``%history?`` Para obter mais informações e uma descrição das opções disponíveis. \n",
    "Outros comandos mágicos semelhantes são ``%rerun`` (que irá reexecutar parte do histórico de comandos) e ``% save`` (que salva algum conjunto do histórico de comandos em um arquivo).\n",
    "Para obter mais informações, sugiro explorá-los usando a funcionalidade de ajuda ``?`` Discutida em [Ajuda e documentação em IPython](#help_documentation).\n"
   ]
  },
  {
   "cell_type": "markdown",
   "id": "70912fc3",
   "metadata": {},
   "source": [
    "**Insira seu código abaixo:**"
   ]
  },
  {
   "cell_type": "code",
   "execution_count": null,
   "id": "0084dc0a",
   "metadata": {},
   "outputs": [],
   "source": []
  },
  {
   "cell_type": "code",
   "execution_count": null,
   "id": "0b1dc62a",
   "metadata": {},
   "outputs": [],
   "source": []
  },
  {
   "cell_type": "code",
   "execution_count": null,
   "id": "76193d37",
   "metadata": {},
   "outputs": [],
   "source": []
  },
  {
   "cell_type": "code",
   "execution_count": null,
   "id": "eff813dc",
   "metadata": {},
   "outputs": [],
   "source": []
  },
  {
   "cell_type": "code",
   "execution_count": null,
   "id": "1a87645f",
   "metadata": {},
   "outputs": [],
   "source": []
  },
  {
   "cell_type": "markdown",
   "id": "719a4a15",
   "metadata": {},
   "source": [
    "<!--BOOK_INFORMATION-->\n",
    "<img align=\"left\" style=\"padding-right:10px;\" src=\"https://github.com/jakevdp/PythonDataScienceHandbook/blob/master/notebooks/figures/PDSH-cover-small.png?raw=true\">\n",
    "\n",
    "*Esse notebook contém trechos do [Python Data Science Handbook](http://shop.oreilly.com/product/0636920034919.do) por Jake VanderPlas; o conteúdo está disponível [on GitHub](https://github.com/jakevdp/PythonDataScienceHandbook).*\n",
    "*O texto é publicado sob o [CC-BY-NC-ND license](https://creativecommons.org/licenses/by-nc-nd/3.0/us/legalcode), and code is lançado sob o [MIT license](https://opensource.org/licenses/MIT). Se você achar este conteúdo útil, considere apoiar o trabalho  [comprando o livro](http://shop.oreilly.com/product/0636920034919.do)!*"
   ]
  },
  {
   "cell_type": "markdown",
   "id": "9f894635",
   "metadata": {},
   "source": [
    "# 1.5 Comandos Shell e IPython <a id='ipython_shell_commmands'></a>"
   ]
  },
  {
   "cell_type": "markdown",
   "id": "b78eee08",
   "metadata": {},
   "source": [
    "<!--NAVIGATION-->\n",
    "< [Histórico de Input e Output](#history_in_out) | [Índice](#index) | [Errors and Debugging](#errors) >\n",
    "\n",
    "<a href=\"https://colab.research.google.com/github/jakevdp/PythonDataScienceHandbook/blob/master/notebooks/01.05-IPython-And-Shell-Commands.ipynb\"><img align=\"left\" src=\"https://colab.research.google.com/assets/colab-badge.svg\" alt=\"Open in Colab\" title=\"Open and Execute in Google Colaboratory\"></a>"
   ]
  },
  {
   "cell_type": "markdown",
   "id": "6760b727",
   "metadata": {},
   "source": [
    "\n",
    "Ao trabalhar interativamente com o interpretador Python padrão, uma das frustrações é a necessidade de alternar entre várias janelas para acessar as ferramentas Python e as ferramentas de linha de comando do sistema. O IPython preenche essa lacuna e fornece uma sintaxe para a execução de comandos shell diretamente de dentro do terminal IPython.\n",
    "A mágica acontece com o ponto de exclamação: qualquer coisa que apareça após ``!`` Em uma linha será executada não pelo kernel Python, mas pela linha de comando do sistema.\n",
    "\n",
    "O seguinte assume que você está em um sistema semelhante ao Unix, como Linux ou Mac OSX. Alguns dos exemplos a seguir falharão no Windows, que usa um tipo diferente de shell por padrão (embora com o anúncio de 2016 de shells Bash nativos no Windows, em breve isso pode não ser mais um problema!).\n",
    "Se você não estiver familiarizado com os comandos do shell, sugiro revisar o [Tutorial do Shell](http://swcarpentry.github.io/shell-novice/) elaborado pela sempre excelente Software Carpentry Foundation.\n"
   ]
  },
  {
   "cell_type": "markdown",
   "id": "488a1fe8",
   "metadata": {},
   "source": [
    "## Quick Introduction to the Shell\n",
    "\n",
    "A full intro to using the shell/terminal/command-line is well beyond the scope of this chapter, but for the uninitiated we will offer a quick introduction here.\n",
    "The shell is a way to interact textually with your computer.\n",
    "Ever since the mid 1980s, when Microsoft and Apple introduced the first versions of their now ubiquitous graphical operating systems, most computer users have interacted with their operating system through familiar clicking of menus and drag-and-drop movements.\n",
    "But operating systems existed long before these graphical user interfaces, and were primarily controlled through sequences of text input: at the prompt, the user would type a command, and the computer would do what the user told it to.\n",
    "Those early prompt systems are the precursors of the shells and terminals that most active data scientists still use today.\n",
    "\n",
    "Someone unfamiliar with the shell might ask why you would bother with this, when many results can be accomplished by simply clicking on icons and menus.\n",
    "A shell user might reply with another question: why hunt icons and click menus when you can accomplish things much more easily by typing?\n",
    "While it might sound like a typical tech preference impasse, when moving beyond basic tasks it quickly becomes clear that the shell offers much more control of advanced tasks, though admittedly the learning curve can intimidate the average computer user.\n",
    "\n",
    "As an example, here is a sample of a Linux/OSX shell session where a user explores, creates, and modifies directories and files on their system (``osx:~ $`` is the prompt, and everything after the ``$`` sign is the typed command; text that is preceded by a ``#`` is meant just as description, rather than something you would actually type in):\n",
    "\n",
    "\n",
    "## Introdução rápida ao Shell\n",
    "\n",
    "Uma introdução completa sobre o uso do shell / terminal / linha de comando está bem além do escopo deste capítulo, mas para os não iniciados, ofereceremos uma introdução rápida aqui.\n",
    "O shell é uma forma de interagir textualmente com seu computador.\n",
    "Desde meados da década de 1980, quando a Microsoft e a Apple introduziram as primeiras versões de seus agora onipresentes sistemas operacionais gráficos, a maioria dos usuários de computador interagiu com seu sistema operacional por meio de cliques familiares em menus e movimentos de arrastar e soltar.\n",
    "Mas os sistemas operacionais já existiam muito antes dessas interfaces gráficas de usuário e eram controlados principalmente por meio de sequências de entrada de texto: no prompt, o usuário digitava um comando e o computador fazia o que o usuário mandava.\n",
    "Esses primeiros sistemas de prompt são os precursores das conchas e terminais que a maioria dos cientistas de dados ativos ainda usa hoje.\n",
    "\n",
    "Alguém não familiarizado com o shell pode perguntar por que você se preocuparia com isso, quando muitos resultados podem ser obtidos simplesmente clicando nos ícones e menus.\n",
    "Um usuário shell pode responder com outra pergunta: por que procurar ícones e clicar em menus quando você pode realizar coisas com muito mais facilidade digitando? Embora possa soar como um impasse típico de preferência tecnológica, ao ir além das tarefas básicas, rapidamente se torna claro que o shell oferece muito mais controle de tarefas avançadas, embora a curva de aprendizado possa intimidar o usuário médio de computador.\n",
    "\n",
    "Como exemplo, aqui está um exemplo de uma sessão de shell Linux / OSX onde um usuário explora, cria e modifica diretórios e arquivos em seu sistema (``osx: ~ $`` é o prompt, e tudo após o ``$`` sinal é o comando digitado; o texto que é precedido por um ``#`` serve apenas como uma descrição, ao invés de algo que você realmente digitaria):\n",
    "\n",
    "\n",
    "\n",
    "```bash\n",
    "osx:~ $ echo \"hello world\"             # echo é como a função de impressão do Python\n",
    "hello world\n",
    "\n",
    "osx:~ $ pwd                            # pwd = imprimir diretório de trabalho\n",
    "/home/jake                             # este é o \"caminho\" em que estamos sentados\n",
    "\n",
    "osx:~ $ ls                             # ls = lista o conteúdo do diretório de trabalho\n",
    "notebooks  projects \n",
    "\n",
    "osx:~ $ cd projects/                   # cd = muda de diretório(change directory)\n",
    "\n",
    "osx:projects $ pwd\n",
    "/home/jake/projects\n",
    "\n",
    "osx:projects $ ls\n",
    "datasci_book   mpld3   myproject.txt\n",
    "\n",
    "osx:projects $ mkdir myproject          # mkdir = fazer novo diretório(make new directory)\n",
    "\n",
    "osx:projects $ cd myproject/\n",
    "\n",
    "osx:myproject $ mv ../myproject.txt ./  # mv = mover arquivo(move file). Aqui estamos movendo o\n",
    "                                        # arquivo myproject.txt de um diretório\n",
    "                                        # acima (../) para o diretório atual (./)\n",
    "osx:myproject $ ls\n",
    "myproject.txt\n",
    "```\n",
    "\n",
    "Observe que tudo isso é apenas uma forma compacta de fazer operações familiares (navegar em uma estrutura de diretório, criar um diretório, mover um arquivo, etc.) digitando comandos em vez de clicar em ícones e menus.\n",
    "\n",
    "Observe que com apenas alguns comandos (``pwd``, ``ls``, ``cd``, `` mkdir`` e ``cp``) você pode fazer muitas das operações de arquivo mais comuns. É quando você vai além desses princípios básicos que a abordagem shell se torna realmente poderosa.\n"
   ]
  },
  {
   "cell_type": "markdown",
   "id": "0c450fc3",
   "metadata": {},
   "source": [
    "**Insira seu código abaixo:**"
   ]
  },
  {
   "cell_type": "code",
   "execution_count": null,
   "id": "902d5dcc",
   "metadata": {},
   "outputs": [],
   "source": []
  },
  {
   "cell_type": "code",
   "execution_count": null,
   "id": "ce4abdf6",
   "metadata": {},
   "outputs": [],
   "source": []
  },
  {
   "cell_type": "code",
   "execution_count": null,
   "id": "6ab7a6e5",
   "metadata": {},
   "outputs": [],
   "source": []
  },
  {
   "cell_type": "code",
   "execution_count": null,
   "id": "75ac2afa",
   "metadata": {},
   "outputs": [],
   "source": []
  },
  {
   "cell_type": "markdown",
   "id": "ff09a906",
   "metadata": {},
   "source": [
    "## Shell Commands in IPython\n",
    "\n",
    "Qualquer comando que funcione na linha de comando pode ser usado no IPython prefixando-o com o caractere ``!``.\n",
    "\n",
    "Por exemplo, os comandos ``ls``, ``pwd`` e ``echo`` podem ser executados da seguinte forma:\n",
    "\n",
    "\n",
    "```ipython\n",
    "In [1]: !ls\n",
    "myproject.txt\n",
    "\n",
    "In [2]: !pwd\n",
    "/home/jake/projects/myproject\n",
    "\n",
    "In [3]: !echo \"printing from the shell\"\n",
    "printing from the shell\n",
    "```"
   ]
  },
  {
   "cell_type": "markdown",
   "id": "b31ed9ca",
   "metadata": {},
   "source": [
    "**Insira seu código abaixo:**"
   ]
  },
  {
   "cell_type": "code",
   "execution_count": null,
   "id": "4a2dcba7",
   "metadata": {},
   "outputs": [],
   "source": []
  },
  {
   "cell_type": "code",
   "execution_count": null,
   "id": "f0633a74",
   "metadata": {},
   "outputs": [],
   "source": []
  },
  {
   "cell_type": "code",
   "execution_count": null,
   "id": "12c02b31",
   "metadata": {},
   "outputs": [],
   "source": []
  },
  {
   "cell_type": "markdown",
   "id": "344e8166",
   "metadata": {},
   "source": [
    "## Passando valores de e para o Shell\n",
    "Os comandos do shell não só podem ser chamados de IPython, mas também podem interagir com o namespace IPython.\n",
    "Por exemplo, você pode salvar a saída de qualquer comando shell em uma lista Python usando o operador de atribuição:\n",
    "\n",
    "\n",
    "```ipython\n",
    "In [4]: contents = !ls\n",
    "\n",
    "In [5]: print(contents)\n",
    "['myproject.txt']\n",
    "\n",
    "In [6]: directory = !pwd\n",
    "\n",
    "In [7]: print(directory)\n",
    "['/Users/jakevdp/notebooks/tmp/myproject']\n",
    "```\n",
    "\n",
    "Observe que esses resultados não são retornados como listas, mas como um tipo de retorno de shell especial definido em IPython:\n",
    "\n",
    "```ipython\n",
    "In [8]: type(directory)\n",
    "IPython.utils.text.SList\n",
    "```\n",
    "\n",
    "Isso se parece e age muito como uma lista Python, mas tem funcionalidades adicionais, como os métodos ``grep`` e ``fields`` e as propriedades ``s``, ``n`` e ``p`` que permitem pesquisar, filtrar e exibir os resultados de maneiras convenientes. Para obter mais informações sobre isso, você pode usar os recursos de ajuda integrados do IPython."
   ]
  },
  {
   "cell_type": "markdown",
   "id": "26e24548",
   "metadata": {},
   "source": [
    "**Insira seu código abaixo:**"
   ]
  },
  {
   "cell_type": "code",
   "execution_count": null,
   "id": "26111c97",
   "metadata": {},
   "outputs": [],
   "source": []
  },
  {
   "cell_type": "code",
   "execution_count": null,
   "id": "5c8e8cba",
   "metadata": {},
   "outputs": [],
   "source": []
  },
  {
   "cell_type": "code",
   "execution_count": null,
   "id": "3d66701c",
   "metadata": {},
   "outputs": [],
   "source": []
  },
  {
   "cell_type": "code",
   "execution_count": null,
   "id": "911ec173",
   "metadata": {},
   "outputs": [],
   "source": []
  },
  {
   "cell_type": "code",
   "execution_count": null,
   "id": "20c8fde3",
   "metadata": {},
   "outputs": [],
   "source": []
  },
  {
   "cell_type": "markdown",
   "id": "1ad65fcc",
   "metadata": {},
   "source": [
    "\n",
    "# Comandos mágicos relacionados ao shell\n",
    "\n",
    "Se você brincar com os comandos shell do IPython por um tempo, poderá notar que não pode usar ``!Cd`` para navegar no sistema de arquivos:\n",
    "\n",
    "\n",
    "```ipython\n",
    "In [11]: !pwd\n",
    "/home/jake/projects/myproject\n",
    "\n",
    "In [12]: !cd ..\n",
    "\n",
    "In [13]: !pwd\n",
    "/home/jake/projects/myproject\n",
    "```\n",
    "\n",
    "O motivo é que os comandos do shell no notebook são executados em um subshell temporário. Se você gostaria de mudar o diretório de trabalho de uma forma mais duradoura, você pode usar o comando mágico ``%cd``:\n",
    "\n",
    "```ipython\n",
    "In [14]: %cd ..\n",
    "/home/jake/projects\n",
    "```\n",
    "\n",
    "Na verdade, por padrão, você pode até usar isso sem o sinal ``%``:\n",
    "\n",
    "```ipython\n",
    "In [15]: cd myproject\n",
    "/home/jake/projects/myproject\n",
    "```\n",
    "\n",
    "Isso é conhecido como função ``automagic``, e este comportamento pode ser alternado com a função mágica ``%automagic``\n",
    "\n",
    "Além de ``%cd``, outras funções mágicas semelhantes a shell disponíveis são ``%cat``, ``%cp``, ``%env``, ``%ls``, ``%man`` , ``%mkdir``, ``%more``, ``%mv``, ``%pwd``, ``%rm`` e ``%rmdir``, qualquer um dos quais pode ser usado sem o sinal ``%`` se ``automagic`` estiver ligado. Isso faz com que você quase possa tratar o prompt IPython como se fosse um shell normal:\n",
    "\n",
    "\n",
    "```ipython\n",
    "In [16]: mkdir tmp\n",
    "\n",
    "In [17]: ls\n",
    "myproject.txt  tmp/\n",
    "\n",
    "In [18]: cp myproject.txt tmp/\n",
    "\n",
    "In [19]: ls tmp\n",
    "myproject.txt\n",
    "\n",
    "In [20]: rm -r tmp\n",
    "```\n",
    "\n",
    "Esse acesso ao shell de dentro da mesma janela do terminal que sua sessão Python significa que há muito menos alternância entre o interpretador e o shell conforme você escreve seu código Python."
   ]
  },
  {
   "cell_type": "markdown",
   "id": "28d6e148",
   "metadata": {},
   "source": [
    "**Insira seu código abaixo:**"
   ]
  },
  {
   "cell_type": "code",
   "execution_count": null,
   "id": "7cc57a8e",
   "metadata": {},
   "outputs": [],
   "source": []
  },
  {
   "cell_type": "code",
   "execution_count": null,
   "id": "3642aae4",
   "metadata": {},
   "outputs": [],
   "source": []
  },
  {
   "cell_type": "code",
   "execution_count": null,
   "id": "d6d1a56d",
   "metadata": {},
   "outputs": [],
   "source": []
  },
  {
   "cell_type": "code",
   "execution_count": null,
   "id": "f44dcc65",
   "metadata": {},
   "outputs": [],
   "source": []
  },
  {
   "cell_type": "markdown",
   "id": "a2fd5c5d",
   "metadata": {},
   "source": [
    "<!--BOOK_INFORMATION-->\n",
    "<img align=\"left\" style=\"padding-right:10px;\" src=\"https://github.com/jakevdp/PythonDataScienceHandbook/blob/master/notebooks/figures/PDSH-cover-small.png?raw=true\">\n",
    "\n",
    "*Esse notebook contém trechos do [Python Data Science Handbook](http://shop.oreilly.com/product/0636920034919.do) por Jake VanderPlas; o conteúdo está disponível [on GitHub](https://github.com/jakevdp/PythonDataScienceHandbook).*\n",
    "*O texto é publicado sob o [CC-BY-NC-ND license](https://creativecommons.org/licenses/by-nc-nd/3.0/us/legalcode), and code is lançado sob o [MIT license](https://opensource.org/licenses/MIT). Se você achar este conteúdo útil, considere apoiar o trabalho  [comprando o livro](http://shop.oreilly.com/product/0636920034919.do)!*"
   ]
  },
  {
   "cell_type": "markdown",
   "id": "1823eacb",
   "metadata": {},
   "source": [
    "## 1.6 Erros e Depuração<a id='errors'></a>"
   ]
  },
  {
   "cell_type": "markdown",
   "id": "69a59edc",
   "metadata": {},
   "source": [
    "<!--NAVIGATION-->\n",
    "< [Comandos Shell e IPython](#ipython_shell_commmands) | [Índice](#index) | [Código para criar perfis e cronômetrar](#time_profile) >\n",
    "\n",
    "<a href=\"https://colab.research.google.com/github/jakevdp/PythonDataScienceHandbook/blob/master/notebooks/01.06-Errors-and-Debugging.ipynb\"><img align=\"left\" src=\"https://colab.research.google.com/assets/colab-badge.svg\" alt=\"Open in Colab\" title=\"Open and Execute in Google Colaboratory\"></a>"
   ]
  },
  {
   "cell_type": "markdown",
   "id": "feef2d2c",
   "metadata": {},
   "source": [
    "\n",
    "O desenvolvimento de código e a análise de dados sempre exigem um pouco de tentativa e erro, e o IPython contém ferramentas para agilizar esse processo.\n",
    "Esta seção cobrirá brevemente algumas opções para controlar o relatório de exceção do Python, seguido pela exploração de ferramentas para depurar erros no código.\n"
   ]
  },
  {
   "cell_type": "markdown",
   "id": "61d88a53",
   "metadata": {},
   "source": [
    "## Exceções de controle: ``% xmode``\n",
    "\n",
    "Na maioria das vezes, quando um script Python falha, ele gera uma exceção.\n",
    "Quando o interpretador atinge uma dessas exceções, as informações sobre a causa do erro podem ser encontradas no *traceback*, que pode ser acessado de dentro do Python.\n",
    "Com a função mágica ``%xmode``, IPython permite que você controle a quantidade de informação impressa quando a exceção é levantada. Considere o seguinte código:\n"
   ]
  },
  {
   "cell_type": "code",
   "execution_count": null,
   "id": "60d38232",
   "metadata": {},
   "outputs": [],
   "source": [
    "def func1(a, b):\n",
    "    return a / b\n",
    "\n",
    "def func2(x):\n",
    "    a = x\n",
    "    b = x - 1\n",
    "    return func1(a, b)"
   ]
  },
  {
   "cell_type": "code",
   "execution_count": null,
   "id": "76e94fed",
   "metadata": {},
   "outputs": [],
   "source": [
    "func2(1)"
   ]
  },
  {
   "cell_type": "markdown",
   "id": "1c3700e2",
   "metadata": {},
   "source": [
    "Chamar ``func2`` resulta em um erro, e ler o traço impresso nos permite ver exatamente o que aconteceu.\n",
    "Por padrão, esse rastreamento inclui várias linhas que mostram o contexto de cada etapa que levou ao erro.\n",
    "Usando a função mágica ``%xmode`` (abreviação de *Modo de exceção*), podemos alterar quais informações são impressas.\n",
    "\n",
    "``%xmode`` recebe um único argumento, o modo, e há três possibilidades: ``Plain``, ``Context`` e ``Verbose``.\n",
    "O padrão é ``Context``, e fornece uma saída como a mostrada anteriormente.\n",
    "``Plain`` é mais compacto e fornece menos informações:\n"
   ]
  },
  {
   "cell_type": "code",
   "execution_count": null,
   "id": "0b4c8f49",
   "metadata": {},
   "outputs": [],
   "source": [
    "%xmode Plain"
   ]
  },
  {
   "cell_type": "code",
   "execution_count": null,
   "id": "0f682fc0",
   "metadata": {},
   "outputs": [],
   "source": [
    "func2(1)"
   ]
  },
  {
   "cell_type": "code",
   "execution_count": null,
   "id": "2d790c0c",
   "metadata": {},
   "outputs": [],
   "source": [
    "%xmode Verbose"
   ]
  },
  {
   "cell_type": "code",
   "execution_count": null,
   "id": "afb03eff",
   "metadata": {},
   "outputs": [],
   "source": [
    "func2(1)"
   ]
  },
  {
   "cell_type": "markdown",
   "id": "44d2f6da",
   "metadata": {},
   "source": [
    "Essas informações extras podem ajudar a definir por que a exceção está sendo gerada.\n",
    "Então, por que não usar o modo ``Verbose`` o tempo todo?\n",
    "Conforme o código se complica, esse tipo de rastreamento pode ficar extremamente longo.\n",
    "Dependendo do contexto, às vezes a brevidade do modo `` Default`` é mais fácil de trabalhar.\n"
   ]
  },
  {
   "cell_type": "markdown",
   "id": "4f9a2cdf",
   "metadata": {},
   "source": [
    "## Depuração: Ler Tracebacks não é o suficiente\n",
    "\n",
    "A ferramenta Python padrão para depuração interativa é ``pdb``, o depurador Python.\n",
    "Esse depurador permite que o usuário percorra o código linha por linha para ver o que pode estar causando um erro mais difícil.\n",
    "A versão aprimorada por IPython disso é ``ipdb``, o depurador IPython.\n",
    "\n",
    "Existem muitas maneiras de iniciar e usar esses depuradores; não os cobriremos totalmente aqui. Consulte a documentação online desses dois utilitários para saber mais.\n",
    "\n",
    "Em IPython, talvez a interface mais conveniente para depuração seja o comando mágico ``% debug``.\n",
    "Se você chamá-lo depois de atingir uma exceção, ele abrirá automaticamente um prompt de depuração interativo no ponto da exceção.\n",
    "O prompt ``ipdb`` permite que você explore o estado atual da pilha, explore as variáveis disponíveis e até mesmo execute comandos Python!\n",
    "\n",
    "Vejamos a exceção mais recente e, em seguida, faça algumas tarefas básicas - imprima os valores de ``a`` e ``b`` e digite ``quit`` para sair da sessão de depuração:\n"
   ]
  },
  {
   "cell_type": "code",
   "execution_count": null,
   "id": "9710b288",
   "metadata": {},
   "outputs": [],
   "source": [
    "%debug"
   ]
  },
  {
   "cell_type": "markdown",
   "id": "8a82aa74",
   "metadata": {},
   "source": [
    "O depurador interativo permite muito mais do que isso - podemos até subir e descer na pilha e explorar os valores das variáveis lá:"
   ]
  },
  {
   "cell_type": "code",
   "execution_count": null,
   "id": "6c7e5577",
   "metadata": {},
   "outputs": [],
   "source": [
    "%debug"
   ]
  },
  {
   "cell_type": "markdown",
   "id": "0813574d",
   "metadata": {},
   "source": [
    "Isso permite que você descubra rapidamente não apenas o que causou o erro, mas também quais chamadas de função levaram ao erro.\n",
    "\n",
    "Se quiser que o depurador seja iniciado automaticamente sempre que uma exceção for levantada, você pode usar a função mágica ``%pdb`` para ativar este comportamento automático:\n"
   ]
  },
  {
   "cell_type": "code",
   "execution_count": null,
   "id": "8a31e1a0",
   "metadata": {},
   "outputs": [],
   "source": [
    "%xmode Plain\n",
    "%pdb on\n",
    "func2(1)"
   ]
  },
  {
   "cell_type": "markdown",
   "id": "f11c86ae",
   "metadata": {},
   "source": [
    "Finalmente, se você tiver um script que gostaria de executar desde o início no modo interativo, pode executá-lo com o comando ``%run -d`` e usar o comando ``next`` para percorrer o linhas de código interativamente.\n"
   ]
  },
  {
   "cell_type": "markdown",
   "id": "3b377b90",
   "metadata": {},
   "source": [
    "### Lista parcial de comandos de depuração\n",
    "\n",
    "Existem muitos mais comandos disponíveis para depuração interativa do que listamos aqui; a tabela a seguir contém uma descrição de alguns dos mais comuns e úteis:\n",
    "\n",
    "\n",
    "| Comando         |  Descrição                                                                |\n",
    "|-----------------|---------------------------------------------------------------------------|\n",
    "| ``list``        | Mostra a localização atual no arquivo                                     |\n",
    "| ``h(elp)``      | Mostre uma lista de comandos ou encontre ajuda sobre um comando específico|\n",
    "| ``q(uit)``      | Saia do depurador e do programa                                           |\n",
    "| ``c(ontinue)``  | Saia do depurador e continue no programa                                  |\n",
    "| ``n(ext)``      | Vá para a próxima etapa do programa                                       |\n",
    "| ``<enter>``     | Repita o comando anterior                                                 |\n",
    "| ``p(rint)``     | Imprima as variáveis                                                      |\n",
    "| ``s(tep)``      | Entrar em uma sub-rotina                                                  |\n",
    "| ``r(eturn)``    | Retornar de uma sub-rotina                                                |\n",
    "\n",
    "Para obter mais informações, use o comando ``help`` no depurador, ou dê uma olhada na [documentação online](https://github.com/gotcha/ipdb) do ``ipdb``."
   ]
  },
  {
   "cell_type": "markdown",
   "id": "785895b8",
   "metadata": {},
   "source": [
    "<!--BOOK_INFORMATION-->\n",
    "<img align=\"left\" style=\"padding-right:10px;\" src=\"https://github.com/jakevdp/PythonDataScienceHandbook/blob/master/notebooks/figures/PDSH-cover-small.png?raw=true\">\n",
    "\n",
    "*Esse notebook contém trechos do [Python Data Science Handbook](http://shop.oreilly.com/product/0636920034919.do) por Jake VanderPlas; o conteúdo está disponível [on GitHub](https://github.com/jakevdp/PythonDataScienceHandbook).*\n",
    "*O texto é publicado sob o [CC-BY-NC-ND license](https://creativecommons.org/licenses/by-nc-nd/3.0/us/legalcode), and code is lançado sob o [MIT license](https://opensource.org/licenses/MIT). Se você achar este conteúdo útil, considere apoiar o trabalho  [comprando o livro](http://shop.oreilly.com/product/0636920034919.do)!*"
   ]
  },
  {
   "cell_type": "markdown",
   "id": "403e3d2d",
   "metadata": {},
   "source": [
    "## 1.7 Código para criar perfis e cronômetrar <a id='time_profile'></a>"
   ]
  },
  {
   "cell_type": "markdown",
   "id": "ac982a9a",
   "metadata": {},
   "source": [
    "<!--NAVIGATION-->\n",
    "< [Erros e depuração](#errors) | [Índice](#index) | [Mais recursos do IPython](#more_resources) >\n",
    "\n",
    "<a href=\"https://colab.research.google.com/github/jakevdp/PythonDataScienceHandbook/blob/master/notebooks/01.07-Timing-and-Profiling.ipynb\"><img align=\"left\" src=\"https://colab.research.google.com/assets/colab-badge.svg\" alt=\"Open in Colab\" title=\"Open and Execute in Google Colaboratory\"></a>"
   ]
  },
  {
   "cell_type": "markdown",
   "id": "170c9e67",
   "metadata": {},
   "source": [
    "\n",
    "No processo de desenvolvimento de código e criação de pipelines de processamento de dados, geralmente há trocas que você pode fazer entre as várias implementações.\n",
    "No início do desenvolvimento de seu algoritmo, pode ser contraproducente se preocupar com essas coisas. Como Donald Knuth ficou famoso, \"Devemos esquecer as pequenas eficiências, digamos, cerca de 97% das vezes: a otimização prematura é a raiz de todos os males.\"\n",
    "\n",
    "Mas, depois de ter seu código funcionando, pode ser útil explorar um pouco sua eficiência.\n",
    "Às vezes, é útil verificar o tempo de execução de um determinado comando ou conjunto de comandos; outras vezes, é útil mergulhar em um processo de várias linhas e determinar onde está o gargalo em algumas séries complicadas de operações.\n",
    "O IPython fornece acesso a uma ampla gama de funcionalidades para esse tipo de sincronização e criação de perfil de código.\n",
    "Aqui, discutiremos os seguintes comandos mágicos de IPython:\n",
    "\n",
    "\n",
    "- ``%time``: Cronometrar a execução de uma única instrução\n",
    "- ``%timeit``: Execução repetida de tempo de uma única instrução para mais precisão\n",
    "- ``%prun``: Execute o código com o criador de perfil\n",
    "- ``%lprun``: Execute o código com o criador de perfil linha por linha\n",
    "- ``%memit``: Meça o uso de memória de uma única instrução\n",
    "- ``%mprun``: Execute o código com o criador de perfil de memória linha por linha\n",
    "\n",
    "Os últimos quatro comandos não estão incluídos no IPython - você precisará obter as extensões ``line_profiler`` e ``memory_profiler``, que discutiremos nas seções seguintes."
   ]
  },
  {
   "cell_type": "markdown",
   "id": "7293ebbf",
   "metadata": {},
   "source": [
    "## Snippets de código de tempo: ``%timeit`` e ``%time``\n",
    "Vimos a magia da linha ``%timeit`` e a magia da célula ``%%timeit`` na introdução às funções mágicas em [Comandos mágicos do IPython](#magic); pode ser usado para cronometrar a execução repetida de trechos de código:\n",
    "\n"
   ]
  },
  {
   "cell_type": "code",
   "execution_count": null,
   "id": "906fe32f",
   "metadata": {},
   "outputs": [],
   "source": [
    "%timeit sum(range(100))"
   ]
  },
  {
   "cell_type": "markdown",
   "id": "934ae80b",
   "metadata": {},
   "source": [
    "Observe que, como essa operação é tão rápida, ``%timeit`` automaticamente faz um grande número de repetições.\n",
    "Para comandos mais lentos, ``%timeit`` irá ajustar automaticamente e realizar menos repetições:\n"
   ]
  },
  {
   "cell_type": "code",
   "execution_count": null,
   "id": "cf034c63",
   "metadata": {},
   "outputs": [],
   "source": [
    "%%timeit\n",
    "total = 0\n",
    "for i in range(1000):\n",
    "    for j in range(1000):\n",
    "        total += i * (-1) ** j"
   ]
  },
  {
   "cell_type": "markdown",
   "id": "2c42ae25",
   "metadata": {},
   "source": [
    "\n",
    "Às vezes, repetir uma operação não é a melhor opção.\n",
    "Por exemplo, se tivermos uma lista que gostaríamos de classificar, podemos ser enganados por uma operação repetida.\n",
    "Classificar uma lista pré-classificada é muito mais rápido do que classificar uma lista não classificada, portanto, a repetição distorcerá o resultado:\n"
   ]
  },
  {
   "cell_type": "code",
   "execution_count": null,
   "id": "7675c2f4",
   "metadata": {},
   "outputs": [],
   "source": [
    "import random\n",
    "L = [random.random() for i in range(100000)]\n",
    "%timeit L.sort()"
   ]
  },
  {
   "cell_type": "markdown",
   "id": "dcc6d591",
   "metadata": {},
   "source": [
    "Para isso, a função mágica ``%time`` pode ser uma escolha melhor. Também é uma boa escolha para comandos de execução mais longa, quando é improvável que atrasos curtos relacionados ao sistema afetem o resultado. Vamos cronometrar a classificação de uma lista não classificada e uma lista pré-classificada:"
   ]
  },
  {
   "cell_type": "code",
   "execution_count": null,
   "id": "6e7703f0",
   "metadata": {},
   "outputs": [],
   "source": [
    "import random\n",
    "L = [random.random() for i in range(100000)]\n",
    "print(\"sorting an unsorted list:\")\n",
    "%time L.sort()"
   ]
  },
  {
   "cell_type": "code",
   "execution_count": null,
   "id": "c29b4b8f",
   "metadata": {},
   "outputs": [],
   "source": [
    "print(\"sorting an already sorted list:\")\n",
    "%time L.sort()"
   ]
  },
  {
   "cell_type": "markdown",
   "id": "7bd00767",
   "metadata": {},
   "source": [
    "Observe como a lista pré-ordenada é mais rápida para classificar, mas observe também quanto mais tempo leva o tempo com ``%time`` versus ``%timeit``, mesmo para a lista pré-ordenada!\n",
    "Isso é resultado do fato de que ``%timeit`` faz algumas coisas inteligentes nos bastidores para evitar que as chamadas do sistema interfiram no tempo.\n",
    "Por exemplo, ele evita a limpeza de objetos Python não usados (conhecidos como *coleta de lixo*) que podem afetar o tempo.\n",
    "Por esta razão, os resultados de ``%timeit`` são geralmente notavelmente mais rápidos do que os resultados de ``%time``.\n",
    "\n",
    "Para ``%time`` como com ``%timeit``, usar a sintaxe mágica de célula de duplo sinal de porcentagem permite o tempo de scripts de várias linhas:\n"
   ]
  },
  {
   "cell_type": "code",
   "execution_count": null,
   "id": "daf5f789",
   "metadata": {},
   "outputs": [],
   "source": [
    "%%time\n",
    "total = 0\n",
    "for i in range(1000):\n",
    "    for j in range(1000):\n",
    "        total += i * (-1) ** j"
   ]
  },
  {
   "cell_type": "markdown",
   "id": "c58d6c84",
   "metadata": {},
   "source": [
    "Para mais informações sobre ``%time`` e ``%timeit``, bem como suas opções disponíveis, use a funcionalidade de ajuda do IPython (ou seja, digite ``%time? `` No prompt do IPython).\n"
   ]
  },
  {
   "cell_type": "markdown",
   "id": "40897396",
   "metadata": {},
   "source": [
    "## Criação de perfis de scripts completos: ``%prun``\n",
    "\n",
    "Um programa é feito de muitas instruções únicas e, às vezes, cronometrar essas instruções no contexto é mais importante do que cronometrá-las sozinhas.\n",
    "Python contém um criador de perfil de código embutido (sobre o qual você pode ler na documentação do Python), mas o IPython oferece uma maneira muito mais conveniente de usar este criador de perfil, na forma da função mágica ``%prun``.\n",
    "\n",
    "A título de exemplo, definiremos uma função simples que faz alguns cálculos:\n"
   ]
  },
  {
   "cell_type": "code",
   "execution_count": null,
   "id": "888d8e00",
   "metadata": {},
   "outputs": [],
   "source": [
    "def sum_of_lists(N):\n",
    "    total = 0\n",
    "    for i in range(5):\n",
    "        L = [j ^ (j >> i) for j in range(N)]\n",
    "        total += sum(L)\n",
    "    return total"
   ]
  },
  {
   "cell_type": "markdown",
   "id": "d2c84519",
   "metadata": {},
   "source": [
    "Agora podemos chamar ``%prun`` com uma chamada de função para ver os resultados do perfil:"
   ]
  },
  {
   "cell_type": "code",
   "execution_count": null,
   "id": "a7dd356c",
   "metadata": {},
   "outputs": [],
   "source": [
    "%prun sum_of_lists(1000000)"
   ]
  },
  {
   "cell_type": "markdown",
   "id": "b12043fc",
   "metadata": {},
   "source": [
    "No bloco de notas, a saída é impressa no pager e se parece com isto:\n",
    "\n",
    "```\n",
    "14 function calls in 0.714 seconds\n",
    "\n",
    "   Ordered by: internal time\n",
    "\n",
    "   ncalls  tottime  percall  cumtime  percall filename:lineno(function)\n",
    "        5    0.599    0.120    0.599    0.120 <ipython-input-19>:4(<listcomp>)\n",
    "        5    0.064    0.013    0.064    0.013 {built-in method sum}\n",
    "        1    0.036    0.036    0.699    0.699 <ipython-input-19>:1(sum_of_lists)\n",
    "        1    0.014    0.014    0.714    0.714 <string>:1(<module>)\n",
    "        1    0.000    0.000    0.714    0.714 {built-in method exec}\n",
    "```\n",
    "O resultado é uma tabela que indica, em ordem de tempo total em cada chamada de função, onde a execução está demorando mais. Neste caso, a maior parte do tempo de execução está na compreensão da lista dentro de ``sum_of_lists``. A partir daqui, podemos começar a pensar sobre quais mudanças podemos fazer para melhorar o desempenho do algoritmo.\n",
    "\n",
    "Para obter mais informações sobre ``%prun``, bem como suas opções disponíveis, use a funcionalidade de ajuda do IPython (ou seja, digite ``%prun? `` No prompt do IPython).\n"
   ]
  },
  {
   "cell_type": "markdown",
   "id": "dc01eced",
   "metadata": {},
   "source": [
    "## Criação de perfil linha a linha com ``%lprun``\n",
    "\n",
    "O perfil de função por função de ``%prun`` é útil, mas às vezes é mais conveniente ter um relatório de perfil linha por linha.\n",
    "Isso não está embutido em Python ou IPython, mas há um pacote ``line_profiler`` disponível para instalação que pode fazer isso.\n",
    "Comece usando a ferramenta de empacotamento do Python, ``pip``, para instalar o pacote ``line_profiler``:\n",
    "\n",
    "\n",
    "```\n",
    "$ pip install line_profiler\n",
    "```\n",
    "\n",
    "Em seguida, você pode usar IPython para carregar a extensão ``line_profiler`` IPython, oferecida como parte deste pacote:\n"
   ]
  },
  {
   "cell_type": "code",
   "execution_count": null,
   "id": "50c16aac",
   "metadata": {},
   "outputs": [],
   "source": [
    "pip install line_profiler"
   ]
  },
  {
   "cell_type": "code",
   "execution_count": null,
   "id": "437eaa1e",
   "metadata": {},
   "outputs": [],
   "source": [
    "%load_ext line_profiler"
   ]
  },
  {
   "cell_type": "markdown",
   "id": "2c7100a2",
   "metadata": {},
   "source": [
    "Agora, o comando ``%lprun`` fará um perfil linha por linha de qualquer função - neste caso, precisamos dizer explicitamente quais funções estamos interessados ​​em criar perfil:\n"
   ]
  },
  {
   "cell_type": "code",
   "execution_count": null,
   "id": "00b35406",
   "metadata": {},
   "outputs": [],
   "source": [
    "%lprun -f sum_of_lists sum_of_lists(5000)"
   ]
  },
  {
   "cell_type": "markdown",
   "id": "1a7afbf6",
   "metadata": {},
   "source": [
    "Como antes, o bloco de notas envia o resultado para o pager, mas é mais ou menos assim:\n",
    "\n",
    "```\n",
    "Timer unit: 1e-06 s\n",
    "\n",
    "Total time: 0.009382 s\n",
    "File: <ipython-input-19-fa2be176cc3e>\n",
    "Function: sum_of_lists at line 1\n",
    "\n",
    "Line #      Hits         Time  Per Hit   % Time  Line Contents\n",
    "==============================================================\n",
    "     1                                           def sum_of_lists(N):\n",
    "     2         1            2      2.0      0.0      total = 0\n",
    "     3         6            8      1.3      0.1      for i in range(5):\n",
    "     4         5         9001   1800.2     95.9          L = [j ^ (j >> i) for j in range(N)]\n",
    "     5         5          371     74.2      4.0          total += sum(L)\n",
    "     6         1            0      0.0      0.0      return total\n",
    "```\n",
    "\n",
    "As informações no topo nos fornecem a chave para a leitura dos resultados: o tempo é relatado em microssegundos e podemos ver onde o programa está gastando mais tempo.\n",
    "Neste ponto, podemos ser capazes de usar essas informações para modificar aspectos do script e torná-lo melhor para nosso caso de uso desejado.\n",
    "\n",
    "\n",
    "Para obter mais informações sobre ``%lprun``, bem como suas opções disponíveis, use a funcionalidade de ajuda do IPython (ou seja, digite ``%lprun?`` No prompt do IPython).\n"
   ]
  },
  {
   "cell_type": "markdown",
   "id": "850f9bd4",
   "metadata": {},
   "source": [
    "## Profiling Memory Use: ``%memit`` e ``%mprun``\n",
    "\n",
    "Outro aspecto da criação de perfil é a quantidade de memória que uma operação usa.\n",
    "Isso pode ser avaliado com outra extensão IPython, o `` memory_profiler``.\n",
    "Tal como acontece com o `` line_profiler``, começamos por `` pip``-instalando a extensão:\n",
    "\n",
    "\n",
    "```\n",
    "$ pip install memory_profiler\n",
    "```\n",
    "\n",
    "Então, podemos usar IPython para carregar a extensão:"
   ]
  },
  {
   "cell_type": "code",
   "execution_count": null,
   "id": "2f259f77",
   "metadata": {},
   "outputs": [],
   "source": [
    "pip install memory_profiler"
   ]
  },
  {
   "cell_type": "code",
   "execution_count": null,
   "id": "43707a93",
   "metadata": {},
   "outputs": [],
   "source": [
    "%load_ext memory_profiler"
   ]
  },
  {
   "cell_type": "markdown",
   "id": "7e58d968",
   "metadata": {},
   "source": [
    "A extensão do gerenciador de perfis de memória contém duas funções mágicas úteis: a mágica ``%memit`` (que oferece um equivalente de medição de memória de ``%timeit``) e a função ``%mprun`` (que oferece uma medição de memória equivalente a ``%lprun``).\n",
    "A função ``%memit`` pode ser usada de forma bastante simples:\n"
   ]
  },
  {
   "cell_type": "code",
   "execution_count": null,
   "id": "6d1103ff",
   "metadata": {},
   "outputs": [],
   "source": [
    "%memit sum_of_lists(1000000)"
   ]
  },
  {
   "cell_type": "markdown",
   "id": "10b49e56",
   "metadata": {},
   "source": [
    "Vemos que esta função usa cerca de 100 MB de memória. Para uma descrição linha a linha do uso da memória, podemos usar a magia ``%mprun``.\n",
    "Infelizmente, essa mágica funciona apenas para funções definidas em módulos separados ao invés do próprio notebook, então vamos começar usando a mágica ``%%file`` para criar um módulo simples chamado ``mprun_demo.py``, que contém nossa função ``sum_of_lists``, com uma adição que tornará nossos resultados de perfil de memória mais claros:\n"
   ]
  },
  {
   "cell_type": "code",
   "execution_count": null,
   "id": "8bb5c23a",
   "metadata": {},
   "outputs": [],
   "source": [
    "%%file mprun_demo.py\n",
    "def sum_of_lists(N):\n",
    "    total = 0\n",
    "    for i in range(5):\n",
    "        L = [j ^ (j >> i) for j in range(N)]\n",
    "        total += sum(L)\n",
    "        del L # remove reference to L\n",
    "    return total"
   ]
  },
  {
   "cell_type": "markdown",
   "id": "e0c3a21c",
   "metadata": {},
   "source": [
    "Agora podemos importar a nova versão desta função e executar o criador de perfil de linha de memória:"
   ]
  },
  {
   "cell_type": "code",
   "execution_count": null,
   "id": "577b870a",
   "metadata": {},
   "outputs": [],
   "source": [
    "from mprun_demo import sum_of_lists\n",
    "%mprun -f sum_of_lists sum_of_lists(1000000)"
   ]
  },
  {
   "cell_type": "markdown",
   "id": "6b1e16ff",
   "metadata": {},
   "source": [
    "O resultado, impresso no pager, nos dá um resumo do uso de memória da função e se parece com isto:\n",
    "\n",
    "```\n",
    "Filename: ./mprun_demo.py\n",
    "\n",
    "Line #    Mem usage    Increment   Line Contents\n",
    "================================================\n",
    "     4     71.9 MiB      0.0 MiB           L = [j ^ (j >> i) for j in range(N)]\n",
    "\n",
    "\n",
    "Filename: ./mprun_demo.py\n",
    "\n",
    "Line #    Mem usage    Increment   Line Contents\n",
    "================================================\n",
    "     1     39.0 MiB      0.0 MiB   def sum_of_lists(N):\n",
    "     2     39.0 MiB      0.0 MiB       total = 0\n",
    "     3     46.5 MiB      7.5 MiB       for i in range(5):\n",
    "     4     71.9 MiB     25.4 MiB           L = [j ^ (j >> i) for j in range(N)]\n",
    "     5     71.9 MiB      0.0 MiB           total += sum(L)\n",
    "     6     46.5 MiB    -25.4 MiB           del L # remove reference to L\n",
    "     7     39.1 MiB     -7.4 MiB       return total\n",
    "```\n",
    "Aqui, a coluna ``Incremento`` nos diz o quanto cada linha afeta o orçamento total de memória: observe que quando criamos e excluímos a lista ``L``, estamos adicionando cerca de 25 MB de uso de memória.\n",
    "Isso se soma ao uso de memória em segundo plano do próprio interpretador Python.\n",
    "\n",
    "Para mais informações sobre ``%memit`` e ``%mprun``, bem como suas opções disponíveis, use a funcionalidade de ajuda do IPython (ou seja, digite ``%memit?`` No prompt do IPython).\n"
   ]
  },
  {
   "cell_type": "markdown",
   "id": "fca09a7a",
   "metadata": {},
   "source": [
    "<!--BOOK_INFORMATION-->\n",
    "<img align=\"left\" style=\"padding-right:10px;\" src=\"https://github.com/jakevdp/PythonDataScienceHandbook/blob/master/notebooks/figures/PDSH-cover-small.png?raw=true\">\n",
    "\n",
    "*Esse notebook contém trechos do [Python Data Science Handbook](http://shop.oreilly.com/product/0636920034919.do) por Jake VanderPlas; o conteúdo está disponível [on GitHub](https://github.com/jakevdp/PythonDataScienceHandbook).*\n",
    "*O texto é publicado sob o [CC-BY-NC-ND license](https://creativecommons.org/licenses/by-nc-nd/3.0/us/legalcode), and code is lançado sob o [MIT license](https://opensource.org/licenses/MIT). Se você achar este conteúdo útil, considere apoiar o trabalho  [comprando o livro](http://shop.oreilly.com/product/0636920034919.do)!*"
   ]
  },
  {
   "cell_type": "markdown",
   "id": "ef466ecb",
   "metadata": {},
   "source": [
    "## 1.8 Mais recursos do IPython <a id='more_resources'></a>"
   ]
  },
  {
   "cell_type": "markdown",
   "id": "046ce5c3",
   "metadata": {},
   "source": [
    "<!--NAVIGATION-->\n",
    "< [Código para criar perfis e cronômetrar](#time_profile) | [Índice](#index) | [Introduction to NumPy] () >\n",
    "\n",
    "<a href=\"https://colab.research.google.com/github/jakevdp/PythonDataScienceHandbook/blob/master/notebooks/01.08-More-IPython-Resources.ipynb\"><img align=\"left\" src=\"https://colab.research.google.com/assets/colab-badge.svg\" alt=\"Open in Colab\" title=\"Open and Execute in Google Colaboratory\"></a>\n"
   ]
  },
  {
   "cell_type": "markdown",
   "id": "d6c55fe4",
   "metadata": {},
   "source": [
    "Neste capítulo, apenas arranhamos a superfície do uso de IPython para habilitar tarefas de ciência de dados. Muito mais informações estão disponíveis na versão impressa e na Web, e aqui listaremos alguns outros recursos que podem ser úteis para você."
   ]
  },
  {
   "cell_type": "markdown",
   "id": "660a88b1",
   "metadata": {},
   "source": [
    "\n",
    "## Recursos da Web\n",
    "\n",
    "- [O site IPython](http://ipython.org): os links do site IPython para documentação, exemplos, tutoriais e uma variedade de outros recursos. \n",
    "- [O site nbviewer](http://nbviewer.jupyter.org/): Este site mostra renderizações estáticas de qualquer notebook IPython disponível na Internet. A página inicial apresenta alguns exemplos de notebooks que você pode navegar para ver para que outras pessoas estão usando o IPython!\n",
    "- [Uma galeria de Jupyter Notebooks interessantes](https://github.com/jupyter/jupyter/wiki/A-gallery-of-interesting-Jupyter-Notebooks/): Esta lista cada vez maior de notebooks, alimentado por nbviewer, mostra a profundidade e amplitude da análise numérica que você pode fazer com IPython. Inclui de tudo, desde pequenos exemplos e tutoriais a cursos completos e livros compostos no formato de caderno! \n",
    "- Tutoriais em vídeo: pesquisando na Internet, você encontrará muitos tutoriais gravados em vídeo sobre IPython. Eu recomendo especialmente procurar tutoriais dos conferenes PyCon, SciPy e PyData de Fernando Perez e Brian Granger, dois dos principais criadores e mantenedores do IPython e Jupyter.\n"
   ]
  },
  {
   "cell_type": "markdown",
   "id": "f48fcd3e",
   "metadata": {},
   "source": [
    "\n",
    "## Livros\n",
    "\n",
    "- [*Python for Data Analysis*](http://shop.oreilly.com/product/0636920023784.do): O livro de Wes McKinney inclui um capítulo que cobre o uso de IPython como cientista de dados. Embora muito do material se sobreponha ao que discutimos aqui, outra perspectiva é sempre útil.\n",
    "- [*Learning IPython for Interactive Computing and Data Visualization*](https://www.packtpub.com/big-data-and-business-intelligence/learning-ipython-interactive-computing-and-data-visualization): Este O pequeno livro de Cyrille Rossant oferece uma boa introdução ao uso do IPython para análise de dados.\n",
    "- [*IPython Interactive Computing and Visualization Cookbook*](https://www.packtpub.com/big-data-and-business-intelligence/ipython-interactive-computing-and-visualization-cookbook): Também por Cyrille Rossant, este livro é um tratamento mais longo e avançado do uso de IPython para ciência de dados. Apesar do nome, não se trata apenas de IPython - ele também se aprofunda em uma ampla gama de tópicos de ciência de dados.\n",
    "\n",
    "Finalmente, um lembrete de que você pode encontrar ajuda por conta própria: a funcionalidade de ajuda baseada em ``?`` Do IPython (discutida em [Ajuda e documentação no IPython](#help_documentation)) pode ser muito útil se você o usa bem e com frequência. Conforme você analisa os exemplos aqui e em outros lugares, isso pode ser usado para se familiarizar com todas as ferramentas que o IPython tem a oferecer.\n"
   ]
  },
  {
   "cell_type": "markdown",
   "id": "93b45bc0",
   "metadata": {},
   "source": [
    "<!--BOOK_INFORMATION-->\n",
    "<img align=\"left\" style=\"padding-right:10px;\" src=\"https://github.com/jakevdp/PythonDataScienceHandbook/blob/master/notebooks/figures/PDSH-cover-small.png?raw=true\">\n",
    "\n",
    "*Esse notebook contém trechos do [Python Data Science Handbook](http://shop.oreilly.com/product/0636920034919.do) por Jake VanderPlas; o conteúdo está disponível [on GitHub](https://github.com/jakevdp/PythonDataScienceHandbook).*\n",
    "*O texto é publicado sob o [CC-BY-NC-ND license](https://creativecommons.org/licenses/by-nc-nd/3.0/us/legalcode), and code is lançado sob o [MIT license](https://opensource.org/licenses/MIT). Se você achar este conteúdo útil, considere apoiar o trabalho  [comprando o livro](http://shop.oreilly.com/product/0636920034919.do)!*"
   ]
  },
  {
   "cell_type": "markdown",
   "id": "70883ed6",
   "metadata": {},
   "source": [
    "# 5. Machine Learning<a id='machine_learning'></a>"
   ]
  },
  {
   "cell_type": "markdown",
   "id": "75f5509d",
   "metadata": {},
   "source": [
    "<!--NAVIGATION-->\n",
    "< [Further Resources] (04.15-Further-Resources.ipynb) | [Índice](#index) | [O que é Machine Learning?](#whats_ml) >\n",
    "\n",
    "<a href=\"https://colab.research.google.com/github/jakevdp/PythonDataScienceHandbook/blob/master/notebooks/05.00-Machine-Learning.ipynb\"><img align=\"left\" src=\"https://colab.research.google.com/assets/colab-badge.svg\" alt=\"Open in Colab\" title=\"Open and Execute in Google Colaboratory\"></a>\n"
   ]
  },
  {
   "cell_type": "markdown",
   "id": "34088ff8",
   "metadata": {},
   "source": [
    "\n",
    "De muitas maneiras, o aprendizado de máquina é o principal meio pelo qual a ciência de dados se manifesta para o mundo em geral.\n",
    "O aprendizado de máquina é onde essas habilidades computacionais e algorítmicas da ciência de dados encontram o pensamento estatístico da ciência de dados, e o resultado é uma coleção de abordagens para inferência e exploração de dados que não tratam tanto de teoria eficaz, mas de computação eficaz.\n",
    "\n",
    "O termo \"aprendizado de máquina\" às vezes é usado como se fosse uma espécie de pílula mágica: *aplique o aprendizado de máquina aos seus dados e todos os seus problemas serão resolvidos!*\n",
    "Como você pode esperar, a realidade raramente é tão simples.\n",
    "Embora esses métodos possam ser incrivelmente poderosos, para serem eficazes, eles devem ser abordados com uma compreensão firme dos pontos fortes e fracos de cada método, bem como uma compreensão de conceitos gerais, como viés e variação, overfitting e underfitting e muito mais.\n",
    "\n",
    "Este capítulo mergulhará nos aspectos práticos do aprendizado de máquina, principalmente usando o pacote Python [Scikit-Learn](http://scikit-learn.org).\n",
    "Esta não é uma introdução abrangente ao campo do aprendizado de máquina; esse é um assunto amplo e requer uma abordagem mais técnica do que a que adotamos aqui.\n",
    "Nem pretende ser um manual abrangente para o uso do pacote Scikit-Learn (para isso, você pode consultar os recursos listados em [Recursos adicionais de aprendizado de máquina](#aditional_resources_ml)). Em vez disso, os objetivos deste capítulo são: \n",
    "\n",
    "- Introduzir o vocabulário e os conceitos fundamentais de aprendizagem de máquina. \n",
    "- Apresentar a API Scikit-Learn e mostrar alguns exemplos de seu uso. \n",
    "- Para se aprofundar nos detalhes de várias das abordagens de aprendizado de máquina mais importantes e desenvolver uma intuição sobre como elas funcionam e quando e onde são aplicáveis. \n",
    "\n",
    "Muito deste material é retirado dos tutoriais e workshops do Scikit-Learn que ministrei em várias ocasiões na PyCon, SciPy, PyData e outras conferências.\n",
    "Qualquer clareza nas páginas seguintes provavelmente se deve aos muitos participantes do workshop e co-instrutores que me deram um feedback valioso sobre este material ao longo dos anos!\n",
    "\n",
    "Finalmente, se você está procurando um tratamento mais abrangente ou técnico de qualquer um desses assuntos, listei vários recursos e referências em [Recursos adicionais de aprendizado de máquina](#aditional_resources_ml).\n"
   ]
  },
  {
   "cell_type": "markdown",
   "id": "bb1b6b36",
   "metadata": {},
   "source": [
    "<!--BOOK_INFORMATION-->\n",
    "<img align=\"left\" style=\"padding-right:10px;\" src=\"https://github.com/jakevdp/PythonDataScienceHandbook/blob/master/notebooks/figures/PDSH-cover-small.png?raw=true\">\n",
    "\n",
    "*Esse notebook contém trechos do [Python Data Science Handbook](http://shop.oreilly.com/product/0636920034919.do) por Jake VanderPlas; o conteúdo está disponível [on GitHub](https://github.com/jakevdp/PythonDataScienceHandbook).*\n",
    "*O texto é publicado sob o [CC-BY-NC-ND license](https://creativecommons.org/licenses/by-nc-nd/3.0/us/legalcode), and code is lançado sob o [MIT license](https://opensource.org/licenses/MIT). Se você achar este conteúdo útil, considere apoiar o trabalho  [comprando o livro](http://shop.oreilly.com/product/0636920034919.do)!*"
   ]
  },
  {
   "cell_type": "markdown",
   "id": "52fa897b",
   "metadata": {},
   "source": [
    "# 5.1 O que é aprendizado de máquina?<a id='whats_ml'></a>"
   ]
  },
  {
   "cell_type": "markdown",
   "id": "1ae2625e",
   "metadata": {},
   "source": [
    "<!--NAVIGATION-->\n",
    "< [Machine Learning](#machine_learning) | [Índice](#index) | [Introduzindo o Scikit-Learn](#scikit_learn) >\n",
    "\n",
    "<a href=\"https://colab.research.google.com/github/jakevdp/PythonDataScienceHandbook/blob/master/notebooks/05.01-What-Is-Machine-Learning.ipynb\"><img align=\"left\" src=\"https://colab.research.google.com/assets/colab-badge.svg\" alt=\"Open in Colab\" title=\"Open and Execute in Google Colaboratory\"></a>\n"
   ]
  },
  {
   "cell_type": "markdown",
   "id": "294c8bcf",
   "metadata": {},
   "source": [
    "Antes de dar uma olhada nos detalhes de vários métodos de aprendizado de máquina, vamos começar examinando o que é aprendizado de máquina e o que não é.\n",
    "O aprendizado de máquina é frequentemente categorizado como um subcampo da inteligência artificial, mas acho que a categorização pode muitas vezes ser enganosa à primeira vista.\n",
    "O estudo do aprendizado de máquina certamente surgiu de pesquisas nesse contexto, mas na aplicação de métodos de aprendizado de máquina da ciência de dados, é mais útil pensar no aprendizado de máquina como um meio de *construir modelos de dados*.\n",
    "\n",
    "Fundamentalmente, o aprendizado de máquina envolve a construção de modelos matemáticos para ajudar a entender os dados.\n",
    "O \"aprendizado\" entra em jogo quando damos a esses modelos *parâmetros ajustáveis* que podem ser adaptados aos dados observados; dessa forma, o programa pode ser considerado como \"aprendendo\" com os dados.\n",
    "Uma vez que esses modelos tenham sido ajustados aos dados vistos anteriormente, eles podem ser usados para prever e compreender aspectos dos dados recentemente observados.\n",
    "Deixarei ao leitor a digressão mais filosófica a respeito de até que ponto esse tipo de \"aprendizado\" matemático baseado em modelos é semelhante ao \"aprendizado\" exibido pelo cérebro humano.\n",
    "\n",
    "\n",
    "Compreender a configuração do problema no aprendizado de máquina é essencial para usar essas ferramentas de maneira eficaz, portanto, começaremos com algumas categorizações amplas dos tipos de abordagem que discutiremos aqui."
   ]
  },
  {
   "cell_type": "markdown",
   "id": "f92d6608",
   "metadata": {},
   "source": [
    "\n",
    "## Categorias de aprendizado de máquina\n",
    "\n",
    "No nível mais fundamental, o aprendizado de máquina pode ser categorizado em dois tipos principais: aprendizado supervisionado e aprendizado não supervisionado.\n",
    "\n",
    "*Aprendizagem supervisionada* envolve, de alguma forma, a modelagem da relação entre as características medidas dos dados e algum rótulo associado aos dados; uma vez que este modelo é determinado, ele pode ser usado para aplicar rótulos a dados novos e desconhecidos.\n",
    "Isso é subdividido em tarefas de *classificação* e tarefas de *regressão*: na classificação, os rótulos são categorias discretas, enquanto na regressão, os rótulos são quantidades contínuas. Veremos exemplos de ambos os tipos de aprendizagem supervisionada na seção seguinte.\n",
    "\n",
    "*Aprendizado não supervisionado* envolve modelar os recursos de um conjunto de dados sem referência a qualquer rótulo e é frequentemente descrito como \"deixar o conjunto de dados falar por si mesmo\". Esses modelos incluem tarefas como *armazenamento em cluster* e *redução de dimensionalidade.*\n",
    "Os algoritmos de agrupamento identificam grupos distintos de dados, enquanto os algoritmos de redução de dimensionalidade buscam representações mais sucintas dos dados. \n",
    "Veremos exemplos de ambos os tipos de aprendizagem não supervisionada na seção seguinte.\n",
    "\n",
    "Além disso, existem os chamados métodos de *aprendizagem semissupervisionada*, que ficam em algum lugar entre a aprendizagem supervisionada e a aprendizagem não supervisionada. Métodos de aprendizagem semissupervisionados são freqüentemente úteis quando apenas rótulos incompletos estão disponíveis.\n"
   ]
  },
  {
   "cell_type": "markdown",
   "id": "9bb2cf7e",
   "metadata": {},
   "source": [
    "## Exemplos qualitativos de aplicativos de aprendizado de máquina\n",
    "\n",
    "Para tornar essas ideias mais concretas, vamos dar uma olhada em alguns exemplos muito simples de uma tarefa de aprendizado de máquina.\n",
    "Esses exemplos têm como objetivo fornecer uma visão geral intuitiva e não quantitativa dos tipos de tarefas de aprendizado de máquina que examinaremos neste capítulo.\n",
    "Em seções posteriores, entraremos em mais detalhes sobre os modelos específicos e como eles são usados.\n",
    "Para uma prévia desses aspectos mais técnicos, você pode encontrar o código-fonte Python que gera as seguintes figuras no [Apêndice: Código da Figura](# fig_appendix).\n",
    "\n"
   ]
  },
  {
   "cell_type": "markdown",
   "id": "7dc9eba0",
   "metadata": {},
   "source": [
    "### Classificação: Predição de rótulos discretos\n",
    "\n",
    "Primeiro, daremos uma olhada em uma tarefa simples de *classificação*, na qual você recebe um conjunto de pontos rotulados e deseja usá-los para classificar alguns pontos não rotulados.\n",
    "\n",
    "Imagine que temos os dados mostrados nesta figura:\n"
   ]
  },
  {
   "cell_type": "markdown",
   "id": "7e4715c1",
   "metadata": {},
   "source": [
    "![](https://raw.githubusercontent.com/jakevdp/PythonDataScienceHandbook/master/notebooks/figures/05.01-classification-1.png)\n",
    "[figure source in Appendix](#fig_appendix)"
   ]
  },
  {
   "cell_type": "markdown",
   "id": "c96dc3a6",
   "metadata": {},
   "source": [
    "Aqui temos dados bidimensionais: ou seja, temos dois *recursos* para cada ponto, representados pelas *(x, y)* posições dos pontos no plano. Além disso, temos um de dois *rótulos de classe* para cada ponto, aqui representado pelas cores dos pontos.\n",
    "A partir desses recursos e rótulos, gostaríamos de criar um modelo que nos permitirá decidir se um novo ponto deve ser rotulado como \"azul\" ou \"vermelho\".\n",
    "\n",
    "Existem vários modelos possíveis para essa tarefa de classificação, mas aqui usaremos um extremamente simples. Faremos a suposição de que os dois grupos podem ser separados traçando uma linha reta através do plano entre eles, de modo que os pontos de cada lado da linha caiam no mesmo grupo.\n",
    "Aqui, o *modelo* é uma versão quantitativa da declaração \"uma linha reta separa as classes\", enquanto os *parâmetros do modelo* são os números particulares que descrevem a localização e orientação dessa linha para nossos dados.\n",
    "Os valores ótimos para esses parâmetros do modelo são aprendidos a partir dos dados (esse é o \"aprendizado\" no aprendizado de máquina), que geralmente é chamado de *treinamento do modelo*.\n",
    "\n",
    "\n",
    "A figura a seguir mostra uma representação visual da aparência do modelo treinado para esses dados:"
   ]
  },
  {
   "cell_type": "markdown",
   "id": "c0a0d8ce",
   "metadata": {},
   "source": [
    "![](https://raw.githubusercontent.com/jakevdp/PythonDataScienceHandbook/master/notebooks/figures/05.01-classification-2.png)\n",
    "[figure source in Appendix](#fig_appendix)"
   ]
  },
  {
   "cell_type": "markdown",
   "id": "fac2b592",
   "metadata": {},
   "source": [
    "Agora que esse modelo foi treinado, ele pode ser generalizado para novos dados não rotulados.\n",
    "Em outras palavras, podemos pegar um novo conjunto de dados, desenhar essa linha de modelo através dele e atribuir rótulos aos novos pontos com base neste modelo.\n",
    "Este estágio é geralmente chamado de *previsão*. Veja a figura a seguir:\n"
   ]
  },
  {
   "cell_type": "markdown",
   "id": "f0bfc1bc",
   "metadata": {},
   "source": [
    "![](https://raw.githubusercontent.com/jakevdp/PythonDataScienceHandbook/master/notebooks/figures/05.01-classification-3.png)\n",
    "[figure source in Appendix](#fig_appendix)"
   ]
  },
  {
   "cell_type": "markdown",
   "id": "fcd01a52",
   "metadata": {},
   "source": [
    "Essa é a ideia básica de uma tarefa de classificação em aprendizado de máquina, onde \"classificação\" indica que os dados têm rótulos de classe discretos.\n",
    "À primeira vista, isso pode parecer bastante trivial: seria relativamente fácil simplesmente olhar para esses dados e traçar uma linha discriminatória para realizar essa classificação.\n",
    "Um benefício da abordagem de aprendizado de máquina, no entanto, é que ela pode generalizar para conjuntos de dados muito maiores em muito mais dimensões.\n",
    "\n",
    "Por exemplo, isso é semelhante à tarefa de detecção automática de spam para e-mail; neste caso, podemos usar os seguintes recursos e rótulos:\n",
    "\n",
    "\n",
    "- *característica 1*, *característica 2*, etc. $\\to$ contagens normalizadas de palavras ou frases importantes (\"Viagra\", \"Nigerian prince\", etc.)\n",
    "- *label* $\\to$ \"spam\" or \"not spam\"\n",
    "\n",
    "Para o conjunto de treinamento, esses rótulos podem ser determinados por inspeção individual de uma pequena amostra representativa de emails; para os e-mails restantes, o rótulo seria determinado usando o modelo.\n",
    "Para um algoritmo de classificação adequadamente treinado com recursos bem construídos o suficiente (normalmente milhares ou milhões de palavras ou frases), esse tipo de abordagem pode ser muito eficaz.\n",
    "Veremos um exemplo dessa classificação baseada em texto em [Em profundidade: Naive Bayes Classification](#NB).\n",
    "\n",
    "Some important classification algorithms that we will discuss in more detail are Gaussian naive Bayes (see [In Depth: Naive Bayes Classification](05.05-Naive-Bayes.ipynb)), support vector machines (see [In-Depth: Support Vector Machines](05.07-Support-Vector-Machines.ipynb)), and random forest classification (see [In-Depth: Decision Trees and Random Forests](05.08-Random-Forests.ipynb)).\n",
    "\n",
    "Alguns algoritmos de classificação importantes que discutiremos com mais detalhes são Gaussian ingênuo Bayes (consulte [Em profundidade: Classificação Naive Bayes](#NB)), máquinas de vetores de suporte (consulte [Em profundidade: Support Vector Machines](#SVM)) e classificação de floresta aleatória (consulte [Em profundidade: Decision Trees e Random Forests](#cart_random_forests)).\n"
   ]
  },
  {
   "cell_type": "markdown",
   "id": "791f6079",
   "metadata": {},
   "source": [
    "\n",
    "### Regressão: Predição de rótulos contínuos\n",
    "\n",
    "Em contraste com os rótulos discretos de um algoritmo de classificação, veremos a seguir uma tarefa simples de *regressão* em que os rótulos são quantidades contínuas.\n",
    "\n",
    "Considere os dados mostrados na figura a seguir, que consiste em um conjunto de pontos, cada um com uma etiqueta contínua:"
   ]
  },
  {
   "cell_type": "markdown",
   "id": "6f88c5c5",
   "metadata": {},
   "source": [
    "![](https://raw.githubusercontent.com/jakevdp/PythonDataScienceHandbook/master/notebooks/figures/05.01-regression-1.png)\n",
    "[figure source in Appendix](#fig_appendix)"
   ]
  },
  {
   "cell_type": "markdown",
   "id": "ede12157",
   "metadata": {},
   "source": [
    "\n",
    "Como no exemplo de classificação, temos dados bidimensionais: ou seja, há dois recursos que descrevem cada ponto de dados.\n",
    "A cor de cada ponto representa a etiqueta contínua para aquele ponto.\n",
    "\n",
    "Existem vários modelos de regressão possíveis que podemos usar para este tipo de dados, mas aqui usaremos uma regressão linear simples para prever os pontos.\n",
    "Este modelo de regressão linear simples assume que, se tratarmos o rótulo como uma terceira dimensão espacial, podemos ajustar um plano aos dados.\n",
    "Esta é uma generalização de alto nível do conhecido problema de ajustar uma linha a dados com duas coordenadas.\n",
    "\n",
    "Podemos visualizar essa configuração conforme mostrado na figura a seguir:\n"
   ]
  },
  {
   "cell_type": "markdown",
   "id": "afcb1c4d",
   "metadata": {},
   "source": [
    "![](https://raw.githubusercontent.com/jakevdp/PythonDataScienceHandbook/master/notebooks/figures/05.01-regression-2.png)\n",
    "[figure source in Appendix](#fig_appendix)"
   ]
  },
  {
   "cell_type": "markdown",
   "id": "ad4839d8",
   "metadata": {},
   "source": [
    "Observe que o plano *característica-1, característica-2* aqui é o mesmo que no gráfico bidimensional anterior; neste caso, entretanto, representamos os rótulos pela cor e pela posição do eixo tridimensional. \n",
    "Desse ponto de vista, parece razoável que ajustar um plano por meio desses dados tridimensionais nos permitiria prever o rótulo esperado para qualquer conjunto de parâmetros de entrada. \n",
    "\n",
    "Voltando à projeção bidimensional, ao ajustarmos tal plano obtemos o resultado mostrado na figura a seguir:\n"
   ]
  },
  {
   "cell_type": "markdown",
   "id": "79a7204d",
   "metadata": {},
   "source": [
    "![](https://raw.githubusercontent.com/jakevdp/PythonDataScienceHandbook/master/notebooks/figures/05.01-regression-3.png)\n",
    "[figure source in Appendix](#fig_appendix)"
   ]
  },
  {
   "cell_type": "markdown",
   "id": "f2ee4683",
   "metadata": {},
   "source": [
    "Esse plano de ajuste nos dá o que precisamos para prever rótulos para novos pontos. Visualmente, encontramos os resultados mostrados na figura a seguir:"
   ]
  },
  {
   "cell_type": "markdown",
   "id": "7f2d3a0f",
   "metadata": {},
   "source": [
    "![](https://raw.githubusercontent.com/jakevdp/PythonDataScienceHandbook/master/notebooks/figures/05.01-regression-4.png)\n",
    "[figure source in Appendix](#fig_appendix)\n"
   ]
  },
  {
   "cell_type": "markdown",
   "id": "870b929e",
   "metadata": {},
   "source": [
    "Tal como acontece com o exemplo de classificação, isso pode parecer bastante trivial em um pequeno número de dimensões.\n",
    "Mas o poder desses métodos é que eles podem ser aplicados e avaliados diretamente no caso de dados com muitos, muitos recursos.\n",
    "\n",
    "Por exemplo, isso é semelhante à tarefa de calcular a distância até as galáxias observadas por meio de um telescópio - neste caso, podemos usar os seguintes recursos e rótulos:\n",
    "\n",
    "\n",
    "- *característica 1*, *característica 2*, etc. $\\to$ brilho de cada galáxia em um dos vários comprimentos de onda ou cores\n",
    "- *label* $\\to$ distância ou desvio para o vermelho da galáxia\n",
    "\n",
    "As distâncias para um pequeno número dessas galáxias podem ser determinadas por meio de um conjunto independente de observações (normalmente mais caras).\n",
    "As distâncias às galáxias restantes poderiam então ser estimadas usando um modelo de regressão adequado, sem a necessidade de empregar a observação mais cara em todo o conjunto.\n",
    "Nos círculos da astronomia, isso é conhecido como o problema do \"desvio para o vermelho fotométrico\".\n",
    "\n",
    "\n",
    "Some important regression algorithms that we will discuss are linear regression (see [In Depth: Linear Regression](05.06-Linear-Regression.ipynb)), support vector machines (see [In-Depth: Support Vector Machines](05.07-Support-Vector-Machines.ipynb)), and random forest regression (see [In-Depth: Decision Trees and Random Forests](05.08-Random-Forests.ipynb)).\n",
    "\n",
    "\n",
    "Alguns algoritmos de regressão importantes que discutiremos são regressão linear (consulte [Em profundidade: Regressão linear](#regression)), máquinas de vetor de suporte (consulte [Em profundidade: Support Vector Machines](#SVM)) e regressão de floresta aleatória (consulte [Em profundidade: Decision Trees e Random Forests](#cart_random_forests))."
   ]
  },
  {
   "cell_type": "markdown",
   "id": "d61c37a3",
   "metadata": {},
   "source": [
    "### Clustering: inferir rótulos em dados não rotulados\n",
    "\n",
    "As ilustrações de classificação e regressão que acabamos de ver são exemplos de algoritmos de aprendizado supervisionado, nos quais estamos tentando construir um modelo que irá prever rótulos para novos dados.\n",
    "O aprendizado não supervisionado envolve modelos que descrevem dados sem referência a quaisquer rótulos conhecidos. \n",
    "\n",
    "Um caso comum de aprendizado não supervisionado é o \"agrupamento\", no qual os dados são atribuídos automaticamente a algum número de grupos distintos.\n",
    "Por exemplo, podemos ter alguns dados bidimensionais como os mostrados na figura a seguir:"
   ]
  },
  {
   "cell_type": "markdown",
   "id": "bd784187",
   "metadata": {},
   "source": [
    "![](https://raw.githubusercontent.com/jakevdp/PythonDataScienceHandbook/master/notebooks/figures/05.01-clustering-1.png)\n",
    "[figure source in Appendix](#fig_appendix)"
   ]
  },
  {
   "cell_type": "markdown",
   "id": "367d0209",
   "metadata": {},
   "source": [
    "À vista, fica claro que cada um desses pontos faz parte de um grupo distinto.\n",
    "Dada essa entrada, um modelo de agrupamento usará a estrutura intrínseca dos dados para determinar quais pontos estão relacionados.\n",
    "Usando o algoritmo *k-means* muito rápido e intuitivo (consulte [Em profundidade: K-Means Clustering](#kmeans)), encontramos os clusters mostrados na figura a seguir:"
   ]
  },
  {
   "cell_type": "markdown",
   "id": "23b75d47",
   "metadata": {},
   "source": [
    "![](https://raw.githubusercontent.com/jakevdp/PythonDataScienceHandbook/master/notebooks/figures/05.01-clustering-2.png)\n",
    "[figure source in Appendix](#fig_appendix)"
   ]
  },
  {
   "cell_type": "markdown",
   "id": "6938305b",
   "metadata": {},
   "source": [
    "*k*-means ajusta um modelo que consiste em *k* centros de cluster; os centros ótimos são considerados aqueles que minimizam a distância de cada ponto de seu centro atribuído.\n",
    "Novamente, isso pode parecer um exercício trivial em duas dimensões, mas à medida que nossos dados se tornam maiores e mais complexos, esses algoritmos de agrupamento podem ser empregados para extrair informações úteis do conjunto de dados.\n",
    "\n",
    "Discutiremos o algoritmo *k-means* com mais profundidade em [Em profundidade: K-Means Clustering](#kmeans). Outros algoritmos de agrupamento importantes incluem modelos de mistura gaussiana (consulte [Em profundidade: Modelos de mistura gaussiana](#gaussian_mix)) e agrupamento espectral (consulte [documentação de agrupamento do Scikit-Learn](http://scikit-learn.org/stable/modules/clustering.html)).\n"
   ]
  },
  {
   "cell_type": "markdown",
   "id": "1a11f90a",
   "metadata": {},
   "source": [
    "### Redução de dimensionalidade: inferir estrutura de dados não rotulados\n",
    "\n",
    "A redução da dimensionalidade é outro exemplo de algoritmo não supervisionado, no qual rótulos ou outras informações são inferidos da estrutura do próprio conjunto de dados.\n",
    "A redução de dimensionalidade é um pouco mais abstrata do que os exemplos que vimos antes, mas geralmente busca extrair alguma representação de dados de baixa dimensão que de alguma forma preserva qualidades relevantes do conjunto de dados completo.\n",
    "Rotinas de redução de dimensionalidade diferentes medem essas qualidades relevantes de maneiras diferentes, como veremos em [Em profundidade: Manifold Learning](#manifold_learning).\n",
    "\n",
    "Como exemplo disso, considere os dados mostrados na figura a seguir:\n"
   ]
  },
  {
   "cell_type": "markdown",
   "id": "70e36ac7",
   "metadata": {},
   "source": [
    "![](https://raw.githubusercontent.com/jakevdp/PythonDataScienceHandbook/master/notebooks/figures/05.01-dimesionality-1.png)\n",
    "[figure source in Appendix](#fig_appendix)"
   ]
  },
  {
   "cell_type": "markdown",
   "id": "c0239516",
   "metadata": {},
   "source": [
    "Visualmente, está claro que há alguma estrutura nesses dados: eles são traçados a partir de uma linha unidimensional que está disposta em uma espiral dentro deste espaço bidimensional. \n",
    "Em certo sentido, você poderia dizer que esses dados são \"intrinsecamente\" apenas uma dimensão, embora esses dados unidimensionais estejam embutidos em um espaço de dimensão superior. \n",
    "Um modelo de redução de dimensionalidade adequado, neste caso, seria sensível a essa estrutura embutida não linear e seria capaz de extrair essa representação de dimensionalidade inferior.\n",
    "\n",
    "A figura a seguir mostra uma visualização dos resultados do algoritmo Isomap, um algoritmo de aprendizado múltiplo que faz exatamente isso:\n"
   ]
  },
  {
   "cell_type": "markdown",
   "id": "cb496525",
   "metadata": {},
   "source": [
    "![](https://raw.githubusercontent.com/jakevdp/PythonDataScienceHandbook/master/notebooks/figures/05.01-dimesionality-2.png)\n",
    "[figure source in Appendix](#fig_appendix)"
   ]
  },
  {
   "cell_type": "markdown",
   "id": "8bdb032d",
   "metadata": {},
   "source": [
    "Observe que as cores (que representam a variável latente unidimensional extraída) mudam uniformemente ao longo da espiral, o que indica que o algoritmo de fato detectou a estrutura que vimos a olho nu.\n",
    "Tal como acontece com os exemplos anteriores, o poder dos algoritmos de redução de dimensionalidade torna-se mais claro em casos de dimensões superiores.\n",
    "Por exemplo, podemos desejar visualizar relacionamentos importantes em um conjunto de dados que possui 100 ou 1.000 recursos.\n",
    "Visualizar dados de 1.000 dimensões é um desafio e uma maneira de tornar isso mais gerenciável é usar uma técnica de redução de dimensionalidade para reduzir os dados a duas ou três dimensões.\n",
    "\n",
    "Alguns algoritmos de redução de dimensionalidade importantes que discutiremos são a análise de componentes principais (consulte [Em profundidade: Análise de componentes principais](#pca)) e vários algoritmos de aprendizagem múltiplos, incluindo Isomap e incorporação linear local (Consulte [Em profundidade: aprendizado múltiplo](#manifold_learning)).\n"
   ]
  },
  {
   "cell_type": "markdown",
   "id": "5ecaff78",
   "metadata": {},
   "source": [
    "## Sumário\n",
    "\n",
    "Aqui, vimos alguns exemplos simples de alguns dos tipos básicos de abordagens de aprendizado de máquina. Desnecessário dizer que há uma série de detalhes práticos importantes que omitimos, mas espero que esta seção tenha sido suficiente para lhe dar uma ideia básica de quais tipos de problemas as abordagens de aprendizado de máquina podem resolver.\n",
    "\n",
    "Resumindo, vimos o seguinte:\n",
    "\n",
    "\n",
    "- *Aprendizagem Supervisionada*: Modelos que podem prever rótulos com base em dados de treinamento rotulados\n",
    "\n",
    "  - *Classificação*: Modelos que prevêem rótulos como duas ou mais categorias discretas\n",
    "  - *Regression*: Modelos que prevêem rótulos contínuos\n",
    "  \n",
    "- *Aprendizagem Não Supervisionada*: Modelos que identificam a estrutura em dados não rotulados\n",
    "\n",
    "  - *Clustering*: Modelos que detectam e identificam grupos distintos nos dados\n",
    "  - *Redução da dimensionalidade*: Modelos que detectam e identificam a estrutura dimensional inferior em dados dimensionais superiores\n",
    "\n",
    "Nas seções a seguir, nos aprofundaremos muito mais nessas categorias e veremos alguns exemplos mais interessantes de onde esses conceitos podem ser úteis.\n",
    "\n",
    "Todas as figuras na discussão anterior são geradas com base em cálculos reais de aprendizado de máquina; o código por trás deles pode ser encontrado em [Apêndice: Código da Figura](#fig_appendix).\n"
   ]
  },
  {
   "cell_type": "markdown",
   "id": "15f84fe0",
   "metadata": {},
   "source": [
    "<!--BOOK_INFORMATION-->\n",
    "<img align=\"left\" style=\"padding-right:10px;\" src=\"https://github.com/jakevdp/PythonDataScienceHandbook/blob/master/notebooks/figures/PDSH-cover-small.png?raw=true\">\n",
    "\n",
    "*Esse notebook contém trechos do [Python Data Science Handbook](http://shop.oreilly.com/product/0636920034919.do) por Jake VanderPlas; o conteúdo está disponível [on GitHub](https://github.com/jakevdp/PythonDataScienceHandbook).*\n",
    "*O texto é publicado sob o [CC-BY-NC-ND license](https://creativecommons.org/licenses/by-nc-nd/3.0/us/legalcode), and code is lançado sob o [MIT license](https://opensource.org/licenses/MIT). Se você achar este conteúdo útil, considere apoiar o trabalho  [comprando o livro](http://shop.oreilly.com/product/0636920034919.do)!*"
   ]
  },
  {
   "cell_type": "markdown",
   "id": "0eb16e6d",
   "metadata": {},
   "source": [
    "# 5.2 Introduzindo o Scikit-Learn<a id='scikit_learn'></a>"
   ]
  },
  {
   "cell_type": "markdown",
   "id": "cd65da2a",
   "metadata": {},
   "source": [
    "<!--NAVIGATION-->\n",
    "< [O que é Machine Learning?](#whats_ml) | [Índice](#index) | [Hyperparameters and Model Validation](#hyperparameters_validation) >\n",
    "\n",
    "<a href=\"https://colab.research.google.com/github/jakevdp/PythonDataScienceHandbook/blob/master/notebooks/05.02-Introducing-Scikit-Learn.ipynb\"><img align=\"left\" src=\"https://colab.research.google.com/assets/colab-badge.svg\" alt=\"Open in Colab\" title=\"Open and Execute in Google Colaboratory\"></a>\n"
   ]
  },
  {
   "cell_type": "markdown",
   "id": "6f21e08a",
   "metadata": {},
   "source": [
    "\n",
    "Existem várias bibliotecas Python que fornecem implementações sólidas de uma variedade de algoritmos de aprendizado de máquina. Um dos mais conhecidos é o [Scikit-Learn](http://scikit-learn.org), um pacote que fornece versões eficientes de um grande número de algoritmos comuns.\n",
    "O Scikit-Learn é caracterizado por uma API limpa, uniforme e simplificada, bem como por uma documentação online muito útil e completa.\n",
    "Um benefício dessa uniformidade é que, uma vez que você entenda o uso básico e a sintaxe do Scikit-Learn para um tipo de modelo, mudar para um novo modelo ou algoritmo é muito simples.\n",
    "\n",
    "Esta seção fornece uma visão geral da API Scikit-Learn; uma compreensão sólida desses elementos da API formará a base para a compreensão da discussão prática mais profunda sobre algoritmos e abordagens de aprendizado de máquina nos próximos capítulos.\n",
    "\n",
    "Começaremos cobrindo a *representação de dados* no Scikit-Learn, depois cobriremos a API *Estimator* e, finalmente, passaremos por um exemplo mais interessante do uso dessas ferramentas para explorar um conjunto de imagens de dígitos escritos à mão.\n"
   ]
  },
  {
   "cell_type": "markdown",
   "id": "92e078ee",
   "metadata": {},
   "source": [
    "## Representação de dados no Scikit-Learn\n"
   ]
  },
  {
   "cell_type": "markdown",
   "id": "9bf354e0",
   "metadata": {},
   "source": [
    "O aprendizado de máquina consiste em criar modelos a partir de dados: por isso, começaremos discutindo como os dados podem ser representados para serem compreendidos pelo computador. \n",
    "A melhor maneira de pensar sobre os dados no Scikit-Learn é em termos de tabelas de dados.\n"
   ]
  },
  {
   "cell_type": "markdown",
   "id": "b5f3d160",
   "metadata": {},
   "source": [
    "### Dados como tabela\n",
    "\n",
    "Uma tabela básica é uma grade bidimensional de dados, na qual as linhas representam os elementos individuais do conjunto de dados e as colunas representam as quantidades relacionadas a cada um desses elementos. Por exemplo, considere o [conjunto de dados Iris](https://en.wikipedia.org/wiki/Iris_flower_data_set), famoso por Ronald Fisher em 1936. Podemos baixar este conjunto de dados na forma de um ``DataFrame`` Pandas usando a biblioteca [seaborn](http://seaborn.pydata.org/):\n"
   ]
  },
  {
   "cell_type": "code",
   "execution_count": 2,
   "id": "8017d1b9",
   "metadata": {},
   "outputs": [
    {
     "data": {
      "text/html": [
       "<div>\n",
       "<style scoped>\n",
       "    .dataframe tbody tr th:only-of-type {\n",
       "        vertical-align: middle;\n",
       "    }\n",
       "\n",
       "    .dataframe tbody tr th {\n",
       "        vertical-align: top;\n",
       "    }\n",
       "\n",
       "    .dataframe thead th {\n",
       "        text-align: right;\n",
       "    }\n",
       "</style>\n",
       "<table border=\"1\" class=\"dataframe\">\n",
       "  <thead>\n",
       "    <tr style=\"text-align: right;\">\n",
       "      <th></th>\n",
       "      <th>sepal_length</th>\n",
       "      <th>sepal_width</th>\n",
       "      <th>petal_length</th>\n",
       "      <th>petal_width</th>\n",
       "      <th>species</th>\n",
       "    </tr>\n",
       "  </thead>\n",
       "  <tbody>\n",
       "    <tr>\n",
       "      <th>0</th>\n",
       "      <td>5.1</td>\n",
       "      <td>3.5</td>\n",
       "      <td>1.4</td>\n",
       "      <td>0.2</td>\n",
       "      <td>setosa</td>\n",
       "    </tr>\n",
       "    <tr>\n",
       "      <th>1</th>\n",
       "      <td>4.9</td>\n",
       "      <td>3.0</td>\n",
       "      <td>1.4</td>\n",
       "      <td>0.2</td>\n",
       "      <td>setosa</td>\n",
       "    </tr>\n",
       "    <tr>\n",
       "      <th>2</th>\n",
       "      <td>4.7</td>\n",
       "      <td>3.2</td>\n",
       "      <td>1.3</td>\n",
       "      <td>0.2</td>\n",
       "      <td>setosa</td>\n",
       "    </tr>\n",
       "    <tr>\n",
       "      <th>3</th>\n",
       "      <td>4.6</td>\n",
       "      <td>3.1</td>\n",
       "      <td>1.5</td>\n",
       "      <td>0.2</td>\n",
       "      <td>setosa</td>\n",
       "    </tr>\n",
       "    <tr>\n",
       "      <th>4</th>\n",
       "      <td>5.0</td>\n",
       "      <td>3.6</td>\n",
       "      <td>1.4</td>\n",
       "      <td>0.2</td>\n",
       "      <td>setosa</td>\n",
       "    </tr>\n",
       "  </tbody>\n",
       "</table>\n",
       "</div>"
      ],
      "text/plain": [
       "   sepal_length  sepal_width  petal_length  petal_width species\n",
       "0           5.1          3.5           1.4          0.2  setosa\n",
       "1           4.9          3.0           1.4          0.2  setosa\n",
       "2           4.7          3.2           1.3          0.2  setosa\n",
       "3           4.6          3.1           1.5          0.2  setosa\n",
       "4           5.0          3.6           1.4          0.2  setosa"
      ]
     },
     "execution_count": 2,
     "metadata": {},
     "output_type": "execute_result"
    }
   ],
   "source": [
    "import seaborn as sns\n",
    "iris = sns.load_dataset('iris')\n",
    "iris.head()"
   ]
  },
  {
   "cell_type": "markdown",
   "id": "f3720364",
   "metadata": {},
   "source": [
    "Aqui, cada linha dos dados se refere a uma única flor observada e o número de linhas é o número total de flores no conjunto de dados. Em geral, iremos nos referir às linhas da matriz como amostras e o número de linhas como n_samples.\n",
    "\n",
    "Da mesma forma, cada coluna dos dados se refere a uma determinada informação quantitativa que descreve cada amostra. Em geral, nos referiremos às colunas da matriz como recursos e o número de colunas como n_features.\n"
   ]
  },
  {
   "cell_type": "markdown",
   "id": "ccdc2f6b",
   "metadata": {},
   "source": [
    "#### Matriz de características/variáveis (*X*)\n",
    "\n",
    "Este layout de tabela deixa claro que as informações podem ser pensadas como uma matriz ou matriz numérica bidimensional, que chamaremos de *matriz de recursos*.\n",
    "Por convenção, esta matriz de recursos é freqüentemente armazenada em uma variável chamada `` X``.\n",
    "A matriz de recursos é considerada bidimensional, com forma `` [n_samples, n_features] ``, e está mais frequentemente contida em uma matriz NumPy ou em um Pandas `` DataFrame``, }embora alguns modelos Scikit-Learn também aceitem SciPy matrizes esparsas.\n",
    "\n",
    "As amostras (ou seja, linhas) sempre se referem aos objetos individuais descritos pelo conjunto de dados.\n",
    "Por exemplo, a amostra pode ser uma flor, uma pessoa, um documento, uma imagem, um arquivo de som, um vídeo, um objeto astronômico ou qualquer outra coisa que você possa descrever com um conjunto de medidas quantitativas.\n",
    "\n",
    "As Características (ou seja, colunas/variáveis) sempre se referem às observações distintas que descrevem cada amostra de forma quantitativa. Os recursos geralmente têm valores reais, mas podem ser booleanos ou discretos em alguns casos.\n"
   ]
  },
  {
   "cell_type": "markdown",
   "id": "6174f2be",
   "metadata": {},
   "source": [
    "#### Matriz de destino/alvo (*Y*)\n",
    "\n",
    "Além da matriz de características ``X``, geralmente também trabalhamos com um array *rótulo* ou *destino*, que por convenção geralmente chamamos de ``y``.\n",
    "A matriz de destino é geralmente unidimensional, com comprimento ``n_samples``, e geralmente está contida em uma matriz NumPy ou Pandas ``Series``.\n",
    "A matriz de destino pode ter valores numéricos contínuos ou classes/rótulos discretos.\n",
    "Enquanto alguns estimadores Scikit-Learn lidam com vários valores de destino na forma de uma matriz de destino bidimensional, ``[n_samples, n_targets]``, trabalharemos principalmente com o caso comum de uma matriz de destino unidimensional.\n",
    "\n",
    "Freqüentemente, um ponto de confusão é como a matriz de destino difere das outras colunas de variáveis. A característica distintiva da matriz de destino é que geralmente é a quantidade que queremos *prever a partir dos dados*: em termos estatísticos, é a variável dependente.\n",
    "Por exemplo, nos dados anteriores, podemos desejar construir um modelo que possa prever as espécies de flores com base nas outras medidas; neste caso, a coluna ``species`` seria considerada o array alvo.\n",
    "\n",
    "Com esta matriz de destino em mente, podemos usar Seaborn (consulte [Visualização com Seaborn](#seaborn) para visualizar convenientemente os dados:\n"
   ]
  },
  {
   "cell_type": "code",
   "execution_count": 3,
   "id": "6a6db89e",
   "metadata": {},
   "outputs": [
    {
     "data": {
      "image/png": "[encoded data removed]",
      "text/plain": [
       "<Figure size 518.85x432 with 20 Axes>"
      ]
     },
     "metadata": {},
     "output_type": "display_data"
    }
   ],
   "source": [
    "%matplotlib inline\n",
    "import seaborn as sns; sns.set()\n",
    "sns.pairplot(iris, hue='species', height=1.5);"
   ]
  },
  {
   "cell_type": "markdown",
   "id": "8137b131",
   "metadata": {},
   "source": [
    "Para uso no Scikit-Learn, iremos extrair a matriz de recursos e array de destino do ``DataFrame``, o que podemos fazer usando algumas das operações do Pandas ``DataFrame`` discutidas no [Capítulo 3](#pandas):\n"
   ]
  },
  {
   "cell_type": "code",
   "execution_count": 4,
   "id": "5900e7e5",
   "metadata": {},
   "outputs": [
    {
     "data": {
      "text/plain": [
       "(150, 4)"
      ]
     },
     "execution_count": 4,
     "metadata": {},
     "output_type": "execute_result"
    }
   ],
   "source": [
    "X_iris = iris.drop('species', axis=1)\n",
    "X_iris.shape"
   ]
  },
  {
   "cell_type": "code",
   "execution_count": 5,
   "id": "28c9ee6f",
   "metadata": {},
   "outputs": [
    {
     "data": {
      "text/plain": [
       "(150,)"
      ]
     },
     "execution_count": 5,
     "metadata": {},
     "output_type": "execute_result"
    }
   ],
   "source": [
    "y_iris = iris['species']\n",
    "y_iris.shape"
   ]
  },
  {
   "cell_type": "markdown",
   "id": "f02896f9",
   "metadata": {},
   "source": [
    "Para resumir, o layout esperado de recursos e valores alvo é visualizado no diagrama a seguir:"
   ]
  },
  {
   "cell_type": "markdown",
   "id": "26ba57f4",
   "metadata": {},
   "source": [
    "![](https://raw.githubusercontent.com/jakevdp/PythonDataScienceHandbook/master/notebooks/figures/05.02-samples-features.png)\n",
    "[figure source in Appendix](#fig_appendix)"
   ]
  },
  {
   "cell_type": "markdown",
   "id": "338ce4dc",
   "metadata": {},
   "source": [
    "Com esses dados devidamente formatados, podemos prosseguir para considerar a API *estimator* do Scikit-Learn:\n"
   ]
  },
  {
   "cell_type": "markdown",
   "id": "6d6527f7",
   "metadata": {},
   "source": [
    "## API Estimator do Scikit-Learn"
   ]
  },
  {
   "cell_type": "markdown",
   "id": "5eb84c22",
   "metadata": {},
   "source": [
    "A API Scikit-Learn foi desenvolvida com os seguintes princípios orientadores em mente, conforme descrito no [Paper da API Scikit-Learn](http://arxiv.org/abs/1309.0238):\n",
    "\n",
    "\n",
    "- *Consistência*: Todos os objetos compartilham uma interface comum desenhada a partir de um conjunto limitado de métodos, com documentação consistente.\n",
    "\n",
    "\n",
    "- *Inspeção*: Todos os valores de parâmetro especificados são expostos como atributos públicos.\n",
    "\n",
    "  \n",
    "- *Hierarquia limitada de objetos*: Apenas algoritmos são representados por classes Python; conjuntos de dados são representados em formatos padrão (matrizes NumPy, Pandas ``DataFrame``s, matrizes esparsas SciPy) e parâmetro nomes usam strings do Python padrão.\n",
    "\n",
    "\n",
    "- *Composição*: muitas tarefas de aprendizado de máquina podem ser expressas como sequências de algoritmos mais fundamentais, e o Scikit-Learn faz uso disso sempre que possível.\n",
    "\n",
    "\n",
    "- *Padrões sensíveis*: Quando os modelos requerem parâmetros especificados pelo usuário, a biblioteca define um valor padrão apropriado.\n",
    "\n",
    "Na prática, esses princípios tornam o Scikit-Learn muito fácil de usar, uma vez que os princípios básicos são compreendidos. Cada algoritmo de aprendizado de máquina no Scikit-Learn é implementado por meio da API Estimator, que fornece uma interface consistente para uma ampla variedade de aplicativos de aprendizado de máquina."
   ]
  },
  {
   "cell_type": "markdown",
   "id": "883f56a4",
   "metadata": {},
   "source": [
    "### Noções básicas da API\n",
    "\n",
    "Mais comumente, as etapas de uso da API do estimador Scikit-Learn são as seguintes (veremos alguns exemplos detalhados nas seções a seguir).\n",
    "\n",
    "1. Escolha uma classe de modelo importando a classe de estimador apropriada do Scikit-Learn.\n",
    "2. Escolha os hiperparâmetros do modelo instanciando essa classe com os valores desejados.\n",
    "3. Organize os dados em uma matriz de características e vetor de destino seguindo a discussão acima.\n",
    "4. Ajuste o modelo aos seus dados chamando o método ``fit()`` da instância do modelo.\n",
    "5. Aplique o modelo aos novos dados:\n",
    "\n",
    "   - Para aprendizagem supervisionada, frequentemente prevemos rótulos para dados desconhecidos usando o método ``predict()``.\n",
    "   - Para aprendizagem não supervisionada, muitas vezes transformamos ou inferimos propriedades dos dados usando o método ``transform()`` ou ``predict()``.\n",
    "\n",
    "Passaremos agora por vários exemplos simples de aplicação de métodos de aprendizagem supervisionados e não supervisionados."
   ]
  },
  {
   "cell_type": "markdown",
   "id": "819bb59a",
   "metadata": {},
   "source": [
    "### Supervised learning example: Simple linear regression\n",
    "\n",
    "As an example of this process, let's consider a simple linear regression—that is, the common case of fitting a line to $(x, y)$ data.\n",
    "We will use the following simple data for our regression example:\n",
    "\n",
    "### Exemplo de aprendizado supervisionado: regressão linear simples\n",
    "\n",
    "Como exemplo desse processo, vamos considerar uma regressão linear simples - ou seja, o caso comum de ajustar uma linha para dados $(x,y)$.\n",
    "Usaremos os seguintes dados simples para nosso exemplo de regressão:\n"
   ]
  },
  {
   "cell_type": "code",
   "execution_count": 6,
   "id": "01b3720c",
   "metadata": {},
   "outputs": [
    {
     "data": {
      "image/png": "[encoded data removed]",
      "text/plain": [
       "<Figure size 432x288 with 1 Axes>"
      ]
     },
     "metadata": {},
     "output_type": "display_data"
    }
   ],
   "source": [
    "import matplotlib.pyplot as plt\n",
    "import numpy as np\n",
    "\n",
    "rng = np.random.RandomState(42)\n",
    "x = 10 * rng.rand(50)\n",
    "y = 2 * x - 1 + rng.randn(50)\n",
    "plt.scatter(x, y);"
   ]
  },
  {
   "cell_type": "markdown",
   "id": "bb33d1f3",
   "metadata": {},
   "source": [
    "Com esses dados no lugar, podemos usar a receita descrita anteriormente. Vamos examinar o processo:"
   ]
  },
  {
   "cell_type": "markdown",
   "id": "291c3f2e",
   "metadata": {},
   "source": [
    "#### 1. Escolha uma classe de modelo\n",
    "\n",
    "No Scikit-Learn, cada classe de modelo é representada por uma classe Python.\n",
    "Então, por exemplo, se quisermos calcular um modelo de regressão linear simples, podemos importar a classe de regressão linear:\n"
   ]
  },
  {
   "cell_type": "code",
   "execution_count": 7,
   "id": "66c4fedb",
   "metadata": {},
   "outputs": [],
   "source": [
    "from sklearn.linear_model import LinearRegression"
   ]
  },
  {
   "cell_type": "markdown",
   "id": "0b25e71e",
   "metadata": {},
   "source": [
    "Observe que outros modelos de regressão linear mais gerais também existem; você pode ler mais sobre eles no\n",
    "[Documentação do módulo ``sklearn.linear_model``](http://Scikit-Learn.org/stable/modules/linear_model.html)."
   ]
  },
  {
   "cell_type": "markdown",
   "id": "5e028ddd",
   "metadata": {},
   "source": [
    "#### 2. Escolha os hiperparâmetros do modelo\n",
    "\n",
    "Um ponto importante é que *uma classe de modelo não é o mesmo que uma instância de um modelo*.\n",
    "\n",
    "Uma vez que tenhamos decidido sobre nossa classe modelo, ainda existem algumas opções em aberto para nós.\n",
    "Dependendo da classe do modelo com a qual estamos trabalhando, podemos precisar responder a uma ou mais perguntas como as seguintes:\n",
    "\n",
    "- Gostaríamos de ajustar para o deslocamento (ou seja, *y*-intercept)?\n",
    "- Gostaríamos que o modelo fosse normalizado?\n",
    "- Gostaríamos de pré-processar nossos recursos para adicionar flexibilidade ao modelo?\n",
    "- Que grau de regularização gostaríamos de usar em nosso modelo?\n",
    "- Quantos componentes do modelo gostaríamos de usar?\n",
    "\n",
    "\n",
    "Estes são exemplos das escolhas importantes que devem ser feitas *depois que a classe do modelo é selecionada*.\n",
    "Essas opções são frequentemente representadas como *hiperparâmetros* ou parâmetros que devem ser definidos antes que o modelo seja ajustado aos dados.\n",
    "No Scikit-Learn, os hiperparâmetros são escolhidos passando valores na instanciação do modelo.\n",
    "Exploraremos como você pode motivar quantitativamente a escolha de hiperparâmetros em [Hyperparâmetros e Validação do Modelo](#hparam_valid).\n",
    "\n",
    "Para nosso exemplo de regressão linear, podemos instanciar a classe ``LinearRegression`` e especificar que gostaríamos de ajustar a interceptação usando o hiperparâmetro ``fit_intercept``:\n"
   ]
  },
  {
   "cell_type": "code",
   "execution_count": 8,
   "id": "5de28065",
   "metadata": {},
   "outputs": [
    {
     "data": {
      "text/plain": [
       "LinearRegression()"
      ]
     },
     "execution_count": 8,
     "metadata": {},
     "output_type": "execute_result"
    }
   ],
   "source": [
    "model = LinearRegression(fit_intercept=True)\n",
    "model"
   ]
  },
  {
   "cell_type": "markdown",
   "id": "31033678",
   "metadata": {},
   "source": [
    "Lembre-se de que, quando o modelo é instanciado, a única ação é o armazenamento desses valores de hiperparâmetros. Em particular, ainda não aplicamos o modelo a nenhum dado: a API Scikit-Learn torna muito clara a distinção entre *escolha do modelo* e a *aplicação do modelo aos dados*.\n"
   ]
  },
  {
   "cell_type": "markdown",
   "id": "0ae9c860",
   "metadata": {},
   "source": [
    "#### 3. Organize os dados em uma matriz de recursos e vetor de destino\n",
    "\n",
    "Anteriormente, detalhamos a representação de dados Scikit-Learn, que requer uma matriz de recursos bidimensionais e uma matriz de destino unidimensional.\n",
    "\n",
    "Aqui, nossa variável de destino ``y`` já está na forma correta (um array de dimensão ``n_samples``), mas precisamos massagear os dados ``x`` para torná-los uma matriz de tamanho``[n_samples , n_features]``. Nesse caso, isso equivale a uma simples remodelagem da matriz unidimensional:\n"
   ]
  },
  {
   "cell_type": "code",
   "execution_count": 9,
   "id": "b7304b4a",
   "metadata": {},
   "outputs": [
    {
     "data": {
      "text/plain": [
       "(50, 1)"
      ]
     },
     "execution_count": 9,
     "metadata": {},
     "output_type": "execute_result"
    }
   ],
   "source": [
    "X = x[:, np.newaxis]\n",
    "X.shape"
   ]
  },
  {
   "cell_type": "markdown",
   "id": "58fa0c88",
   "metadata": {},
   "source": [
    "#### 4. Ajuste o modelo aos seus dados\n",
    "\n",
    "Agora é hora de aplicar nosso modelo aos dados.\n",
    "Isso pode ser feito com o método ``fit()`` do modelo:"
   ]
  },
  {
   "cell_type": "code",
   "execution_count": 10,
   "id": "7b5ccb18",
   "metadata": {},
   "outputs": [
    {
     "data": {
      "text/plain": [
       "LinearRegression()"
      ]
     },
     "execution_count": 10,
     "metadata": {},
     "output_type": "execute_result"
    }
   ],
   "source": [
    "model.fit(X, y)"
   ]
  },
  {
   "cell_type": "markdown",
   "id": "59b1ba29",
   "metadata": {},
   "source": [
    "Este comando ``fit()`` faz com que uma série de cálculos internos dependentes do modelo ocorram, e os resultados desses cálculos são armazenados em atributos específicos do modelo que o usuário pode explorar. No Scikit-Learn, por convenção, todos os parâmetros do modelo que foram aprendidos durante o processo ``fit()`` possuem sublinhados à direita; por exemplo, neste modelo linear, temos o seguinte:\n"
   ]
  },
  {
   "cell_type": "code",
   "execution_count": 11,
   "id": "9113608b",
   "metadata": {},
   "outputs": [
    {
     "data": {
      "text/plain": [
       "array([1.9776566])"
      ]
     },
     "execution_count": 11,
     "metadata": {},
     "output_type": "execute_result"
    }
   ],
   "source": [
    "model.coef_"
   ]
  },
  {
   "cell_type": "code",
   "execution_count": 12,
   "id": "a51e7c27",
   "metadata": {},
   "outputs": [
    {
     "data": {
      "text/plain": [
       "-0.9033107255311164"
      ]
     },
     "execution_count": 12,
     "metadata": {},
     "output_type": "execute_result"
    }
   ],
   "source": [
    "model.intercept_"
   ]
  },
  {
   "cell_type": "markdown",
   "id": "7c001cc7",
   "metadata": {},
   "source": [
    "Esses dois parâmetros representam a inclinação e a interceptação do ajuste linear simples aos dados. Comparando com a definição de dados, vemos que eles estão muito próximos da inclinação de entrada de 2 e interceptação de -1.\n",
    "\n",
    "Uma questão que freqüentemente surge diz respeito à incerteza em tais parâmetros do modelo interno.\n",
    "Em geral, o Scikit-Learn não fornece ferramentas para tirar conclusões dos próprios parâmetros do modelo interno: a interpretação dos parâmetros do modelo é muito mais uma questão de *modelagem estatística* do que uma questão de *aprendizado de máquina*.\n",
    "Em vez disso, o aprendizado de máquina se concentra no que o modelo *prevê*.\n",
    "Se você gostaria de mergulhar no significado dos parâmetros de ajuste dentro do modelo, outras ferramentas estão disponíveis, incluindo o [pacote Statsmodels Python](http://statsmodels.sourceforge.net/)."
   ]
  },
  {
   "cell_type": "markdown",
   "id": "463f7451",
   "metadata": {},
   "source": [
    "#### 5. Prever rótulos para dados desconhecidos\n",
    "\n",
    "Depois que o modelo é treinado, a principal tarefa do aprendizado de máquina supervisionado é avaliá-lo com base no que ele diz sobre os novos dados que não fizeram parte do conjunto de treinamento.\n",
    "No Scikit-Learn, isso pode ser feito usando o método ``predict ()``.\n",
    "Por causa deste exemplo, nossos \"novos dados\" serão uma grade de valores *x* e perguntaremos quais valores *y* o modelo prevê:\n"
   ]
  },
  {
   "cell_type": "code",
   "execution_count": 13,
   "id": "bcd1b869",
   "metadata": {},
   "outputs": [],
   "source": [
    "xfit = np.linspace(-1, 11)"
   ]
  },
  {
   "cell_type": "markdown",
   "id": "0a854f7c",
   "metadata": {},
   "source": [
    "Como antes, precisamos forçar esses valores *x* em uma matriz de recursos ``[n_amples, n_features]``, após o que podemos alimentá-los para o modelo:\n"
   ]
  },
  {
   "cell_type": "code",
   "execution_count": 14,
   "id": "d8678438",
   "metadata": {},
   "outputs": [],
   "source": [
    "Xfit = xfit[:, np.newaxis]\n",
    "yfit = model.predict(Xfit)"
   ]
  },
  {
   "cell_type": "markdown",
   "id": "e2224ed0",
   "metadata": {},
   "source": [
    "Finalmente, vamos visualizar os resultados plotando primeiro os dados brutos e, em seguida, este modelo se ajusta:"
   ]
  },
  {
   "cell_type": "code",
   "execution_count": 15,
   "id": "db905640",
   "metadata": {},
   "outputs": [
    {
     "data": {
      "image/png": "[encoded data removed]",
      "text/plain": [
       "<Figure size 432x288 with 1 Axes>"
      ]
     },
     "metadata": {},
     "output_type": "display_data"
    }
   ],
   "source": [
    "plt.scatter(x, y)\n",
    "plt.plot(xfit, yfit);"
   ]
  },
  {
   "cell_type": "markdown",
   "id": "f619bfec",
   "metadata": {},
   "source": [
    "Normalmente, a eficácia do modelo é avaliada comparando seus resultados com alguma linha de base conhecida, como veremos no próximo exemplo\n"
   ]
  },
  {
   "cell_type": "markdown",
   "id": "fef6259c",
   "metadata": {},
   "source": [
    "\n",
    "### Exemplo de aprendizagem supervisionada: classificação de Iris\n",
    "\n",
    "Vamos dar uma olhada em outro exemplo desse processo, usando o conjunto de dados Iris que discutimos anteriormente.\n",
    "Nossa pergunta será esta: dado um modelo treinado em uma parte dos dados Iris, quão bem podemos prever os rótulos restantes?\n",
    "\n",
    "Para esta tarefa, usaremos um modelo generativo extremamente simples conhecido como *Gaussian naive Bayes*, que prossegue assumindo que cada classe é desenhada a partir de uma distribuição gaussiana alinhada ao eixo (consulte [Em profundidade: Classificação Naive Bayes](#NB) para obter mais detalhes).\n",
    "Por ser tão rápido e não ter hiperparâmetros para escolher, o *Gaussian naive Bayes* costuma ser um bom modelo para usar como uma classificação de linha de base, antes de explorar se melhorias podem ser encontradas por meio de modelos mais sofisticados.\n",
    "\n",
    "Gostaríamos de avaliar o modelo em dados que ele não viu antes e, portanto, dividiremos os dados em um *conjunto de treinamento* e um *conjunto de teste*.\n",
    "Isso pode ser feito manualmente, mas é mais conveniente usar a função de utilidade ``train_test_split``:\n"
   ]
  },
  {
   "cell_type": "code",
   "execution_count": 17,
   "id": "9ac9d5d9",
   "metadata": {},
   "outputs": [],
   "source": [
    "from sklearn.model_selection import train_test_split\n",
    "Xtrain, Xtest, ytrain, ytest = train_test_split(X_iris, y_iris,\n",
    "                                                random_state=1)"
   ]
  },
  {
   "cell_type": "markdown",
   "id": "a7d3f050",
   "metadata": {},
   "source": [
    "Com os dados organizados, podemos seguir nossa receita para prever os rótulos:"
   ]
  },
  {
   "cell_type": "code",
   "execution_count": 18,
   "id": "f2016c64",
   "metadata": {},
   "outputs": [],
   "source": [
    "from sklearn.naive_bayes import GaussianNB # 1. escolha a classe do modelo\n",
    "model = GaussianNB()                       # 2. instanciar o modelo\n",
    "model.fit(Xtrain, ytrain)                  # 3. ajustar o modelo aos dados\n",
    "y_model = model.predict(Xtest)             # 4. prever novos dados"
   ]
  },
  {
   "cell_type": "markdown",
   "id": "c7e50616",
   "metadata": {},
   "source": [
    "Finalmente, podemos usar o utilitário ``precision_score`` para ver a fração dos rótulos previstos que correspondem ao seu valor verdadeiro:\n"
   ]
  },
  {
   "cell_type": "code",
   "execution_count": 19,
   "id": "92a6215b",
   "metadata": {},
   "outputs": [
    {
     "data": {
      "text/plain": [
       "0.9736842105263158"
      ]
     },
     "execution_count": 19,
     "metadata": {},
     "output_type": "execute_result"
    }
   ],
   "source": [
    "from sklearn.metrics import accuracy_score\n",
    "accuracy_score(ytest, y_model)"
   ]
  },
  {
   "cell_type": "markdown",
   "id": "73c29fe1",
   "metadata": {},
   "source": [
    "Com uma precisão de 97%, vemos que mesmo esse algoritmo de classificação muito ingênuo é eficaz para este conjunto de dados em particular!"
   ]
  },
  {
   "cell_type": "markdown",
   "id": "6ec3c948",
   "metadata": {},
   "source": [
    "### Exemplo de aprendizado não supervisionado: dimensionalidade da íris\n",
    "\n",
    "Como exemplo de um problema de aprendizado não supervisionado, vamos dar uma olhada na redução da dimensionalidade dos dados Iris para visualizá-los mais facilmente.\n",
    "Lembre-se de que os dados da íris são quadridimensionais: há quatro recursos registrados para cada amostra.\n",
    "\n",
    "A tarefa da redução da dimensionalidade é perguntar se há uma representação de dimensão inferior adequada que retenha as características essenciais dos dados.\n",
    "Freqüentemente, a redução da dimensionalidade é usada como um auxílio para visualizar os dados: afinal, é muito mais fácil plotar dados em duas dimensões do que em quatro dimensões ou mais!\n",
    "\n",
    "Aqui, usaremos a análise de componentes principais (PCA; consulte [Em profundidade: Análise de componentes principais](#pca)), que é uma técnica de redução de dimensionalidade linear rápida. Pediremos ao modelo para retornar dois componentes - ou seja, uma representação bidimensional dos dados. \n",
    "\n",
    "Seguindo a sequência de etapas descritas anteriormente, temos:\n"
   ]
  },
  {
   "cell_type": "code",
   "execution_count": 20,
   "id": "a4f4697c",
   "metadata": {},
   "outputs": [],
   "source": [
    "from sklearn.decomposition import PCA  # 1. escolha a classe do modelo\n",
    "model = PCA(n_components=2)            # 2. instanciar o modelo com hyperparâmetros\n",
    "model.fit(X_iris)                      # 3. Ajustar aos dados. Observe que y não é especificado!\n",
    "X_2D = model.transform(X_iris)         # 4. Transforme os dados em duas dimensões"
   ]
  },
  {
   "cell_type": "markdown",
   "id": "0d72950c",
   "metadata": {},
   "source": [
    "Agora vamos representar graficamente os resultados. Uma maneira rápida de fazer isso é inserir os resultados no ``DataFrame`` original do Iris e usar o ``lmplot`` da Seaborn para mostrar os resultados:\n"
   ]
  },
  {
   "cell_type": "code",
   "execution_count": 22,
   "id": "500c7890",
   "metadata": {},
   "outputs": [
    {
     "data": {
      "image/png": "[encoded data removed]",
      "text/plain": [
       "<Figure size 446.85x360 with 1 Axes>"
      ]
     },
     "metadata": {},
     "output_type": "display_data"
    }
   ],
   "source": [
    "iris['PCA1'] = X_2D[:, 0]\n",
    "iris['PCA2'] = X_2D[:, 1]\n",
    "sns.lmplot(x=\"PCA1\", y=\"PCA2\", hue='species', data=iris, fit_reg=False);"
   ]
  },
  {
   "cell_type": "markdown",
   "id": "544ddcdf",
   "metadata": {},
   "source": [
    "Vemos que na representação bidimensional, as espécies estão razoavelmente bem separadas, embora o algoritmo PCA não tivesse conhecimento dos rótulos das espécies! \n",
    "Isso nos indica que uma classificação relativamente simples provavelmente será eficaz no conjunto de dados, como vimos antes.\n"
   ]
  },
  {
   "cell_type": "markdown",
   "id": "f7a65922",
   "metadata": {},
   "source": [
    "### Aprendizagem não supervisionada: agrupamento Iris\n",
    "\n",
    "A seguir, vamos dar uma olhada na aplicação de clustering aos dados Iris.\n",
    "Um algoritmo de agrupamento tenta encontrar grupos distintos de dados sem referência a nenhum rótulo.\n",
    "Aqui, usaremos um método de agrupamento poderoso denominado modelo de mistura gaussiana (*GMM*), discutido com mais detalhes em [Em profundidade: Modelos de mistura gaussiana](#GMM). \n",
    "Uma GMM tenta modelar os dados como uma coleção de bolhas gaussianas.\n",
    "\n",
    "Podemos ajustar o modelo de mistura gaussiana da seguinte maneira:\n"
   ]
  },
  {
   "cell_type": "code",
   "execution_count": 27,
   "id": "90c52398",
   "metadata": {},
   "outputs": [],
   "source": [
    "from sklearn import mixture                       # 1. Escolha a classe do modelo\n",
    "model = mixture.GaussianMixture(n_components=3,\n",
    "            covariance_type='full')               # 2. instanciar o modelo com hyperparâmetros\n",
    "model.fit(X_iris)                                 # 3. Ajustar aos dados. Observe que y não é especificado!\n",
    "y_gmm = model.predict(X_iris)                     # 4. Transforme os dados em duas dimensões"
   ]
  },
  {
   "cell_type": "markdown",
   "id": "37f667bd",
   "metadata": {},
   "source": [
    "Como antes, iremos adicionar o rótulo do cluster ao ``DataFrame`` da Iris e usar o Seaborn para plotar os resultados:\n"
   ]
  },
  {
   "cell_type": "code",
   "execution_count": 29,
   "id": "ce8c4747",
   "metadata": {},
   "outputs": [
    {
     "data": {
      "image/png": "[encoded data removed]",
      "text/plain": [
       "<Figure size 1166.85x360 with 3 Axes>"
      ]
     },
     "metadata": {},
     "output_type": "display_data"
    }
   ],
   "source": [
    "iris['cluster'] = y_gmm\n",
    "sns.lmplot(x=\"PCA1\", y=\"PCA2\", data=iris, hue='species',\n",
    "           col='cluster', fit_reg=False);"
   ]
  },
  {
   "cell_type": "markdown",
   "id": "d8093085",
   "metadata": {},
   "source": [
    "Ao dividir os dados por número de cluster, vemos exatamente o quão bem o algoritmo GMM recuperou o rótulo subjacente: a espécie *setosa* é separada perfeitamente dentro do cluster 0, enquanto permanece uma pequena quantidade de mistura entre *versicolor* e *virginica* . \n",
    "Isso significa que mesmo sem um especialista para nos dizer os rótulos das espécies de flores individuais, as medidas dessas flores são distintas o suficiente para que pudéssemos identificar *automaticamente* a presença desses diferentes grupos de espécies com um algoritmo de agrupamento simples!\n",
    "Esse tipo de algoritmo pode ainda fornecer aos especialistas em campo pistas sobre a relação entre as amostras que estão observando.\n"
   ]
  },
  {
   "cell_type": "markdown",
   "id": "ab324b79",
   "metadata": {},
   "source": [
    "## Aplicação: Explorando Dígitos Escritos à Mão"
   ]
  },
  {
   "cell_type": "markdown",
   "id": "f837e76e",
   "metadata": {},
   "source": [
    "Para demonstrar esses princípios em um problema mais interessante, vamos considerar uma parte do problema do reconhecimento óptico de caracteres: a identificação de dígitos escritos à mão.\n",
    "Em estado selvagem, esse problema envolve localizar e identificar personagens em uma imagem. Aqui, pegaremos um atalho e usaremos o conjunto de dígitos pré-formatados do Scikit-Learn, que é integrado à biblioteca.\n"
   ]
  },
  {
   "cell_type": "markdown",
   "id": "031a5690",
   "metadata": {},
   "source": [
    "### Carregando e visualizando os dados dos dígitos\n",
    "\n",
    "Usaremos a interface de acesso a dados do Scikit-Learn e dar uma olhada nestes dados:\n"
   ]
  },
  {
   "cell_type": "code",
   "execution_count": 30,
   "id": "c2a0d5d7",
   "metadata": {},
   "outputs": [
    {
     "data": {
      "text/plain": [
       "(1797, 8, 8)"
      ]
     },
     "execution_count": 30,
     "metadata": {},
     "output_type": "execute_result"
    }
   ],
   "source": [
    "from sklearn.datasets import load_digits\n",
    "digits = load_digits()\n",
    "digits.images.shape"
   ]
  },
  {
   "cell_type": "markdown",
   "id": "61493d1c",
   "metadata": {},
   "source": [
    "Os dados das imagens são uma matriz tridimensional: 1.797 amostras, cada uma consistindo em uma grade de pixels de 8 × 8. Vamos visualizar os primeiros cem deles:"
   ]
  },
  {
   "cell_type": "code",
   "execution_count": 31,
   "id": "1d0c3d30",
   "metadata": {},
   "outputs": [
    {
     "data": {
      "image/png": "[encoded data removed]",
      "text/plain": [
       "<Figure size 576x576 with 100 Axes>"
      ]
     },
     "metadata": {},
     "output_type": "display_data"
    }
   ],
   "source": [
    "import matplotlib.pyplot as plt\n",
    "\n",
    "fig, axes = plt.subplots(10, 10, figsize=(8, 8),\n",
    "                         subplot_kw={'xticks':[], 'yticks':[]},\n",
    "                         gridspec_kw=dict(hspace=0.1, wspace=0.1))\n",
    "\n",
    "for i, ax in enumerate(axes.flat):\n",
    "    ax.imshow(digits.images[i], cmap='binary', interpolation='nearest')\n",
    "    ax.text(0.05, 0.05, str(digits.target[i]),\n",
    "            transform=ax.transAxes, color='green')"
   ]
  },
  {
   "cell_type": "markdown",
   "id": "063fc099",
   "metadata": {},
   "source": [
    "Para trabalhar com esses dados no Scikit-Learn, precisamos de uma representação bidimensional, ``[n_samples, n_features]``. Podemos fazer isso tratando cada pixel da imagem como um recurso: isto é, achatando as matrizes de pixels para que tenhamos uma matriz de comprimento de 64 valores de pixel representando cada dígito.\n",
    "Além disso, precisamos da matriz de destino, que fornece o rótulo previamente determinado para cada dígito. Essas duas quantidades são construídas no conjunto de dados de dígitos sob os atributos ``data`` e ``target``, respectivamente:\n"
   ]
  },
  {
   "cell_type": "code",
   "execution_count": 33,
   "id": "3cbbf24b",
   "metadata": {},
   "outputs": [
    {
     "data": {
      "text/plain": [
       "(1797, 64)"
      ]
     },
     "execution_count": 33,
     "metadata": {},
     "output_type": "execute_result"
    }
   ],
   "source": [
    "X = digits.data\n",
    "X.shape"
   ]
  },
  {
   "cell_type": "code",
   "execution_count": 34,
   "id": "efbb2802",
   "metadata": {},
   "outputs": [
    {
     "data": {
      "text/plain": [
       "(1797,)"
      ]
     },
     "execution_count": 34,
     "metadata": {},
     "output_type": "execute_result"
    }
   ],
   "source": [
    "y = digits.target\n",
    "y.shape"
   ]
  },
  {
   "cell_type": "markdown",
   "id": "d6b792a8",
   "metadata": {},
   "source": [
    "Vemos aqui que existem 1.797 amostras e 64 recursos."
   ]
  },
  {
   "cell_type": "markdown",
   "id": "a7df7bf8",
   "metadata": {},
   "source": [
    "### Aprendizagem não supervisionada: redução da dimensionalidade\n",
    "\n",
    "Gostaríamos de visualizar nossos pontos dentro do espaço de parâmetros de 64 dimensões, mas é difícil visualizar pontos de maneira eficaz em um espaço de dimensões tão altas.\n",
    "Em vez disso, reduziremos as dimensões para 2, usando um método não supervisionado. Aqui, usaremos um algoritmo de aprendizado múltiplo denominado *Isomap* (consulte [Em profundidade: Aprendizado múltiplo](#mainfold_learning)) e transformaremos os dados em duas dimensões:\n"
   ]
  },
  {
   "cell_type": "code",
   "execution_count": 35,
   "id": "cfaa9916",
   "metadata": {},
   "outputs": [
    {
     "data": {
      "text/plain": [
       "(1797, 2)"
      ]
     },
     "execution_count": 35,
     "metadata": {},
     "output_type": "execute_result"
    }
   ],
   "source": [
    "from sklearn.manifold import Isomap\n",
    "iso = Isomap(n_components=2)\n",
    "iso.fit(digits.data)\n",
    "data_projected = iso.transform(digits.data)\n",
    "data_projected.shape"
   ]
  },
  {
   "cell_type": "markdown",
   "id": "3acc49b4",
   "metadata": {},
   "source": [
    "Vemos que os dados projetados agora são bidimensionais. Vamos plotar esses dados para ver se podemos aprender alguma coisa com sua estrutura:"
   ]
  },
  {
   "cell_type": "code",
   "execution_count": 37,
   "id": "81c3a859",
   "metadata": {},
   "outputs": [
    {
     "data": {
      "image/png": "[encoded data removed]",
      "text/plain": [
       "<Figure size 432x288 with 2 Axes>"
      ]
     },
     "metadata": {},
     "output_type": "display_data"
    }
   ],
   "source": [
    "plt.scatter(data_projected[:, 0], data_projected[:, 1], c=digits.target,\n",
    "            edgecolor='none', alpha=0.5,\n",
    "            cmap=plt.cm.get_cmap('nipy_spectral', 10))\n",
    "plt.colorbar(label='digit label', ticks=range(10))\n",
    "plt.clim(-0.5, 9.5);"
   ]
  },
  {
   "cell_type": "markdown",
   "id": "fe2385d3",
   "metadata": {},
   "source": [
    "Este gráfico nos dá uma boa intuição de quão bem os vários números são separados no espaço maior de 64 dimensões. Por exemplo, zeros (em preto) e uns (em roxo) têm muito pouca sobreposição no espaço de parâmetro.\n",
    "Intuitivamente, isso faz sentido: um zero está vazio no meio da imagem, enquanto um um geralmente terá tinta no meio.\n",
    "Por outro lado, parece haver um espectro mais ou menos contínuo entre um e quatro: podemos entender isso percebendo que algumas pessoas desenham uns com \"chapéus\", que os fazem parecerem quatros.\n",
    "\n",
    "No geral, entretanto, os diferentes grupos parecem estar razoavelmente bem separados no espaço de parâmetros: isso nos diz que mesmo um algoritmo de classificação supervisionado muito simples deve funcionar adequadamente com esses dados. Vamos tentar.\n"
   ]
  },
  {
   "cell_type": "markdown",
   "id": "2c5afe03",
   "metadata": {},
   "source": [
    "### Classificação em dígitos\n",
    "\n",
    "Vamos aplicar um algoritmo de classificação aos dígitos. Como com os dados da Iris anteriormente, dividiremos os dados em um conjunto de treinamento e teste e ajustaremos um modelo Bayes ingênuo gaussiano:\n"
   ]
  },
  {
   "cell_type": "code",
   "execution_count": 38,
   "id": "d1ef211e",
   "metadata": {},
   "outputs": [],
   "source": [
    "Xtrain, Xtest, ytrain, ytest = train_test_split(X, y, random_state=0)"
   ]
  },
  {
   "cell_type": "code",
   "execution_count": 39,
   "id": "faea4f19",
   "metadata": {},
   "outputs": [],
   "source": [
    "from sklearn.naive_bayes import GaussianNB\n",
    "model = GaussianNB()\n",
    "model.fit(Xtrain, ytrain)\n",
    "y_model = model.predict(Xtest)"
   ]
  },
  {
   "cell_type": "markdown",
   "id": "82301644",
   "metadata": {},
   "source": [
    "Agora que previmos nosso modelo, podemos avaliar sua precisão comparando os valores reais do conjunto de teste com as previsões:"
   ]
  },
  {
   "cell_type": "code",
   "execution_count": 40,
   "id": "793ea651",
   "metadata": {},
   "outputs": [
    {
     "data": {
      "text/plain": [
       "0.8333333333333334"
      ]
     },
     "execution_count": 40,
     "metadata": {},
     "output_type": "execute_result"
    }
   ],
   "source": [
    "from sklearn.metrics import accuracy_score\n",
    "accuracy_score(ytest, y_model)"
   ]
  },
  {
   "cell_type": "markdown",
   "id": "9318f911",
   "metadata": {},
   "source": [
    "Mesmo com este modelo extremamente simples, encontramos cerca de 80% de precisão para classificação dos dígitos! No entanto, este único número não nos diz *onde* erramos - uma boa maneira de fazer isso é usar a *matriz de confusão*, que podemos calcular com o Scikit-Learn e traçar com o Seaborn:\n"
   ]
  },
  {
   "cell_type": "code",
   "execution_count": 41,
   "id": "8fc066f4",
   "metadata": {},
   "outputs": [
    {
     "data": {
      "image/png": "[encoded data removed]",
      "text/plain": [
       "<Figure size 432x288 with 1 Axes>"
      ]
     },
     "metadata": {},
     "output_type": "display_data"
    }
   ],
   "source": [
    "from sklearn.metrics import confusion_matrix\n",
    "\n",
    "mat = confusion_matrix(ytest, y_model)\n",
    "\n",
    "sns.heatmap(mat, square=True, annot=True, cbar=False)\n",
    "plt.xlabel('predicted value')\n",
    "plt.ylabel('true value');"
   ]
  },
  {
   "cell_type": "markdown",
   "id": "5a1ace40",
   "metadata": {},
   "source": [
    "Isso nos mostra onde os pontos rotulados incorretamente tendem a estar: por exemplo, um grande número de dois aqui são classificados incorretamente como um ou oitos.\n",
    "Outra maneira de obter intuição sobre as características do modelo é representar graficamente as entradas novamente, com seus rótulos previstos. Usaremos verde para rótulos corretos e vermelho para rótulos incorretos:\n"
   ]
  },
  {
   "cell_type": "code",
   "execution_count": 43,
   "id": "a538e764",
   "metadata": {},
   "outputs": [
    {
     "data": {
      "image/png": "[encoded data removed]",
      "text/plain": [
       "<Figure size 576x576 with 100 Axes>"
      ]
     },
     "metadata": {},
     "output_type": "display_data"
    }
   ],
   "source": [
    "fig, axes = plt.subplots(10, 10, figsize=(8, 8),\n",
    "                         subplot_kw={'xticks':[], 'yticks':[]},\n",
    "                         gridspec_kw=dict(hspace=0.1, wspace=0.1))\n",
    "\n",
    "test_images = Xtest.reshape(-1, 8, 8)\n",
    "\n",
    "for i, ax in enumerate(axes.flat):\n",
    "    ax.imshow(test_images[i], cmap='binary', interpolation='nearest')\n",
    "    ax.text(0.05, 0.05, str(y_model[i]),\n",
    "            transform=ax.transAxes,\n",
    "            color='green' if (ytest[i] == y_model[i]) else 'red')"
   ]
  },
  {
   "cell_type": "markdown",
   "id": "7010ed45",
   "metadata": {},
   "source": [
    "Examinando esse subconjunto de dados, podemos obter uma visão sobre onde o algoritmo pode não estar funcionando de maneira ideal.\n",
    "Para ir além de nossa taxa de classificação de 80%, podemos passar para um algoritmo mais sofisticado, como máquinas de vetores de suporte (consulte [Em profundidade: Máquinas de vetores de suporte](#SVM)), florestas aleatórias (consulte [Em profundidade: Árvores de decisão e florestas aleatórias](#cart_random_forests)) ou outra abordagem de classificação.\n"
   ]
  },
  {
   "cell_type": "markdown",
   "id": "dbca91c2",
   "metadata": {},
   "source": [
    "## Sumário"
   ]
  },
  {
   "cell_type": "markdown",
   "id": "6020500e",
   "metadata": {},
   "source": [
    "Nesta seção, cobrimos os recursos essenciais da representação de dados Scikit-Learn e a API do estimador. Independentemente do tipo de estimador, o mesmo padrão de importação / instanciação / ajuste / previsão é válido. De posse dessas informações sobre a API do estimador, você pode explorar a documentação do Scikit-Learn e começar a experimentar vários modelos em seus dados.\n",
    "\n",
    "Na próxima seção, exploraremos talvez o tópico mais importante do aprendizado de máquina: como selecionar e validar seu modelo.\n"
   ]
  },
  {
   "cell_type": "markdown",
   "id": "255a6e6c",
   "metadata": {},
   "source": [
    "<!--BOOK_INFORMATION-->\n",
    "<img align=\"left\" style=\"padding-right:10px;\" src=\"https://github.com/jakevdp/PythonDataScienceHandbook/blob/master/notebooks/figures/PDSH-cover-small.png?raw=true\">\n",
    "\n",
    "*Esse notebook contém trechos do [Python Data Science Handbook](http://shop.oreilly.com/product/0636920034919.do) por Jake VanderPlas; o conteúdo está disponível [on GitHub](https://github.com/jakevdp/PythonDataScienceHandbook).*\n",
    "*O texto é publicado sob o [CC-BY-NC-ND license](https://creativecommons.org/licenses/by-nc-nd/3.0/us/legalcode), and code is lançado sob o [MIT license](https://opensource.org/licenses/MIT). Se você achar este conteúdo útil, considere apoiar o trabalho  [comprando o livro](http://shop.oreilly.com/product/0636920034919.do)!*"
   ]
  },
  {
   "cell_type": "markdown",
   "id": "cb6c2a74",
   "metadata": {},
   "source": [
    "## 5.3 Hiperparâmetros e validação de modelo<a id='hyperparameters_validation'></a>"
   ]
  },
  {
   "cell_type": "markdown",
   "id": "16697081",
   "metadata": {},
   "source": [
    "<!--NAVIGATION-->\n",
    "< [Introduzindo o Scikit-Learn](#scikit_learn) | [Índice](#index) | [Feature Engineering] (05.04-Feature-Engineering.ipynb) >\n",
    "\n",
    "<a href=\"https://colab.research.google.com/github/jakevdp/PythonDataScienceHandbook/blob/master/notebooks/05.03-Hyperparameters-and-Model-Validation.ipynb\"><img align=\"left\" src=\"https://colab.research.google.com/assets/colab-badge.svg\" alt=\"Open in Colab\" title=\"Open and Execute in Google Colaboratory\"></a>\n"
   ]
  },
  {
   "cell_type": "markdown",
   "id": "cf0f9083",
   "metadata": {},
   "source": [
    "In the previous section, we saw the basic recipe for applying a supervised machine learning model:\n",
    "\n",
    "1. Choose a class of model\n",
    "2. Choose model hyperparameters\n",
    "3. Fit the model to the training data\n",
    "4. Use the model to predict labels for new data\n",
    "\n",
    "The first two pieces of this—the choice of model and choice of hyperparameters—are perhaps the most important part of using these tools and techniques effectively.\n",
    "In order to make an informed choice, we need a way to *validate* that our model and our hyperparameters are a good fit to the data.\n",
    "While this may sound simple, there are some pitfalls that you must avoid to do this effectively."
   ]
  },
  {
   "cell_type": "markdown",
   "id": "a44b6c52",
   "metadata": {},
   "source": [
    "## Thinking about Model Validation\n",
    "\n",
    "In principle, model validation is very simple: after choosing a model and its hyperparameters, we can estimate how effective it is by applying it to some of the training data and comparing the prediction to the known value.\n",
    "\n",
    "The following sections first show a naive approach to model validation and why it\n",
    "fails, before exploring the use of holdout sets and cross-validation for more robust\n",
    "model evaluation."
   ]
  },
  {
   "cell_type": "markdown",
   "id": "a5204b6a",
   "metadata": {},
   "source": [
    "### Model validation the wrong way\n",
    "\n",
    "Let's demonstrate the naive approach to validation using the Iris data, which we saw in the previous section.\n",
    "We will start by loading the data:"
   ]
  },
  {
   "cell_type": "code",
   "execution_count": null,
   "id": "fe4082af",
   "metadata": {},
   "outputs": [],
   "source": [
    "from sklearn.datasets import load_iris\n",
    "iris = load_iris()\n",
    "X = iris.data\n",
    "y = iris.target"
   ]
  },
  {
   "cell_type": "markdown",
   "id": "147fbb97",
   "metadata": {},
   "source": [
    "Next we choose a model and hyperparameters. Here we'll use a *k*-neighbors classifier with ``n_neighbors=1``.\n",
    "This is a very simple and intuitive model that says \"the label of an unknown point is the same as the label of its closest training point:\""
   ]
  },
  {
   "cell_type": "code",
   "execution_count": null,
   "id": "18732cd5",
   "metadata": {},
   "outputs": [],
   "source": [
    "from sklearn.neighbors import KNeighborsClassifier\n",
    "model = KNeighborsClassifier(n_neighbors=1)"
   ]
  },
  {
   "cell_type": "markdown",
   "id": "e5a0501e",
   "metadata": {},
   "source": [
    "Then we train the model, and use it to predict labels for data we already know:"
   ]
  },
  {
   "cell_type": "code",
   "execution_count": null,
   "id": "53fd3cdd",
   "metadata": {},
   "outputs": [],
   "source": [
    "model.fit(X, y)\n",
    "y_model = model.predict(X)"
   ]
  },
  {
   "cell_type": "markdown",
   "id": "d1fadd04",
   "metadata": {},
   "source": [
    "Finally, we compute the fraction of correctly labeled points:"
   ]
  },
  {
   "cell_type": "code",
   "execution_count": null,
   "id": "189ba898",
   "metadata": {},
   "outputs": [],
   "source": [
    "from sklearn.metrics import accuracy_score\n",
    "accuracy_score(y, y_model)"
   ]
  },
  {
   "cell_type": "markdown",
   "id": "8d75878a",
   "metadata": {},
   "source": [
    "We see an accuracy score of 1.0, which indicates that 100% of points were correctly labeled by our model!\n",
    "But is this truly measuring the expected accuracy? Have we really come upon a model that we expect to be correct 100% of the time?\n",
    "\n",
    "As you may have gathered, the answer is no.\n",
    "In fact, this approach contains a fundamental flaw: *it trains and evaluates the model on the same data*.\n",
    "Furthermore, the nearest neighbor model is an *instance-based* estimator that simply stores the training data, and predicts labels by comparing new data to these stored points: except in contrived cases, it will get 100% accuracy *every time!*b"
   ]
  },
  {
   "cell_type": "markdown",
   "id": "21277246",
   "metadata": {},
   "source": [
    "### Model validation the right way: Holdout sets\n",
    "\n",
    "So what can be done?\n",
    "A better sense of a model's performance can be found using what's known as a *holdout set*: that is, we hold back some subset of the data from the training of the model, and then use this holdout set to check the model performance.\n",
    "This splitting can be done using the ``train_test_split`` utility in Scikit-Learn:"
   ]
  },
  {
   "cell_type": "code",
   "execution_count": null,
   "id": "297fdbba",
   "metadata": {},
   "outputs": [],
   "source": [
    "from sklearn.cross_validation import train_test_split\n",
    "# split the data with 50% in each set\n",
    "X1, X2, y1, y2 = train_test_split(X, y, random_state=0,\n",
    "                                  train_size=0.5)\n",
    "\n",
    "# fit the model on one set of data\n",
    "model.fit(X1, y1)\n",
    "\n",
    "# evaluate the model on the second set of data\n",
    "y2_model = model.predict(X2)\n",
    "accuracy_score(y2, y2_model)"
   ]
  },
  {
   "cell_type": "markdown",
   "id": "f7dd2bf2",
   "metadata": {},
   "source": [
    "We see here a more reasonable result: the nearest-neighbor classifier is about 90% accurate on this hold-out set.\n",
    "The hold-out set is similar to unknown data, because the model has not \"seen\" it before."
   ]
  },
  {
   "cell_type": "markdown",
   "id": "20f136bc",
   "metadata": {},
   "source": [
    "### Model validation via cross-validation\n",
    "\n",
    "One disadvantage of using a holdout set for model validation is that we have lost a portion of our data to the model training.\n",
    "In the above case, half the dataset does not contribute to the training of the model!\n",
    "This is not optimal, and can cause problems – especially if the initial set of training data is small.\n",
    "\n",
    "One way to address this is to use *cross-validation*; that is, to do a sequence of fits where each subset of the data is used both as a training set and as a validation set.\n",
    "Visually, it might look something like this:\n",
    "\n",
    "\n",
    "![](https://raw.githubusercontent.com/jakevdp/PythonDataScienceHandbook/master/notebooks/figures/05.03-2-fold-CV.png)\n",
    "[figure source in Appendix](#fig_appendix)\n",
    "\n",
    "Here we do two validation trials, alternately using each half of the data as a holdout set.\n",
    "Using the split data from before, we could implement it like this:"
   ]
  },
  {
   "cell_type": "code",
   "execution_count": null,
   "id": "845ad0ed",
   "metadata": {},
   "outputs": [],
   "source": [
    "y2_model = model.fit(X1, y1).predict(X2)\n",
    "y1_model = model.fit(X2, y2).predict(X1)\n",
    "accuracy_score(y1, y1_model), accuracy_score(y2, y2_model)"
   ]
  },
  {
   "cell_type": "markdown",
   "id": "ccc0bd27",
   "metadata": {},
   "source": [
    "What comes out are two accuracy scores, which we could combine (by, say, taking the mean) to get a better measure of the global model performance.\n",
    "This particular form of cross-validation is a *two-fold cross-validation*—that is, one in which we have split the data into two sets and used each in turn as a validation set.\n",
    "\n",
    "We could expand on this idea to use even more trials, and more folds in the data—for example, here is a visual depiction of five-fold cross-validation:\n",
    "\n",
    "![](https://raw.githubusercontent.com/jakevdp/PythonDataScienceHandbook/master/notebooks/figures/05.03-5-fold-CV.png)\n",
    "[figure source in Appendix](#fig_appendix)\n",
    "\n",
    "Here we split the data into five groups, and use each of them in turn to evaluate the model fit on the other 4/5 of the data.\n",
    "This would be rather tedious to do by hand, and so we can use Scikit-Learn's ``cross_val_score`` convenience routine to do it succinctly:"
   ]
  },
  {
   "cell_type": "code",
   "execution_count": null,
   "id": "7ee552c7",
   "metadata": {},
   "outputs": [],
   "source": [
    "from sklearn.cross_validation import cross_val_score\n",
    "cross_val_score(model, X, y, cv=5)"
   ]
  },
  {
   "cell_type": "markdown",
   "id": "5dc196a8",
   "metadata": {},
   "source": [
    "Repeating the validation across different subsets of the data gives us an even better idea of the performance of the algorithm.\n",
    "\n",
    "Scikit-Learn implements a number of useful cross-validation schemes that are useful in particular situations; these are implemented via iterators in the ``cross_validation`` module.\n",
    "For example, we might wish to go to the extreme case in which our number of folds is equal to the number of data points: that is, we train on all points but one in each trial.\n",
    "This type of cross-validation is known as *leave-one-out* cross validation, and can be used as follows:"
   ]
  },
  {
   "cell_type": "code",
   "execution_count": null,
   "id": "85fc7d64",
   "metadata": {},
   "outputs": [],
   "source": [
    "from sklearn.cross_validation import LeaveOneOut\n",
    "scores = cross_val_score(model, X, y, cv=LeaveOneOut(len(X)))\n",
    "scores"
   ]
  },
  {
   "cell_type": "markdown",
   "id": "7bae9798",
   "metadata": {},
   "source": [
    "Because we have 150 samples, the leave one out cross-validation yields scores for 150 trials, and the score indicates either successful (1.0) or unsuccessful (0.0) prediction.\n",
    "Taking the mean of these gives an estimate of the error rate:"
   ]
  },
  {
   "cell_type": "code",
   "execution_count": null,
   "id": "7a60a441",
   "metadata": {},
   "outputs": [],
   "source": [
    "scores.mean()"
   ]
  },
  {
   "cell_type": "markdown",
   "id": "d2f5f306",
   "metadata": {},
   "source": [
    "Other cross-validation schemes can be used similarly.\n",
    "For a description of what is available in Scikit-Learn, use IPython to explore the ``sklearn.cross_validation`` submodule, or take a look at Scikit-Learn's online [cross-validation documentation](http://scikit-learn.org/stable/modules/cross_validation.html)."
   ]
  },
  {
   "cell_type": "markdown",
   "id": "ab12fc03",
   "metadata": {},
   "source": [
    "## Selecting the Best Model\n",
    "\n",
    "Now that we've seen the basics of validation and cross-validation, we will go into a litte more depth regarding model selection and selection of hyperparameters.\n",
    "These issues are some of the most important aspects of the practice of machine learning, and I find that this information is often glossed over in introductory machine learning tutorials.\n",
    "\n",
    "Of core importance is the following question: *if our estimator is underperforming, how should we move forward?*\n",
    "There are several possible answers:\n",
    "\n",
    "- Use a more complicated/more flexible model\n",
    "- Use a less complicated/less flexible model\n",
    "- Gather more training samples\n",
    "- Gather more data to add features to each sample\n",
    "\n",
    "The answer to this question is often counter-intuitive.\n",
    "In particular, sometimes using a more complicated model will give worse results, and adding more training samples may not improve your results!\n",
    "The ability to determine what steps will improve your model is what separates the successful machine learning practitioners from the unsuccessful."
   ]
  },
  {
   "cell_type": "markdown",
   "id": "2062d37a",
   "metadata": {},
   "source": [
    "### The Bias-variance trade-off\n",
    "\n",
    "Fundamentally, the question of \"the best model\" is about finding a sweet spot in the tradeoff between *bias* and *variance*.\n",
    "Consider the following figure, which presents two regression fits to the same dataset:\n",
    "\n",
    "![](https://raw.githubusercontent.com/jakevdp/PythonDataScienceHandbook/master/notebooks/figures/05.03-bias-variance.png)\n",
    "[figure source in Appendix](#fig_appendix)\n",
    "\n",
    "It is clear that neither of these models is a particularly good fit to the data, but they fail in different ways.\n",
    "\n",
    "The model on the left attempts to find a straight-line fit through the data.\n",
    "Because the data are intrinsically more complicated than a straight line, the straight-line model will never be able to describe this dataset well.\n",
    "Such a model is said to *underfit* the data: that is, it does not have enough model flexibility to suitably account for all the features in the data; another way of saying this is that the model has high *bias*.\n",
    "\n",
    "The model on the right attempts to fit a high-order polynomial through the data.\n",
    "Here the model fit has enough flexibility to nearly perfectly account for the fine features in the data, but even though it very accurately describes the training data, its precise form seems to be more reflective of the particular noise properties of the data rather than the intrinsic properties of whatever process generated that data.\n",
    "Such a model is said to *overfit* the data: that is, it has so much model flexibility that the model ends up accounting for random errors as well as the underlying data distribution; another way of saying this is that the model has high *variance*."
   ]
  },
  {
   "cell_type": "markdown",
   "id": "e8f00a53",
   "metadata": {},
   "source": [
    "To look at this in another light, consider what happens if we use these two models to predict the y-value for some new data.\n",
    "In the following diagrams, the red/lighter points indicate data that is omitted from the training set:\n",
    "\n",
    "![](https://raw.githubusercontent.com/jakevdp/PythonDataScienceHandbook/master/notebooks/figures/05.03-bias-variance-2.png)\n",
    "[figure source in Appendix](#fig_appendix)\n",
    "\n",
    "The score here is the $R^2$ score, or [coefficient of determination](https://en.wikipedia.org/wiki/Coefficient_of_determination), which measures how well a model performs relative to a simple mean of the target values. $R^2=1$ indicates a perfect match, $R^2=0$ indicates the model does no better than simply taking the mean of the data, and negative values mean even worse models.\n",
    "From the scores associated with these two models, we can make an observation that holds more generally:\n",
    "\n",
    "- For high-bias models, the performance of the model on the validation set is similar to the performance on the training set.\n",
    "- For high-variance models, the performance of the model on the validation set is far worse than the performance on the training set."
   ]
  },
  {
   "cell_type": "markdown",
   "id": "ec291bfb",
   "metadata": {},
   "source": [
    "If we imagine that we have some ability to tune the model complexity, we would expect the training score and validation score to behave as illustrated in the following figure:\n",
    "\n",
    "![](https://raw.githubusercontent.com/jakevdp/PythonDataScienceHandbook/master/notebooks/figures/05.03-validation-curve.png)\n",
    "[figure source in Appendix](#fig_appendix)\n",
    "\n",
    "The diagram shown here is often called a *validation curve*, and we see the following essential features:\n",
    "\n",
    "- The training score is everywhere higher than the validation score. This is generally the case: the model will be a better fit to data it has seen than to data it has not seen.\n",
    "- For very low model complexity (a high-bias model), the training data is under-fit, which means that the model is a poor predictor both for the training data and for any previously unseen data.\n",
    "- For very high model complexity (a high-variance model), the training data is over-fit, which means that the model predicts the training data very well, but fails for any previously unseen data.\n",
    "- For some intermediate value, the validation curve has a maximum. This level of complexity indicates a suitable trade-off between bias and variance.\n",
    "\n",
    "The means of tuning the model complexity varies from model to model; when we discuss individual models in depth in later sections, we will see how each model allows for such tuning."
   ]
  },
  {
   "cell_type": "markdown",
   "id": "3b5d635e",
   "metadata": {},
   "source": [
    "### Validation curves in Scikit-Learn\n",
    "\n",
    "Let's look at an example of using cross-validation to compute the validation curve for a class of models.\n",
    "Here we will use a *polynomial regression* model: this is a generalized linear model in which the degree of the polynomial is a tunable parameter.\n",
    "For example, a degree-1 polynomial fits a straight line to the data; for model parameters $a$ and $b$:\n",
    "\n",
    "$$\n",
    "y = ax + b\n",
    "$$\n",
    "\n",
    "A degree-3 polynomial fits a cubic curve to the data; for model parameters $a, b, c, d$:\n",
    "\n",
    "$$\n",
    "y = ax^3 + bx^2 + cx + d\n",
    "$$\n",
    "\n",
    "We can generalize this to any number of polynomial features.\n",
    "In Scikit-Learn, we can implement this with a simple linear regression combined with the polynomial preprocessor.\n",
    "We will use a *pipeline* to string these operations together (we will discuss polynomial features and pipelines more fully in [Feature Engineering](05.04-Feature-Engineering.ipynb)):"
   ]
  },
  {
   "cell_type": "code",
   "execution_count": null,
   "id": "ac51fa30",
   "metadata": {},
   "outputs": [],
   "source": [
    "from sklearn.preprocessing import PolynomialFeatures\n",
    "from sklearn.linear_model import LinearRegression\n",
    "from sklearn.pipeline import make_pipeline\n",
    "\n",
    "def PolynomialRegression(degree=2, **kwargs):\n",
    "    return make_pipeline(PolynomialFeatures(degree),\n",
    "                         LinearRegression(**kwargs))"
   ]
  },
  {
   "cell_type": "markdown",
   "id": "f7f56aa1",
   "metadata": {},
   "source": [
    "Now let's create some data to which we will fit our model:"
   ]
  },
  {
   "cell_type": "code",
   "execution_count": null,
   "id": "c66e58ed",
   "metadata": {},
   "outputs": [],
   "source": [
    "import numpy as np\n",
    "\n",
    "def make_data(N, err=1.0, rseed=1):\n",
    "    # randomly sample the data\n",
    "    rng = np.random.RandomState(rseed)\n",
    "    X = rng.rand(N, 1) ** 2\n",
    "    y = 10 - 1. / (X.ravel() + 0.1)\n",
    "    if err > 0:\n",
    "        y += err * rng.randn(N)\n",
    "    return X, y\n",
    "\n",
    "X, y = make_data(40)"
   ]
  },
  {
   "cell_type": "markdown",
   "id": "b0da4ad3",
   "metadata": {},
   "source": [
    "We can now visualize our data, along with polynomial fits of several degrees:"
   ]
  },
  {
   "cell_type": "code",
   "execution_count": null,
   "id": "b9569d85",
   "metadata": {},
   "outputs": [],
   "source": [
    "%matplotlib inline\n",
    "import matplotlib.pyplot as plt\n",
    "import seaborn; seaborn.set()  # plot formatting\n",
    "\n",
    "X_test = np.linspace(-0.1, 1.1, 500)[:, None]\n",
    "\n",
    "plt.scatter(X.ravel(), y, color='black')\n",
    "axis = plt.axis()\n",
    "for degree in [1, 3, 5]:\n",
    "    y_test = PolynomialRegression(degree).fit(X, y).predict(X_test)\n",
    "    plt.plot(X_test.ravel(), y_test, label='degree={0}'.format(degree))\n",
    "plt.xlim(-0.1, 1.0)\n",
    "plt.ylim(-2, 12)\n",
    "plt.legend(loc='best');"
   ]
  },
  {
   "cell_type": "markdown",
   "id": "c33b2b2b",
   "metadata": {},
   "source": [
    "The knob controlling model complexity in this case is the degree of the polynomial, which can be any non-negative integer.\n",
    "A useful question to answer is this: what degree of polynomial provides a suitable trade-off between bias (under-fitting) and variance (over-fitting)?\n",
    "\n",
    "We can make progress in this by visualizing the validation curve for this particular data and model; this can be done straightforwardly using the ``validation_curve`` convenience routine provided by Scikit-Learn.\n",
    "Given a model, data, parameter name, and a range to explore, this function will automatically compute both the training score and validation score across the range:"
   ]
  },
  {
   "cell_type": "code",
   "execution_count": null,
   "id": "a44e2658",
   "metadata": {},
   "outputs": [],
   "source": [
    "from sklearn.learning_curve import validation_curve\n",
    "degree = np.arange(0, 21)\n",
    "train_score, val_score = validation_curve(PolynomialRegression(), X, y,\n",
    "                                          'polynomialfeatures__degree', degree, cv=7)\n",
    "\n",
    "plt.plot(degree, np.median(train_score, 1), color='blue', label='training score')\n",
    "plt.plot(degree, np.median(val_score, 1), color='red', label='validation score')\n",
    "plt.legend(loc='best')\n",
    "plt.ylim(0, 1)\n",
    "plt.xlabel('degree')\n",
    "plt.ylabel('score');"
   ]
  },
  {
   "cell_type": "markdown",
   "id": "811e8229",
   "metadata": {},
   "source": [
    "This shows precisely the qualitative behavior we expect: the training score is everywhere higher than the validation score; the training score is monotonically improving with increased model complexity; and the validation score reaches a maximum before dropping off as the model becomes over-fit.\n",
    "\n",
    "From the validation curve, we can read-off that the optimal trade-off between bias and variance is found for a third-order polynomial; we can compute and display this fit over the original data as follows:"
   ]
  },
  {
   "cell_type": "code",
   "execution_count": null,
   "id": "be6f6ab6",
   "metadata": {},
   "outputs": [],
   "source": [
    "plt.scatter(X.ravel(), y)\n",
    "lim = plt.axis()\n",
    "y_test = PolynomialRegression(3).fit(X, y).predict(X_test)\n",
    "plt.plot(X_test.ravel(), y_test);\n",
    "plt.axis(lim);"
   ]
  },
  {
   "cell_type": "markdown",
   "id": "506febaf",
   "metadata": {},
   "source": [
    "Notice that finding this optimal model did not actually require us to compute the training score, but examining the relationship between the training score and validation score can give us useful insight into the performance of the model."
   ]
  },
  {
   "cell_type": "markdown",
   "id": "c45e53df",
   "metadata": {},
   "source": [
    "## Learning Curves\n",
    "\n",
    "One important aspect of model complexity is that the optimal model will generally depend on the size of your training data.\n",
    "For example, let's generate a new dataset with a factor of five more points:"
   ]
  },
  {
   "cell_type": "code",
   "execution_count": null,
   "id": "9bc6f084",
   "metadata": {},
   "outputs": [],
   "source": [
    "X2, y2 = make_data(200)\n",
    "plt.scatter(X2.ravel(), y2);"
   ]
  },
  {
   "cell_type": "markdown",
   "id": "5fa7060e",
   "metadata": {},
   "source": [
    "We will duplicate the preceding code to plot the validation curve for this larger dataset; for reference let's over-plot the previous results as well:"
   ]
  },
  {
   "cell_type": "code",
   "execution_count": null,
   "id": "07d5e98b",
   "metadata": {},
   "outputs": [],
   "source": [
    "degree = np.arange(21)\n",
    "train_score2, val_score2 = validation_curve(PolynomialRegression(), X2, y2,\n",
    "                                            'polynomialfeatures__degree', degree, cv=7)\n",
    "\n",
    "plt.plot(degree, np.median(train_score2, 1), color='blue', label='training score')\n",
    "plt.plot(degree, np.median(val_score2, 1), color='red', label='validation score')\n",
    "plt.plot(degree, np.median(train_score, 1), color='blue', alpha=0.3, linestyle='dashed')\n",
    "plt.plot(degree, np.median(val_score, 1), color='red', alpha=0.3, linestyle='dashed')\n",
    "plt.legend(loc='lower center')\n",
    "plt.ylim(0, 1)\n",
    "plt.xlabel('degree')\n",
    "plt.ylabel('score');"
   ]
  },
  {
   "cell_type": "markdown",
   "id": "81208375",
   "metadata": {},
   "source": [
    "The solid lines show the new results, while the fainter dashed lines show the results of the previous smaller dataset.\n",
    "It is clear from the validation curve that the larger dataset can support a much more complicated model: the peak here is probably around a degree of 6, but even a degree-20 model is not seriously over-fitting the data—the validation and training scores remain very close.\n",
    "\n",
    "Thus we see that the behavior of the validation curve has not one but two important inputs: the model complexity and the number of training points.\n",
    "It is often useful to to explore the behavior of the model as a function of the number of training points, which we can do by using increasingly larger subsets of the data to fit our model.\n",
    "A plot of the training/validation score with respect to the size of the training set is known as a *learning curve.*\n",
    "\n",
    "The general behavior we would expect from a learning curve is this:\n",
    "\n",
    "- A model of a given complexity will *overfit* a small dataset: this means the training score will be relatively high, while the validation score will be relatively low.\n",
    "- A model of a given complexity will *underfit* a large dataset: this means that the training score will decrease, but the validation score will increase.\n",
    "- A model will never, except by chance, give a better score to the validation set than the training set: this means the curves should keep getting closer together but never cross.\n",
    "\n",
    "With these features in mind, we would expect a learning curve to look qualitatively like that shown in the following figure:"
   ]
  },
  {
   "cell_type": "markdown",
   "id": "5066022c",
   "metadata": {},
   "source": [
    "![](https://raw.githubusercontent.com/jakevdp/PythonDataScienceHandbook/master/notebooks/figures/05.03-learning-curve.png)\n",
    "[figure source in Appendix](#fig_appendix)"
   ]
  },
  {
   "cell_type": "markdown",
   "id": "e8c0cadb",
   "metadata": {},
   "source": [
    "The notable feature of the learning curve is the convergence to a particular score as the number of training samples grows.\n",
    "In particular, once you have enough points that a particular model has converged, *adding more training data will not help you!*\n",
    "The only way to increase model performance in this case is to use another (often more complex) model."
   ]
  },
  {
   "cell_type": "markdown",
   "id": "344a4cb8",
   "metadata": {},
   "source": [
    "### Learning curves in Scikit-Learn\n",
    "\n",
    "Scikit-Learn offers a convenient utility for computing such learning curves from your models; here we will compute a learning curve for our original dataset with a second-order polynomial model and a ninth-order polynomial:"
   ]
  },
  {
   "cell_type": "code",
   "execution_count": null,
   "id": "94b5c29e",
   "metadata": {},
   "outputs": [],
   "source": [
    "from sklearn.learning_curve import learning_curve\n",
    "\n",
    "fig, ax = plt.subplots(1, 2, figsize=(16, 6))\n",
    "fig.subplots_adjust(left=0.0625, right=0.95, wspace=0.1)\n",
    "\n",
    "for i, degree in enumerate([2, 9]):\n",
    "    N, train_lc, val_lc = learning_curve(PolynomialRegression(degree),\n",
    "                                         X, y, cv=7,\n",
    "                                         train_sizes=np.linspace(0.3, 1, 25))\n",
    "\n",
    "    ax[i].plot(N, np.mean(train_lc, 1), color='blue', label='training score')\n",
    "    ax[i].plot(N, np.mean(val_lc, 1), color='red', label='validation score')\n",
    "    ax[i].hlines(np.mean([train_lc[-1], val_lc[-1]]), N[0], N[-1],\n",
    "                 color='gray', linestyle='dashed')\n",
    "\n",
    "    ax[i].set_ylim(0, 1)\n",
    "    ax[i].set_xlim(N[0], N[-1])\n",
    "    ax[i].set_xlabel('training size')\n",
    "    ax[i].set_ylabel('score')\n",
    "    ax[i].set_title('degree = {0}'.format(degree), size=14)\n",
    "    ax[i].legend(loc='best')"
   ]
  },
  {
   "cell_type": "markdown",
   "id": "5de547ea",
   "metadata": {},
   "source": [
    "This is a valuable diagnostic, because it gives us a visual depiction of how our model responds to increasing training data.\n",
    "In particular, when your learning curve has already converged (i.e., when the training and validation curves are already close to each other) *adding more training data will not significantly improve the fit!*\n",
    "This situation is seen in the left panel, with the learning curve for the degree-2 model.\n",
    "\n",
    "The only way to increase the converged score is to use a different (usually more complicated) model.\n",
    "We see this in the right panel: by moving to a much more complicated model, we increase the score of convergence (indicated by the dashed line), but at the expense of higher model variance (indicated by the difference between the training and validation scores).\n",
    "If we were to add even more data points, the learning curve for the more complicated model would eventually converge.\n",
    "\n",
    "Plotting a learning curve for your particular choice of model and dataset can help you to make this type of decision about how to move forward in improving your analysis."
   ]
  },
  {
   "cell_type": "markdown",
   "id": "d7d2d373",
   "metadata": {},
   "source": [
    "## Validation in Practice: Grid Search\n",
    "\n",
    "The preceding discussion is meant to give you some intuition into the trade-off between bias and variance, and its dependence on model complexity and training set size.\n",
    "In practice, models generally have more than one knob to turn, and thus plots of validation and learning curves change from lines to multi-dimensional surfaces.\n",
    "In these cases, such visualizations are difficult and we would rather simply find the particular model that maximizes the validation score.\n",
    "\n",
    "Scikit-Learn provides automated tools to do this in the grid search module.\n",
    "Here is an example of using grid search to find the optimal polynomial model.\n",
    "We will explore a three-dimensional grid of model features; namely the polynomial degree, the flag telling us whether to fit the intercept, and the flag telling us whether to normalize the problem.\n",
    "This can be set up using Scikit-Learn's ``GridSearchCV`` meta-estimator:"
   ]
  },
  {
   "cell_type": "code",
   "execution_count": null,
   "id": "b2d65f85",
   "metadata": {},
   "outputs": [],
   "source": [
    "from sklearn.grid_search import GridSearchCV\n",
    "\n",
    "param_grid = {'polynomialfeatures__degree': np.arange(21),\n",
    "              'linearregression__fit_intercept': [True, False],\n",
    "              'linearregression__normalize': [True, False]}\n",
    "\n",
    "grid = GridSearchCV(PolynomialRegression(), param_grid, cv=7)"
   ]
  },
  {
   "cell_type": "markdown",
   "id": "bd49e477",
   "metadata": {},
   "source": [
    "Notice that like a normal estimator, this has not yet been applied to any data.\n",
    "Calling the ``fit()`` method will fit the model at each grid point, keeping track of the scores along the way:"
   ]
  },
  {
   "cell_type": "code",
   "execution_count": null,
   "id": "6c441115",
   "metadata": {},
   "outputs": [],
   "source": [
    "grid.fit(X, y);"
   ]
  },
  {
   "cell_type": "markdown",
   "id": "76ee5b47",
   "metadata": {},
   "source": [
    "Now that this is fit, we can ask for the best parameters as follows:"
   ]
  },
  {
   "cell_type": "code",
   "execution_count": null,
   "id": "0a8a6ccb",
   "metadata": {},
   "outputs": [],
   "source": [
    "grid.best_params_"
   ]
  },
  {
   "cell_type": "markdown",
   "id": "ab8af32d",
   "metadata": {},
   "source": [
    "Finally, if we wish, we can use the best model and show the fit to our data using code from before:"
   ]
  },
  {
   "cell_type": "code",
   "execution_count": null,
   "id": "fea65fde",
   "metadata": {},
   "outputs": [],
   "source": [
    "model = grid.best_estimator_\n",
    "\n",
    "plt.scatter(X.ravel(), y)\n",
    "lim = plt.axis()\n",
    "y_test = model.fit(X, y).predict(X_test)\n",
    "plt.plot(X_test.ravel(), y_test, hold=True);\n",
    "plt.axis(lim);"
   ]
  },
  {
   "cell_type": "markdown",
   "id": "37bd4520",
   "metadata": {},
   "source": [
    "The grid search provides many more options, including the ability to specify a custom scoring function, to parallelize the computations, to do randomized searches, and more.\n",
    "For information, see the examples in [In-Depth: Kernel Density Estimation](05.13-Kernel-Density-Estimation.ipynb) and [Feature Engineering: Working with Images](05.14-Image-Features.ipynb), or refer to Scikit-Learn's [grid search documentation](http://Scikit-Learn.org/stable/modules/grid_search.html)."
   ]
  },
  {
   "cell_type": "markdown",
   "id": "8a3267cf",
   "metadata": {},
   "source": [
    "## Summary\n",
    "\n",
    "In this section, we have begun to explore the concept of model validation and hyperparameter optimization, focusing on intuitive aspects of the bias–variance trade-off and how it comes into play when fitting models to data.\n",
    "In particular, we found that the use of a validation set or cross-validation approach is *vital* when tuning parameters in order to avoid over-fitting for more complex/flexible models.\n",
    "\n",
    "In later sections, we will discuss the details of particularly useful models, and throughout will talk about what tuning is available for these models and how these free parameters affect model complexity.\n",
    "Keep the lessons of this section in mind as you read on and learn about these machine learning approaches!"
   ]
  },
  {
   "cell_type": "markdown",
   "id": "5099919a",
   "metadata": {},
   "source": [
    "<!--BOOK_INFORMATION-->\n",
    "<img align=\"left\" style=\"padding-right:10px;\" src=\"https://github.com/jakevdp/PythonDataScienceHandbook/blob/master/notebooks/figures/PDSH-cover-small.png?raw=true\">\n",
    "\n",
    "*Esse notebook contém trechos do [Python Data Science Handbook](http://shop.oreilly.com/product/0636920034919.do) por Jake VanderPlas; o conteúdo está disponível [on GitHub](https://github.com/jakevdp/PythonDataScienceHandbook).*\n",
    "*O texto é publicado sob o [CC-BY-NC-ND license](https://creativecommons.org/licenses/by-nc-nd/3.0/us/legalcode), and code is lançado sob o [MIT license](https://opensource.org/licenses/MIT). Se você achar este conteúdo útil, considere apoiar o trabalho  [comprando o livro](http://shop.oreilly.com/product/0636920034919.do)!*"
   ]
  },
  {
   "cell_type": "markdown",
   "id": "ba5f6cfc",
   "metadata": {},
   "source": [
    "[Voltar ao índice](#index)"
   ]
  }
 ],
 "metadata": {
  "kernelspec": {
   "display_name": "Python 3 (ipykernel)",
   "language": "python",
   "name": "python3"
  },
  "language_info": {
   "codemirror_mode": {
    "name": "ipython",
    "version": 3
   },
   "file_extension": ".py",
   "mimetype": "text/x-python",
   "name": "python",
   "nbconvert_exporter": "python",
   "pygments_lexer": "ipython3",
   "version": "3.9.7"
  }
 },
 "nbformat": 4,
 "nbformat_minor": 5
}
