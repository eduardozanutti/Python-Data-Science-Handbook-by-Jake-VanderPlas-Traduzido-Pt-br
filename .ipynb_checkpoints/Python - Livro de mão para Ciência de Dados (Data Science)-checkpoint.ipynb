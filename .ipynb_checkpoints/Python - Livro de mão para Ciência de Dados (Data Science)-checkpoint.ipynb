{
 "cells": [
  {
   "cell_type": "markdown",
   "id": "885def74",
   "metadata": {},
   "source": [
    "# Python - Livro de mão para Ciência de Dados (Data Science) <a id='home'></a>"
   ]
  },
  {
   "cell_type": "markdown",
   "id": "48535b99",
   "metadata": {},
   "source": [
    "*Jake VanderPlas*\n",
    "\n",
    "![Book Cover](https://github.com/jakevdp/PythonDataScienceHandbook/blob/master/notebooks/figures/PDSH-cover.png?raw=true)"
   ]
  },
  {
   "cell_type": "markdown",
   "id": "5a91e716",
   "metadata": {},
   "source": [
    "Esta é a versão do notebook Jupyter do [Python Data Science Handbook](http://shop.oreilly.com/product/0636920034919.do) por Jake VanderPlas; o conteúdo está disponível [no GitHub](https://github.com/jakevdp/PythonDataScienceHandbook).*\n",
    "O texto é publicado sob o [CC-BY-NC-ND license](https://creativecommons.org/licenses/by-nc-nd/3.0/us/legalcode), e o código é lançado sob o [MIT license](https://opensource.org/licenses/MIT). Se você achar este conteúdo útil, considere apoiar o trabalho [comprando o livro](http://shop.oreilly.com/product/0636920034919.do)!"
   ]
  },
  {
   "cell_type": "markdown",
   "id": "86d28867",
   "metadata": {},
   "source": [
    "## Tabela de conteúdos <a id='index'></a>\n",
    "\n",
    "### [Capa](#home)\n",
    "### [Prefácio](#preface)\n",
    "\n",
    "### [1. IPython: Além do Python normal](#ipython)\n",
    "- [Ajuda e Documentação no IPython](#help_documentation)\n",
    "- [Atalhos de teclado no IPython Shell](#shortcuts)\n",
    "- [Comandos mágicos do IPython](#magic)\n",
    "- [Histórico de Input e Output](#history_in_out)\n",
    "- [Comandos Shell e IPython](#ipython_shell_commmands)\n",
    "- [Erros e Depuração](#erros)\n",
    "- [Código para criar perfis e cronômetrar](#time_profile)\n",
    "- [Mais recursos do IPython](#more_resources)\n",
    "\n",
    "### [2. Introduction to NumPy]\n",
    "- [Understanding Data Types in Python]\n",
    "- [The Basics of NumPy Arrays]\n",
    "- [Computation on NumPy Arrays: Universal Functions]\n",
    "- [Aggregations: Min, Max, and Everything In Between]\n",
    "- [Computation on Arrays: Broadcasting]\n",
    "- [Comparisons, Masks, and Boolean Logic]\n",
    "- [Fancy Indexing]\n",
    "- [Sorting Arrays]\n",
    "- [Structured Data: NumPy's Structured Arrays]\n",
    "\n",
    "### [3. Data Manipulation with Pandas]\n",
    "- [Introducing Pandas Objects]\n",
    "- [Data Indexing and Selection]\n",
    "- [Operating on Data in Pandas]\n",
    "- [Handling Missing Data]\n",
    "- [Hierarchical Indexing]\n",
    "- [Combining Datasets: Concat and Append]\n",
    "- [Combining Datasets: Merge and Join]\n",
    "- [Aggregation and Grouping]\n",
    "- [Pivot Tables]\n",
    "- [Vectorized String Operations]\n",
    "- [Working with Time Series]\n",
    "- [High-Performance Pandas: eval() and query()]\n",
    "- [Further Resources]\n",
    "\n",
    "### [4. Visualization with Matplotlib]\n",
    "- [Simple Line Plots]\n",
    "- [Simple Scatter Plots]\n",
    "- [Visualizing Errors]\n",
    "- [Density and Contour Plots]\n",
    "- [Histograms, Binnings, and Density]\n",
    "- [Customizing Plot Legends]\n",
    "- [Customizing Colorbars]\n",
    "- [Multiple Subplots]\n",
    "- [Text and Annotation]\n",
    "- [Customizing Ticks]\n",
    "- [Customizing Matplotlib: Configurations and Stylesheets]\n",
    "- [Three-Dimensional Plotting in Matplotlib]\n",
    "- [Geographic Data with Basemap]\n",
    "- [Visualization with Seaborn]\n",
    "- [Further Resources]\n",
    "\n",
    "### [5. Machine Learning](#machine_learning)\n",
    "- [What Is Machine Learning?](#whats_ml)\n",
    "- [Introducing Scikit-Learn](#scikit_learn)\n",
    "- [Hyperparameters and Model Validation]\n",
    "- [Feature Engineering]\n",
    "- [In Depth: Naive Bayes Classification]\n",
    "- [In Depth: Linear Regression]\n",
    "- [In-Depth: Support Vector Machines]\n",
    "- [In-Depth: Decision Trees and Random Forests]\n",
    "- [In Depth: Principal Component Analysis]\n",
    "- [In-Depth: Manifold Learning]\n",
    "- [In Depth: k-Means Clustering]\n",
    "- [In Depth: Gaussian Mixture Models]\n",
    "- [In-Depth: Kernel Density Estimation]\n",
    "- [Application: A Face Detection Pipeline]\n",
    "- [Further Machine Learning Resources]\n",
    "\n",
    "### [Appendix: Figure Code]"
   ]
  },
  {
   "cell_type": "markdown",
   "id": "5386f8b4",
   "metadata": {},
   "source": [
    "<!--BOOK_INFORMATION-->\n",
    "<img align=\"left\" style=\"padding-right:10px;\" src=\"https://github.com/jakevdp/PythonDataScienceHandbook/blob/master/notebooks/figures/PDSH-cover-small.png?raw=true\">\n",
    "\n",
    "*Esse notebook contém trechos do [Python Data Science Handbook](http://shop.oreilly.com/product/0636920034919.do) por Jake VanderPlas; o conteúdo está disponível [on GitHub](https://github.com/jakevdp/PythonDataScienceHandbook).*\n",
    "*O texto é publicado sob o [CC-BY-NC-ND license](https://creativecommons.org/licenses/by-nc-nd/3.0/us/legalcode), and code is lançado sob o [MIT license](https://opensource.org/licenses/MIT). Se você achar este conteúdo útil, considere apoiar o trabalho  [comprando o livro](http://shop.oreilly.com/product/0636920034919.do)!*"
   ]
  },
  {
   "cell_type": "markdown",
   "id": "8a941929",
   "metadata": {},
   "source": [
    "# Prefácio <a id='preface'></a>"
   ]
  },
  {
   "cell_type": "markdown",
   "id": "16960fcc",
   "metadata": {},
   "source": [
    "<!--NAVIGATION-->\n",
    "| [Índice](#index) | [IPython: Além do Python normal](#ipython) >\n",
    "\n",
    "<a href=\"https://colab.research.google.com/github/jakevdp/PythonDataScienceHandbook/blob/master/notebooks/00.00-Preface.ipynb\"><img align=\"left\" src=\"https://colab.research.google.com/assets/colab-badge.svg\" alt=\"Open in Colab\" title=\"Open and Execute in Google Colaboratory\"></a>"
   ]
  },
  {
   "cell_type": "markdown",
   "id": "edf2ae27",
   "metadata": {},
   "source": [
    "## O que é Data Science?\n",
    "Este é um livro sobre como fazer ciência de dados com Python, o que imediatamente levanta a questão: o que é ciência de dados? É uma definição surpreendentemente difícil de definir, especialmente considerando o quão onipresente o termo se tornou. Os críticos vocais têm rejeitado o termo de várias maneiras como um rótulo supérfluo (afinal, que ciência não envolve dados?) Ou um chavão simples que só existe para salgar currículos e chamar a atenção de recrutadores de tecnologia excessivamente zelosos.\n",
    "\n",
    "Em minha mente, essas críticas deixam passar algo importante. A ciência de dados, apesar de seu verniz carregado de expectativa, é talvez o melhor rótulo que temos para o conjunto interdisciplinar de habilidades que estão se tornando cada vez mais importantes em muitas aplicações na indústria e na academia. Esta peça interdisciplinar é a chave: em minha opinião, a melhor definição existente de ciência de dados é ilustrada pelo Diagrama de Venn de Ciência de Dados de Drew Conway, publicado pela primeira vez em seu blog em setembro de 2010:"
   ]
  },
  {
   "cell_type": "markdown",
   "id": "53fe71a0",
   "metadata": {},
   "source": [
    "![Data Science Venn Diagram](https://images.squarespace-cdn.com/content/v1/5150aec6e4b0e340ec52710a/1364352051365-HZAS3CLBF7ABLE3F5OBY/Data_Science_VD.png?format=750w)\n",
    "\n",
    "<small>(Source: [Drew Conway](http://drewconway.com/zia/2013/3/26/the-data-science-venn-diagram). Used by permission.)</small>"
   ]
  },
  {
   "cell_type": "markdown",
   "id": "9234d637",
   "metadata": {},
   "source": [
    "Embora alguns dos rótulos de interseção sejam um tanto irônicos, este diagrama captura a essência do que eu acho que as pessoas querem dizer quando dizem \"ciência de dados\": é fundamentalmente um assunto interdisciplinar. A ciência de dados compreende três áreas distintas e sobrepostas: as habilidades de um estatístico que sabe como modelar e resumir conjuntos de dados (que estão cada vez maiores); as habilidades de um cientista da computação que pode projetar e usar algoritmos para armazenar, processar e visualizar esses dados com eficiência; e o domínio da <i>expertise</i> - o que podemos pensar como treinamento \"clássico\" em um assunto - necessária tanto para formular as perguntas certas quanto para colocar suas respostas no contexto.\n",
    "\n",
    "Com isso em mente, eu o encorajaria a pensar em ciência de dados não como um novo domínio de conhecimento a ser aprendido, mas um novo conjunto de habilidades que você pode aplicar em sua área de especialização atual. Esteja você relatando resultados eleitorais, prevendo retornos de ações, otimizando cliques em anúncios online, identificando microorganismos em fotos de microscópio, buscando novas classes de objetos astronômicos ou trabalhando com dados em qualquer outro campo, o objetivo deste livro é fornecer a você a capacidade de pergunte e responda novas perguntas sobre a área de assunto escolhida."
   ]
  },
  {
   "cell_type": "markdown",
   "id": "9524b0da",
   "metadata": {},
   "source": [
    "## Para quem é este livro?\n",
    "\n",
    "Em minhas aulas na Universidade de Washington e em várias conferências e encontros com foco em tecnologia, uma das perguntas mais comuns que ouvi é esta: \"como devo aprender Python?\"\n",
    "As pessoas que perguntam isso são geralmente estudantes, desenvolvedores ou pesquisadores com mentalidade técnica, muitas vezes com uma sólida experiência em escrever códigos e usar ferramentas computacionais e numéricas.\n",
    "A maioria dessas pessoas não querem aprender Python *por si só*, mas querem aprender a linguagem com o objetivo de usá-la como uma ferramenta para uso intensivo de dados e ciência computacional.\n",
    "Embora uma grande colcha de retalhos de vídeos, postagens em blogs e tutoriais para esse público esteja disponível online, há muito tempo fico frustrado com a falta de uma única resposta adequada para essa pergunta; foi isso que inspirou este livro.\n",
    "\n",
    "O livro não pretende ser uma introdução ao Python ou à programação em geral; Presumo que o leitor tenha familiaridade com a linguagem Python, incluindo definição de funções, atribuição de variáveis, chamada de métodos de objetos, controle do fluxo de um programa e outras tarefas básicas.\n",
    "Em vez disso, destina-se a ajudar os usuários de Python a aprender a usar as bibliotecas de pilha de ciência de dados do Python, como IPython, NumPy, Pandas, Matplotlib, Scikit-Learn e ferramentas relacionadas - para armazenar, manipular e obter informações de dados de maneira eficaz."
   ]
  },
  {
   "cell_type": "markdown",
   "id": "b7f0eaa9",
   "metadata": {},
   "source": [
    "## Por que Python?\n",
    "\n",
    "Python surgiu nas últimas décadas como uma ferramenta de primeira classe para tarefas de computação científica, incluindo a análise e visualização de grandes conjuntos de dados.\n",
    "Isso pode ter sido uma surpresa para os criadores da linguagem Python: a linguagem em si não foi projetada especificamente para a análise de dados ou computação científica.\n",
    "A utilidade do Python para a ciência de dados deriva principalmente do grande e ativo ecossistema de pacotes de terceiros: *NumPy* para manipulação de dados homogêneos baseados em array (matrizes), *Pandas* para manipulação de dados heterogêneos e rotulados, *SciPy* para dados científicos comuns tarefas de computação, *Matplotlib* para visualização de dados com qualidade de publicação, *IPython* para execução interativa e compartilhamento de código, *Scikit-Learn* para aprendizado de máquina e muitas outras ferramentas que serão mencionadas nas páginas a seguir.\n",
    "\n",
    "Se você está procurando um guia para a linguagem Python em si, sugiro o projeto irmão deste livro, \"[Um tour rápido pela linguagem Python](https://jakevdp.github.io/WhirlwindTourOfPython)\".\n",
    "Este breve relatório fornece um tour pelos recursos essenciais da linguagem Python, voltado para cientistas de dados que já estão familiarizados com uma ou mais outras linguagens de programação."
   ]
  },
  {
   "cell_type": "markdown",
   "id": "aef633aa",
   "metadata": {},
   "source": [
    "### Python 2 vs Python 3\n",
    "\n",
    "Este livro usa a sintaxe do Python 3, que contém aprimoramentos de linguagem que não são compatíveis com a série 2.x do Python.\n",
    "Embora o Python 3.0 tenha sido lançado pela primeira vez em 2008, a adoção tem sido relativamente lenta, particularmente nas comunidades científica e de desenvolvimento da web.\n",
    "Isso ocorre principalmente porque levou algum tempo para que muitos dos pacotes e kits de ferramentas essenciais de terceiros se tornassem compatíveis com as novas linguagens internas.\n",
    "Desde o início de 2014, no entanto, as versões estáveis das ferramentas mais importantes no ecossistema de ciência de dados são totalmente compatíveis com Python 2 e 3 e, portanto, este livro usará a sintaxe Python 3 mais recente.\n",
    "No entanto, a grande maioria dos fragmentos de código neste livro também funcionará sem modificação no Python 2: nos casos em que uma sintaxe incompatível com Py2 for usada, farei todo o possível para observá-la explicitamente."
   ]
  },
  {
   "cell_type": "markdown",
   "id": "14496d2d",
   "metadata": {},
   "source": [
    "## Esboço do livro\n",
    "\n",
    "Cada capítulo deste livro enfoca um pacote ou ferramenta particular que contribui com uma parte fundamental da história do Python Data Science.\n",
    "\n",
    "1. IPython e Jupyter: esses pacotes fornecem o ambiente computacional no qual trabalham muitos cientistas de dados que usam Python.\n",
    "2. NumPy: esta biblioteca fornece o `` ndarray`` para armazenamento e manipulação eficientes de matrizes de dados densos em Python.\n",
    "3. Pandas: esta biblioteca fornece o `` DataFrame`` para armazenamento e manipulação eficientes de dados rotulados / colunares em Python.\n",
    "4. Matplotlib: esta biblioteca fornece recursos para uma gama flexível de visualizações de dados em Python.\n",
    "5. Scikit-Learn: esta biblioteca fornece implementações Python eficientes e limpas dos algoritmos de aprendizado de máquina mais importantes e estabelecidos.\n",
    "\n",
    "O mundo PyData é certamente muito maior do que esses cinco pacotes e está crescendo a cada dia.\n",
    "Com isso em mente, faço todas as tentativas dessas páginas para fornecer referências a outros esforços, projetos e pacotes interessantes que estão ultrapassando os limites do que pode ser feito em Python.\n",
    "No entanto, esses cinco são atualmente fundamentais para grande parte do trabalho que está sendo feito no espaço da ciência de dados Python, e espero que continuem importantes mesmo que o ecossistema continue crescendo ao seu redor."
   ]
  },
  {
   "cell_type": "markdown",
   "id": "9cf8f8f4",
   "metadata": {},
   "source": [
    "## Usando exemplos de código\n",
    "\n",
    "O material complementar (exemplos de código, figuras, etc.) está disponível para download em http://github.com/jakevdp/PythonDataScienceHandbook/. Este livro está aqui para ajudá-lo a realizar seu trabalho. Em geral, se o código de exemplo é oferecido com este livro, você pode usá-lo em seus programas e documentação. Você não precisa entrar em contato conosco para obter permissão, a menos que esteja reproduzindo uma parte significativa do código. Por exemplo, escrever um programa que usa vários pedaços de código deste livro não requer permissão. Vender ou distribuir um CD-ROM de exemplos de livros O’Reilly requer permissão. Responder a uma pergunta citando este livro e citando um código de exemplo não requer permissão. Incorporar uma quantidade significativa de código de exemplo deste livro na documentação do seu produto requer permissão.\n",
    "\n",
    "Agradecemos, mas não exigimos atribuição. Uma atribuição geralmente inclui o título, autor, editora e ISBN. Por exemplo:\n",
    "\n",
    "> *The Python Data Science Handbook* por Jake VanderPlas (O’Reilly). Copyright 2016 Jake VanderPlas, 978-1-491-91205-8.\n",
    "\n",
    "Se você acha que o uso de exemplos de código está fora do uso justo ou da permissão fornecida acima, sinta-se à vontade para nos contatar em permissions@oreilly.com."
   ]
  },
  {
   "cell_type": "code",
   "execution_count": null,
   "id": "28f68434",
   "metadata": {},
   "outputs": [],
   "source": []
  },
  {
   "cell_type": "markdown",
   "id": "c5d37860",
   "metadata": {},
   "source": [
    "# 1. IPython: além do Python normal <a id='ipython'></a>"
   ]
  },
  {
   "cell_type": "markdown",
   "id": "fabb34af",
   "metadata": {},
   "source": [
    "<!--NAVIGATION-->\n",
    "< [Prefácio](#preface) | [Índice](#index) | [Ajuda e Documentação do IPhyton](#help_documentation) >\n",
    "\n",
    "<a href=\"https://colab.research.google.com/github/jakevdp/PythonDataScienceHandbook/blob/master/notebooks/01.00-IPython-Beyond-Normal-Python.ipynb\"><img align=\"left\" src=\"https://colab.research.google.com/assets/colab-badge.svg\" alt=\"Open in Colab\" title=\"Open and Execute in Google Colaboratory\"></a>\n"
   ]
  },
  {
   "cell_type": "markdown",
   "id": "ab9abcf4",
   "metadata": {},
   "source": [
    "Existem muitas opções para ambientes de desenvolvimento para Python, e muitas vezes me perguntam qual eu uso em meu próprio trabalho.\n",
    "Minha resposta às vezes surpreende as pessoas: meu ambiente preferido é [IPython](http://ipython.org/) e mais um editor de texto (no meu caso, Emacs ou Atom dependendo do meu humor).\n",
    "IPython (abreviação de *Interactive Python*) foi iniciado em 2001 por Fernando Perez como um interpretador Python aprimorado e, desde então, se tornou um projeto com o objetivo de fornecer, nas palavras de Perez, \"Ferramentas para todo o ciclo de vida da computação de pesquisa.\"\n",
    "Se Python é o motor de nossa tarefa de ciência de dados, você pode pensar em IPython como o painel de controle interativo.\n",
    "\n",
    "Além de ser uma interface interativa útil para Python, o IPython também fornece uma série de adições sintáticas úteis para a linguagem; vamos cobrir as mais úteis dessas adições aqui.\n",
    "Além disso, o IPython está intimamente ligado ao [projeto Jupyter](http://jupyter.org), que fornece um bloco de notas baseado em navegador que é útil para desenvolvimento, colaboração, compartilhamento e até publicação de resultados de ciência de dados.\n",
    "O bloco de notas IPython é na verdade um caso especial da estrutura de bloco de notas Jupyter (*Jupyter Notebook*) mais ampla, que abrange blocos de notas para Julia, R e outras linguagens de programação.\n",
    "Como exemplo da utilidade do formato de *notebook*, basta olhar para a página que você está lendo: todo o manuscrito deste livro foi composto como um conjunto de blocos de notas IPython.\n",
    "\n",
    "IPython é sobre como usar Python efetivamente para computação científica interativa e com uso intensivo de dados.\n",
    "Este capítulo começará percorrendo alguns dos recursos do IPython que são úteis para a prática da ciência de dados, focando especialmente na sintaxe que oferece além dos recursos padrão do Python.\n",
    "A seguir, vamos nos aprofundar um pouco mais em alguns dos \"comandos mágicos\" (*Magic Tools*) mais úteis que podem acelerar tarefas comuns na criação e no uso de código de ciência de dados.\n",
    "Por fim, abordaremos alguns dos recursos do bloco de notas que o tornam útil na compreensão de dados e no compartilhamento de resultados."
   ]
  },
  {
   "cell_type": "markdown",
   "id": "6b88c678",
   "metadata": {},
   "source": [
    "## Shell ou Notebook?\n",
    "\n",
    "Existem dois meios principais de usar IPython que discutiremos neste capítulo: o IPython shell e o IPython notebook.\n",
    "A maior parte do material neste capítulo é relevante para ambos, e os exemplos irão alternar entre eles dependendo do que for mais conveniente.\n",
    "Nas poucas seções que são relevantes apenas para um ou outro, declararemos explicitamente esse fato.\n",
    "Antes de começar, algumas palavras sobre como iniciar o IPython shell e o IPython notebook."
   ]
  },
  {
   "cell_type": "markdown",
   "id": "03d66e6f",
   "metadata": {},
   "source": [
    "### Lançando o IPython Shell\n",
    "\n",
    "Este capítulo, como a maior parte deste livro, não foi projetado para ser absorvido passivamente.\n",
    "Recomendo que, ao lê-lo, você acompanhe e experimente as ferramentas e a sintaxe que abordamos: a memória muscular que você constrói ao fazer isso será muito mais útil do que o simples ato de ler sobre ela.\n",
    "Comece iniciando o interpretador IPython digitando **``ipython``** na linha de comando; alternativamente, se você instalou uma distribuição como Anaconda ou EPD, pode haver um inicializador específico para seu sistema (discutiremos isso mais detalhadamente em [Ajuda e documentação em IPython](#help_documentation)\n",
    "\n",
    "Depois de fazer isso, você verá um prompt como o seguinte:\n",
    "```ipython\n",
    "IPython 4.0.1 - Um Python interativo aprimorado.\n",
    "? -> Introdução e visão geral dos recursos do IPython.\n",
    "% quickref -> Referência rápida.\n",
    "help -> O próprio sistema de ajuda do Python.\n",
    "object? -> Detalhes sobre 'objeto', use 'objeto ??' para detalhes extras.\n",
    "In [1]:\n",
    "```\n",
    "<p>\n",
    "Com isso, você está pronto para seguir em frente."
   ]
  },
  {
   "cell_type": "markdown",
   "id": "b864eca4",
   "metadata": {},
   "source": [
    "### Lançando o Jupyter Notebook\n",
    "\n",
    "O notebook Jupyter é uma interface gráfica baseada em navegador para o IPython shell e se baseia em um rico conjunto de recursos de exibição dinâmica.\n",
    "Além de executar instruções Python / IPython, o notebook permite ao usuário incluir texto formatado, visualizações estáticas e dinâmicas, equações matemáticas, widgets JavaScript e muito mais.\n",
    "Além disso, esses documentos podem ser salvos de forma que outras pessoas os abram e executem o código em seus próprios sistemas.\n",
    "\n",
    "Embora o bloco de notas IPython seja visualizado e editado por meio da janela do navegador da web, ele deve se conectar a um processo Python em execução para executar o código.\n",
    "Esse processo (conhecido como \"kernel\") pode ser iniciado executando o seguinte comando no shell do sistema:\n",
    "\n",
    "```ipython\n",
    "$ jupyter notebook\n",
    "```\n",
    "\n",
    "Este comando irá lançar um servidor web local que ficará visível para o seu navegador.\n",
    "Ele imediatamente cospe um registro mostrando o que está fazendo; esse registro será semelhante a este:\n",
    "\n",
    "```ipython\n",
    "$ jupyter notebook\n",
    "[NotebookApp] Serving notebooks from local directory: /Users/jakevdp/PythonDataScienceHandbook\n",
    "[NotebookApp] 0 active kernels\n",
    "[NotebookApp] The IPython Notebook is running at: http://localhost:8888/\n",
    "[NotebookApp] Use Control-C to stop this server and shut down all kernels (twice to skip confirmation).\n",
    "```\n",
    "\n",
    "Ao emitir o comando, seu navegador padrão deve abrir automaticamente e navegar para o URL local listado;\n",
    "o endereço exato dependerá do seu sistema.\n",
    "Se o navegador não abrir automaticamente, você pode abrir uma janela e abrir manualmente este endereço (*http://localhost:8888/* neste exemplo)."
   ]
  },
  {
   "cell_type": "markdown",
   "id": "4507d103",
   "metadata": {},
   "source": [
    "<!--BOOK_INFORMATION-->\n",
    "<img align=\"left\" style=\"padding-right:10px;\" src=\"https://github.com/jakevdp/PythonDataScienceHandbook/blob/master/notebooks/figures/PDSH-cover-small.png?raw=true\">\n",
    "\n",
    "*Esse notebook contém trechos do [Python Data Science Handbook](http://shop.oreilly.com/product/0636920034919.do) por Jake VanderPlas; o conteúdo está disponível [on GitHub](https://github.com/jakevdp/PythonDataScienceHandbook).*\n",
    "*O texto é publicado sob o [CC-BY-NC-ND license](https://creativecommons.org/licenses/by-nc-nd/3.0/us/legalcode), and code is lançado sob o [MIT license](https://opensource.org/licenses/MIT). Se você achar este conteúdo útil, considere apoiar o trabalho  [comprando o livro](http://shop.oreilly.com/product/0636920034919.do)!*"
   ]
  },
  {
   "cell_type": "markdown",
   "id": "4c8b43ae",
   "metadata": {},
   "source": [
    "## 1.1 Ajuda e documentação no IPython <a id='help_documentation'></a>"
   ]
  },
  {
   "cell_type": "markdown",
   "id": "7c622e22",
   "metadata": {},
   "source": [
    "<!--NAVIGATION-->\n",
    "< [IPython: Além do Python Normal](#ipython) | [Índice](#index) | [Atalhos de teclado no IPython Shell](#shortcuts) >\n",
    "\n",
    "<a href=\"https://colab.research.google.com/github/jakevdp/PythonDataScienceHandbook/blob/master/notebooks/01.01-Help-And-Documentation.ipynb\"><img align=\"left\" src=\"https://colab.research.google.com/assets/colab-badge.svg\" alt=\"Open in Colab\" title=\"Open and Execute in Google Colaboratory\"></a>"
   ]
  },
  {
   "cell_type": "markdown",
   "id": "1c8bb87b",
   "metadata": {},
   "source": [
    "Se você não leu nenhuma outra seção neste capítulo, leia esta: Acho que as ferramentas discutidas aqui são as contribuições mais transformadoras do IPython para meu fluxo de trabalho diário.\n",
    "\n",
    "Quando uma pessoa com mentalidade tecnológica é solicitada a ajudar um amigo, parente ou colega com um problema de computador, na maioria das vezes é menos uma questão de saber a resposta do que de saber como encontrar rapidamente uma resposta desconhecida.\n",
    "Na ciência de dados é o mesmo: recursos pesquisáveis ​​da web, como documentação online, tópicos de listas de discussão e respostas StackOverflow contêm uma riqueza de informações, mesmo (especialmente?) Se for um tópico que você já pesquisou antes.\n",
    "Ser um praticante eficaz da ciência de dados é menos sobre memorizar a ferramenta ou comando que você deve usar para todas as situações possíveis, e mais sobre aprender a encontrar efetivamente as informações que você não conhece, seja por meio de um mecanismo de pesquisa na web ou outro meio.\n",
    "\n",
    "Uma das funções mais úteis do IPython / Jupyter é reduzir a lacuna entre o usuário e o tipo de documentação e pesquisa que o ajudará a fazer seu trabalho com eficácia.\n",
    "Embora as pesquisas na web ainda desempenhem um papel na resposta a perguntas complicadas, uma quantidade incrível de informações pode ser encontrada apenas por meio do IPython.\n",
    "Alguns exemplos das perguntas que o IPython pode ajudar a responder com apenas alguns toques de tecla:\n",
    "\n",
    "- Como faço para chamar essa função? Que argumentos e opções ele tem?\n",
    "- Qual é a aparência do código-fonte deste objeto Python?\n",
    "- O que tem nesse pacote que importei? Quais atributos ou métodos este objeto possui?\n",
    "\n",
    "Aqui, discutiremos as ferramentas do IPython para acessar rapidamente essas informações, nomeadamente o caractere ``? `` Para explorar a documentação, os caracteres `` ?? `` para explorar o código-fonte e a tecla Tab para autocompletar."
   ]
  },
  {
   "cell_type": "markdown",
   "id": "2d9ab97c",
   "metadata": {},
   "source": [
    "## Acessando a documentação com ``? ``\n",
    "\n",
    "A linguagem Python e seu ecossistema de ciência de dados são construídos com o usuário em mente, e uma grande parte disso é o acesso à documentação.\n",
    "Cada objeto Python contém a referência a uma string, conhecida como * doc string *, que na maioria dos casos conterá um resumo conciso do objeto e como usá-lo.\n",
    "Python tem uma função `` help () `` embutida que pode acessar essas informações e imprimir os resultados.\n",
    "Por exemplo, para ver a documentação da função incorporada `` len``, você pode fazer o seguinte:\n",
    "\n",
    "```ipython\n",
    "In [1]: help(len)\n",
    "Help on built-in function len in module builtins:\n",
    "\n",
    "len(...)\n",
    "    len(object) -> integer\n",
    "    \n",
    "    Return the number of items of a sequence or mapping.\n",
    "```\n",
    "Dependendo do seu intérprete, essas informações podem ser exibidas como texto embutido ou em alguma janela pop-up separada."
   ]
  },
  {
   "cell_type": "markdown",
   "id": "4611c97c",
   "metadata": {},
   "source": [
    "**Insira seu código abaixo:**"
   ]
  },
  {
   "cell_type": "code",
   "execution_count": null,
   "id": "67c4fc93",
   "metadata": {},
   "outputs": [],
   "source": []
  },
  {
   "cell_type": "code",
   "execution_count": null,
   "id": "19f2eec7",
   "metadata": {},
   "outputs": [],
   "source": []
  },
  {
   "cell_type": "code",
   "execution_count": null,
   "id": "8ce98980",
   "metadata": {},
   "outputs": [],
   "source": []
  },
  {
   "cell_type": "code",
   "execution_count": null,
   "id": "c77cab0f",
   "metadata": {},
   "outputs": [],
   "source": []
  },
  {
   "cell_type": "code",
   "execution_count": null,
   "id": "129ccbf4",
   "metadata": {},
   "outputs": [],
   "source": []
  },
  {
   "cell_type": "markdown",
   "id": "ef34d0f6",
   "metadata": {},
   "source": [
    "Como encontrar ajuda em um objeto é tão comum e útil, o IPython apresenta o caractere ``? `` Como um atalho para acessar esta documentação e outras informações relevantes:\n",
    "\n",
    "```ipython\n",
    "In [2]: len?\n",
    "Type:        builtin_function_or_method\n",
    "String form: <built-in function len>\n",
    "Namespace:   Python builtin\n",
    "Docstring:\n",
    "len(object) -> integer\n",
    "\n",
    "Return the number of items of a sequence or mapping.\n",
    "```"
   ]
  },
  {
   "cell_type": "markdown",
   "id": "7140dfd7",
   "metadata": {},
   "source": [
    "**Insira seu código abaixo:**"
   ]
  },
  {
   "cell_type": "code",
   "execution_count": null,
   "id": "591d6120",
   "metadata": {},
   "outputs": [],
   "source": []
  },
  {
   "cell_type": "code",
   "execution_count": null,
   "id": "3c42c239",
   "metadata": {},
   "outputs": [],
   "source": []
  },
  {
   "cell_type": "code",
   "execution_count": null,
   "id": "07d7ce69",
   "metadata": {},
   "outputs": [],
   "source": []
  },
  {
   "cell_type": "code",
   "execution_count": null,
   "id": "6746bce7",
   "metadata": {},
   "outputs": [],
   "source": []
  },
  {
   "cell_type": "code",
   "execution_count": null,
   "id": "ce8d82c1",
   "metadata": {},
   "outputs": [],
   "source": []
  },
  {
   "cell_type": "markdown",
   "id": "4633a0de",
   "metadata": {},
   "source": [
    "Essa notação funciona para quase tudo, incluindo métodos de objeto:\n",
    "\n",
    "```ipython\n",
    "In [3]: L = [1, 2, 3]\n",
    "In [4]: L.insert?\n",
    "Type:        builtin_function_or_method\n",
    "String form: <built-in method insert of list object at 0x1024b8ea8>\n",
    "Docstring:   L.insert(index, object) -- insert object before index\n",
    "```\n",
    "\n",
    "ou ainda os próprios objetos, com a documentação de seu tipo:\n",
    "\n",
    "```ipython\n",
    "In [5]: L?\n",
    "Type:        list\n",
    "String form: [1, 2, 3]\n",
    "Length:      3\n",
    "Docstring:\n",
    "list() -> new empty list\n",
    "list(iterable) -> new list initialized from iterable's items\n",
    "```"
   ]
  },
  {
   "cell_type": "markdown",
   "id": "6c1c7278",
   "metadata": {},
   "source": [
    "**Insira seu código abaixo:**"
   ]
  },
  {
   "cell_type": "code",
   "execution_count": null,
   "id": "4eccef94",
   "metadata": {},
   "outputs": [],
   "source": []
  },
  {
   "cell_type": "code",
   "execution_count": null,
   "id": "28a584fe",
   "metadata": {},
   "outputs": [],
   "source": []
  },
  {
   "cell_type": "code",
   "execution_count": null,
   "id": "dc1cf4b3",
   "metadata": {},
   "outputs": [],
   "source": []
  },
  {
   "cell_type": "code",
   "execution_count": null,
   "id": "94e673da",
   "metadata": {},
   "outputs": [],
   "source": []
  },
  {
   "cell_type": "code",
   "execution_count": null,
   "id": "33b30da5",
   "metadata": {},
   "outputs": [],
   "source": []
  },
  {
   "cell_type": "markdown",
   "id": "3a543d6c",
   "metadata": {},
   "source": [
    "É importante ressaltar que isso funcionará até mesmo para funções ou outros objetos que você mesmo criar! Aqui definiremos uma pequena função com uma docstring:\n",
    "\n",
    "```ipython\n",
    "In [6]: def square(a):\n",
    "  ....:     \"\"\"Return the square of a.\"\"\"\n",
    "  ....:     return a ** 2\n",
    "  ....:\n",
    "```\n",
    "Observe que, para criar uma docstring para nossa função, simplesmente colocamos uma string literal na primeira linha. Como as strings de doc geralmente têm várias linhas, por convenção usamos a notação de aspas triplas do Python para strings de várias linhas."
   ]
  },
  {
   "cell_type": "markdown",
   "id": "6961c370",
   "metadata": {},
   "source": [
    "**Insira seu código abaixo:**"
   ]
  },
  {
   "cell_type": "code",
   "execution_count": null,
   "id": "3039ec7c",
   "metadata": {},
   "outputs": [],
   "source": []
  },
  {
   "cell_type": "code",
   "execution_count": null,
   "id": "7c16c37f",
   "metadata": {},
   "outputs": [],
   "source": []
  },
  {
   "cell_type": "code",
   "execution_count": null,
   "id": "313f8261",
   "metadata": {},
   "outputs": [],
   "source": []
  },
  {
   "cell_type": "code",
   "execution_count": null,
   "id": "4901b300",
   "metadata": {},
   "outputs": [],
   "source": []
  },
  {
   "cell_type": "code",
   "execution_count": null,
   "id": "68a3c616",
   "metadata": {},
   "outputs": [],
   "source": []
  },
  {
   "cell_type": "markdown",
   "id": "7c2b9ee5",
   "metadata": {},
   "source": [
    "Agora usaremos a marca ``? `` Para encontrar esta string doc:\n",
    "\n",
    "```ipython\n",
    "In [7]: square?\n",
    "Type:        function\n",
    "String form: <function square at 0x103713cb0>\n",
    "Definition:  square(a)\n",
    "Docstring:   Return the square of a.\n",
    "```\n",
    "\n",
    "Este acesso rápido à documentação por meio de docstrings é uma razão pela qual você deve adquirir o hábito de sempre adicionar tal documentação embutida ao código que você escreve!"
   ]
  },
  {
   "cell_type": "markdown",
   "id": "01a067da",
   "metadata": {},
   "source": [
    "**Insira seu código abaixo:**"
   ]
  },
  {
   "cell_type": "code",
   "execution_count": null,
   "id": "d80621b2",
   "metadata": {},
   "outputs": [],
   "source": []
  },
  {
   "cell_type": "code",
   "execution_count": null,
   "id": "1d3a6d0e",
   "metadata": {},
   "outputs": [],
   "source": []
  },
  {
   "cell_type": "code",
   "execution_count": null,
   "id": "e8f9f092",
   "metadata": {},
   "outputs": [],
   "source": []
  },
  {
   "cell_type": "code",
   "execution_count": null,
   "id": "668a7ba1",
   "metadata": {},
   "outputs": [],
   "source": []
  },
  {
   "cell_type": "code",
   "execution_count": null,
   "id": "1fc8599d",
   "metadata": {},
   "outputs": [],
   "source": []
  },
  {
   "cell_type": "markdown",
   "id": "e9725e48",
   "metadata": {},
   "source": [
    "## Acessando o código-fonte com `` ?? `` \n",
    "Como a linguagem Python é facilmente legível, outro nível de percepção geralmente pode ser obtido lendo o código-fonte do objeto sobre o qual você está curioso. IPython fornece um atalho para o código-fonte com o ponto de interrogação duplo (``??``):\n",
    "\n",
    "```ipython\n",
    "In [8]: square??\n",
    "Type:        function\n",
    "String form: <function square at 0x103713cb0>\n",
    "Definition:  square(a)\n",
    "Source:\n",
    "def square(a):\n",
    "    \"Return the square of a\"\n",
    "    return a ** 2\n",
    "```\n",
    "\n",
    "Para funções simples como essa, o ponto de interrogação duplo pode fornecer uma visão rápida dos detalhes sob o capô."
   ]
  },
  {
   "cell_type": "markdown",
   "id": "98717afe",
   "metadata": {},
   "source": [
    "**Insira seu código abaixo:**"
   ]
  },
  {
   "cell_type": "code",
   "execution_count": null,
   "id": "1cab26fc",
   "metadata": {},
   "outputs": [],
   "source": []
  },
  {
   "cell_type": "code",
   "execution_count": null,
   "id": "30ad6cdd",
   "metadata": {},
   "outputs": [],
   "source": []
  },
  {
   "cell_type": "code",
   "execution_count": null,
   "id": "8521b7f2",
   "metadata": {},
   "outputs": [],
   "source": []
  },
  {
   "cell_type": "code",
   "execution_count": null,
   "id": "9172306b",
   "metadata": {},
   "outputs": [],
   "source": []
  },
  {
   "cell_type": "code",
   "execution_count": null,
   "id": "9443d6a1",
   "metadata": {},
   "outputs": [],
   "source": []
  },
  {
   "cell_type": "markdown",
   "id": "b6506c5f",
   "metadata": {},
   "source": [
    "Se você brincar com isso, você notará que às vezes o sufixo `` ?? `` não exibe nenhum código-fonte: isso geralmente ocorre porque o objeto em questão não é implementado em Python, mas em C ou algum outro compilado linguagem de extensão. Se for este o caso, o sufixo `` ?? `` dá a mesma saída que o sufixo ``? ``. Você encontrará isso particularmente com muitos dos objetos e tipos integrados do Python, por exemplo, `` len`` acima:\n",
    "\n",
    "\n",
    "```ipython\n",
    "In [9]: len??\n",
    "Type:        builtin_function_or_method\n",
    "String form: <built-in function len>\n",
    "Namespace:   Python builtin\n",
    "Docstring:\n",
    "len(object) -> integer\n",
    "\n",
    "Return the number of items of a sequence or mapping.\n",
    "```\n",
    "\n",
    "Usar ``? `` E / ou `` ?? `` fornece uma interface poderosa e rápida para encontrar informações sobre o que qualquer função ou módulo Python faz."
   ]
  },
  {
   "cell_type": "markdown",
   "id": "df15b2b1",
   "metadata": {},
   "source": [
    "**Insira seu código abaixo:**"
   ]
  },
  {
   "cell_type": "code",
   "execution_count": null,
   "id": "b218aeaa",
   "metadata": {},
   "outputs": [],
   "source": []
  },
  {
   "cell_type": "code",
   "execution_count": null,
   "id": "3054cc2d",
   "metadata": {},
   "outputs": [],
   "source": []
  },
  {
   "cell_type": "code",
   "execution_count": null,
   "id": "82b1335f",
   "metadata": {},
   "outputs": [],
   "source": []
  },
  {
   "cell_type": "code",
   "execution_count": null,
   "id": "8fa236ac",
   "metadata": {},
   "outputs": [],
   "source": []
  },
  {
   "cell_type": "code",
   "execution_count": null,
   "id": "ed9b8ad1",
   "metadata": {},
   "outputs": [],
   "source": []
  },
  {
   "cell_type": "markdown",
   "id": "952f3c21",
   "metadata": {},
   "source": [
    "## Explorando Módulos com Completamento de Aba \n",
    "A outra interface útil do IPython é o uso da tecla tab para autocompletar e explorar o conteúdo de objetos, módulos e espaços de nomes. Nos exemplos a seguir, usaremos `` <TAB> `` para indicar quando a tecla Tab deve ser pressionada."
   ]
  },
  {
   "cell_type": "markdown",
   "id": "87112b58",
   "metadata": {},
   "source": [
    "### Preenchimento do conteúdo do objeto com tabulação\n",
    "\n",
    "Cada objeto Python possui vários atributos e métodos associados a ele. Como com a função `` help`` discutida antes, Python tem uma função `` dir`` embutida que retorna uma lista delas, mas a interface de preenchimento de tabulação é muito mais fácil de usar na prática. Para ver uma lista de todos os atributos disponíveis de um objeto, você pode digitar o nome do objeto seguido por um ponto (\"``.``\") e a tecla Tab:\n",
    "\n",
    "\n",
    "```ipython\n",
    "In [10]: L.<TAB>\n",
    "L.append   L.copy     L.extend   L.insert   L.remove   L.sort     \n",
    "L.clear    L.count    L.index    L.pop      L.reverse  \n",
    "```\n",
    "\n",
    "Para restringir a lista, você pode digitar o primeiro caractere ou vários caracteres do nome e a tecla Tab encontrará os atributos e métodos correspondentes:\n",
    "\n",
    "\n",
    "```ipython\n",
    "In [10]: L.c<TAB>\n",
    "L.clear  L.copy   L.count  \n",
    "\n",
    "In [10]: L.co<TAB>\n",
    "L.copy   L.count \n",
    "```\n",
    "\n",
    "Se houver apenas uma opção, pressione a tecla Tab para completar a linha para você. Por exemplo, o seguinte será instantaneamente substituído por `` L.count``:\n",
    "\n",
    "```ipython\n",
    "In [10]: L.cou<TAB>\n",
    "\n",
    "```\n",
    "\n",
    "Embora o Python não tenha uma distinção estritamente imposta entre atributos públicos / externos e atributos privados / internos, por convenção, um sublinhado anterior é usado para denotar tais métodos. Para maior clareza, esses métodos privados e métodos especiais são omitidos da lista por padrão, mas é possível listá-los digitando explicitamente o sublinhado:\n",
    "\n",
    "```ipython\n",
    "In [10]: L._<TAB>\n",
    "L.__add__           L.__gt__            L.__reduce__\n",
    "L.__class__         L.__hash__          L.__reduce_ex__\n",
    "```\n",
    "\n",
    "Para resumir, mostramos apenas as primeiras linhas da saída. A maioria deles são métodos especiais de sublinhado duplo do Python (freqüentemente apelidados de métodos \"dunder\")."
   ]
  },
  {
   "cell_type": "markdown",
   "id": "55db97c7",
   "metadata": {},
   "source": [
    "**Insira seu código abaixo:**"
   ]
  },
  {
   "cell_type": "code",
   "execution_count": null,
   "id": "1caed0ee",
   "metadata": {},
   "outputs": [],
   "source": []
  },
  {
   "cell_type": "code",
   "execution_count": null,
   "id": "6e58e691",
   "metadata": {},
   "outputs": [],
   "source": []
  },
  {
   "cell_type": "code",
   "execution_count": null,
   "id": "05be041d",
   "metadata": {},
   "outputs": [],
   "source": []
  },
  {
   "cell_type": "code",
   "execution_count": null,
   "id": "2f7aa3e9",
   "metadata": {},
   "outputs": [],
   "source": []
  },
  {
   "cell_type": "code",
   "execution_count": null,
   "id": "1ed637c0",
   "metadata": {},
   "outputs": [],
   "source": []
  },
  {
   "cell_type": "markdown",
   "id": "cb8b04d5",
   "metadata": {},
   "source": [
    "### Preenchimento de tabulação quando importar\n",
    "\n",
    "O preenchimento de tabulação também é útil ao importar objetos de pacotes. Aqui, vamos usá-lo para encontrar todas as importações possíveis no pacote `` itertools`` que começam com `` co``:\n",
    "```\n",
    "In [10]: from itertools import co<TAB>\n",
    "combinations                   compress\n",
    "combinations_with_replacement  count\n",
    "```\n",
    "Da mesma forma, você pode usar o preenchimento com tab para ver quais importações estão disponíveis em seu sistema (isso mudará dependendo de quais scripts e módulos de terceiros estão visíveis para sua sessão Python):\n",
    "```\n",
    "In [10]: import <TAB>\n",
    "Display all 399 possibilities? (y or n)\n",
    "Crypto              dis                 py_compile\n",
    "Cython              distutils           pyclbr\n",
    "...                 ...                 ...\n",
    "difflib             pwd                 zmq\n",
    "\n",
    "In [10]: import h<TAB>\n",
    "hashlib             hmac                http         \n",
    "heapq               html                husl         \n",
    "```\n",
    "(Observe que, para resumir, não imprimi aqui todos os 399 pacotes e módulos importáveis ​​em meu sistema.)"
   ]
  },
  {
   "cell_type": "markdown",
   "id": "f6167147",
   "metadata": {},
   "source": [
    "**Insira seu código abaixo:**"
   ]
  },
  {
   "cell_type": "code",
   "execution_count": null,
   "id": "2afcaaa9",
   "metadata": {},
   "outputs": [],
   "source": []
  },
  {
   "cell_type": "code",
   "execution_count": null,
   "id": "23c0f1ee",
   "metadata": {},
   "outputs": [],
   "source": []
  },
  {
   "cell_type": "code",
   "execution_count": null,
   "id": "4c4f09d8",
   "metadata": {},
   "outputs": [],
   "source": []
  },
  {
   "cell_type": "code",
   "execution_count": null,
   "id": "5fed6f3b",
   "metadata": {},
   "outputs": [],
   "source": []
  },
  {
   "cell_type": "code",
   "execution_count": null,
   "id": "2d359e4c",
   "metadata": {},
   "outputs": [],
   "source": []
  },
  {
   "cell_type": "markdown",
   "id": "a30217be",
   "metadata": {},
   "source": [
    "### Além do preenchimento da guia: correspondência de curinga\n",
    "\n",
    "O preenchimento com tabulação é útil se você conhece os primeiros caracteres do objeto ou atributo que está procurando, mas não ajuda muito se desejar combinar caracteres no meio ou no final da palavra. Para este caso de uso, o IPython fornece um meio de correspondência curinga para nomes usando o caractere `` * ``.\n",
    "\n",
    "Por exemplo, podemos usar isso para listar todos os objetos no namespace que termina com `` Warning``:\n",
    "\n",
    "```ipython\n",
    "In [10]: *Warning?\n",
    "BytesWarning                  RuntimeWarning\n",
    "DeprecationWarning            SyntaxWarning\n",
    "FutureWarning                 UnicodeWarning\n",
    "ImportWarning                 UserWarning\n",
    "PendingDeprecationWarning     Warning\n",
    "ResourceWarning\n",
    "```\n",
    "\n",
    "Observe que o caractere `` * `` corresponde a qualquer string, incluindo a string vazia.\n",
    "\n",
    "Da forma similar, suponha que estejamos procurando um método string que contenha a palavra `` find`` em algum lugar em seu nome. Podemos pesquisar desta forma:\n",
    "\n",
    "```ipython\n",
    "In [10]: str.*find*?\n",
    "str.find\n",
    "str.rfind\n",
    "```\n",
    "\n",
    "Acho que esse tipo de pesquisa de curinga flexível pode ser muito útil para encontrar um comando específico quando estiver conhecendo um novo pacote ou me familiarizando com um outro."
   ]
  },
  {
   "cell_type": "markdown",
   "id": "2960c112",
   "metadata": {},
   "source": [
    "**Insira seu código abaixo:**"
   ]
  },
  {
   "cell_type": "code",
   "execution_count": null,
   "id": "43bcfe0f",
   "metadata": {},
   "outputs": [],
   "source": []
  },
  {
   "cell_type": "code",
   "execution_count": null,
   "id": "6e15e579",
   "metadata": {},
   "outputs": [],
   "source": []
  },
  {
   "cell_type": "code",
   "execution_count": null,
   "id": "dcefee82",
   "metadata": {},
   "outputs": [],
   "source": []
  },
  {
   "cell_type": "code",
   "execution_count": null,
   "id": "2d8ef34e",
   "metadata": {},
   "outputs": [],
   "source": []
  },
  {
   "cell_type": "code",
   "execution_count": null,
   "id": "091fc593",
   "metadata": {},
   "outputs": [],
   "source": []
  },
  {
   "cell_type": "markdown",
   "id": "61ed213f",
   "metadata": {},
   "source": [
    "<!--BOOK_INFORMATION-->\n",
    "<img align=\"left\" style=\"padding-right:10px;\" src=\"https://github.com/jakevdp/PythonDataScienceHandbook/blob/master/notebooks/figures/PDSH-cover-small.png?raw=true\">\n",
    "\n",
    "*Esse notebook contém trechos do [Python Data Science Handbook](http://shop.oreilly.com/product/0636920034919.do) por Jake VanderPlas; o conteúdo está disponível [on GitHub](https://github.com/jakevdp/PythonDataScienceHandbook).*\n",
    "*O texto é publicado sob o [CC-BY-NC-ND license](https://creativecommons.org/licenses/by-nc-nd/3.0/us/legalcode), and code is lançado sob o [MIT license](https://opensource.org/licenses/MIT). Se você achar este conteúdo útil, considere apoiar o trabalho  [comprando o livro](http://shop.oreilly.com/product/0636920034919.do)!*"
   ]
  },
  {
   "cell_type": "markdown",
   "id": "79067626",
   "metadata": {},
   "source": [
    "## 1.2 Atalhos de teclado no IPython Shell <a id='shortcuts'></a>"
   ]
  },
  {
   "cell_type": "markdown",
   "id": "b358499d",
   "metadata": {},
   "source": [
    "<!--NAVIGATION-->\n",
    "< [Ajuda e documentação no IPython](#help_documentation) | [Índice](#index) | [IPython Magic Commands](#magic) >\n",
    "\n",
    "<a href=\"https://colab.research.google.com/github/jakevdp/PythonDataScienceHandbook/blob/master/notebooks/01.02-Shell-Keyboard-Shortcuts.ipynb\"><img align=\"left\" src=\"https://colab.research.google.com/assets/colab-badge.svg\" alt=\"Open in Colab\" title=\"Open and Execute in Google Colaboratory\"></a>\n"
   ]
  },
  {
   "cell_type": "markdown",
   "id": "a3d0bd80",
   "metadata": {},
   "source": [
    "Se você passa algum tempo no computador, provavelmente encontrou um uso para atalhos de teclado em seu fluxo de trabalho.\n",
    "Mais familiares talvez sejam o Cmd-C e o Cmd-V (ou Ctrl-C e Ctrl-V) para copiar e colar em uma ampla variedade de programas e sistemas.\n",
    "Usuários avançados tendem a ir ainda mais longe: editores de texto populares como Emacs, Vim e outros fornecem aos usuários uma gama incrível de operações por meio de combinações intrincadas de pressionamentos de tecla.\n",
    "\n",
    "O shell IPython não vai tão longe, mas fornece uma série de atalhos de teclado para navegação rápida enquanto digita comandos.\n",
    "Esses atalhos não são de fato fornecidos pelo próprio IPython, mas por meio de sua dependência da biblioteca GNU Readline: como tal, alguns dos seguintes atalhos podem ser diferentes dependendo da configuração do seu sistema.\n",
    "Além disso, embora alguns desses atalhos funcionem no bloco de notas baseado em navegador, esta seção é principalmente sobre atalhos no shell IPython.\n",
    "\n",
    "Depois de se acostumar com eles, eles podem ser muito úteis para executar rapidamente certos comandos sem mover as mãos da posição \"inicial\" do teclado.\n",
    "Se você for um usuário Emacs ou se tiver experiência com shells do estilo Linux, o seguinte será bastante familiar.\n",
    "Agruparemos esses atalhos dentro de algumas categorias: *atalhos de navegação*, *atalhos de entrada de texto*, *atalhos de histórico de comando*, and *Atalhos diversos*\n"
   ]
  },
  {
   "cell_type": "markdown",
   "id": "0a91fb5d",
   "metadata": {},
   "source": [
    "## Atalhos de navegação\n",
    "\n",
    "\n",
    "Embora o uso das teclas de seta esquerda e direita para mover para trás e para frente na linha seja bastante óbvio, existem outras opções que não requerem mover suas mãos da posição \"inicial\" do teclado:\n",
    "\n",
    "| Pressionamento de tecla                   | Ação                                       |\n",
    "|-------------------------------------------|--------------------------------------------|\n",
    "| ``Ctrl-a``                                | Move o cursor para o início da linha       |\n",
    "| ``Ctrl-e``                                | Move o cursor para o final da linha        |\n",
    "| ``Ctrl-b`` ou tecla de seta para esquerda | Move o cursor um caractere para trás       |\n",
    "| ``Ctrl-f`` ou tecla de seta para direita  | Move o cursor um caractere para frente     |\n"
   ]
  },
  {
   "cell_type": "markdown",
   "id": "376708eb",
   "metadata": {},
   "source": [
    "## Atalhos de entrada de texto\n",
    "\n",
    "Embora todos estejam familiarizados com o uso da tecla Backspace para excluir o caractere anterior, alcançar a tecla geralmente requer uma pequena ginástica com os dedos e apenas exclui um único caractere por vez. No IPython, existem vários atalhos para remover parte do texto que você está digitando. Os mais úteis imediatamente são os comandos para excluir linhas inteiras de texto. Você saberá que eles se tornaram uma segunda natureza se você estiver usando uma combinação de Ctrl-b e Ctrl-d em vez de usar a tecla Backspace para excluir o caractere anterior!\n",
    "\n",
    "| Pressionamento de tecla       | Ação                                                            |\n",
    "|-------------------------------|-----------------------------------------------------------------|\n",
    "| tecla Backspace               | Deleta caractere anterior na linha                              |\n",
    "| ``Ctrl-d``                    | Deleta próximo caractere na linha                               |\n",
    "| ``Ctrl-k``                    | Corta o texto de um cursor para o final da linha                |\n",
    "| ``Ctrl-u``                    | Corta o texto do início da linha até o cursor                   |\n",
    "| ``Ctrl-y``                    | Arrancar (ou seja, colar) o texto que foi cortado anteriormente |\n",
    "| ``Ctrl-t``                    | Transpor (ou seja, trocar) os dois caracteres anteriores        |\n"
   ]
  },
  {
   "cell_type": "markdown",
   "id": "170d9943",
   "metadata": {},
   "source": [
    "## Atalhos do histórico de comandos \n",
    "\n",
    "Talvez os atalhos mais impactantes discutidos aqui sejam aqueles que o IPython fornece para navegar no histórico de comandos. Este histórico de comando vai além de sua sessão IPython atual: todo o seu histórico de comando é armazenado em um banco de dados SQLite no diretório de perfil IPython. A maneira mais direta de acessá-los é com as teclas de seta para cima e para baixo para percorrer o histórico, mas também existem outras opções:\n",
    "\n",
    "| Pressionamento de tecla                   | Ação                                       |\n",
    "|-------------------------------------------|--------------------------------------------|\n",
    "| ``Ctrl-p`` (ou a tecla de seta para cima) | Acesse o comando anterior no histórico     |\n",
    "| ``Ctrl-n`` (ou a tecla de seta para baixo)| Acesse o próximo comando no histórico      |\n",
    "| ``Ctrl-r``                                | Pesquisa reversa no histórico de comandos  |\n"
   ]
  },
  {
   "cell_type": "markdown",
   "id": "e6ed014c",
   "metadata": {},
   "source": [
    "A busca reversa pode ser particularmente útil. Lembre-se de que na seção anterior definimos uma função chamada ``square``. Vamos fazer uma busca reversa em nosso histórico Python a partir de um novo shell IPython e encontrar essa definição novamente. Ao pressionar Ctrl-r no terminal IPython, você verá o seguinte prompt:\n",
    "\n",
    "\n",
    "```ipython\n",
    "In [1]:\n",
    "(reverse-i-search)`': \n",
    "```\n",
    "\n",
    "Se você começar a digitar caracteres neste prompt, o IPython preencherá automaticamente o comando mais recente, se houver, que corresponda a esses caracteres:\n",
    "\n",
    "\n",
    "```ipython\n",
    "In [1]: \n",
    "(reverse-i-search)`sqa': square??\n",
    "```\n",
    "\n",
    "A qualquer momento, você pode adicionar mais caracteres para refinar a pesquisa ou pressionar Ctrl-r novamente para pesquisar outro comando que corresponda à consulta. Se você acompanhou a seção anterior, pressionar Ctrl-r mais duas vezes dá:\n",
    "\n",
    "\n",
    "```ipython\n",
    "In [1]: \n",
    "(reverse-i-search)`sqa': def square(a):\n",
    "    \"\"\"Return the square of a\"\"\"\n",
    "    return a ** 2\n",
    "```\n",
    "\n",
    "Depois de encontrar o comando que está procurando, pressione Return e a pesquisa será encerrada. Podemos então usar o comando recuperado e continuar com nossa sessão:\n",
    "\n",
    "\n",
    "```ipython\n",
    "In [1]: def square(a):\n",
    "    \"\"\"Return the square of a\"\"\"\n",
    "    return a ** 2\n",
    "\n",
    "In [2]: square(2)\n",
    "Out[2]: 4\n",
    "```\n",
    "\n",
    "Observe que Ctrl-p / Ctrl-n ou as teclas de seta para cima / para baixo também podem ser usadas para pesquisar no histórico, mas apenas combinando caracteres no início da linha. Ou seja, se você digitar **``def``** e pressionar Ctrl-p, ele encontrará o comando mais recente (se houver) em seu histórico que começa com os caracteres ``def``.\n"
   ]
  },
  {
   "cell_type": "markdown",
   "id": "e3ada7e2",
   "metadata": {},
   "source": [
    "**Insira seu código abaixo:**"
   ]
  },
  {
   "cell_type": "code",
   "execution_count": null,
   "id": "08b9b7c7",
   "metadata": {},
   "outputs": [],
   "source": []
  },
  {
   "cell_type": "code",
   "execution_count": null,
   "id": "96f0bc7f",
   "metadata": {},
   "outputs": [],
   "source": []
  },
  {
   "cell_type": "code",
   "execution_count": null,
   "id": "0378bd29",
   "metadata": {},
   "outputs": [],
   "source": []
  },
  {
   "cell_type": "code",
   "execution_count": null,
   "id": "3894a147",
   "metadata": {},
   "outputs": [],
   "source": []
  },
  {
   "cell_type": "code",
   "execution_count": null,
   "id": "f536b04d",
   "metadata": {},
   "outputs": [],
   "source": []
  },
  {
   "cell_type": "markdown",
   "id": "4c93dee9",
   "metadata": {},
   "source": [
    "## Atalhos diversos\n",
    "\n",
    "Finalmente, existem alguns atalhos diversos que não se encaixam em nenhuma das categorias anteriores, mas são úteis saber:\n",
    "\n",
    "| Pressionamento de tecla       | Ação                                       |\n",
    "|-------------------------------|--------------------------------------------|\n",
    "| ``Ctrl-l``                    | Limpar a tela do terminal                  |\n",
    "| ``Ctrl-c``                    | Interromper o comando Python atual         |\n",
    "| ``Ctrl-d``                    | Sair da sessão IPython                     |\n",
    "\n",
    "O Ctrl-c em particular pode ser útil quando você inicia inadvertidamente um trabalho de execução muito longa."
   ]
  },
  {
   "cell_type": "markdown",
   "id": "8d332264",
   "metadata": {},
   "source": [
    "Embora alguns dos atalhos discutidos aqui possam parecer um pouco enfadonhos no início, eles rapidamente se tornam automáticos com a prática. Depois de desenvolver essa memória muscular, suspeito que você até desejará que eles estivessem disponíveis em outros contextos."
   ]
  },
  {
   "cell_type": "markdown",
   "id": "03ecc485",
   "metadata": {},
   "source": [
    "<!--BOOK_INFORMATION-->\n",
    "<img align=\"left\" style=\"padding-right:10px;\" src=\"https://github.com/jakevdp/PythonDataScienceHandbook/blob/master/notebooks/figures/PDSH-cover-small.png?raw=true\">\n",
    "\n",
    "*Esse notebook contém trechos do [Python Data Science Handbook](http://shop.oreilly.com/product/0636920034919.do) por Jake VanderPlas; o conteúdo está disponível [on GitHub](https://github.com/jakevdp/PythonDataScienceHandbook).*\n",
    "*O texto é publicado sob o [CC-BY-NC-ND license](https://creativecommons.org/licenses/by-nc-nd/3.0/us/legalcode), and code is lançado sob o [MIT license](https://opensource.org/licenses/MIT). Se você achar este conteúdo útil, considere apoiar o trabalho  [comprando o livro](http://shop.oreilly.com/product/0636920034919.do)!*"
   ]
  },
  {
   "cell_type": "markdown",
   "id": "ef1b7437",
   "metadata": {},
   "source": [
    "## 1.3 Comandos mágicos do IPython <a id='magic'></a>"
   ]
  },
  {
   "cell_type": "markdown",
   "id": "88841496",
   "metadata": {},
   "source": [
    "<!--NAVIGATION-->\n",
    "< [Atalhos de teclado no IPython Shell](#shortcuts) | [Índice](#index) | [Histórico de Input e Output](#history_in_out) >\n",
    "\n",
    "<a href=\"https://colab.research.google.com/github/jakevdp/PythonDataScienceHandbook/blob/master/notebooks/01.02-Shell-Keyboard-Shortcuts.ipynb\"><img align=\"left\" src=\"https://colab.research.google.com/assets/colab-badge.svg\" alt=\"Open in Colab\" title=\"Open and Execute in Google Colaboratory\"></a>"
   ]
  },
  {
   "cell_type": "markdown",
   "id": "3a68b34a",
   "metadata": {},
   "source": [
    "As duas seções anteriores mostraram como o IPython permite que você use e explore o Python de maneira eficiente e interativa. Aqui, começaremos a discutir alguns dos aprimoramentos que o IPython adiciona à sintaxe normal do Python. Eles são conhecidos no IPython como *comandos mágicos* e são prefixados pelo caractere ``% ``. Esses comandos mágicos são projetados para resolver sucintamente vários problemas comuns na análise de dados padrão. Os comandos mágicos vêm em dois sabores: *line magics*, que são denotados por um único prefixo ``% `` e operam em uma única linha de entrada, e *cell magics*, que são denotados por um duplo ``%%`` prefixar e operar em várias linhas de entrada. Demonstraremos e discutiremos alguns breves exemplos aqui e voltaremos a uma discussão mais focada de vários comandos mágicos úteis posteriormente neste capítulo.\n"
   ]
  },
  {
   "cell_type": "markdown",
   "id": "beb43212",
   "metadata": {},
   "source": [
    "## Colando Blocos de Código: ``%paste`` e ``%cpaste``\n",
    "\n",
    "Ao trabalhar no interpretador IPython, uma pegadinha comum é que colar blocos de código de várias linhas pode levar a erros inesperados, especialmente quando marcadores de indentação e de interpretador estão envolvidos. Um caso comum é encontrar algum código de exemplo em um site e desejar colá-lo em seu interpretador. Considere a seguinte função simples:\n",
    "\n",
    "\n",
    "``` python\n",
    ">>> def donothing(x):\n",
    "...     return x\n",
    "\n",
    "```\n",
    "O código é formatado como apareceria no interpretador Python e, se você copiar e colar isso diretamente no IPython, obterá um erro:\n",
    "\n",
    "\n",
    "```ipython\n",
    "In [2]: >>> def donothing(x):\n",
    "   ...:     ...     return x\n",
    "   ...:     \n",
    "  File \"<ipython-input-20-5a66c8964687>\", line 2\n",
    "    ...     return x\n",
    "                 ^\n",
    "SyntaxError: invalid syntax\n",
    "```\n",
    "\n",
    "Na colagem direta, o interpretador fica confuso com os caracteres adicionais de prompt. Mas não se preocupe - a função mágica ``%paste`` do IPython foi projetada para lidar com este tipo exato de entrada marcada com várias linhas:\n",
    "\n",
    "\n",
    "```ipython\n",
    "In [3]: %paste\n",
    ">>> def donothing(x):\n",
    "...     return x\n",
    "\n",
    "## -- End pasted text --\n",
    "```\n",
    "\n",
    "O comando ``%paste`` insere e executa o código, então agora a função está pronta para ser usada:\n",
    "\n",
    "```ipython\n",
    "In [4]: donothing(10)\n",
    "Out[4]: 10\n",
    "```\n",
    "\n",
    "Um comando com uma intenção semelhante é ``%cpaste``, que abre um prompt multilinha interativo no qual você pode colar um ou mais pedaços de código para serem executados em um lote:\n",
    "\n",
    "\n",
    "```ipython\n",
    "In [5]: %cpaste\n",
    "Pasting code; enter '--' alone on the line to stop or use Ctrl-D.\n",
    ":>>> def donothing(x):\n",
    ":...     return x\n",
    ":--\n",
    "```\n",
    "\n",
    "Esses comandos mágicos, como outros que veremos, disponibilizam funcionalidades que seriam difíceis ou impossíveis em um interpretador Python padrão."
   ]
  },
  {
   "cell_type": "markdown",
   "id": "f44a823f",
   "metadata": {},
   "source": [
    "**Insira seu código abaixo:**"
   ]
  },
  {
   "cell_type": "code",
   "execution_count": null,
   "id": "25afc681",
   "metadata": {},
   "outputs": [],
   "source": []
  },
  {
   "cell_type": "code",
   "execution_count": null,
   "id": "1862ce57",
   "metadata": {},
   "outputs": [],
   "source": []
  },
  {
   "cell_type": "code",
   "execution_count": null,
   "id": "b26ab4ab",
   "metadata": {},
   "outputs": [],
   "source": []
  },
  {
   "cell_type": "code",
   "execution_count": null,
   "id": "a4c81af9",
   "metadata": {},
   "outputs": [],
   "source": []
  },
  {
   "cell_type": "code",
   "execution_count": null,
   "id": "e8fc499b",
   "metadata": {},
   "outputs": [],
   "source": []
  },
  {
   "cell_type": "markdown",
   "id": "81d4c979",
   "metadata": {},
   "source": [
    "## Executando Código Externo: ``%run``\n",
    "Conforme você começa a desenvolver um código mais extenso, provavelmente se verá trabalhando tanto em IPython para exploração interativa quanto em um editor de texto para armazenar o código que deseja reutilizar. \n",
    "Em vez de executar esse código em uma nova janela, pode ser conveniente executá-lo em sua sessão IPython. Isso pode ser feito com a mágica ``%run``.\n",
    "\n",
    "\n",
    "Por exemplo, imagine que você criou um arquivo ``myscript.py`` com o seguinte conteúdo:\n",
    "\n",
    "\n",
    "```python\n",
    "#-------------------------------------\n",
    "# file: myscript.py\n",
    "\n",
    "def square(x):\n",
    "    \"\"\"square a number\"\"\"\n",
    "    return x ** 2\n",
    "\n",
    "for N in range(1, 4):\n",
    "    print(N, \"squared is\", square(N))\n",
    "```\n",
    "\n",
    "Você pode executar isso a partir de sua sessão IPython da seguinte maneira:\n",
    "\n",
    "```ipython\n",
    "In [6]: %run myscript.py\n",
    "1 squared is 1\n",
    "2 squared is 4\n",
    "3 squared is 9\n",
    "```\n",
    "\n",
    "Observe também que, depois de executar este script, todas as funções definidas nele estarão disponíveis para uso em sua sessão IPython:\n",
    "\n",
    "```ipython\n",
    "In [7]: square(5)\n",
    "Out[7]: 25\n",
    "```\n",
    "\n",
    "Existem várias opções para ajustar como seu código é executado; você pode ver a documentação da maneira normal, digitando **``%run?``** no interpretador IPython."
   ]
  },
  {
   "cell_type": "markdown",
   "id": "5118fa2e",
   "metadata": {},
   "source": [
    "**Insira seu código abaixo:**"
   ]
  },
  {
   "cell_type": "code",
   "execution_count": null,
   "id": "c5e8809b",
   "metadata": {},
   "outputs": [],
   "source": []
  },
  {
   "cell_type": "code",
   "execution_count": null,
   "id": "473b12b2",
   "metadata": {},
   "outputs": [],
   "source": []
  },
  {
   "cell_type": "code",
   "execution_count": null,
   "id": "008d5e9c",
   "metadata": {},
   "outputs": [],
   "source": []
  },
  {
   "cell_type": "code",
   "execution_count": null,
   "id": "25d531ed",
   "metadata": {},
   "outputs": [],
   "source": []
  },
  {
   "cell_type": "code",
   "execution_count": null,
   "id": "fd21a2f5",
   "metadata": {},
   "outputs": [],
   "source": []
  },
  {
   "cell_type": "markdown",
   "id": "2703af09",
   "metadata": {},
   "source": [
    "## Execução do código de tempo: ``%timeit``\n",
    "Outro exemplo de função mágica útil é ``%timeit``, que determinará automaticamente o tempo de execução da instrução Python de uma linha que a segue.\n",
    "Por exemplo, podemos querer verificar o desempenho da compreensão de uma lista:\n",
    "\n",
    "```ipython\n",
    "In [8]: %timeit L = [n ** 2 for n in range(1000)]\n",
    "1000 loops, best of 3: 325 µs per loop\n",
    "```\n",
    "\n",
    "O benefício do ``% timeit`` é que para comandos curtos, ele executa automaticamente várias execuções para obter resultados mais robustos.\n",
    "Para instruções de várias linhas, adicionar um segundo sinal de ``% `` transformará isso em uma *magic cell* que pode lidar com várias linhas de entrada.\n",
    "Por exemplo, aqui está a construção equivalente com um -loop ``for``:\n",
    "\n",
    "\n",
    "```ipython\n",
    "In [9]: %%timeit\n",
    "   ...: L = []\n",
    "   ...: for n in range(1000):\n",
    "   ...:     L.append(n ** 2)\n",
    "   ...: \n",
    "1000 loops, best of 3: 373 µs per loop\n",
    "```\n",
    "\n",
    "Podemos ver imediatamente que as compreensões de lista são cerca de 10% mais rápidas do que a construção do -loop ``for`` equivalente neste caso.\n",
    "Exploraremos o ``%timeit`` e outras abordagens para cronometrar e criar perfis de código em [Código para criar perfis e cronômetrar](#time_profile)."
   ]
  },
  {
   "cell_type": "markdown",
   "id": "d3bfc0bd",
   "metadata": {},
   "source": [
    "**Insira seu código abaixo:**"
   ]
  },
  {
   "cell_type": "code",
   "execution_count": null,
   "id": "39206ec0",
   "metadata": {},
   "outputs": [],
   "source": []
  },
  {
   "cell_type": "code",
   "execution_count": null,
   "id": "404b43f8",
   "metadata": {},
   "outputs": [],
   "source": []
  },
  {
   "cell_type": "code",
   "execution_count": null,
   "id": "69350834",
   "metadata": {},
   "outputs": [],
   "source": []
  },
  {
   "cell_type": "code",
   "execution_count": null,
   "id": "0b24e2dc",
   "metadata": {},
   "outputs": [],
   "source": []
  },
  {
   "cell_type": "code",
   "execution_count": null,
   "id": "e36ede7e",
   "metadata": {},
   "outputs": [],
   "source": []
  },
  {
   "cell_type": "markdown",
   "id": "76a0d042",
   "metadata": {},
   "source": [
    "## Ajuda sobre funções mágicas: ``?``, ``%magic``, e ``%lsmagic``\n",
    "\n",
    "Como as funções normais do Python, as funções mágicas do IPython têm docstrings, e isso é útil a documentação pode ser acessada da maneira padrão. \n",
    "Então, por exemplo, para ler a documentação da mágica ``%timeit`` simplesmente digite isto:\n",
    "\n",
    "```ipython\n",
    "In [10]: %timeit?\n",
    "```\n",
    "\n",
    "A documentação para outras funções pode ser acessada de forma semelhante. \n",
    "Para acessar uma descrição geral das funções mágicas disponíveis, incluindo alguns exemplos, você pode digitar isto:\n",
    "\n",
    "\n",
    "```ipython\n",
    "In [11]: %magic\n",
    "```\n",
    "\n",
    "Para obter uma lista rápida e simples de todas as funções mágicas disponíveis, digite o seguinte:\n",
    "\n",
    "\n",
    "```ipython\n",
    "In [12]: %lsmagic\n",
    "```\n",
    "\n",
    "Finalmente, mencionarei que é bastante simples definir suas próprias funções mágicas, se desejar.\n",
    "Não discutiremos isso aqui, mas se você estiver interessado, consulte as referências listadas em [Mais recursos do IPython](#more_resources).\n"
   ]
  },
  {
   "cell_type": "markdown",
   "id": "def28249",
   "metadata": {},
   "source": [
    "**Insira seu código abaixo:**"
   ]
  },
  {
   "cell_type": "code",
   "execution_count": null,
   "id": "d34145ed",
   "metadata": {},
   "outputs": [],
   "source": []
  },
  {
   "cell_type": "code",
   "execution_count": null,
   "id": "687321b0",
   "metadata": {},
   "outputs": [],
   "source": []
  },
  {
   "cell_type": "code",
   "execution_count": null,
   "id": "5186b527",
   "metadata": {},
   "outputs": [],
   "source": []
  },
  {
   "cell_type": "markdown",
   "id": "648ae223",
   "metadata": {},
   "source": [
    "<!--BOOK_INFORMATION-->\n",
    "<img align=\"left\" style=\"padding-right:10px;\" src=\"https://github.com/jakevdp/PythonDataScienceHandbook/blob/master/notebooks/figures/PDSH-cover-small.png?raw=true\">\n",
    "\n",
    "*Esse notebook contém trechos do [Python Data Science Handbook](http://shop.oreilly.com/product/0636920034919.do) por Jake VanderPlas; o conteúdo está disponível [on GitHub](https://github.com/jakevdp/PythonDataScienceHandbook).*\n",
    "*O texto é publicado sob o [CC-BY-NC-ND license](https://creativecommons.org/licenses/by-nc-nd/3.0/us/legalcode), and code is lançado sob o [MIT license](https://opensource.org/licenses/MIT). Se você achar este conteúdo útil, considere apoiar o trabalho  [comprando o livro](http://shop.oreilly.com/product/0636920034919.do)!*"
   ]
  },
  {
   "cell_type": "markdown",
   "id": "0e86cdbd",
   "metadata": {},
   "source": [
    "## 1.4 Histórico de Input e Output <a id='history_in_out'></a>"
   ]
  },
  {
   "cell_type": "markdown",
   "id": "dac371a2",
   "metadata": {},
   "source": [
    "<!--NAVIGATION-->\n",
    "< [Comandos Mágicos do IPython](#magic) | [Índice](#index) | [Comandos Shell e IPython](#ipython_shell_commmands) >\n",
    "\n",
    "<a href=\"https://colab.research.google.com/github/jakevdp/PythonDataScienceHandbook/blob/master/notebooks/01.04-Input-Output-History.ipynb\"><img align=\"left\" src=\"https://colab.research.google.com/assets/colab-badge.svg\" alt=\"Open in Colab\" title=\"Open and Execute in Google Colaboratory\"></a>"
   ]
  },
  {
   "cell_type": "markdown",
   "id": "6406888a",
   "metadata": {},
   "source": [
    "Anteriormente, vimos que o shell IPython permite que você acesse os comandos anteriores com as teclas de seta para cima e para baixo ou, de forma equivalente, os atalhos Ctrl-p / Ctrl-n.\n",
    "Além disso, tanto no shell quanto no notebook, o IPython expõe várias maneiras de obter a saída de comandos anteriores, bem como versões de string dos próprios comandos. Vamos explorá-los aqui."
   ]
  },
  {
   "cell_type": "markdown",
   "id": "b6f34139",
   "metadata": {},
   "source": [
    "## Objetos `` In`` e `` Out`` do IPython\n",
    "\n",
    "Agora eu imagino que você esteja bem familiarizado com os prompts do estilo ``In [1]:``/``Out [1]:`` usados pelo IPython.\n",
    "Mas acontece que não são apenas uma decoração bonita: eles dão uma pista de como você pode acessar entradas e saídas anteriores em sua sessão atual.\n",
    "Imagine que você inicia uma sessão semelhante a esta:\n",
    "\n",
    "```ipython\n",
    "In [1]: import math\n",
    "\n",
    "In [2]: math.sin(2)\n",
    "Out[2]: 0.9092974268256817\n",
    "\n",
    "In [3]: math.cos(2)\n",
    "Out[3]: -0.4161468365471424\n",
    "```\n"
   ]
  },
  {
   "cell_type": "markdown",
   "id": "4ca363c6",
   "metadata": {},
   "source": [
    "**Insira seu código abaixo:**"
   ]
  },
  {
   "cell_type": "code",
   "execution_count": null,
   "id": "bd17c1b9",
   "metadata": {},
   "outputs": [],
   "source": []
  },
  {
   "cell_type": "code",
   "execution_count": null,
   "id": "edcb29fc",
   "metadata": {},
   "outputs": [],
   "source": []
  },
  {
   "cell_type": "code",
   "execution_count": null,
   "id": "d22b8311",
   "metadata": {},
   "outputs": [],
   "source": []
  },
  {
   "cell_type": "markdown",
   "id": "05b88e02",
   "metadata": {},
   "source": [
    "Importamos o pacote ``math`` embutido e, em seguida, calculamos o seno e o cosseno do número 2. Essas entradas e saídas são exibidas no shell com rótulos ``In``/`` Out``, mas há mais o IPython na verdade cria algumas variáveis Python chamadas ``In`` e ``Out`` que são automaticamente atualizadas para refletem esta história:\n",
    "\n",
    "\n",
    "```ipython\n",
    "In [4]: print(In)\n",
    "['', 'import math', 'math.sin(2)', 'math.cos(2)', 'print(In)']\n",
    "\n",
    "In [5]: Out\n",
    "Out[5]: {2: 0.9092974268256817, 3: -0.4161468365471424}\n",
    "```"
   ]
  },
  {
   "cell_type": "markdown",
   "id": "7aadde9d",
   "metadata": {},
   "source": [
    "**Insira seu código abaixo:**"
   ]
  },
  {
   "cell_type": "code",
   "execution_count": null,
   "id": "8ebb2d81",
   "metadata": {},
   "outputs": [],
   "source": []
  },
  {
   "cell_type": "code",
   "execution_count": null,
   "id": "9796b1d1",
   "metadata": {},
   "outputs": [],
   "source": []
  },
  {
   "cell_type": "markdown",
   "id": "9c0d026c",
   "metadata": {},
   "source": [
    "\n",
    "O objeto ``In`` é uma lista, que mantém o controle dos comandos em ordem (o primeiro item da lista é um marcador de posição para que ``In [1]`` possa se referir ao primeiro comando):\n",
    "\n",
    "\n",
    "```ipython\n",
    "In [6]: print(In[1])\n",
    "import math\n",
    "```\n",
    "\n",
    "O objeto ``Out`` não é uma lista, mas um dicionário mapeando os números de entrada para suas saídas (se houver):\n",
    "\n",
    "```ipython\n",
    "In [7]: print(Out[2])\n",
    "0.9092974268256817\n",
    "```\n",
    "\n",
    "Observe que nem todas as operações têm saídas: por exemplo, as instruções ``import`` e ``print`` não afetam a saída.\n",
    "O último pode ser surpreendente, mas faz sentido se você considerar que `` print`` é uma função que retorna ``None``; para resumir, qualquer comando que retorne ``None`` não é adicionado a ``Out``.\n",
    "\n",
    "Isso pode ser útil se você quiser interagir com resultados anteriores.\n",
    "Por exemplo, vamos verificar a soma de ``sin (2) ** 2`` e ``cos (2) ** 2`` usando os resultados calculados anteriormente:\n",
    "\n",
    "```ipython\n",
    "In [8]: Out[2] ** 2 + Out[3] ** 2\n",
    "Out[8]: 1.0\n",
    "```\n",
    "\n",
    "O resultado é ``1.0`` como esperaríamos da conhecida identidade trigonométrica.\n",
    "Neste caso, usar esses resultados anteriores provavelmente não é necessário, mas pode se tornar muito útil se você executar um cálculo muito caro e quiser reutilizar o resultado!"
   ]
  },
  {
   "cell_type": "markdown",
   "id": "e7813f6e",
   "metadata": {},
   "source": [
    "**Insira seu código abaixo:**"
   ]
  },
  {
   "cell_type": "code",
   "execution_count": null,
   "id": "50363ae6",
   "metadata": {},
   "outputs": [],
   "source": []
  },
  {
   "cell_type": "code",
   "execution_count": null,
   "id": "d59cc9e1",
   "metadata": {},
   "outputs": [],
   "source": []
  },
  {
   "cell_type": "code",
   "execution_count": null,
   "id": "790dffb6",
   "metadata": {},
   "outputs": [],
   "source": []
  },
  {
   "cell_type": "code",
   "execution_count": null,
   "id": "97e6bf4d",
   "metadata": {},
   "outputs": [],
   "source": []
  },
  {
   "cell_type": "code",
   "execution_count": null,
   "id": "c02143e0",
   "metadata": {},
   "outputs": [],
   "source": []
  },
  {
   "cell_type": "markdown",
   "id": "07603b71",
   "metadata": {},
   "source": [
    "## Atalhos de sublinhado e saídas anteriores\n",
    "\n",
    "O shell Python padrão contém apenas um atalho simples para acessar a saída anterior; a variável ``_`` (ou seja, um único sublinhado) é mantida atualizada com a saída anterior; isso também funciona no IPython:\n",
    "\n",
    "\n",
    "```ipython\n",
    "In [9]: print(_)\n",
    "1.0\n",
    "```\n",
    "\n",
    "Mas o IPython leva isso um pouco mais longe - você pode usar um sublinhado duplo para acessar a penúltima saída e um sublinhado triplo para acessar a penúltima saída (pulando quaisquer comandos sem saída):\n",
    "\n",
    "\n",
    "```ipython\n",
    "In [10]: print(__)\n",
    "-0.4161468365471424\n",
    "\n",
    "In [11]: print(___)\n",
    "0.9092974268256817\n",
    "```\n",
    "\n",
    "O IPython para por aí: mais de três sublinhados começa a ficar um pouco difícil de contar e, nesse ponto, é mais fácil referir-se à saída por número de linha. \n",
    "\n",
    "Há mais um atalho que devemos mencionar, no entanto um atalho para ``Out [X]`` é ``_X`` (ou seja, um único sublinhado seguido pelo número da linha):\n",
    "\n",
    "```ipython\n",
    "In [12]: Out[2]\n",
    "Out[12]: 0.9092974268256817\n",
    "\n",
    "In [13]: _2\n",
    "Out[13]: 0.9092974268256817\n",
    "```"
   ]
  },
  {
   "cell_type": "markdown",
   "id": "0a62c304",
   "metadata": {},
   "source": [
    "**Insira seu código abaixo:**"
   ]
  },
  {
   "cell_type": "markdown",
   "id": "06a4cdbf",
   "metadata": {},
   "source": []
  },
  {
   "cell_type": "code",
   "execution_count": null,
   "id": "d996ded8",
   "metadata": {},
   "outputs": [],
   "source": []
  },
  {
   "cell_type": "code",
   "execution_count": null,
   "id": "4cb7dffa",
   "metadata": {},
   "outputs": [],
   "source": []
  },
  {
   "cell_type": "code",
   "execution_count": null,
   "id": "d3ab9ed5",
   "metadata": {},
   "outputs": [],
   "source": []
  },
  {
   "cell_type": "code",
   "execution_count": null,
   "id": "a3ed84dc",
   "metadata": {},
   "outputs": [],
   "source": []
  },
  {
   "cell_type": "markdown",
   "id": "8c813aee",
   "metadata": {},
   "source": [
    "## Supressão de saída \n",
    "Às vezes, você pode desejar suprimir a saída de uma instrução (isso talvez seja mais comum com os comandos de plotagem que exploraremos em [Introdução ao Matplotlib] (#matplotlib)).\n",
    "Ou talvez o comando que você está executando produza um resultado que você prefere não armazenar em seu histórico de saída, talvez para que possa ser desalocado quando outras referências forem removidas.\n",
    "A maneira mais fácil de suprimir a saída de um comando é adicionar um ponto e vírgula ao final da linha:\n",
    "\n",
    "\n",
    "```ipython\n",
    "In [14]: math.sin(2) + math.cos(2);\n",
    "```\n",
    "\n",
    "Note that the result is computed silently, and the output is neither displayed on the screen or stored in the ``Out`` dictionary:\n",
    "\n",
    "```ipython\n",
    "In [15]: 14 in Out\n",
    "Out[15]: False\n",
    "```"
   ]
  },
  {
   "cell_type": "markdown",
   "id": "80099439",
   "metadata": {},
   "source": [
    "**Insira seu código abaixo:**"
   ]
  },
  {
   "cell_type": "markdown",
   "id": "7f5831cb",
   "metadata": {},
   "source": []
  },
  {
   "cell_type": "code",
   "execution_count": null,
   "id": "ecc74ca2",
   "metadata": {},
   "outputs": [],
   "source": []
  },
  {
   "cell_type": "code",
   "execution_count": null,
   "id": "9e222006",
   "metadata": {},
   "outputs": [],
   "source": []
  },
  {
   "cell_type": "code",
   "execution_count": null,
   "id": "50eb999a",
   "metadata": {},
   "outputs": [],
   "source": []
  },
  {
   "cell_type": "code",
   "execution_count": null,
   "id": "46bb8b37",
   "metadata": {},
   "outputs": [],
   "source": []
  },
  {
   "cell_type": "markdown",
   "id": "408ceba6",
   "metadata": {},
   "source": [
    "## Comandos mágicos relacionados\n",
    "Para acessar um lote de entradas anteriores de uma vez, o comando mágico ``%history`` é muito útil. Aqui está como você pode imprimir as primeiras quatro entradas:\n",
    "\n",
    "\n",
    "```ipython\n",
    "In [16]: %history -n 1-4\n",
    "   1: import math\n",
    "   2: math.sin(2)\n",
    "   3: math.cos(2)\n",
    "   4: print(In)\n",
    "```\n",
    "\n",
    "Como de costume, você pode digitar ``%history?`` Para obter mais informações e uma descrição das opções disponíveis. \n",
    "Outros comandos mágicos semelhantes são ``%rerun`` (que irá reexecutar parte do histórico de comandos) e ``% save`` (que salva algum conjunto do histórico de comandos em um arquivo).\n",
    "Para obter mais informações, sugiro explorá-los usando a funcionalidade de ajuda ``?`` Discutida em [Ajuda e documentação em IPython](#help_documentation).\n"
   ]
  },
  {
   "cell_type": "markdown",
   "id": "19e373d1",
   "metadata": {},
   "source": [
    "**Insira seu código abaixo:**"
   ]
  },
  {
   "cell_type": "code",
   "execution_count": null,
   "id": "22b8dea6",
   "metadata": {},
   "outputs": [],
   "source": []
  },
  {
   "cell_type": "code",
   "execution_count": null,
   "id": "60bf8c87",
   "metadata": {},
   "outputs": [],
   "source": []
  },
  {
   "cell_type": "code",
   "execution_count": null,
   "id": "2e7b83c8",
   "metadata": {},
   "outputs": [],
   "source": []
  },
  {
   "cell_type": "code",
   "execution_count": null,
   "id": "afe93ca6",
   "metadata": {},
   "outputs": [],
   "source": []
  },
  {
   "cell_type": "code",
   "execution_count": null,
   "id": "03b6ea8b",
   "metadata": {},
   "outputs": [],
   "source": []
  },
  {
   "cell_type": "markdown",
   "id": "89085929",
   "metadata": {},
   "source": [
    "<!--BOOK_INFORMATION-->\n",
    "<img align=\"left\" style=\"padding-right:10px;\" src=\"https://github.com/jakevdp/PythonDataScienceHandbook/blob/master/notebooks/figures/PDSH-cover-small.png?raw=true\">\n",
    "\n",
    "*Esse notebook contém trechos do [Python Data Science Handbook](http://shop.oreilly.com/product/0636920034919.do) por Jake VanderPlas; o conteúdo está disponível [on GitHub](https://github.com/jakevdp/PythonDataScienceHandbook).*\n",
    "*O texto é publicado sob o [CC-BY-NC-ND license](https://creativecommons.org/licenses/by-nc-nd/3.0/us/legalcode), and code is lançado sob o [MIT license](https://opensource.org/licenses/MIT). Se você achar este conteúdo útil, considere apoiar o trabalho  [comprando o livro](http://shop.oreilly.com/product/0636920034919.do)!*"
   ]
  },
  {
   "cell_type": "markdown",
   "id": "6b56ed95",
   "metadata": {},
   "source": [
    "# 1.5 Comandos Shell e IPython <a id='ipython_shell_commmands'></a>"
   ]
  },
  {
   "cell_type": "markdown",
   "id": "8d65fac9",
   "metadata": {},
   "source": [
    "<!--NAVIGATION-->\n",
    "< [Histórico de Input e Output](#history_in_out) | [Índice](#index) | [Errors and Debugging](#errors) >\n",
    "\n",
    "<a href=\"https://colab.research.google.com/github/jakevdp/PythonDataScienceHandbook/blob/master/notebooks/01.05-IPython-And-Shell-Commands.ipynb\"><img align=\"left\" src=\"https://colab.research.google.com/assets/colab-badge.svg\" alt=\"Open in Colab\" title=\"Open and Execute in Google Colaboratory\"></a>"
   ]
  },
  {
   "cell_type": "markdown",
   "id": "fcb41018",
   "metadata": {},
   "source": [
    "\n",
    "Ao trabalhar interativamente com o interpretador Python padrão, uma das frustrações é a necessidade de alternar entre várias janelas para acessar as ferramentas Python e as ferramentas de linha de comando do sistema. O IPython preenche essa lacuna e fornece uma sintaxe para a execução de comandos shell diretamente de dentro do terminal IPython.\n",
    "A mágica acontece com o ponto de exclamação: qualquer coisa que apareça após ``!`` Em uma linha será executada não pelo kernel Python, mas pela linha de comando do sistema.\n",
    "\n",
    "O seguinte assume que você está em um sistema semelhante ao Unix, como Linux ou Mac OSX. Alguns dos exemplos a seguir falharão no Windows, que usa um tipo diferente de shell por padrão (embora com o anúncio de 2016 de shells Bash nativos no Windows, em breve isso pode não ser mais um problema!).\n",
    "Se você não estiver familiarizado com os comandos do shell, sugiro revisar o [Tutorial do Shell](http://swcarpentry.github.io/shell-novice/) elaborado pela sempre excelente Software Carpentry Foundation.\n"
   ]
  },
  {
   "cell_type": "markdown",
   "id": "ad437882",
   "metadata": {},
   "source": [
    "## Quick Introduction to the Shell\n",
    "\n",
    "A full intro to using the shell/terminal/command-line is well beyond the scope of this chapter, but for the uninitiated we will offer a quick introduction here.\n",
    "The shell is a way to interact textually with your computer.\n",
    "Ever since the mid 1980s, when Microsoft and Apple introduced the first versions of their now ubiquitous graphical operating systems, most computer users have interacted with their operating system through familiar clicking of menus and drag-and-drop movements.\n",
    "But operating systems existed long before these graphical user interfaces, and were primarily controlled through sequences of text input: at the prompt, the user would type a command, and the computer would do what the user told it to.\n",
    "Those early prompt systems are the precursors of the shells and terminals that most active data scientists still use today.\n",
    "\n",
    "Someone unfamiliar with the shell might ask why you would bother with this, when many results can be accomplished by simply clicking on icons and menus.\n",
    "A shell user might reply with another question: why hunt icons and click menus when you can accomplish things much more easily by typing?\n",
    "While it might sound like a typical tech preference impasse, when moving beyond basic tasks it quickly becomes clear that the shell offers much more control of advanced tasks, though admittedly the learning curve can intimidate the average computer user.\n",
    "\n",
    "As an example, here is a sample of a Linux/OSX shell session where a user explores, creates, and modifies directories and files on their system (``osx:~ $`` is the prompt, and everything after the ``$`` sign is the typed command; text that is preceded by a ``#`` is meant just as description, rather than something you would actually type in):\n",
    "\n",
    "\n",
    "## Introdução rápida ao Shell\n",
    "\n",
    "Uma introdução completa sobre o uso do shell / terminal / linha de comando está bem além do escopo deste capítulo, mas para os não iniciados, ofereceremos uma introdução rápida aqui.\n",
    "O shell é uma forma de interagir textualmente com seu computador.\n",
    "Desde meados da década de 1980, quando a Microsoft e a Apple introduziram as primeiras versões de seus agora onipresentes sistemas operacionais gráficos, a maioria dos usuários de computador interagiu com seu sistema operacional por meio de cliques familiares em menus e movimentos de arrastar e soltar.\n",
    "Mas os sistemas operacionais já existiam muito antes dessas interfaces gráficas de usuário e eram controlados principalmente por meio de sequências de entrada de texto: no prompt, o usuário digitava um comando e o computador fazia o que o usuário mandava.\n",
    "Esses primeiros sistemas de prompt são os precursores das conchas e terminais que a maioria dos cientistas de dados ativos ainda usa hoje.\n",
    "\n",
    "Alguém não familiarizado com o shell pode perguntar por que você se preocuparia com isso, quando muitos resultados podem ser obtidos simplesmente clicando nos ícones e menus.\n",
    "Um usuário shell pode responder com outra pergunta: por que procurar ícones e clicar em menus quando você pode realizar coisas com muito mais facilidade digitando? Embora possa soar como um impasse típico de preferência tecnológica, ao ir além das tarefas básicas, rapidamente se torna claro que o shell oferece muito mais controle de tarefas avançadas, embora a curva de aprendizado possa intimidar o usuário médio de computador.\n",
    "\n",
    "Como exemplo, aqui está um exemplo de uma sessão de shell Linux / OSX onde um usuário explora, cria e modifica diretórios e arquivos em seu sistema (``osx: ~ $`` é o prompt, e tudo após o ``$`` sinal é o comando digitado; o texto que é precedido por um ``#`` serve apenas como uma descrição, ao invés de algo que você realmente digitaria):\n",
    "\n",
    "\n",
    "\n",
    "```bash\n",
    "osx:~ $ echo \"hello world\"             # echo é como a função de impressão do Python\n",
    "hello world\n",
    "\n",
    "osx:~ $ pwd                            # pwd = imprimir diretório de trabalho\n",
    "/home/jake                             # este é o \"caminho\" em que estamos sentados\n",
    "\n",
    "osx:~ $ ls                             # ls = lista o conteúdo do diretório de trabalho\n",
    "notebooks  projects \n",
    "\n",
    "osx:~ $ cd projects/                   # cd = muda de diretório(change directory)\n",
    "\n",
    "osx:projects $ pwd\n",
    "/home/jake/projects\n",
    "\n",
    "osx:projects $ ls\n",
    "datasci_book   mpld3   myproject.txt\n",
    "\n",
    "osx:projects $ mkdir myproject          # mkdir = fazer novo diretório(make new directory)\n",
    "\n",
    "osx:projects $ cd myproject/\n",
    "\n",
    "osx:myproject $ mv ../myproject.txt ./  # mv = mover arquivo(move file). Aqui estamos movendo o\n",
    "                                        # arquivo myproject.txt de um diretório\n",
    "                                        # acima (../) para o diretório atual (./)\n",
    "osx:myproject $ ls\n",
    "myproject.txt\n",
    "```\n",
    "\n",
    "Observe que tudo isso é apenas uma forma compacta de fazer operações familiares (navegar em uma estrutura de diretório, criar um diretório, mover um arquivo, etc.) digitando comandos em vez de clicar em ícones e menus.\n",
    "\n",
    "Observe que com apenas alguns comandos (``pwd``, ``ls``, ``cd``, `` mkdir`` e ``cp``) você pode fazer muitas das operações de arquivo mais comuns. É quando você vai além desses princípios básicos que a abordagem shell se torna realmente poderosa.\n"
   ]
  },
  {
   "cell_type": "markdown",
   "id": "76354b37",
   "metadata": {},
   "source": [
    "**Insira seu código abaixo:**"
   ]
  },
  {
   "cell_type": "code",
   "execution_count": null,
   "id": "302e9207",
   "metadata": {},
   "outputs": [],
   "source": []
  },
  {
   "cell_type": "code",
   "execution_count": null,
   "id": "aa105536",
   "metadata": {},
   "outputs": [],
   "source": []
  },
  {
   "cell_type": "code",
   "execution_count": null,
   "id": "20c285fc",
   "metadata": {},
   "outputs": [],
   "source": []
  },
  {
   "cell_type": "code",
   "execution_count": null,
   "id": "8f6ec8cc",
   "metadata": {},
   "outputs": [],
   "source": []
  },
  {
   "cell_type": "markdown",
   "id": "16a8624f",
   "metadata": {},
   "source": [
    "## Shell Commands in IPython\n",
    "\n",
    "Qualquer comando que funcione na linha de comando pode ser usado no IPython prefixando-o com o caractere ``!``.\n",
    "\n",
    "Por exemplo, os comandos ``ls``, ``pwd`` e ``echo`` podem ser executados da seguinte forma:\n",
    "\n",
    "\n",
    "```ipython\n",
    "In [1]: !ls\n",
    "myproject.txt\n",
    "\n",
    "In [2]: !pwd\n",
    "/home/jake/projects/myproject\n",
    "\n",
    "In [3]: !echo \"printing from the shell\"\n",
    "printing from the shell\n",
    "```"
   ]
  },
  {
   "cell_type": "markdown",
   "id": "6ebd3eed",
   "metadata": {},
   "source": [
    "**Insira seu código abaixo:**"
   ]
  },
  {
   "cell_type": "code",
   "execution_count": null,
   "id": "e2be571b",
   "metadata": {},
   "outputs": [],
   "source": []
  },
  {
   "cell_type": "code",
   "execution_count": null,
   "id": "34c8335a",
   "metadata": {},
   "outputs": [],
   "source": []
  },
  {
   "cell_type": "code",
   "execution_count": null,
   "id": "4b5e3791",
   "metadata": {},
   "outputs": [],
   "source": []
  },
  {
   "cell_type": "markdown",
   "id": "525eaa5e",
   "metadata": {},
   "source": [
    "## Passando valores de e para o Shell\n",
    "Os comandos do shell não só podem ser chamados de IPython, mas também podem interagir com o namespace IPython.\n",
    "Por exemplo, você pode salvar a saída de qualquer comando shell em uma lista Python usando o operador de atribuição:\n",
    "\n",
    "\n",
    "```ipython\n",
    "In [4]: contents = !ls\n",
    "\n",
    "In [5]: print(contents)\n",
    "['myproject.txt']\n",
    "\n",
    "In [6]: directory = !pwd\n",
    "\n",
    "In [7]: print(directory)\n",
    "['/Users/jakevdp/notebooks/tmp/myproject']\n",
    "```\n",
    "\n",
    "Observe que esses resultados não são retornados como listas, mas como um tipo de retorno de shell especial definido em IPython:\n",
    "\n",
    "```ipython\n",
    "In [8]: type(directory)\n",
    "IPython.utils.text.SList\n",
    "```\n",
    "\n",
    "Isso se parece e age muito como uma lista Python, mas tem funcionalidades adicionais, como os métodos ``grep`` e ``fields`` e as propriedades ``s``, ``n`` e ``p`` que permitem pesquisar, filtrar e exibir os resultados de maneiras convenientes. Para obter mais informações sobre isso, você pode usar os recursos de ajuda integrados do IPython."
   ]
  },
  {
   "cell_type": "markdown",
   "id": "8ccd967c",
   "metadata": {},
   "source": [
    "**Insira seu código abaixo:**"
   ]
  },
  {
   "cell_type": "code",
   "execution_count": null,
   "id": "38441067",
   "metadata": {},
   "outputs": [],
   "source": []
  },
  {
   "cell_type": "code",
   "execution_count": null,
   "id": "1eda2bae",
   "metadata": {},
   "outputs": [],
   "source": []
  },
  {
   "cell_type": "code",
   "execution_count": null,
   "id": "d707d780",
   "metadata": {},
   "outputs": [],
   "source": []
  },
  {
   "cell_type": "code",
   "execution_count": null,
   "id": "04cd3d0b",
   "metadata": {},
   "outputs": [],
   "source": []
  },
  {
   "cell_type": "code",
   "execution_count": null,
   "id": "3998c330",
   "metadata": {},
   "outputs": [],
   "source": []
  },
  {
   "cell_type": "markdown",
   "id": "25b40d1e",
   "metadata": {},
   "source": [
    "\n",
    "# Comandos mágicos relacionados ao shell\n",
    "\n",
    "Se você brincar com os comandos shell do IPython por um tempo, poderá notar que não pode usar ``!Cd`` para navegar no sistema de arquivos:\n",
    "\n",
    "\n",
    "```ipython\n",
    "In [11]: !pwd\n",
    "/home/jake/projects/myproject\n",
    "\n",
    "In [12]: !cd ..\n",
    "\n",
    "In [13]: !pwd\n",
    "/home/jake/projects/myproject\n",
    "```\n",
    "\n",
    "O motivo é que os comandos do shell no notebook são executados em um subshell temporário. Se você gostaria de mudar o diretório de trabalho de uma forma mais duradoura, você pode usar o comando mágico ``%cd``:\n",
    "\n",
    "```ipython\n",
    "In [14]: %cd ..\n",
    "/home/jake/projects\n",
    "```\n",
    "\n",
    "Na verdade, por padrão, você pode até usar isso sem o sinal ``%``:\n",
    "\n",
    "```ipython\n",
    "In [15]: cd myproject\n",
    "/home/jake/projects/myproject\n",
    "```\n",
    "\n",
    "Isso é conhecido como função ``automagic``, e este comportamento pode ser alternado com a função mágica ``%automagic``\n",
    "\n",
    "Além de ``%cd``, outras funções mágicas semelhantes a shell disponíveis são ``%cat``, ``%cp``, ``%env``, ``%ls``, ``%man`` , ``%mkdir``, ``%more``, ``%mv``, ``%pwd``, ``%rm`` e ``%rmdir``, qualquer um dos quais pode ser usado sem o sinal ``%`` se ``automagic`` estiver ligado. Isso faz com que você quase possa tratar o prompt IPython como se fosse um shell normal:\n",
    "\n",
    "\n",
    "```ipython\n",
    "In [16]: mkdir tmp\n",
    "\n",
    "In [17]: ls\n",
    "myproject.txt  tmp/\n",
    "\n",
    "In [18]: cp myproject.txt tmp/\n",
    "\n",
    "In [19]: ls tmp\n",
    "myproject.txt\n",
    "\n",
    "In [20]: rm -r tmp\n",
    "```\n",
    "\n",
    "Esse acesso ao shell de dentro da mesma janela do terminal que sua sessão Python significa que há muito menos alternância entre o interpretador e o shell conforme você escreve seu código Python."
   ]
  },
  {
   "cell_type": "markdown",
   "id": "f990bfcf",
   "metadata": {},
   "source": [
    "**Insira seu código abaixo:**"
   ]
  },
  {
   "cell_type": "code",
   "execution_count": null,
   "id": "cd37e465",
   "metadata": {},
   "outputs": [],
   "source": []
  },
  {
   "cell_type": "code",
   "execution_count": null,
   "id": "d5d08af5",
   "metadata": {},
   "outputs": [],
   "source": []
  },
  {
   "cell_type": "code",
   "execution_count": null,
   "id": "c0e1fd3c",
   "metadata": {},
   "outputs": [],
   "source": []
  },
  {
   "cell_type": "code",
   "execution_count": null,
   "id": "2a95c2e1",
   "metadata": {},
   "outputs": [],
   "source": []
  },
  {
   "cell_type": "markdown",
   "id": "b2e76289",
   "metadata": {},
   "source": [
    "<!--BOOK_INFORMATION-->\n",
    "<img align=\"left\" style=\"padding-right:10px;\" src=\"https://github.com/jakevdp/PythonDataScienceHandbook/blob/master/notebooks/figures/PDSH-cover-small.png?raw=true\">\n",
    "\n",
    "*Esse notebook contém trechos do [Python Data Science Handbook](http://shop.oreilly.com/product/0636920034919.do) por Jake VanderPlas; o conteúdo está disponível [on GitHub](https://github.com/jakevdp/PythonDataScienceHandbook).*\n",
    "*O texto é publicado sob o [CC-BY-NC-ND license](https://creativecommons.org/licenses/by-nc-nd/3.0/us/legalcode), and code is lançado sob o [MIT license](https://opensource.org/licenses/MIT). Se você achar este conteúdo útil, considere apoiar o trabalho  [comprando o livro](http://shop.oreilly.com/product/0636920034919.do)!*"
   ]
  },
  {
   "cell_type": "markdown",
   "id": "efe9ef0f",
   "metadata": {},
   "source": [
    "## 1.6 Erros e Depuração<a id='errors'></a>"
   ]
  },
  {
   "cell_type": "markdown",
   "id": "5f0f74a4",
   "metadata": {},
   "source": [
    "<!--NAVIGATION-->\n",
    "< [Comandos Shell e IPython](#ipython_shell_commmands) | [Índice](#index) | [Código para criar perfis e cronômetrar](#time_profile) >\n",
    "\n",
    "<a href=\"https://colab.research.google.com/github/jakevdp/PythonDataScienceHandbook/blob/master/notebooks/01.06-Errors-and-Debugging.ipynb\"><img align=\"left\" src=\"https://colab.research.google.com/assets/colab-badge.svg\" alt=\"Open in Colab\" title=\"Open and Execute in Google Colaboratory\"></a>"
   ]
  },
  {
   "cell_type": "markdown",
   "id": "105c40a2",
   "metadata": {},
   "source": [
    "\n",
    "O desenvolvimento de código e a análise de dados sempre exigem um pouco de tentativa e erro, e o IPython contém ferramentas para agilizar esse processo.\n",
    "Esta seção cobrirá brevemente algumas opções para controlar o relatório de exceção do Python, seguido pela exploração de ferramentas para depurar erros no código.\n"
   ]
  },
  {
   "cell_type": "markdown",
   "id": "da3fbcde",
   "metadata": {},
   "source": [
    "## Exceções de controle: ``% xmode``\n",
    "\n",
    "Na maioria das vezes, quando um script Python falha, ele gera uma exceção.\n",
    "Quando o interpretador atinge uma dessas exceções, as informações sobre a causa do erro podem ser encontradas no *traceback*, que pode ser acessado de dentro do Python.\n",
    "Com a função mágica ``%xmode``, IPython permite que você controle a quantidade de informação impressa quando a exceção é levantada. Considere o seguinte código:\n"
   ]
  },
  {
   "cell_type": "code",
   "execution_count": null,
   "id": "d427c575",
   "metadata": {},
   "outputs": [],
   "source": [
    "def func1(a, b):\n",
    "    return a / b\n",
    "\n",
    "def func2(x):\n",
    "    a = x\n",
    "    b = x - 1\n",
    "    return func1(a, b)"
   ]
  },
  {
   "cell_type": "code",
   "execution_count": null,
   "id": "cd58b46c",
   "metadata": {},
   "outputs": [],
   "source": [
    "func2(1)"
   ]
  },
  {
   "cell_type": "markdown",
   "id": "478fc85e",
   "metadata": {},
   "source": [
    "Chamar ``func2`` resulta em um erro, e ler o traço impresso nos permite ver exatamente o que aconteceu.\n",
    "Por padrão, esse rastreamento inclui várias linhas que mostram o contexto de cada etapa que levou ao erro.\n",
    "Usando a função mágica ``%xmode`` (abreviação de *Modo de exceção*), podemos alterar quais informações são impressas.\n",
    "\n",
    "``%xmode`` recebe um único argumento, o modo, e há três possibilidades: ``Plain``, ``Context`` e ``Verbose``.\n",
    "O padrão é ``Context``, e fornece uma saída como a mostrada anteriormente.\n",
    "``Plain`` é mais compacto e fornece menos informações:\n"
   ]
  },
  {
   "cell_type": "code",
   "execution_count": null,
   "id": "e0a32c88",
   "metadata": {},
   "outputs": [],
   "source": [
    "%xmode Plain"
   ]
  },
  {
   "cell_type": "code",
   "execution_count": null,
   "id": "e4033d7f",
   "metadata": {},
   "outputs": [],
   "source": [
    "func2(1)"
   ]
  },
  {
   "cell_type": "code",
   "execution_count": null,
   "id": "59fbf27c",
   "metadata": {},
   "outputs": [],
   "source": [
    "%xmode Verbose"
   ]
  },
  {
   "cell_type": "code",
   "execution_count": null,
   "id": "6229bdd8",
   "metadata": {},
   "outputs": [],
   "source": [
    "func2(1)"
   ]
  },
  {
   "cell_type": "markdown",
   "id": "f518712c",
   "metadata": {},
   "source": [
    "Essas informações extras podem ajudar a definir por que a exceção está sendo gerada.\n",
    "Então, por que não usar o modo ``Verbose`` o tempo todo?\n",
    "Conforme o código se complica, esse tipo de rastreamento pode ficar extremamente longo.\n",
    "Dependendo do contexto, às vezes a brevidade do modo `` Default`` é mais fácil de trabalhar.\n"
   ]
  },
  {
   "cell_type": "markdown",
   "id": "00523c3d",
   "metadata": {},
   "source": [
    "## Depuração: Ler Tracebacks não é o suficiente\n",
    "\n",
    "A ferramenta Python padrão para depuração interativa é ``pdb``, o depurador Python.\n",
    "Esse depurador permite que o usuário percorra o código linha por linha para ver o que pode estar causando um erro mais difícil.\n",
    "A versão aprimorada por IPython disso é ``ipdb``, o depurador IPython.\n",
    "\n",
    "Existem muitas maneiras de iniciar e usar esses depuradores; não os cobriremos totalmente aqui. Consulte a documentação online desses dois utilitários para saber mais.\n",
    "\n",
    "Em IPython, talvez a interface mais conveniente para depuração seja o comando mágico ``% debug``.\n",
    "Se você chamá-lo depois de atingir uma exceção, ele abrirá automaticamente um prompt de depuração interativo no ponto da exceção.\n",
    "O prompt ``ipdb`` permite que você explore o estado atual da pilha, explore as variáveis disponíveis e até mesmo execute comandos Python!\n",
    "\n",
    "Vejamos a exceção mais recente e, em seguida, faça algumas tarefas básicas - imprima os valores de ``a`` e ``b`` e digite ``quit`` para sair da sessão de depuração:\n"
   ]
  },
  {
   "cell_type": "code",
   "execution_count": null,
   "id": "7c024b87",
   "metadata": {},
   "outputs": [],
   "source": [
    "%debug"
   ]
  },
  {
   "cell_type": "markdown",
   "id": "3eced4ad",
   "metadata": {},
   "source": [
    "O depurador interativo permite muito mais do que isso - podemos até subir e descer na pilha e explorar os valores das variáveis lá:"
   ]
  },
  {
   "cell_type": "code",
   "execution_count": null,
   "id": "7965d19e",
   "metadata": {},
   "outputs": [],
   "source": [
    "%debug"
   ]
  },
  {
   "cell_type": "markdown",
   "id": "1b45eb98",
   "metadata": {},
   "source": [
    "Isso permite que você descubra rapidamente não apenas o que causou o erro, mas também quais chamadas de função levaram ao erro.\n",
    "\n",
    "Se quiser que o depurador seja iniciado automaticamente sempre que uma exceção for levantada, você pode usar a função mágica ``%pdb`` para ativar este comportamento automático:\n"
   ]
  },
  {
   "cell_type": "code",
   "execution_count": null,
   "id": "3b0c86c2",
   "metadata": {},
   "outputs": [],
   "source": [
    "%xmode Plain\n",
    "%pdb on\n",
    "func2(1)"
   ]
  },
  {
   "cell_type": "markdown",
   "id": "7b48d980",
   "metadata": {},
   "source": [
    "Finalmente, se você tiver um script que gostaria de executar desde o início no modo interativo, pode executá-lo com o comando ``%run -d`` e usar o comando ``next`` para percorrer o linhas de código interativamente.\n"
   ]
  },
  {
   "cell_type": "markdown",
   "id": "731a8eed",
   "metadata": {},
   "source": [
    "### Lista parcial de comandos de depuração\n",
    "\n",
    "Existem muitos mais comandos disponíveis para depuração interativa do que listamos aqui; a tabela a seguir contém uma descrição de alguns dos mais comuns e úteis:\n",
    "\n",
    "\n",
    "| Comando         |  Descrição                                                                |\n",
    "|-----------------|---------------------------------------------------------------------------|\n",
    "| ``list``        | Mostra a localização atual no arquivo                                     |\n",
    "| ``h(elp)``      | Mostre uma lista de comandos ou encontre ajuda sobre um comando específico|\n",
    "| ``q(uit)``      | Saia do depurador e do programa                                           |\n",
    "| ``c(ontinue)``  | Saia do depurador e continue no programa                                  |\n",
    "| ``n(ext)``      | Vá para a próxima etapa do programa                                       |\n",
    "| ``<enter>``     | Repita o comando anterior                                                 |\n",
    "| ``p(rint)``     | Imprima as variáveis                                                      |\n",
    "| ``s(tep)``      | Entrar em uma sub-rotina                                                  |\n",
    "| ``r(eturn)``    | Retornar de uma sub-rotina                                                |\n",
    "\n",
    "Para obter mais informações, use o comando ``help`` no depurador, ou dê uma olhada na [documentação online](https://github.com/gotcha/ipdb) do ``ipdb``."
   ]
  },
  {
   "cell_type": "markdown",
   "id": "8665b966",
   "metadata": {},
   "source": [
    "<!--BOOK_INFORMATION-->\n",
    "<img align=\"left\" style=\"padding-right:10px;\" src=\"https://github.com/jakevdp/PythonDataScienceHandbook/blob/master/notebooks/figures/PDSH-cover-small.png?raw=true\">\n",
    "\n",
    "*Esse notebook contém trechos do [Python Data Science Handbook](http://shop.oreilly.com/product/0636920034919.do) por Jake VanderPlas; o conteúdo está disponível [on GitHub](https://github.com/jakevdp/PythonDataScienceHandbook).*\n",
    "*O texto é publicado sob o [CC-BY-NC-ND license](https://creativecommons.org/licenses/by-nc-nd/3.0/us/legalcode), and code is lançado sob o [MIT license](https://opensource.org/licenses/MIT). Se você achar este conteúdo útil, considere apoiar o trabalho  [comprando o livro](http://shop.oreilly.com/product/0636920034919.do)!*"
   ]
  },
  {
   "cell_type": "markdown",
   "id": "d7c52fdd",
   "metadata": {},
   "source": [
    "## 1.7 Código para criar perfis e cronômetrar <a id='time_profile'></a>"
   ]
  },
  {
   "cell_type": "markdown",
   "id": "b0a5f527",
   "metadata": {},
   "source": [
    "<!--NAVIGATION-->\n",
    "< [Erros e depuração](#errors) | [Índice](#index) | [Mais recursos do IPython](#more_resources) >\n",
    "\n",
    "<a href=\"https://colab.research.google.com/github/jakevdp/PythonDataScienceHandbook/blob/master/notebooks/01.07-Timing-and-Profiling.ipynb\"><img align=\"left\" src=\"https://colab.research.google.com/assets/colab-badge.svg\" alt=\"Open in Colab\" title=\"Open and Execute in Google Colaboratory\"></a>"
   ]
  },
  {
   "cell_type": "markdown",
   "id": "fa920fab",
   "metadata": {},
   "source": [
    "\n",
    "No processo de desenvolvimento de código e criação de pipelines de processamento de dados, geralmente há trocas que você pode fazer entre as várias implementações.\n",
    "No início do desenvolvimento de seu algoritmo, pode ser contraproducente se preocupar com essas coisas. Como Donald Knuth ficou famoso, \"Devemos esquecer as pequenas eficiências, digamos, cerca de 97% das vezes: a otimização prematura é a raiz de todos os males.\"\n",
    "\n",
    "Mas, depois de ter seu código funcionando, pode ser útil explorar um pouco sua eficiência.\n",
    "Às vezes, é útil verificar o tempo de execução de um determinado comando ou conjunto de comandos; outras vezes, é útil mergulhar em um processo de várias linhas e determinar onde está o gargalo em algumas séries complicadas de operações.\n",
    "O IPython fornece acesso a uma ampla gama de funcionalidades para esse tipo de sincronização e criação de perfil de código.\n",
    "Aqui, discutiremos os seguintes comandos mágicos de IPython:\n",
    "\n",
    "\n",
    "- ``%time``: Cronometrar a execução de uma única instrução\n",
    "- ``%timeit``: Execução repetida de tempo de uma única instrução para mais precisão\n",
    "- ``%prun``: Execute o código com o criador de perfil\n",
    "- ``%lprun``: Execute o código com o criador de perfil linha por linha\n",
    "- ``%memit``: Meça o uso de memória de uma única instrução\n",
    "- ``%mprun``: Execute o código com o criador de perfil de memória linha por linha\n",
    "\n",
    "Os últimos quatro comandos não estão incluídos no IPython - você precisará obter as extensões ``line_profiler`` e ``memory_profiler``, que discutiremos nas seções seguintes."
   ]
  },
  {
   "cell_type": "markdown",
   "id": "e7a15f35",
   "metadata": {},
   "source": [
    "## Snippets de código de tempo: ``%timeit`` e ``%time``\n",
    "Vimos a magia da linha ``%timeit`` e a magia da célula ``%%timeit`` na introdução às funções mágicas em [Comandos mágicos do IPython](#magic); pode ser usado para cronometrar a execução repetida de trechos de código:\n",
    "\n"
   ]
  },
  {
   "cell_type": "code",
   "execution_count": null,
   "id": "72e8b420",
   "metadata": {},
   "outputs": [],
   "source": [
    "%timeit sum(range(100))"
   ]
  },
  {
   "cell_type": "markdown",
   "id": "1cea4ebb",
   "metadata": {},
   "source": [
    "Observe que, como essa operação é tão rápida, ``%timeit`` automaticamente faz um grande número de repetições.\n",
    "Para comandos mais lentos, ``%timeit`` irá ajustar automaticamente e realizar menos repetições:\n"
   ]
  },
  {
   "cell_type": "code",
   "execution_count": null,
   "id": "4ba63037",
   "metadata": {},
   "outputs": [],
   "source": [
    "%%timeit\n",
    "total = 0\n",
    "for i in range(1000):\n",
    "    for j in range(1000):\n",
    "        total += i * (-1) ** j"
   ]
  },
  {
   "cell_type": "markdown",
   "id": "946bc696",
   "metadata": {},
   "source": [
    "\n",
    "Às vezes, repetir uma operação não é a melhor opção.\n",
    "Por exemplo, se tivermos uma lista que gostaríamos de classificar, podemos ser enganados por uma operação repetida.\n",
    "Classificar uma lista pré-classificada é muito mais rápido do que classificar uma lista não classificada, portanto, a repetição distorcerá o resultado:\n"
   ]
  },
  {
   "cell_type": "code",
   "execution_count": null,
   "id": "b2238e50",
   "metadata": {},
   "outputs": [],
   "source": [
    "import random\n",
    "L = [random.random() for i in range(100000)]\n",
    "%timeit L.sort()"
   ]
  },
  {
   "cell_type": "markdown",
   "id": "86c8ab33",
   "metadata": {},
   "source": [
    "Para isso, a função mágica ``%time`` pode ser uma escolha melhor. Também é uma boa escolha para comandos de execução mais longa, quando é improvável que atrasos curtos relacionados ao sistema afetem o resultado. Vamos cronometrar a classificação de uma lista não classificada e uma lista pré-classificada:"
   ]
  },
  {
   "cell_type": "code",
   "execution_count": null,
   "id": "625707d0",
   "metadata": {},
   "outputs": [],
   "source": [
    "import random\n",
    "L = [random.random() for i in range(100000)]\n",
    "print(\"sorting an unsorted list:\")\n",
    "%time L.sort()"
   ]
  },
  {
   "cell_type": "code",
   "execution_count": null,
   "id": "92832e33",
   "metadata": {},
   "outputs": [],
   "source": [
    "print(\"sorting an already sorted list:\")\n",
    "%time L.sort()"
   ]
  },
  {
   "cell_type": "markdown",
   "id": "012db619",
   "metadata": {},
   "source": [
    "Observe como a lista pré-ordenada é mais rápida para classificar, mas observe também quanto mais tempo leva o tempo com ``%time`` versus ``%timeit``, mesmo para a lista pré-ordenada!\n",
    "Isso é resultado do fato de que ``%timeit`` faz algumas coisas inteligentes nos bastidores para evitar que as chamadas do sistema interfiram no tempo.\n",
    "Por exemplo, ele evita a limpeza de objetos Python não usados (conhecidos como *coleta de lixo*) que podem afetar o tempo.\n",
    "Por esta razão, os resultados de ``%timeit`` são geralmente notavelmente mais rápidos do que os resultados de ``%time``.\n",
    "\n",
    "Para ``%time`` como com ``%timeit``, usar a sintaxe mágica de célula de duplo sinal de porcentagem permite o tempo de scripts de várias linhas:\n"
   ]
  },
  {
   "cell_type": "code",
   "execution_count": null,
   "id": "6b9c5b79",
   "metadata": {},
   "outputs": [],
   "source": [
    "%%time\n",
    "total = 0\n",
    "for i in range(1000):\n",
    "    for j in range(1000):\n",
    "        total += i * (-1) ** j"
   ]
  },
  {
   "cell_type": "markdown",
   "id": "4f244818",
   "metadata": {},
   "source": [
    "Para mais informações sobre ``%time`` e ``%timeit``, bem como suas opções disponíveis, use a funcionalidade de ajuda do IPython (ou seja, digite ``%time? `` No prompt do IPython).\n"
   ]
  },
  {
   "cell_type": "markdown",
   "id": "765e21e6",
   "metadata": {},
   "source": [
    "## Criação de perfis de scripts completos: ``%prun``\n",
    "\n",
    "Um programa é feito de muitas instruções únicas e, às vezes, cronometrar essas instruções no contexto é mais importante do que cronometrá-las sozinhas.\n",
    "Python contém um criador de perfil de código embutido (sobre o qual você pode ler na documentação do Python), mas o IPython oferece uma maneira muito mais conveniente de usar este criador de perfil, na forma da função mágica ``%prun``.\n",
    "\n",
    "A título de exemplo, definiremos uma função simples que faz alguns cálculos:\n"
   ]
  },
  {
   "cell_type": "code",
   "execution_count": null,
   "id": "0ece7565",
   "metadata": {},
   "outputs": [],
   "source": [
    "def sum_of_lists(N):\n",
    "    total = 0\n",
    "    for i in range(5):\n",
    "        L = [j ^ (j >> i) for j in range(N)]\n",
    "        total += sum(L)\n",
    "    return total"
   ]
  },
  {
   "cell_type": "markdown",
   "id": "30e01368",
   "metadata": {},
   "source": [
    "Agora podemos chamar ``%prun`` com uma chamada de função para ver os resultados do perfil:"
   ]
  },
  {
   "cell_type": "code",
   "execution_count": null,
   "id": "dc962d11",
   "metadata": {},
   "outputs": [],
   "source": [
    "%prun sum_of_lists(1000000)"
   ]
  },
  {
   "cell_type": "markdown",
   "id": "6bc1512f",
   "metadata": {},
   "source": [
    "No bloco de notas, a saída é impressa no pager e se parece com isto:\n",
    "\n",
    "```\n",
    "14 function calls in 0.714 seconds\n",
    "\n",
    "   Ordered by: internal time\n",
    "\n",
    "   ncalls  tottime  percall  cumtime  percall filename:lineno(function)\n",
    "        5    0.599    0.120    0.599    0.120 <ipython-input-19>:4(<listcomp>)\n",
    "        5    0.064    0.013    0.064    0.013 {built-in method sum}\n",
    "        1    0.036    0.036    0.699    0.699 <ipython-input-19>:1(sum_of_lists)\n",
    "        1    0.014    0.014    0.714    0.714 <string>:1(<module>)\n",
    "        1    0.000    0.000    0.714    0.714 {built-in method exec}\n",
    "```\n",
    "O resultado é uma tabela que indica, em ordem de tempo total em cada chamada de função, onde a execução está demorando mais. Neste caso, a maior parte do tempo de execução está na compreensão da lista dentro de ``sum_of_lists``. A partir daqui, podemos começar a pensar sobre quais mudanças podemos fazer para melhorar o desempenho do algoritmo.\n",
    "\n",
    "Para obter mais informações sobre ``%prun``, bem como suas opções disponíveis, use a funcionalidade de ajuda do IPython (ou seja, digite ``%prun? `` No prompt do IPython).\n"
   ]
  },
  {
   "cell_type": "markdown",
   "id": "05a7d9aa",
   "metadata": {},
   "source": [
    "## Criação de perfil linha a linha com ``%lprun``\n",
    "\n",
    "O perfil de função por função de ``%prun`` é útil, mas às vezes é mais conveniente ter um relatório de perfil linha por linha.\n",
    "Isso não está embutido em Python ou IPython, mas há um pacote ``line_profiler`` disponível para instalação que pode fazer isso.\n",
    "Comece usando a ferramenta de empacotamento do Python, ``pip``, para instalar o pacote ``line_profiler``:\n",
    "\n",
    "\n",
    "```\n",
    "$ pip install line_profiler\n",
    "```\n",
    "\n",
    "Em seguida, você pode usar IPython para carregar a extensão ``line_profiler`` IPython, oferecida como parte deste pacote:\n"
   ]
  },
  {
   "cell_type": "code",
   "execution_count": null,
   "id": "6ff0f142",
   "metadata": {},
   "outputs": [],
   "source": [
    "pip install line_profiler"
   ]
  },
  {
   "cell_type": "code",
   "execution_count": null,
   "id": "22011995",
   "metadata": {},
   "outputs": [],
   "source": [
    "%load_ext line_profiler"
   ]
  },
  {
   "cell_type": "markdown",
   "id": "fdc0aee5",
   "metadata": {},
   "source": [
    "Agora, o comando ``%lprun`` fará um perfil linha por linha de qualquer função - neste caso, precisamos dizer explicitamente quais funções estamos interessados ​​em criar perfil:\n"
   ]
  },
  {
   "cell_type": "code",
   "execution_count": null,
   "id": "eb332322",
   "metadata": {},
   "outputs": [],
   "source": [
    "%lprun -f sum_of_lists sum_of_lists(5000)"
   ]
  },
  {
   "cell_type": "markdown",
   "id": "f2e26f1d",
   "metadata": {},
   "source": [
    "Como antes, o bloco de notas envia o resultado para o pager, mas é mais ou menos assim:\n",
    "\n",
    "```\n",
    "Timer unit: 1e-06 s\n",
    "\n",
    "Total time: 0.009382 s\n",
    "File: <ipython-input-19-fa2be176cc3e>\n",
    "Function: sum_of_lists at line 1\n",
    "\n",
    "Line #      Hits         Time  Per Hit   % Time  Line Contents\n",
    "==============================================================\n",
    "     1                                           def sum_of_lists(N):\n",
    "     2         1            2      2.0      0.0      total = 0\n",
    "     3         6            8      1.3      0.1      for i in range(5):\n",
    "     4         5         9001   1800.2     95.9          L = [j ^ (j >> i) for j in range(N)]\n",
    "     5         5          371     74.2      4.0          total += sum(L)\n",
    "     6         1            0      0.0      0.0      return total\n",
    "```\n",
    "\n",
    "As informações no topo nos fornecem a chave para a leitura dos resultados: o tempo é relatado em microssegundos e podemos ver onde o programa está gastando mais tempo.\n",
    "Neste ponto, podemos ser capazes de usar essas informações para modificar aspectos do script e torná-lo melhor para nosso caso de uso desejado.\n",
    "\n",
    "\n",
    "Para obter mais informações sobre ``%lprun``, bem como suas opções disponíveis, use a funcionalidade de ajuda do IPython (ou seja, digite ``%lprun?`` No prompt do IPython).\n"
   ]
  },
  {
   "cell_type": "markdown",
   "id": "4b8c8575",
   "metadata": {},
   "source": [
    "## Profiling Memory Use: ``%memit`` e ``%mprun``\n",
    "\n",
    "Outro aspecto da criação de perfil é a quantidade de memória que uma operação usa.\n",
    "Isso pode ser avaliado com outra extensão IPython, o `` memory_profiler``.\n",
    "Tal como acontece com o `` line_profiler``, começamos por `` pip``-instalando a extensão:\n",
    "\n",
    "\n",
    "```\n",
    "$ pip install memory_profiler\n",
    "```\n",
    "\n",
    "Então, podemos usar IPython para carregar a extensão:"
   ]
  },
  {
   "cell_type": "code",
   "execution_count": null,
   "id": "04b915c8",
   "metadata": {},
   "outputs": [],
   "source": [
    "pip install memory_profiler"
   ]
  },
  {
   "cell_type": "code",
   "execution_count": null,
   "id": "0e99fa23",
   "metadata": {},
   "outputs": [],
   "source": [
    "%load_ext memory_profiler"
   ]
  },
  {
   "cell_type": "markdown",
   "id": "69d47a2a",
   "metadata": {},
   "source": [
    "A extensão do gerenciador de perfis de memória contém duas funções mágicas úteis: a mágica ``%memit`` (que oferece um equivalente de medição de memória de ``%timeit``) e a função ``%mprun`` (que oferece uma medição de memória equivalente a ``%lprun``).\n",
    "A função ``%memit`` pode ser usada de forma bastante simples:\n"
   ]
  },
  {
   "cell_type": "code",
   "execution_count": null,
   "id": "f09c24e4",
   "metadata": {},
   "outputs": [],
   "source": [
    "%memit sum_of_lists(1000000)"
   ]
  },
  {
   "cell_type": "markdown",
   "id": "eda3f5b0",
   "metadata": {},
   "source": [
    "Vemos que esta função usa cerca de 100 MB de memória. Para uma descrição linha a linha do uso da memória, podemos usar a magia ``%mprun``.\n",
    "Infelizmente, essa mágica funciona apenas para funções definidas em módulos separados ao invés do próprio notebook, então vamos começar usando a mágica ``%%file`` para criar um módulo simples chamado ``mprun_demo.py``, que contém nossa função ``sum_of_lists``, com uma adição que tornará nossos resultados de perfil de memória mais claros:\n"
   ]
  },
  {
   "cell_type": "code",
   "execution_count": null,
   "id": "0300a4f1",
   "metadata": {},
   "outputs": [],
   "source": [
    "%%file mprun_demo.py\n",
    "def sum_of_lists(N):\n",
    "    total = 0\n",
    "    for i in range(5):\n",
    "        L = [j ^ (j >> i) for j in range(N)]\n",
    "        total += sum(L)\n",
    "        del L # remove reference to L\n",
    "    return total"
   ]
  },
  {
   "cell_type": "markdown",
   "id": "3ed8a628",
   "metadata": {},
   "source": [
    "Agora podemos importar a nova versão desta função e executar o criador de perfil de linha de memória:"
   ]
  },
  {
   "cell_type": "code",
   "execution_count": null,
   "id": "5e207dca",
   "metadata": {},
   "outputs": [],
   "source": [
    "from mprun_demo import sum_of_lists\n",
    "%mprun -f sum_of_lists sum_of_lists(1000000)"
   ]
  },
  {
   "cell_type": "markdown",
   "id": "3b41d16e",
   "metadata": {},
   "source": [
    "O resultado, impresso no pager, nos dá um resumo do uso de memória da função e se parece com isto:\n",
    "\n",
    "```\n",
    "Filename: ./mprun_demo.py\n",
    "\n",
    "Line #    Mem usage    Increment   Line Contents\n",
    "================================================\n",
    "     4     71.9 MiB      0.0 MiB           L = [j ^ (j >> i) for j in range(N)]\n",
    "\n",
    "\n",
    "Filename: ./mprun_demo.py\n",
    "\n",
    "Line #    Mem usage    Increment   Line Contents\n",
    "================================================\n",
    "     1     39.0 MiB      0.0 MiB   def sum_of_lists(N):\n",
    "     2     39.0 MiB      0.0 MiB       total = 0\n",
    "     3     46.5 MiB      7.5 MiB       for i in range(5):\n",
    "     4     71.9 MiB     25.4 MiB           L = [j ^ (j >> i) for j in range(N)]\n",
    "     5     71.9 MiB      0.0 MiB           total += sum(L)\n",
    "     6     46.5 MiB    -25.4 MiB           del L # remove reference to L\n",
    "     7     39.1 MiB     -7.4 MiB       return total\n",
    "```\n",
    "Aqui, a coluna ``Incremento`` nos diz o quanto cada linha afeta o orçamento total de memória: observe que quando criamos e excluímos a lista ``L``, estamos adicionando cerca de 25 MB de uso de memória.\n",
    "Isso se soma ao uso de memória em segundo plano do próprio interpretador Python.\n",
    "\n",
    "Para mais informações sobre ``%memit`` e ``%mprun``, bem como suas opções disponíveis, use a funcionalidade de ajuda do IPython (ou seja, digite ``%memit?`` No prompt do IPython).\n"
   ]
  },
  {
   "cell_type": "markdown",
   "id": "324e581a",
   "metadata": {},
   "source": [
    "<!--BOOK_INFORMATION-->\n",
    "<img align=\"left\" style=\"padding-right:10px;\" src=\"https://github.com/jakevdp/PythonDataScienceHandbook/blob/master/notebooks/figures/PDSH-cover-small.png?raw=true\">\n",
    "\n",
    "*Esse notebook contém trechos do [Python Data Science Handbook](http://shop.oreilly.com/product/0636920034919.do) por Jake VanderPlas; o conteúdo está disponível [on GitHub](https://github.com/jakevdp/PythonDataScienceHandbook).*\n",
    "*O texto é publicado sob o [CC-BY-NC-ND license](https://creativecommons.org/licenses/by-nc-nd/3.0/us/legalcode), and code is lançado sob o [MIT license](https://opensource.org/licenses/MIT). Se você achar este conteúdo útil, considere apoiar o trabalho  [comprando o livro](http://shop.oreilly.com/product/0636920034919.do)!*"
   ]
  },
  {
   "cell_type": "markdown",
   "id": "637798d6",
   "metadata": {},
   "source": [
    "## 1.8 Mais recursos do IPython <a id='more_resources'></a>"
   ]
  },
  {
   "cell_type": "markdown",
   "id": "60c2d89d",
   "metadata": {},
   "source": [
    "<!--NAVIGATION-->\n",
    "< [Código para criar perfis e cronômetrar](#time_profile) | [Índice](#index) | [Introduction to NumPy] () >\n",
    "\n",
    "<a href=\"https://colab.research.google.com/github/jakevdp/PythonDataScienceHandbook/blob/master/notebooks/01.08-More-IPython-Resources.ipynb\"><img align=\"left\" src=\"https://colab.research.google.com/assets/colab-badge.svg\" alt=\"Open in Colab\" title=\"Open and Execute in Google Colaboratory\"></a>\n"
   ]
  },
  {
   "cell_type": "markdown",
   "id": "04b8edbf",
   "metadata": {},
   "source": [
    "Neste capítulo, apenas arranhamos a superfície do uso de IPython para habilitar tarefas de ciência de dados. Muito mais informações estão disponíveis na versão impressa e na Web, e aqui listaremos alguns outros recursos que podem ser úteis para você."
   ]
  },
  {
   "cell_type": "markdown",
   "id": "5cbefbf2",
   "metadata": {},
   "source": [
    "\n",
    "## Recursos da Web\n",
    "\n",
    "- [O site IPython](http://ipython.org): os links do site IPython para documentação, exemplos, tutoriais e uma variedade de outros recursos. \n",
    "- [O site nbviewer](http://nbviewer.jupyter.org/): Este site mostra renderizações estáticas de qualquer notebook IPython disponível na Internet. A página inicial apresenta alguns exemplos de notebooks que você pode navegar para ver para que outras pessoas estão usando o IPython!\n",
    "- [Uma galeria de Jupyter Notebooks interessantes](https://github.com/jupyter/jupyter/wiki/A-gallery-of-interesting-Jupyter-Notebooks/): Esta lista cada vez maior de notebooks, alimentado por nbviewer, mostra a profundidade e amplitude da análise numérica que você pode fazer com IPython. Inclui de tudo, desde pequenos exemplos e tutoriais a cursos completos e livros compostos no formato de caderno! \n",
    "- Tutoriais em vídeo: pesquisando na Internet, você encontrará muitos tutoriais gravados em vídeo sobre IPython. Eu recomendo especialmente procurar tutoriais dos conferenes PyCon, SciPy e PyData de Fernando Perez e Brian Granger, dois dos principais criadores e mantenedores do IPython e Jupyter.\n"
   ]
  },
  {
   "cell_type": "markdown",
   "id": "2bcfa2cf",
   "metadata": {},
   "source": [
    "\n",
    "## Livros\n",
    "\n",
    "- [*Python for Data Analysis*](http://shop.oreilly.com/product/0636920023784.do): O livro de Wes McKinney inclui um capítulo que cobre o uso de IPython como cientista de dados. Embora muito do material se sobreponha ao que discutimos aqui, outra perspectiva é sempre útil.\n",
    "- [*Learning IPython for Interactive Computing and Data Visualization*](https://www.packtpub.com/big-data-and-business-intelligence/learning-ipython-interactive-computing-and-data-visualization): Este O pequeno livro de Cyrille Rossant oferece uma boa introdução ao uso do IPython para análise de dados.\n",
    "- [*IPython Interactive Computing and Visualization Cookbook*](https://www.packtpub.com/big-data-and-business-intelligence/ipython-interactive-computing-and-visualization-cookbook): Também por Cyrille Rossant, este livro é um tratamento mais longo e avançado do uso de IPython para ciência de dados. Apesar do nome, não se trata apenas de IPython - ele também se aprofunda em uma ampla gama de tópicos de ciência de dados.\n",
    "\n",
    "Finalmente, um lembrete de que você pode encontrar ajuda por conta própria: a funcionalidade de ajuda baseada em ``?`` Do IPython (discutida em [Ajuda e documentação no IPython](#help_documentation)) pode ser muito útil se você o usa bem e com frequência. Conforme você analisa os exemplos aqui e em outros lugares, isso pode ser usado para se familiarizar com todas as ferramentas que o IPython tem a oferecer.\n"
   ]
  },
  {
   "cell_type": "markdown",
   "id": "448abffc",
   "metadata": {},
   "source": [
    "<!--BOOK_INFORMATION-->\n",
    "<img align=\"left\" style=\"padding-right:10px;\" src=\"https://github.com/jakevdp/PythonDataScienceHandbook/blob/master/notebooks/figures/PDSH-cover-small.png?raw=true\">\n",
    "\n",
    "*Esse notebook contém trechos do [Python Data Science Handbook](http://shop.oreilly.com/product/0636920034919.do) por Jake VanderPlas; o conteúdo está disponível [on GitHub](https://github.com/jakevdp/PythonDataScienceHandbook).*\n",
    "*O texto é publicado sob o [CC-BY-NC-ND license](https://creativecommons.org/licenses/by-nc-nd/3.0/us/legalcode), and code is lançado sob o [MIT license](https://opensource.org/licenses/MIT). Se você achar este conteúdo útil, considere apoiar o trabalho  [comprando o livro](http://shop.oreilly.com/product/0636920034919.do)!*"
   ]
  },
  {
   "cell_type": "markdown",
   "id": "dac8c37b",
   "metadata": {},
   "source": [
    "# 5. Machine Learning<a id='machine_learning'></a>"
   ]
  },
  {
   "cell_type": "markdown",
   "id": "deeae389",
   "metadata": {},
   "source": [
    "<!--NAVIGATION-->\n",
    "< [Further Resources] (04.15-Further-Resources.ipynb) | [Índice](#index) | [O que é Machine Learning?](#whats_ml) >\n",
    "\n",
    "<a href=\"https://colab.research.google.com/github/jakevdp/PythonDataScienceHandbook/blob/master/notebooks/05.00-Machine-Learning.ipynb\"><img align=\"left\" src=\"https://colab.research.google.com/assets/colab-badge.svg\" alt=\"Open in Colab\" title=\"Open and Execute in Google Colaboratory\"></a>\n"
   ]
  },
  {
   "cell_type": "markdown",
   "id": "ff91fb79",
   "metadata": {},
   "source": [
    "\n",
    "De muitas maneiras, o aprendizado de máquina é o principal meio pelo qual a ciência de dados se manifesta para o mundo em geral.\n",
    "O aprendizado de máquina é onde essas habilidades computacionais e algorítmicas da ciência de dados encontram o pensamento estatístico da ciência de dados, e o resultado é uma coleção de abordagens para inferência e exploração de dados que não tratam tanto de teoria eficaz, mas de computação eficaz.\n",
    "\n",
    "O termo \"aprendizado de máquina\" às vezes é usado como se fosse uma espécie de pílula mágica: *aplique o aprendizado de máquina aos seus dados e todos os seus problemas serão resolvidos!*\n",
    "Como você pode esperar, a realidade raramente é tão simples.\n",
    "Embora esses métodos possam ser incrivelmente poderosos, para serem eficazes, eles devem ser abordados com uma compreensão firme dos pontos fortes e fracos de cada método, bem como uma compreensão de conceitos gerais, como viés e variação, overfitting e underfitting e muito mais.\n",
    "\n",
    "Este capítulo mergulhará nos aspectos práticos do aprendizado de máquina, principalmente usando o pacote Python [Scikit-Learn](http://scikit-learn.org).\n",
    "Esta não é uma introdução abrangente ao campo do aprendizado de máquina; esse é um assunto amplo e requer uma abordagem mais técnica do que a que adotamos aqui.\n",
    "Nem pretende ser um manual abrangente para o uso do pacote Scikit-Learn (para isso, você pode consultar os recursos listados em [Recursos adicionais de aprendizado de máquina](#aditional_resources_ml)). Em vez disso, os objetivos deste capítulo são: \n",
    "\n",
    "- Introduzir o vocabulário e os conceitos fundamentais de aprendizagem de máquina. \n",
    "- Apresentar a API Scikit-Learn e mostrar alguns exemplos de seu uso. \n",
    "- Para se aprofundar nos detalhes de várias das abordagens de aprendizado de máquina mais importantes e desenvolver uma intuição sobre como elas funcionam e quando e onde são aplicáveis. \n",
    "\n",
    "Muito deste material é retirado dos tutoriais e workshops do Scikit-Learn que ministrei em várias ocasiões na PyCon, SciPy, PyData e outras conferências.\n",
    "Qualquer clareza nas páginas seguintes provavelmente se deve aos muitos participantes do workshop e co-instrutores que me deram um feedback valioso sobre este material ao longo dos anos!\n",
    "\n",
    "Finalmente, se você está procurando um tratamento mais abrangente ou técnico de qualquer um desses assuntos, listei vários recursos e referências em [Recursos adicionais de aprendizado de máquina](#aditional_resources_ml).\n"
   ]
  },
  {
   "cell_type": "markdown",
   "id": "2ee01759",
   "metadata": {},
   "source": [
    "<!--BOOK_INFORMATION-->\n",
    "<img align=\"left\" style=\"padding-right:10px;\" src=\"https://github.com/jakevdp/PythonDataScienceHandbook/blob/master/notebooks/figures/PDSH-cover-small.png?raw=true\">\n",
    "\n",
    "*Esse notebook contém trechos do [Python Data Science Handbook](http://shop.oreilly.com/product/0636920034919.do) por Jake VanderPlas; o conteúdo está disponível [on GitHub](https://github.com/jakevdp/PythonDataScienceHandbook).*\n",
    "*O texto é publicado sob o [CC-BY-NC-ND license](https://creativecommons.org/licenses/by-nc-nd/3.0/us/legalcode), and code is lançado sob o [MIT license](https://opensource.org/licenses/MIT). Se você achar este conteúdo útil, considere apoiar o trabalho  [comprando o livro](http://shop.oreilly.com/product/0636920034919.do)!*"
   ]
  },
  {
   "cell_type": "markdown",
   "id": "71a80dc1",
   "metadata": {},
   "source": [
    "# 5.1 O que é aprendizado de máquina?<a id='whats_ml'></a>"
   ]
  },
  {
   "cell_type": "markdown",
   "id": "2eb3e9ba",
   "metadata": {},
   "source": [
    "<!--NAVIGATION-->\n",
    "< [Machine Learning](#machine_learning) | [Índice](#index) | [Introduzindo o Scikit-Learn](#scikit_learn) >\n",
    "\n",
    "<a href=\"https://colab.research.google.com/github/jakevdp/PythonDataScienceHandbook/blob/master/notebooks/05.01-What-Is-Machine-Learning.ipynb\"><img align=\"left\" src=\"https://colab.research.google.com/assets/colab-badge.svg\" alt=\"Open in Colab\" title=\"Open and Execute in Google Colaboratory\"></a>\n"
   ]
  },
  {
   "cell_type": "markdown",
   "id": "adb1f38b",
   "metadata": {},
   "source": [
    "Antes de dar uma olhada nos detalhes de vários métodos de aprendizado de máquina, vamos começar examinando o que é aprendizado de máquina e o que não é.\n",
    "O aprendizado de máquina é frequentemente categorizado como um subcampo da inteligência artificial, mas acho que a categorização pode muitas vezes ser enganosa à primeira vista.\n",
    "O estudo do aprendizado de máquina certamente surgiu de pesquisas nesse contexto, mas na aplicação de métodos de aprendizado de máquina da ciência de dados, é mais útil pensar no aprendizado de máquina como um meio de *construir modelos de dados*.\n",
    "\n",
    "Fundamentalmente, o aprendizado de máquina envolve a construção de modelos matemáticos para ajudar a entender os dados.\n",
    "O \"aprendizado\" entra em jogo quando damos a esses modelos *parâmetros ajustáveis* que podem ser adaptados aos dados observados; dessa forma, o programa pode ser considerado como \"aprendendo\" com os dados.\n",
    "Uma vez que esses modelos tenham sido ajustados aos dados vistos anteriormente, eles podem ser usados para prever e compreender aspectos dos dados recentemente observados.\n",
    "Deixarei ao leitor a digressão mais filosófica a respeito de até que ponto esse tipo de \"aprendizado\" matemático baseado em modelos é semelhante ao \"aprendizado\" exibido pelo cérebro humano.\n",
    "\n",
    "\n",
    "Compreender a configuração do problema no aprendizado de máquina é essencial para usar essas ferramentas de maneira eficaz, portanto, começaremos com algumas categorizações amplas dos tipos de abordagem que discutiremos aqui."
   ]
  },
  {
   "cell_type": "markdown",
   "id": "54cc622b",
   "metadata": {},
   "source": [
    "\n",
    "## Categorias de aprendizado de máquina\n",
    "\n",
    "No nível mais fundamental, o aprendizado de máquina pode ser categorizado em dois tipos principais: aprendizado supervisionado e aprendizado não supervisionado.\n",
    "\n",
    "*Aprendizagem supervisionada* envolve, de alguma forma, a modelagem da relação entre as características medidas dos dados e algum rótulo associado aos dados; uma vez que este modelo é determinado, ele pode ser usado para aplicar rótulos a dados novos e desconhecidos.\n",
    "Isso é subdividido em tarefas de *classificação* e tarefas de *regressão*: na classificação, os rótulos são categorias discretas, enquanto na regressão, os rótulos são quantidades contínuas. Veremos exemplos de ambos os tipos de aprendizagem supervisionada na seção seguinte.\n",
    "\n",
    "*Aprendizado não supervisionado* envolve modelar os recursos de um conjunto de dados sem referência a qualquer rótulo e é frequentemente descrito como \"deixar o conjunto de dados falar por si mesmo\". Esses modelos incluem tarefas como *armazenamento em cluster* e *redução de dimensionalidade.*\n",
    "Os algoritmos de agrupamento identificam grupos distintos de dados, enquanto os algoritmos de redução de dimensionalidade buscam representações mais sucintas dos dados. \n",
    "Veremos exemplos de ambos os tipos de aprendizagem não supervisionada na seção seguinte.\n",
    "\n",
    "Além disso, existem os chamados métodos de *aprendizagem semissupervisionada*, que ficam em algum lugar entre a aprendizagem supervisionada e a aprendizagem não supervisionada. Métodos de aprendizagem semissupervisionados são freqüentemente úteis quando apenas rótulos incompletos estão disponíveis.\n"
   ]
  },
  {
   "cell_type": "markdown",
   "id": "1825a69c",
   "metadata": {},
   "source": [
    "## Exemplos qualitativos de aplicativos de aprendizado de máquina\n",
    "\n",
    "Para tornar essas ideias mais concretas, vamos dar uma olhada em alguns exemplos muito simples de uma tarefa de aprendizado de máquina.\n",
    "Esses exemplos têm como objetivo fornecer uma visão geral intuitiva e não quantitativa dos tipos de tarefas de aprendizado de máquina que examinaremos neste capítulo.\n",
    "Em seções posteriores, entraremos em mais detalhes sobre os modelos específicos e como eles são usados.\n",
    "Para uma prévia desses aspectos mais técnicos, você pode encontrar o código-fonte Python que gera as seguintes figuras no [Apêndice: Código da Figura](# fig_appendix).\n",
    "\n"
   ]
  },
  {
   "cell_type": "markdown",
   "id": "581dd5d0",
   "metadata": {},
   "source": [
    "### Classificação: Predição de rótulos discretos\n",
    "\n",
    "Primeiro, daremos uma olhada em uma tarefa simples de *classificação*, na qual você recebe um conjunto de pontos rotulados e deseja usá-los para classificar alguns pontos não rotulados.\n",
    "\n",
    "Imagine que temos os dados mostrados nesta figura:\n"
   ]
  },
  {
   "cell_type": "markdown",
   "id": "0c32fb0f",
   "metadata": {},
   "source": [
    "![](https://raw.githubusercontent.com/jakevdp/PythonDataScienceHandbook/master/notebooks/figures/05.01-classification-1.png)\n",
    "[figure source in Appendix](#fig_appendix)"
   ]
  },
  {
   "cell_type": "markdown",
   "id": "28f0ba95",
   "metadata": {},
   "source": [
    "Aqui temos dados bidimensionais: ou seja, temos dois *recursos* para cada ponto, representados pelas *(x, y)* posições dos pontos no plano. Além disso, temos um de dois *rótulos de classe* para cada ponto, aqui representado pelas cores dos pontos.\n",
    "A partir desses recursos e rótulos, gostaríamos de criar um modelo que nos permitirá decidir se um novo ponto deve ser rotulado como \"azul\" ou \"vermelho\".\n",
    "\n",
    "Existem vários modelos possíveis para essa tarefa de classificação, mas aqui usaremos um extremamente simples. Faremos a suposição de que os dois grupos podem ser separados traçando uma linha reta através do plano entre eles, de modo que os pontos de cada lado da linha caiam no mesmo grupo.\n",
    "Aqui, o *modelo* é uma versão quantitativa da declaração \"uma linha reta separa as classes\", enquanto os *parâmetros do modelo* são os números particulares que descrevem a localização e orientação dessa linha para nossos dados.\n",
    "Os valores ótimos para esses parâmetros do modelo são aprendidos a partir dos dados (esse é o \"aprendizado\" no aprendizado de máquina), que geralmente é chamado de *treinamento do modelo*.\n",
    "\n",
    "\n",
    "A figura a seguir mostra uma representação visual da aparência do modelo treinado para esses dados:"
   ]
  },
  {
   "cell_type": "markdown",
   "id": "6894ed3b",
   "metadata": {},
   "source": [
    "![](https://raw.githubusercontent.com/jakevdp/PythonDataScienceHandbook/master/notebooks/figures/05.01-classification-2.png)\n",
    "[figure source in Appendix](#fig_appendix)"
   ]
  },
  {
   "cell_type": "markdown",
   "id": "5063a911",
   "metadata": {},
   "source": [
    "Agora que esse modelo foi treinado, ele pode ser generalizado para novos dados não rotulados.\n",
    "Em outras palavras, podemos pegar um novo conjunto de dados, desenhar essa linha de modelo através dele e atribuir rótulos aos novos pontos com base neste modelo.\n",
    "Este estágio é geralmente chamado de *previsão*. Veja a figura a seguir:\n"
   ]
  },
  {
   "cell_type": "markdown",
   "id": "3faa66b4",
   "metadata": {},
   "source": [
    "![](https://raw.githubusercontent.com/jakevdp/PythonDataScienceHandbook/master/notebooks/figures/05.01-classification-3.png)\n",
    "[figure source in Appendix](#fig_appendix)"
   ]
  },
  {
   "cell_type": "markdown",
   "id": "3b307261",
   "metadata": {},
   "source": [
    "Essa é a ideia básica de uma tarefa de classificação em aprendizado de máquina, onde \"classificação\" indica que os dados têm rótulos de classe discretos.\n",
    "À primeira vista, isso pode parecer bastante trivial: seria relativamente fácil simplesmente olhar para esses dados e traçar uma linha discriminatória para realizar essa classificação.\n",
    "Um benefício da abordagem de aprendizado de máquina, no entanto, é que ela pode generalizar para conjuntos de dados muito maiores em muito mais dimensões.\n",
    "\n",
    "Por exemplo, isso é semelhante à tarefa de detecção automática de spam para e-mail; neste caso, podemos usar os seguintes recursos e rótulos:\n",
    "\n",
    "\n",
    "- *característica 1*, *característica 2*, etc. $\\to$ contagens normalizadas de palavras ou frases importantes (\"Viagra\", \"Nigerian prince\", etc.)\n",
    "- *label* $\\to$ \"spam\" or \"not spam\"\n",
    "\n",
    "Para o conjunto de treinamento, esses rótulos podem ser determinados por inspeção individual de uma pequena amostra representativa de emails; para os e-mails restantes, o rótulo seria determinado usando o modelo.\n",
    "Para um algoritmo de classificação adequadamente treinado com recursos bem construídos o suficiente (normalmente milhares ou milhões de palavras ou frases), esse tipo de abordagem pode ser muito eficaz.\n",
    "Veremos um exemplo dessa classificação baseada em texto em [Em profundidade: Naive Bayes Classification](#NB).\n",
    "\n",
    "Some important classification algorithms that we will discuss in more detail are Gaussian naive Bayes (see [In Depth: Naive Bayes Classification](05.05-Naive-Bayes.ipynb)), support vector machines (see [In-Depth: Support Vector Machines](05.07-Support-Vector-Machines.ipynb)), and random forest classification (see [In-Depth: Decision Trees and Random Forests](05.08-Random-Forests.ipynb)).\n",
    "\n",
    "Alguns algoritmos de classificação importantes que discutiremos com mais detalhes são Gaussian ingênuo Bayes (consulte [Em profundidade: Classificação Naive Bayes](#NB)), máquinas de vetores de suporte (consulte [Em profundidade: Support Vector Machines](#SVM)) e classificação de floresta aleatória (consulte [Em profundidade: Decision Trees e Random Forests](#cart_random_forests)).\n"
   ]
  },
  {
   "cell_type": "markdown",
   "id": "c888a8ac",
   "metadata": {},
   "source": [
    "\n",
    "### Regressão: Predição de rótulos contínuos\n",
    "\n",
    "Em contraste com os rótulos discretos de um algoritmo de classificação, veremos a seguir uma tarefa simples de *regressão* em que os rótulos são quantidades contínuas.\n",
    "\n",
    "Considere os dados mostrados na figura a seguir, que consiste em um conjunto de pontos, cada um com uma etiqueta contínua:"
   ]
  },
  {
   "cell_type": "markdown",
   "id": "e8aed071",
   "metadata": {},
   "source": [
    "![](https://raw.githubusercontent.com/jakevdp/PythonDataScienceHandbook/master/notebooks/figures/05.01-regression-1.png)\n",
    "[figure source in Appendix](#fig_appendix)"
   ]
  },
  {
   "cell_type": "markdown",
   "id": "25f79220",
   "metadata": {},
   "source": [
    "\n",
    "Como no exemplo de classificação, temos dados bidimensionais: ou seja, há dois recursos que descrevem cada ponto de dados.\n",
    "A cor de cada ponto representa a etiqueta contínua para aquele ponto.\n",
    "\n",
    "Existem vários modelos de regressão possíveis que podemos usar para este tipo de dados, mas aqui usaremos uma regressão linear simples para prever os pontos.\n",
    "Este modelo de regressão linear simples assume que, se tratarmos o rótulo como uma terceira dimensão espacial, podemos ajustar um plano aos dados.\n",
    "Esta é uma generalização de alto nível do conhecido problema de ajustar uma linha a dados com duas coordenadas.\n",
    "\n",
    "Podemos visualizar essa configuração conforme mostrado na figura a seguir:\n"
   ]
  },
  {
   "cell_type": "markdown",
   "id": "64ff8491",
   "metadata": {},
   "source": [
    "![](https://raw.githubusercontent.com/jakevdp/PythonDataScienceHandbook/master/notebooks/figures/05.01-regression-2.png)\n",
    "[figure source in Appendix](#fig_appendix)"
   ]
  },
  {
   "cell_type": "markdown",
   "id": "ffa5851c",
   "metadata": {},
   "source": [
    "Observe que o plano *característica-1, característica-2* aqui é o mesmo que no gráfico bidimensional anterior; neste caso, entretanto, representamos os rótulos pela cor e pela posição do eixo tridimensional. \n",
    "Desse ponto de vista, parece razoável que ajustar um plano por meio desses dados tridimensionais nos permitiria prever o rótulo esperado para qualquer conjunto de parâmetros de entrada. \n",
    "\n",
    "Voltando à projeção bidimensional, ao ajustarmos tal plano obtemos o resultado mostrado na figura a seguir:\n"
   ]
  },
  {
   "cell_type": "markdown",
   "id": "4cea04a8",
   "metadata": {},
   "source": [
    "![](https://raw.githubusercontent.com/jakevdp/PythonDataScienceHandbook/master/notebooks/figures/05.01-regression-3.png)\n",
    "[figure source in Appendix](#fig_appendix)"
   ]
  },
  {
   "cell_type": "markdown",
   "id": "04d6fc0a",
   "metadata": {},
   "source": [
    "Esse plano de ajuste nos dá o que precisamos para prever rótulos para novos pontos. Visualmente, encontramos os resultados mostrados na figura a seguir:"
   ]
  },
  {
   "cell_type": "markdown",
   "id": "fa782aa4",
   "metadata": {},
   "source": [
    "![](https://raw.githubusercontent.com/jakevdp/PythonDataScienceHandbook/master/notebooks/figures/05.01-regression-4.png)\n",
    "[figure source in Appendix](#fig_appendix)\n"
   ]
  },
  {
   "cell_type": "markdown",
   "id": "92080496",
   "metadata": {},
   "source": [
    "Tal como acontece com o exemplo de classificação, isso pode parecer bastante trivial em um pequeno número de dimensões.\n",
    "Mas o poder desses métodos é que eles podem ser aplicados e avaliados diretamente no caso de dados com muitos, muitos recursos.\n",
    "\n",
    "Por exemplo, isso é semelhante à tarefa de calcular a distância até as galáxias observadas por meio de um telescópio - neste caso, podemos usar os seguintes recursos e rótulos:\n",
    "\n",
    "\n",
    "- *característica 1*, *característica 2*, etc. $\\to$ brilho de cada galáxia em um dos vários comprimentos de onda ou cores\n",
    "- *label* $\\to$ distância ou desvio para o vermelho da galáxia\n",
    "\n",
    "As distâncias para um pequeno número dessas galáxias podem ser determinadas por meio de um conjunto independente de observações (normalmente mais caras).\n",
    "As distâncias às galáxias restantes poderiam então ser estimadas usando um modelo de regressão adequado, sem a necessidade de empregar a observação mais cara em todo o conjunto.\n",
    "Nos círculos da astronomia, isso é conhecido como o problema do \"desvio para o vermelho fotométrico\".\n",
    "\n",
    "\n",
    "Some important regression algorithms that we will discuss are linear regression (see [In Depth: Linear Regression](05.06-Linear-Regression.ipynb)), support vector machines (see [In-Depth: Support Vector Machines](05.07-Support-Vector-Machines.ipynb)), and random forest regression (see [In-Depth: Decision Trees and Random Forests](05.08-Random-Forests.ipynb)).\n",
    "\n",
    "\n",
    "Alguns algoritmos de regressão importantes que discutiremos são regressão linear (consulte [Em profundidade: Regressão linear](#regression)), máquinas de vetor de suporte (consulte [Em profundidade: Support Vector Machines](#SVM)) e regressão de floresta aleatória (consulte [Em profundidade: Decision Trees e Random Forests](#cart_random_forests))."
   ]
  },
  {
   "cell_type": "markdown",
   "id": "3962e058",
   "metadata": {},
   "source": [
    "### Clustering: inferir rótulos em dados não rotulados\n",
    "\n",
    "As ilustrações de classificação e regressão que acabamos de ver são exemplos de algoritmos de aprendizado supervisionado, nos quais estamos tentando construir um modelo que irá prever rótulos para novos dados.\n",
    "O aprendizado não supervisionado envolve modelos que descrevem dados sem referência a quaisquer rótulos conhecidos. \n",
    "\n",
    "Um caso comum de aprendizado não supervisionado é o \"agrupamento\", no qual os dados são atribuídos automaticamente a algum número de grupos distintos.\n",
    "Por exemplo, podemos ter alguns dados bidimensionais como os mostrados na figura a seguir:"
   ]
  },
  {
   "cell_type": "markdown",
   "id": "1ba9df48",
   "metadata": {},
   "source": [
    "![](https://raw.githubusercontent.com/jakevdp/PythonDataScienceHandbook/master/notebooks/figures/05.01-clustering-1.png)\n",
    "[figure source in Appendix](#fig_appendix)"
   ]
  },
  {
   "cell_type": "markdown",
   "id": "7f84c8b5",
   "metadata": {},
   "source": [
    "À vista, fica claro que cada um desses pontos faz parte de um grupo distinto.\n",
    "Dada essa entrada, um modelo de agrupamento usará a estrutura intrínseca dos dados para determinar quais pontos estão relacionados.\n",
    "Usando o algoritmo *k-means* muito rápido e intuitivo (consulte [Em profundidade: K-Means Clustering](#kmeans)), encontramos os clusters mostrados na figura a seguir:"
   ]
  },
  {
   "cell_type": "markdown",
   "id": "4c8f8858",
   "metadata": {},
   "source": [
    "![](https://raw.githubusercontent.com/jakevdp/PythonDataScienceHandbook/master/notebooks/figures/05.01-clustering-2.png)\n",
    "[figure source in Appendix](#fig_appendix)"
   ]
  },
  {
   "cell_type": "markdown",
   "id": "13b42b96",
   "metadata": {},
   "source": [
    "*k*-means ajusta um modelo que consiste em *k* centros de cluster; os centros ótimos são considerados aqueles que minimizam a distância de cada ponto de seu centro atribuído.\n",
    "Novamente, isso pode parecer um exercício trivial em duas dimensões, mas à medida que nossos dados se tornam maiores e mais complexos, esses algoritmos de agrupamento podem ser empregados para extrair informações úteis do conjunto de dados.\n",
    "\n",
    "Discutiremos o algoritmo *k-means* com mais profundidade em [Em profundidade: K-Means Clustering](#kmeans). Outros algoritmos de agrupamento importantes incluem modelos de mistura gaussiana (consulte [Em profundidade: Modelos de mistura gaussiana](#gaussian_mix)) e agrupamento espectral (consulte [documentação de agrupamento do Scikit-Learn](http://scikit-learn.org/stable/modules/clustering.html)).\n"
   ]
  },
  {
   "cell_type": "markdown",
   "id": "f804a968",
   "metadata": {},
   "source": [
    "### Redução de dimensionalidade: inferir estrutura de dados não rotulados\n",
    "\n",
    "A redução da dimensionalidade é outro exemplo de algoritmo não supervisionado, no qual rótulos ou outras informações são inferidos da estrutura do próprio conjunto de dados.\n",
    "A redução de dimensionalidade é um pouco mais abstrata do que os exemplos que vimos antes, mas geralmente busca extrair alguma representação de dados de baixa dimensão que de alguma forma preserva qualidades relevantes do conjunto de dados completo.\n",
    "Rotinas de redução de dimensionalidade diferentes medem essas qualidades relevantes de maneiras diferentes, como veremos em [Em profundidade: Manifold Learning](#manifold_learning).\n",
    "\n",
    "Como exemplo disso, considere os dados mostrados na figura a seguir:\n"
   ]
  },
  {
   "cell_type": "markdown",
   "id": "33243589",
   "metadata": {},
   "source": [
    "![](https://raw.githubusercontent.com/jakevdp/PythonDataScienceHandbook/master/notebooks/figures/05.01-dimesionality-1.png)\n",
    "[figure source in Appendix](#fig_appendix)"
   ]
  },
  {
   "cell_type": "markdown",
   "id": "60650853",
   "metadata": {},
   "source": [
    "Visualmente, está claro que há alguma estrutura nesses dados: eles são traçados a partir de uma linha unidimensional que está disposta em uma espiral dentro deste espaço bidimensional. \n",
    "Em certo sentido, você poderia dizer que esses dados são \"intrinsecamente\" apenas uma dimensão, embora esses dados unidimensionais estejam embutidos em um espaço de dimensão superior. \n",
    "Um modelo de redução de dimensionalidade adequado, neste caso, seria sensível a essa estrutura embutida não linear e seria capaz de extrair essa representação de dimensionalidade inferior.\n",
    "\n",
    "A figura a seguir mostra uma visualização dos resultados do algoritmo Isomap, um algoritmo de aprendizado múltiplo que faz exatamente isso:\n"
   ]
  },
  {
   "cell_type": "markdown",
   "id": "59c69430",
   "metadata": {},
   "source": [
    "![](https://raw.githubusercontent.com/jakevdp/PythonDataScienceHandbook/master/notebooks/figures/05.01-dimesionality-2.png)\n",
    "[figure source in Appendix](#fig_appendix)"
   ]
  },
  {
   "cell_type": "markdown",
   "id": "2bd3e884",
   "metadata": {},
   "source": [
    "Observe que as cores (que representam a variável latente unidimensional extraída) mudam uniformemente ao longo da espiral, o que indica que o algoritmo de fato detectou a estrutura que vimos a olho nu.\n",
    "Tal como acontece com os exemplos anteriores, o poder dos algoritmos de redução de dimensionalidade torna-se mais claro em casos de dimensões superiores.\n",
    "Por exemplo, podemos desejar visualizar relacionamentos importantes em um conjunto de dados que possui 100 ou 1.000 recursos.\n",
    "Visualizar dados de 1.000 dimensões é um desafio e uma maneira de tornar isso mais gerenciável é usar uma técnica de redução de dimensionalidade para reduzir os dados a duas ou três dimensões.\n",
    "\n",
    "Alguns algoritmos de redução de dimensionalidade importantes que discutiremos são a análise de componentes principais (consulte [Em profundidade: Análise de componentes principais](#pca)) e vários algoritmos de aprendizagem múltiplos, incluindo Isomap e incorporação linear local (Consulte [Em profundidade: aprendizado múltiplo](#manifold_learning)).\n"
   ]
  },
  {
   "cell_type": "markdown",
   "id": "ccf15d0a",
   "metadata": {},
   "source": [
    "## Sumário\n",
    "\n",
    "Aqui, vimos alguns exemplos simples de alguns dos tipos básicos de abordagens de aprendizado de máquina. Desnecessário dizer que há uma série de detalhes práticos importantes que omitimos, mas espero que esta seção tenha sido suficiente para lhe dar uma ideia básica de quais tipos de problemas as abordagens de aprendizado de máquina podem resolver.\n",
    "\n",
    "Resumindo, vimos o seguinte:\n",
    "\n",
    "\n",
    "- *Aprendizagem Supervisionada*: Modelos que podem prever rótulos com base em dados de treinamento rotulados\n",
    "\n",
    "  - *Classificação*: Modelos que prevêem rótulos como duas ou mais categorias discretas\n",
    "  - *Regression*: Modelos que prevêem rótulos contínuos\n",
    "  \n",
    "- *Aprendizagem Não Supervisionada*: Modelos que identificam a estrutura em dados não rotulados\n",
    "\n",
    "  - *Clustering*: Modelos que detectam e identificam grupos distintos nos dados\n",
    "  - *Redução da dimensionalidade*: Modelos que detectam e identificam a estrutura dimensional inferior em dados dimensionais superiores\n",
    "\n",
    "Nas seções a seguir, nos aprofundaremos muito mais nessas categorias e veremos alguns exemplos mais interessantes de onde esses conceitos podem ser úteis.\n",
    "\n",
    "Todas as figuras na discussão anterior são geradas com base em cálculos reais de aprendizado de máquina; o código por trás deles pode ser encontrado em [Apêndice: Código da Figura](#fig_appendix).\n"
   ]
  },
  {
   "cell_type": "markdown",
   "id": "f6c99915",
   "metadata": {},
   "source": [
    "<!--BOOK_INFORMATION-->\n",
    "<img align=\"left\" style=\"padding-right:10px;\" src=\"https://github.com/jakevdp/PythonDataScienceHandbook/blob/master/notebooks/figures/PDSH-cover-small.png?raw=true\">\n",
    "\n",
    "*Esse notebook contém trechos do [Python Data Science Handbook](http://shop.oreilly.com/product/0636920034919.do) por Jake VanderPlas; o conteúdo está disponível [on GitHub](https://github.com/jakevdp/PythonDataScienceHandbook).*\n",
    "*O texto é publicado sob o [CC-BY-NC-ND license](https://creativecommons.org/licenses/by-nc-nd/3.0/us/legalcode), and code is lançado sob o [MIT license](https://opensource.org/licenses/MIT). Se você achar este conteúdo útil, considere apoiar o trabalho  [comprando o livro](http://shop.oreilly.com/product/0636920034919.do)!*"
   ]
  },
  {
   "cell_type": "markdown",
   "id": "2814136c",
   "metadata": {},
   "source": [
    "# 5.2 Introduzindo o Scikit-Learn<a id='scikit_learn'></a>"
   ]
  },
  {
   "cell_type": "markdown",
   "id": "4f1e2d60",
   "metadata": {},
   "source": [
    "<!--NAVIGATION-->\n",
    "< [O que é Machine Learning?](#whats_ml) | [Índice](#index) | [Hyperparameters and Model Validation](05.03-Hyperparameters-and-Model-Validation.ipynb) >\n",
    "\n",
    "<a href=\"https://colab.research.google.com/github/jakevdp/PythonDataScienceHandbook/blob/master/notebooks/05.02-Introducing-Scikit-Learn.ipynb\"><img align=\"left\" src=\"https://colab.research.google.com/assets/colab-badge.svg\" alt=\"Open in Colab\" title=\"Open and Execute in Google Colaboratory\"></a>\n"
   ]
  },
  {
   "cell_type": "markdown",
   "id": "c87b3f5c",
   "metadata": {},
   "source": [
    "There are several Python libraries which provide solid implementations of a range of machine learning algorithms.\n",
    "One of the best known is [Scikit-Learn](http://scikit-learn.org), a package that provides efficient versions of a large number of common algorithms.\n",
    "Scikit-Learn is characterized by a clean, uniform, and streamlined API, as well as by very useful and complete online documentation.\n",
    "A benefit of this uniformity is that once you understand the basic use and syntax of Scikit-Learn for one type of model, switching to a new model or algorithm is very straightforward.\n",
    "\n",
    "This section provides an overview of the Scikit-Learn API; a solid understanding of these API elements will form the foundation for understanding the deeper practical discussion of machine learning algorithms and approaches in the following chapters.\n",
    "\n",
    "We will start by covering *data representation* in Scikit-Learn, followed by covering the *Estimator* API, and finally go through a more interesting example of using these tools for exploring a set of images of hand-written digits."
   ]
  },
  {
   "cell_type": "markdown",
   "id": "57ce414b",
   "metadata": {},
   "source": [
    "## Data Representation in Scikit-Learn"
   ]
  },
  {
   "cell_type": "markdown",
   "id": "fc396415",
   "metadata": {},
   "source": [
    "Machine learning is about creating models from data: for that reason, we'll start by discussing how data can be represented in order to be understood by the computer.\n",
    "The best way to think about data within Scikit-Learn is in terms of tables of data."
   ]
  },
  {
   "cell_type": "markdown",
   "id": "db7e7926",
   "metadata": {},
   "source": [
    "### Data as table\n",
    "\n",
    "A basic table is a two-dimensional grid of data, in which the rows represent individual elements of the dataset, and the columns represent quantities related to each of these elements.\n",
    "For example, consider the [Iris dataset](https://en.wikipedia.org/wiki/Iris_flower_data_set), famously analyzed by Ronald Fisher in 1936.\n",
    "We can download this dataset in the form of a Pandas ``DataFrame`` using the [seaborn](http://seaborn.pydata.org/) library:"
   ]
  },
  {
   "cell_type": "code",
   "execution_count": null,
   "id": "b4ce2659",
   "metadata": {},
   "outputs": [],
   "source": [
    "import seaborn as sns\n",
    "iris = sns.load_dataset('iris')\n",
    "iris.head()"
   ]
  },
  {
   "cell_type": "markdown",
   "id": "b9a501a1",
   "metadata": {},
   "source": [
    "Here each row of the data refers to a single observed flower, and the number of rows is the total number of flowers in the dataset. In general, we will refer to the rows of the matrix as samples, and the number of rows as n_samples.\n",
    "\n",
    "Likewise, each column of the data refers to a particular quantitative piece of information that describes each sample. In general, we will refer to the columns of the matrix as features, and the number of columns as n_features."
   ]
  },
  {
   "cell_type": "markdown",
   "id": "69fb8f42",
   "metadata": {},
   "source": [
    "#### Features matrix\n",
    "\n",
    "This table layout makes clear that the information can be thought of as a two-dimensional numerical array or matrix, which we will call the *features matrix*.\n",
    "By convention, this features matrix is often stored in a variable named ``X``.\n",
    "The features matrix is assumed to be two-dimensional, with shape ``[n_samples, n_features]``, and is most often contained in a NumPy array or a Pandas ``DataFrame``, though some Scikit-Learn models also accept SciPy sparse matrices.\n",
    "\n",
    "The samples (i.e., rows) always refer to the individual objects described by the dataset.\n",
    "For example, the sample might be a flower, a person, a document, an image, a sound file, a video, an astronomical object, or anything else you can describe with a set of quantitative measurements.\n",
    "\n",
    "The features (i.e., columns) always refer to the distinct observations that describe each sample in a quantitative manner.\n",
    "Features are generally real-valued, but may be Boolean or discrete-valued in some cases."
   ]
  },
  {
   "cell_type": "markdown",
   "id": "9ca839f9",
   "metadata": {},
   "source": [
    "#### Target array\n",
    "\n",
    "In addition to the feature matrix ``X``, we also generally work with a *label* or *target* array, which by convention we will usually call ``y``.\n",
    "The target array is usually one dimensional, with length ``n_samples``, and is generally contained in a NumPy array or Pandas ``Series``.\n",
    "The target array may have continuous numerical values, or discrete classes/labels.\n",
    "While some Scikit-Learn estimators do handle multiple target values in the form of a two-dimensional, ``[n_samples, n_targets]`` target array, we will primarily be working with the common case of a one-dimensional target array.\n",
    "\n",
    "Often one point of confusion is how the target array differs from the other features columns. The distinguishing feature of the target array is that it is usually the quantity we want to *predict from the data*: in statistical terms, it is the dependent variable.\n",
    "For example, in the preceding data we may wish to construct a model that can predict the species of flower based on the other measurements; in this case, the ``species`` column would be considered the target array.\n",
    "\n",
    "With this target array in mind, we can use Seaborn (see [Visualization With Seaborn](04.14-Visualization-With-Seaborn.ipynb)) to conveniently visualize the data:"
   ]
  },
  {
   "cell_type": "code",
   "execution_count": null,
   "id": "94c52060",
   "metadata": {},
   "outputs": [],
   "source": [
    "%matplotlib inline\n",
    "import seaborn as sns; sns.set()\n",
    "sns.pairplot(iris, hue='species', size=1.5);"
   ]
  },
  {
   "cell_type": "markdown",
   "id": "c18c6c1a",
   "metadata": {},
   "source": [
    "For use in Scikit-Learn, we will extract the features matrix and target array from the ``DataFrame``, which we can do using some of the Pandas ``DataFrame`` operations discussed in the [Chapter 3](03.00-Introduction-to-Pandas.ipynb):"
   ]
  },
  {
   "cell_type": "code",
   "execution_count": null,
   "id": "0fb7190d",
   "metadata": {},
   "outputs": [],
   "source": [
    "X_iris = iris.drop('species', axis=1)\n",
    "X_iris.shape"
   ]
  },
  {
   "cell_type": "code",
   "execution_count": null,
   "id": "b64f76a6",
   "metadata": {},
   "outputs": [],
   "source": [
    "y_iris = iris['species']\n",
    "y_iris.shape"
   ]
  },
  {
   "cell_type": "markdown",
   "id": "b5ff425f",
   "metadata": {},
   "source": [
    "To summarize, the expected layout of features and target values is visualized in the following diagram:"
   ]
  },
  {
   "cell_type": "markdown",
   "id": "0e54e936",
   "metadata": {},
   "source": [
    "![](https://raw.githubusercontent.com/jakevdp/PythonDataScienceHandbook/master/notebooks/figures/05.02-samples-features.png)\n",
    "[figure source in Appendix](#fig_appendix)"
   ]
  },
  {
   "cell_type": "markdown",
   "id": "79db806b",
   "metadata": {},
   "source": [
    "With this data properly formatted, we can move on to consider the *estimator* API of Scikit-Learn:"
   ]
  },
  {
   "cell_type": "markdown",
   "id": "f90c94b8",
   "metadata": {},
   "source": [
    "## Scikit-Learn's Estimator API"
   ]
  },
  {
   "cell_type": "markdown",
   "id": "b724fdd2",
   "metadata": {},
   "source": [
    "The Scikit-Learn API is designed with the following guiding principles in mind, as outlined in the [Scikit-Learn API paper](http://arxiv.org/abs/1309.0238):\n",
    "\n",
    "- *Consistency*: All objects share a common interface drawn from a limited set of methods, with consistent documentation.\n",
    "\n",
    "- *Inspection*: All specified parameter values are exposed as public attributes.\n",
    "\n",
    "- *Limited object hierarchy*: Only algorithms are represented by Python classes; datasets are represented\n",
    "  in standard formats (NumPy arrays, Pandas ``DataFrame``s, SciPy sparse matrices) and parameter\n",
    "  names use standard Python strings.\n",
    "\n",
    "- *Composition*: Many machine learning tasks can be expressed as sequences of more fundamental algorithms,\n",
    "  and Scikit-Learn makes use of this wherever possible.\n",
    "\n",
    "- *Sensible defaults*: When models require user-specified parameters, the library defines an appropriate default value.\n",
    "\n",
    "In practice, these principles make Scikit-Learn very easy to use, once the basic principles are understood.\n",
    "Every machine learning algorithm in Scikit-Learn is implemented via the Estimator API, which provides a consistent interface for a wide range of machine learning applications."
   ]
  },
  {
   "cell_type": "markdown",
   "id": "58a460ab",
   "metadata": {},
   "source": [
    "### Basics of the API\n",
    "\n",
    "Most commonly, the steps in using the Scikit-Learn estimator API are as follows\n",
    "(we will step through a handful of detailed examples in the sections that follow).\n",
    "\n",
    "1. Choose a class of model by importing the appropriate estimator class from Scikit-Learn.\n",
    "2. Choose model hyperparameters by instantiating this class with desired values.\n",
    "3. Arrange data into a features matrix and target vector following the discussion above.\n",
    "4. Fit the model to your data by calling the ``fit()`` method of the model instance.\n",
    "5. Apply the Model to new data:\n",
    "   - For supervised learning, often we predict labels for unknown data using the ``predict()`` method.\n",
    "   - For unsupervised learning, we often transform or infer properties of the data using the ``transform()`` or ``predict()`` method.\n",
    "\n",
    "We will now step through several simple examples of applying supervised and unsupervised learning methods."
   ]
  },
  {
   "cell_type": "markdown",
   "id": "8f984cdc",
   "metadata": {},
   "source": [
    "### Supervised learning example: Simple linear regression\n",
    "\n",
    "As an example of this process, let's consider a simple linear regression—that is, the common case of fitting a line to $(x, y)$ data.\n",
    "We will use the following simple data for our regression example:"
   ]
  },
  {
   "cell_type": "code",
   "execution_count": null,
   "id": "1c8ae9c4",
   "metadata": {},
   "outputs": [],
   "source": [
    "import matplotlib.pyplot as plt\n",
    "import numpy as np\n",
    "\n",
    "rng = np.random.RandomState(42)\n",
    "x = 10 * rng.rand(50)\n",
    "y = 2 * x - 1 + rng.randn(50)\n",
    "plt.scatter(x, y);"
   ]
  },
  {
   "cell_type": "markdown",
   "id": "d060d7a8",
   "metadata": {},
   "source": [
    "With this data in place, we can use the recipe outlined earlier. Let's walk through the process:"
   ]
  },
  {
   "cell_type": "markdown",
   "id": "1bd7acc9",
   "metadata": {},
   "source": [
    "#### 1. Choose a class of model\n",
    "\n",
    "In Scikit-Learn, every class of model is represented by a Python class.\n",
    "So, for example, if we would like to compute a simple linear regression model, we can import the linear regression class:"
   ]
  },
  {
   "cell_type": "code",
   "execution_count": null,
   "id": "48a8501f",
   "metadata": {},
   "outputs": [],
   "source": [
    "from sklearn.linear_model import LinearRegression"
   ]
  },
  {
   "cell_type": "markdown",
   "id": "29bef00d",
   "metadata": {},
   "source": [
    "Note that other more general linear regression models exist as well; you can read more about them in the [``sklearn.linear_model`` module documentation](http://Scikit-Learn.org/stable/modules/linear_model.html)."
   ]
  },
  {
   "cell_type": "markdown",
   "id": "2679217e",
   "metadata": {},
   "source": [
    "#### 2. Choose model hyperparameters\n",
    "\n",
    "An important point is that *a class of model is not the same as an instance of a model*.\n",
    "\n",
    "Once we have decided on our model class, there are still some options open to us.\n",
    "Depending on the model class we are working with, we might need to answer one or more questions like the following:\n",
    "\n",
    "- Would we like to fit for the offset (i.e., *y*-intercept)?\n",
    "- Would we like the model to be normalized?\n",
    "- Would we like to preprocess our features to add model flexibility?\n",
    "- What degree of regularization would we like to use in our model?\n",
    "- How many model components would we like to use?\n",
    "\n",
    "These are examples of the important choices that must be made *once the model class is selected*.\n",
    "These choices are often represented as *hyperparameters*, or parameters that must be set before the model is fit to data.\n",
    "In Scikit-Learn, hyperparameters are chosen by passing values at model instantiation.\n",
    "We will explore how you can quantitatively motivate the choice of hyperparameters in [Hyperparameters and Model Validation](05.03-Hyperparameters-and-Model-Validation.ipynb).\n",
    "\n",
    "For our linear regression example, we can instantiate the ``LinearRegression`` class and specify that we would like to fit the intercept using the ``fit_intercept`` hyperparameter:"
   ]
  },
  {
   "cell_type": "code",
   "execution_count": null,
   "id": "2b51a970",
   "metadata": {},
   "outputs": [],
   "source": [
    "model = LinearRegression(fit_intercept=True)\n",
    "model"
   ]
  },
  {
   "cell_type": "markdown",
   "id": "d7bf9b05",
   "metadata": {},
   "source": [
    "Keep in mind that when the model is instantiated, the only action is the storing of these hyperparameter values.\n",
    "In particular, we have not yet applied the model to any data: the Scikit-Learn API makes very clear the distinction between *choice of model* and *application of model to data*."
   ]
  },
  {
   "cell_type": "markdown",
   "id": "f24ad721",
   "metadata": {},
   "source": [
    "#### 3. Arrange data into a features matrix and target vector\n",
    "\n",
    "Previously we detailed the Scikit-Learn data representation, which requires a two-dimensional features matrix and a one-dimensional target array.\n",
    "Here our target variable ``y`` is already in the correct form (a length-``n_samples`` array), but we need to massage the data ``x`` to make it a matrix of size ``[n_samples, n_features]``.\n",
    "In this case, this amounts to a simple reshaping of the one-dimensional array:"
   ]
  },
  {
   "cell_type": "code",
   "execution_count": null,
   "id": "bcbe77aa",
   "metadata": {},
   "outputs": [],
   "source": [
    "X = x[:, np.newaxis]\n",
    "X.shape"
   ]
  },
  {
   "cell_type": "markdown",
   "id": "53663be3",
   "metadata": {},
   "source": [
    "#### 4. Fit the model to your data\n",
    "\n",
    "Now it is time to apply our model to data.\n",
    "This can be done with the ``fit()`` method of the model:"
   ]
  },
  {
   "cell_type": "code",
   "execution_count": null,
   "id": "1883d5a7",
   "metadata": {},
   "outputs": [],
   "source": [
    "model.fit(X, y)"
   ]
  },
  {
   "cell_type": "markdown",
   "id": "731763e3",
   "metadata": {},
   "source": [
    "This ``fit()`` command causes a number of model-dependent internal computations to take place, and the results of these computations are stored in model-specific attributes that the user can explore.\n",
    "In Scikit-Learn, by convention all model parameters that were learned during the ``fit()`` process have trailing underscores; for example in this linear model, we have the following:"
   ]
  },
  {
   "cell_type": "code",
   "execution_count": null,
   "id": "29614857",
   "metadata": {},
   "outputs": [],
   "source": [
    "model.coef_"
   ]
  },
  {
   "cell_type": "code",
   "execution_count": null,
   "id": "75801a76",
   "metadata": {},
   "outputs": [],
   "source": [
    "model.intercept_"
   ]
  },
  {
   "cell_type": "markdown",
   "id": "a55f9405",
   "metadata": {},
   "source": [
    "These two parameters represent the slope and intercept of the simple linear fit to the data.\n",
    "Comparing to the data definition, we see that they are very close to the input slope of 2 and intercept of -1.\n",
    "\n",
    "One question that frequently comes up regards the uncertainty in such internal model parameters.\n",
    "In general, Scikit-Learn does not provide tools to draw conclusions from internal model parameters themselves: interpreting model parameters is much more a *statistical modeling* question than a *machine learning* question.\n",
    "Machine learning rather focuses on what the model *predicts*.\n",
    "If you would like to dive into the meaning of fit parameters within the model, other tools are available, including the [Statsmodels Python package](http://statsmodels.sourceforge.net/)."
   ]
  },
  {
   "cell_type": "markdown",
   "id": "d77a3bfc",
   "metadata": {},
   "source": [
    "#### 5. Predict labels for unknown data\n",
    "\n",
    "Once the model is trained, the main task of supervised machine learning is to evaluate it based on what it says about new data that was not part of the training set.\n",
    "In Scikit-Learn, this can be done using the ``predict()`` method.\n",
    "For the sake of this example, our \"new data\" will be a grid of *x* values, and we will ask what *y* values the model predicts:"
   ]
  },
  {
   "cell_type": "code",
   "execution_count": null,
   "id": "f572384a",
   "metadata": {},
   "outputs": [],
   "source": [
    "xfit = np.linspace(-1, 11)"
   ]
  },
  {
   "cell_type": "markdown",
   "id": "15210fb2",
   "metadata": {},
   "source": [
    "As before, we need to coerce these *x* values into a ``[n_samples, n_features]`` features matrix, after which we can feed it to the model:"
   ]
  },
  {
   "cell_type": "code",
   "execution_count": null,
   "id": "71d385ab",
   "metadata": {},
   "outputs": [],
   "source": [
    "Xfit = xfit[:, np.newaxis]\n",
    "yfit = model.predict(Xfit)"
   ]
  },
  {
   "cell_type": "markdown",
   "id": "1476eeaa",
   "metadata": {},
   "source": [
    "Finally, let's visualize the results by plotting first the raw data, and then this model fit:"
   ]
  },
  {
   "cell_type": "code",
   "execution_count": null,
   "id": "6abae3c1",
   "metadata": {},
   "outputs": [],
   "source": [
    "plt.scatter(x, y)\n",
    "plt.plot(xfit, yfit);"
   ]
  },
  {
   "cell_type": "markdown",
   "id": "db695bb4",
   "metadata": {},
   "source": [
    "Typically the efficacy of the model is evaluated by comparing its results to some known baseline, as we will see in the next example"
   ]
  },
  {
   "cell_type": "markdown",
   "id": "026936a4",
   "metadata": {},
   "source": [
    "### Supervised learning example: Iris classification\n",
    "\n",
    "Let's take a look at another example of this process, using the Iris dataset we discussed earlier.\n",
    "Our question will be this: given a model trained on a portion of the Iris data, how well can we predict the remaining labels?\n",
    "\n",
    "For this task, we will use an extremely simple generative model known as Gaussian naive Bayes, which proceeds by assuming each class is drawn from an axis-aligned Gaussian distribution (see [In Depth: Naive Bayes Classification](05.05-Naive-Bayes.ipynb) for more details).\n",
    "Because it is so fast and has no hyperparameters to choose, Gaussian naive Bayes is often a good model to use as a baseline classification, before exploring whether improvements can be found through more sophisticated models.\n",
    "\n",
    "We would like to evaluate the model on data it has not seen before, and so we will split the data into a *training set* and a *testing set*.\n",
    "This could be done by hand, but it is more convenient to use the ``train_test_split`` utility function:"
   ]
  },
  {
   "cell_type": "code",
   "execution_count": null,
   "id": "37baf5b8",
   "metadata": {},
   "outputs": [],
   "source": [
    "from sklearn.cross_validation import train_test_split\n",
    "Xtrain, Xtest, ytrain, ytest = train_test_split(X_iris, y_iris,\n",
    "                                                random_state=1)"
   ]
  },
  {
   "cell_type": "markdown",
   "id": "a646e990",
   "metadata": {},
   "source": [
    "With the data arranged, we can follow our recipe to predict the labels:"
   ]
  },
  {
   "cell_type": "code",
   "execution_count": null,
   "id": "1835cf3a",
   "metadata": {},
   "outputs": [],
   "source": [
    "from sklearn.naive_bayes import GaussianNB # 1. choose model class\n",
    "model = GaussianNB()                       # 2. instantiate model\n",
    "model.fit(Xtrain, ytrain)                  # 3. fit model to data\n",
    "y_model = model.predict(Xtest)             # 4. predict on new data"
   ]
  },
  {
   "cell_type": "markdown",
   "id": "359e5d4e",
   "metadata": {},
   "source": [
    "Finally, we can use the ``accuracy_score`` utility to see the fraction of predicted labels that match their true value:"
   ]
  },
  {
   "cell_type": "code",
   "execution_count": null,
   "id": "62f4f0ea",
   "metadata": {},
   "outputs": [],
   "source": [
    "from sklearn.metrics import accuracy_score\n",
    "accuracy_score(ytest, y_model)"
   ]
  },
  {
   "cell_type": "markdown",
   "id": "b3a3836b",
   "metadata": {},
   "source": [
    "With an accuracy topping 97%, we see that even this very naive classification algorithm is effective for this particular dataset!"
   ]
  },
  {
   "cell_type": "markdown",
   "id": "1ea1c0a2",
   "metadata": {},
   "source": [
    "### Unsupervised learning example: Iris dimensionality\n",
    "\n",
    "As an example of an unsupervised learning problem, let's take a look at reducing the dimensionality of the Iris data so as to more easily visualize it.\n",
    "Recall that the Iris data is four dimensional: there are four features recorded for each sample.\n",
    "\n",
    "The task of dimensionality reduction is to ask whether there is a suitable lower-dimensional representation that retains the essential features of the data.\n",
    "Often dimensionality reduction is used as an aid to visualizing data: after all, it is much easier to plot data in two dimensions than in four dimensions or higher!\n",
    "\n",
    "Here we will use principal component analysis (PCA; see [In Depth: Principal Component Analysis](05.09-Principal-Component-Analysis.ipynb)), which is a fast linear dimensionality reduction technique.\n",
    "We will ask the model to return two components—that is, a two-dimensional representation of the data.\n",
    "\n",
    "Following the sequence of steps outlined earlier, we have:"
   ]
  },
  {
   "cell_type": "code",
   "execution_count": null,
   "id": "a9bc4375",
   "metadata": {},
   "outputs": [],
   "source": [
    "from sklearn.decomposition import PCA  # 1. Choose the model class\n",
    "model = PCA(n_components=2)            # 2. Instantiate the model with hyperparameters\n",
    "model.fit(X_iris)                      # 3. Fit to data. Notice y is not specified!\n",
    "X_2D = model.transform(X_iris)         # 4. Transform the data to two dimensions"
   ]
  },
  {
   "cell_type": "markdown",
   "id": "c95b1249",
   "metadata": {},
   "source": [
    "Now let's plot the results. A quick way to do this is to insert the results into the original Iris ``DataFrame``, and use Seaborn's ``lmplot`` to show the results:"
   ]
  },
  {
   "cell_type": "code",
   "execution_count": null,
   "id": "b8c0527c",
   "metadata": {},
   "outputs": [],
   "source": [
    "iris['PCA1'] = X_2D[:, 0]\n",
    "iris['PCA2'] = X_2D[:, 1]\n",
    "sns.lmplot(\"PCA1\", \"PCA2\", hue='species', data=iris, fit_reg=False);"
   ]
  },
  {
   "cell_type": "markdown",
   "id": "cd892379",
   "metadata": {},
   "source": [
    "We see that in the two-dimensional representation, the species are fairly well separated, even though the PCA algorithm had no knowledge of the species labels!\n",
    "This indicates to us that a relatively straightforward classification will probably be effective on the dataset, as we saw before."
   ]
  },
  {
   "cell_type": "markdown",
   "id": "84cf351d",
   "metadata": {},
   "source": [
    "### Unsupervised learning: Iris clustering\n",
    "\n",
    "Let's next look at applying clustering to the Iris data.\n",
    "A clustering algorithm attempts to find distinct groups of data without reference to any labels.\n",
    "Here we will use a powerful clustering method called a Gaussian mixture model (GMM), discussed in more detail in [In Depth: Gaussian Mixture Models](05.12-Gaussian-Mixtures.ipynb).\n",
    "A GMM attempts to model the data as a collection of Gaussian blobs.\n",
    "\n",
    "We can fit the Gaussian mixture model as follows:"
   ]
  },
  {
   "cell_type": "code",
   "execution_count": null,
   "id": "9eff4ad4",
   "metadata": {},
   "outputs": [],
   "source": [
    "from sklearn.mixture import GMM      # 1. Choose the model class\n",
    "model = GMM(n_components=3,\n",
    "            covariance_type='full')  # 2. Instantiate the model with hyperparameters\n",
    "model.fit(X_iris)                    # 3. Fit to data. Notice y is not specified!\n",
    "y_gmm = model.predict(X_iris)        # 4. Determine cluster labels"
   ]
  },
  {
   "cell_type": "markdown",
   "id": "1ca150da",
   "metadata": {},
   "source": [
    "As before, we will add the cluster label to the Iris ``DataFrame`` and use Seaborn to plot the results:"
   ]
  },
  {
   "cell_type": "code",
   "execution_count": null,
   "id": "83567bfb",
   "metadata": {},
   "outputs": [],
   "source": [
    "iris['cluster'] = y_gmm\n",
    "sns.lmplot(\"PCA1\", \"PCA2\", data=iris, hue='species',\n",
    "           col='cluster', fit_reg=False);"
   ]
  },
  {
   "cell_type": "markdown",
   "id": "5ec0fe27",
   "metadata": {},
   "source": [
    "By splitting the data by cluster number, we see exactly how well the GMM algorithm has recovered the underlying label: the *setosa* species is separated perfectly within cluster 0, while there remains a small amount of mixing between *versicolor* and *virginica*.\n",
    "This means that even without an expert to tell us the species labels of the individual flowers, the measurements of these flowers are distinct enough that we could *automatically* identify the presence of these different groups of species with a simple clustering algorithm!\n",
    "This sort of algorithm might further give experts in the field clues as to the relationship between the samples they are observing."
   ]
  },
  {
   "cell_type": "markdown",
   "id": "ec7a7a16",
   "metadata": {},
   "source": [
    "## Application: Exploring Hand-written Digits"
   ]
  },
  {
   "cell_type": "markdown",
   "id": "3761d991",
   "metadata": {},
   "source": [
    "To demonstrate these principles on a more interesting problem, let's consider one piece of the optical character recognition problem: the identification of hand-written digits.\n",
    "In the wild, this problem involves both locating and identifying characters in an image. Here we'll take a shortcut and use Scikit-Learn's set of pre-formatted digits, which is built into the library."
   ]
  },
  {
   "cell_type": "markdown",
   "id": "e3dd0845",
   "metadata": {},
   "source": [
    "### Loading and visualizing the digits data\n",
    "\n",
    "We'll use Scikit-Learn's data access interface and take a look at this data:"
   ]
  },
  {
   "cell_type": "code",
   "execution_count": null,
   "id": "ea68113e",
   "metadata": {},
   "outputs": [],
   "source": [
    "from sklearn.datasets import load_digits\n",
    "digits = load_digits()\n",
    "digits.images.shape"
   ]
  },
  {
   "cell_type": "markdown",
   "id": "aedc04ca",
   "metadata": {},
   "source": [
    "The images data is a three-dimensional array: 1,797 samples each consisting of an 8 × 8 grid of pixels.\n",
    "Let's visualize the first hundred of these:"
   ]
  },
  {
   "cell_type": "code",
   "execution_count": null,
   "id": "c0db9a8d",
   "metadata": {},
   "outputs": [],
   "source": [
    "import matplotlib.pyplot as plt\n",
    "\n",
    "fig, axes = plt.subplots(10, 10, figsize=(8, 8),\n",
    "                         subplot_kw={'xticks':[], 'yticks':[]},\n",
    "                         gridspec_kw=dict(hspace=0.1, wspace=0.1))\n",
    "\n",
    "for i, ax in enumerate(axes.flat):\n",
    "    ax.imshow(digits.images[i], cmap='binary', interpolation='nearest')\n",
    "    ax.text(0.05, 0.05, str(digits.target[i]),\n",
    "            transform=ax.transAxes, color='green')"
   ]
  },
  {
   "cell_type": "markdown",
   "id": "660cb999",
   "metadata": {},
   "source": [
    "In order to work with this data within Scikit-Learn, we need a two-dimensional, ``[n_samples, n_features]`` representation.\n",
    "We can accomplish this by treating each pixel in the image as a feature: that is, by flattening out the pixel arrays so that we have a length-64 array of pixel values representing each digit.\n",
    "Additionally, we need the target array, which gives the previously determined label for each digit.\n",
    "These two quantities are built into the digits dataset under the ``data`` and ``target`` attributes, respectively:"
   ]
  },
  {
   "cell_type": "code",
   "execution_count": null,
   "id": "762bcd71",
   "metadata": {},
   "outputs": [],
   "source": [
    "X = digits.data\n",
    "X.shape"
   ]
  },
  {
   "cell_type": "code",
   "execution_count": null,
   "id": "b538f00f",
   "metadata": {},
   "outputs": [],
   "source": [
    "y = digits.target\n",
    "y.shape"
   ]
  },
  {
   "cell_type": "markdown",
   "id": "8b17816f",
   "metadata": {},
   "source": [
    "We see here that there are 1,797 samples and 64 features."
   ]
  },
  {
   "cell_type": "markdown",
   "id": "f5d7cc2b",
   "metadata": {},
   "source": [
    "### Unsupervised learning: Dimensionality reduction\n",
    "\n",
    "We'd like to visualize our points within the 64-dimensional parameter space, but it's difficult to effectively visualize points in such a high-dimensional space.\n",
    "Instead we'll reduce the dimensions to 2, using an unsupervised method.\n",
    "Here, we'll make use of a manifold learning algorithm called *Isomap* (see [In-Depth: Manifold Learning](05.10-Manifold-Learning.ipynb)), and transform the data to two dimensions:"
   ]
  },
  {
   "cell_type": "code",
   "execution_count": null,
   "id": "8abcf83f",
   "metadata": {},
   "outputs": [],
   "source": [
    "from sklearn.manifold import Isomap\n",
    "iso = Isomap(n_components=2)\n",
    "iso.fit(digits.data)\n",
    "data_projected = iso.transform(digits.data)\n",
    "data_projected.shape"
   ]
  },
  {
   "cell_type": "markdown",
   "id": "bd440313",
   "metadata": {},
   "source": [
    "We see that the projected data is now two-dimensional.\n",
    "Let's plot this data to see if we can learn anything from its structure:"
   ]
  },
  {
   "cell_type": "code",
   "execution_count": null,
   "id": "c2107b4e",
   "metadata": {},
   "outputs": [],
   "source": [
    "plt.scatter(data_projected[:, 0], data_projected[:, 1], c=digits.target,\n",
    "            edgecolor='none', alpha=0.5,\n",
    "            cmap=plt.cm.get_cmap('spectral', 10))\n",
    "plt.colorbar(label='digit label', ticks=range(10))\n",
    "plt.clim(-0.5, 9.5);"
   ]
  },
  {
   "cell_type": "markdown",
   "id": "7a0d8080",
   "metadata": {},
   "source": [
    "This plot gives us some good intuition into how well various numbers are separated in the larger 64-dimensional space. For example, zeros (in black) and ones (in purple) have very little overlap in parameter space.\n",
    "Intuitively, this makes sense: a zero is empty in the middle of the image, while a one will generally have ink in the middle.\n",
    "On the other hand, there seems to be a more or less continuous spectrum between ones and fours: we can understand this by realizing that some people draw ones with \"hats\" on them, which cause them to look similar to fours.\n",
    "\n",
    "Overall, however, the different groups appear to be fairly well separated in the parameter space: this tells us that even a very straightforward supervised classification algorithm should perform suitably on this data.\n",
    "Let's give it a try."
   ]
  },
  {
   "cell_type": "markdown",
   "id": "3b877184",
   "metadata": {},
   "source": [
    "### Classification on digits\n",
    "\n",
    "Let's apply a classification algorithm to the digits.\n",
    "As with the Iris data previously, we will split the data into a training and testing set, and fit a Gaussian naive Bayes model:"
   ]
  },
  {
   "cell_type": "code",
   "execution_count": null,
   "id": "0fd62690",
   "metadata": {},
   "outputs": [],
   "source": [
    "Xtrain, Xtest, ytrain, ytest = train_test_split(X, y, random_state=0)"
   ]
  },
  {
   "cell_type": "code",
   "execution_count": null,
   "id": "529f36b5",
   "metadata": {},
   "outputs": [],
   "source": [
    "from sklearn.naive_bayes import GaussianNB\n",
    "model = GaussianNB()\n",
    "model.fit(Xtrain, ytrain)\n",
    "y_model = model.predict(Xtest)"
   ]
  },
  {
   "cell_type": "markdown",
   "id": "199acaa7",
   "metadata": {},
   "source": [
    "Now that we have predicted our model, we can gauge its accuracy by comparing the true values of the test set to the predictions:"
   ]
  },
  {
   "cell_type": "code",
   "execution_count": null,
   "id": "e8ffa09f",
   "metadata": {},
   "outputs": [],
   "source": [
    "from sklearn.metrics import accuracy_score\n",
    "accuracy_score(ytest, y_model)"
   ]
  },
  {
   "cell_type": "markdown",
   "id": "cec6ea09",
   "metadata": {},
   "source": [
    "With even this extremely simple model, we find about 80% accuracy for classification of the digits!\n",
    "However, this single number doesn't tell us *where* we've gone wrong—one nice way to do this is to use the *confusion matrix*, which we can compute with Scikit-Learn and plot with Seaborn:"
   ]
  },
  {
   "cell_type": "code",
   "execution_count": null,
   "id": "b249224a",
   "metadata": {},
   "outputs": [],
   "source": [
    "from sklearn.metrics import confusion_matrix\n",
    "\n",
    "mat = confusion_matrix(ytest, y_model)\n",
    "\n",
    "sns.heatmap(mat, square=True, annot=True, cbar=False)\n",
    "plt.xlabel('predicted value')\n",
    "plt.ylabel('true value');"
   ]
  },
  {
   "cell_type": "markdown",
   "id": "6fc7af62",
   "metadata": {},
   "source": [
    "This shows us where the mis-labeled points tend to be: for example, a large number of twos here are mis-classified as either ones or eights.\n",
    "Another way to gain intuition into the characteristics of the model is to plot the inputs again, with their predicted labels.\n",
    "We'll use green for correct labels, and red for incorrect labels:"
   ]
  },
  {
   "cell_type": "code",
   "execution_count": null,
   "id": "ccb777bd",
   "metadata": {},
   "outputs": [],
   "source": [
    "fig, axes = plt.subplots(10, 10, figsize=(8, 8),\n",
    "                         subplot_kw={'xticks':[], 'yticks':[]},\n",
    "                         gridspec_kw=dict(hspace=0.1, wspace=0.1))\n",
    "\n",
    "test_images = Xtest.reshape(-1, 8, 8)\n",
    "\n",
    "for i, ax in enumerate(axes.flat):\n",
    "    ax.imshow(test_images[i], cmap='binary', interpolation='nearest')\n",
    "    ax.text(0.05, 0.05, str(y_model[i]),\n",
    "            transform=ax.transAxes,\n",
    "            color='green' if (ytest[i] == y_model[i]) else 'red')"
   ]
  },
  {
   "cell_type": "markdown",
   "id": "66faa3ac",
   "metadata": {},
   "source": [
    "Examining this subset of the data, we can gain insight regarding where the algorithm might be not performing optimally.\n",
    "To go beyond our 80% classification rate, we might move to a more sophisticated algorithm such as support vector machines (see [In-Depth: Support Vector Machines](05.07-Support-Vector-Machines.ipynb)), random forests (see [In-Depth: Decision Trees and Random Forests](05.08-Random-Forests.ipynb)) or another classification approach."
   ]
  },
  {
   "cell_type": "markdown",
   "id": "fe4161df",
   "metadata": {},
   "source": [
    "## Summary"
   ]
  },
  {
   "cell_type": "markdown",
   "id": "93fdfbbe",
   "metadata": {},
   "source": [
    "In this section we have covered the essential features of the Scikit-Learn data representation, and the estimator API.\n",
    "Regardless of the type of estimator, the same import/instantiate/fit/predict pattern holds.\n",
    "Armed with this information about the estimator API, you can explore the Scikit-Learn documentation and begin trying out various models on your data.\n",
    "\n",
    "In the next section, we will explore perhaps the most important topic in machine learning: how to select and validate your model."
   ]
  },
  {
   "cell_type": "code",
   "execution_count": null,
   "id": "c78f0a88",
   "metadata": {},
   "outputs": [],
   "source": []
  },
  {
   "cell_type": "code",
   "execution_count": null,
   "id": "57d6f433",
   "metadata": {},
   "outputs": [],
   "source": []
  },
  {
   "cell_type": "markdown",
   "id": "142c9e81",
   "metadata": {},
   "source": [
    "[Voltar ao índice](#index)"
   ]
  }
 ],
 "metadata": {
  "kernelspec": {
   "display_name": "Python 3 (ipykernel)",
   "language": "python",
   "name": "python3"
  },
  "language_info": {
   "codemirror_mode": {
    "name": "ipython",
    "version": 3
   },
   "file_extension": ".py",
   "mimetype": "text/x-python",
   "name": "python",
   "nbconvert_exporter": "python",
   "pygments_lexer": "ipython3",
   "version": "3.9.7"
  }
 },
 "nbformat": 4,
 "nbformat_minor": 5
}
