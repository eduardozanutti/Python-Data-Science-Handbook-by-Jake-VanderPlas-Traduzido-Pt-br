{
 "cells": [
  {
   "cell_type": "markdown",
   "id": "885def74",
   "metadata": {},
   "source": [
    "# Python - Livro de mão para Ciência de Dados (Data Science) <a id='home'></a>"
   ]
  },
  {
   "cell_type": "markdown",
   "id": "48535b99",
   "metadata": {},
   "source": [
    "*Jake VanderPlas*\n",
    "\n",
    "![Book Cover](https://github.com/jakevdp/PythonDataScienceHandbook/blob/master/notebooks/figures/PDSH-cover.png?raw=true)"
   ]
  },
  {
   "cell_type": "markdown",
   "id": "5a91e716",
   "metadata": {},
   "source": [
    "Esta é a versão do notebook Jupyter do [Python Data Science Handbook](http://shop.oreilly.com/product/0636920034919.do) por Jake VanderPlas; o conteúdo está disponível [no GitHub](https://github.com/jakevdp/PythonDataScienceHandbook).*\n",
    "O texto é publicado sob o [CC-BY-NC-ND license](https://creativecommons.org/licenses/by-nc-nd/3.0/us/legalcode), e o código é lançado sob o [MIT license](https://opensource.org/licenses/MIT). Se você achar este conteúdo útil, considere apoiar o trabalho [comprando o livro](http://shop.oreilly.com/product/0636920034919.do)!"
   ]
  },
  {
   "cell_type": "markdown",
   "id": "86d28867",
   "metadata": {},
   "source": [
    "## Tabela de conteúdos <a id='index'></a>\n",
    "\n",
    "### [Capa](#home)\n",
    "### [Prefácio](#preface)\n",
    "\n",
    "### [1. IPython: Além do Python normal](#ipython)\n",
    "- [Ajuda e Documentação no IPython](#help_documentation)\n",
    "- [Keyboard Shortcuts in the IPython Shell](#shortcuts)\n",
    "- [IPython Magic Commands](#magic)\n",
    "- [Input and Output History](#history_in_out)\n",
    "- [IPython and Shell Commands]\n",
    "- [Errors and Debugging]\n",
    "- [Profiling and Timing Code]\n",
    "- [More IPython Resources]\n",
    "\n",
    "### [2. Introduction to NumPy]\n",
    "- [Understanding Data Types in Python]\n",
    "- [The Basics of NumPy Arrays]\n",
    "- [Computation on NumPy Arrays: Universal Functions]\n",
    "- [Aggregations: Min, Max, and Everything In Between]\n",
    "- [Computation on Arrays: Broadcasting]\n",
    "- [Comparisons, Masks, and Boolean Logic]\n",
    "- [Fancy Indexing]\n",
    "- [Sorting Arrays]\n",
    "- [Structured Data: NumPy's Structured Arrays]\n",
    "\n",
    "### [3. Data Manipulation with Pandas]\n",
    "- [Introducing Pandas Objects]\n",
    "- [Data Indexing and Selection]\n",
    "- [Operating on Data in Pandas]\n",
    "- [Handling Missing Data]\n",
    "- [Hierarchical Indexing]\n",
    "- [Combining Datasets: Concat and Append]\n",
    "- [Combining Datasets: Merge and Join]\n",
    "- [Aggregation and Grouping]\n",
    "- [Pivot Tables]\n",
    "- [Vectorized String Operations]\n",
    "- [Working with Time Series]\n",
    "- [High-Performance Pandas: eval() and query()]\n",
    "- [Further Resources]\n",
    "\n",
    "### [4. Visualization with Matplotlib]\n",
    "- [Simple Line Plots]\n",
    "- [Simple Scatter Plots]\n",
    "- [Visualizing Errors]\n",
    "- [Density and Contour Plots]\n",
    "- [Histograms, Binnings, and Density]\n",
    "- [Customizing Plot Legends]\n",
    "- [Customizing Colorbars]\n",
    "- [Multiple Subplots]\n",
    "- [Text and Annotation]\n",
    "- [Customizing Ticks]\n",
    "- [Customizing Matplotlib: Configurations and Stylesheets]\n",
    "- [Three-Dimensional Plotting in Matplotlib]\n",
    "- [Geographic Data with Basemap]\n",
    "- [Visualization with Seaborn]\n",
    "- [Further Resources]\n",
    "\n",
    "### [5. Machine Learning]\n",
    "- [What Is Machine Learning?]\n",
    "- [Introducing Scikit-Learn]\n",
    "- [Hyperparameters and Model Validation]\n",
    "- [Feature Engineering]\n",
    "- [In Depth: Naive Bayes Classification]\n",
    "- [In Depth: Linear Regression]\n",
    "- [In-Depth: Support Vector Machines]\n",
    "- [In-Depth: Decision Trees and Random Forests]\n",
    "- [In Depth: Principal Component Analysis]\n",
    "- [In-Depth: Manifold Learning]\n",
    "- [In Depth: k-Means Clustering]\n",
    "- [In Depth: Gaussian Mixture Models]\n",
    "- [In-Depth: Kernel Density Estimation]\n",
    "- [Application: A Face Detection Pipeline]\n",
    "- [Further Machine Learning Resources]\n",
    "\n",
    "### [Appendix: Figure Code]"
   ]
  },
  {
   "cell_type": "markdown",
   "id": "ab30ac18",
   "metadata": {},
   "source": [
    "<!--BOOK_INFORMATION-->\n",
    "<img align=\"left\" style=\"padding-right:10px;\" src=\"https://github.com/jakevdp/PythonDataScienceHandbook/blob/master/notebooks/figures/PDSH-cover-small.png?raw=true\">\n",
    "\n",
    "*Esse notebook contém trechos do [Python Data Science Handbook](http://shop.oreilly.com/product/0636920034919.do) por Jake VanderPlas; o conteúdo está disponível [on GitHub](https://github.com/jakevdp/PythonDataScienceHandbook).*\n",
    "*O texto é publicado sob o [CC-BY-NC-ND license](https://creativecommons.org/licenses/by-nc-nd/3.0/us/legalcode), and code is lançado sob o [MIT license](https://opensource.org/licenses/MIT). Se você achar este conteúdo útil, considere apoiar o trabalho  [comprando o livro](http://shop.oreilly.com/product/0636920034919.do)!*"
   ]
  },
  {
   "cell_type": "markdown",
   "id": "8a941929",
   "metadata": {},
   "source": [
    "# Prefácio <a id='preface'></a>"
   ]
  },
  {
   "cell_type": "markdown",
   "id": "d463078c",
   "metadata": {},
   "source": [
    "<!--NAVIGATION-->\n",
    "| [Índice](#index) | [IPython: Além do Python normal](#ipython) >\n",
    "\n",
    "<a href=\"https://colab.research.google.com/github/jakevdp/PythonDataScienceHandbook/blob/master/notebooks/00.00-Preface.ipynb\"><img align=\"left\" src=\"https://colab.research.google.com/assets/colab-badge.svg\" alt=\"Open in Colab\" title=\"Open and Execute in Google Colaboratory\"></a>"
   ]
  },
  {
   "cell_type": "markdown",
   "id": "edf2ae27",
   "metadata": {},
   "source": [
    "## O que é Data Science?\n",
    "Este é um livro sobre como fazer ciência de dados com Python, o que imediatamente levanta a questão: o que é ciência de dados? É uma definição surpreendentemente difícil de definir, especialmente considerando o quão onipresente o termo se tornou. Os críticos vocais têm rejeitado o termo de várias maneiras como um rótulo supérfluo (afinal, que ciência não envolve dados?) Ou um chavão simples que só existe para salgar currículos e chamar a atenção de recrutadores de tecnologia excessivamente zelosos.\n",
    "\n",
    "Em minha mente, essas críticas deixam passar algo importante. A ciência de dados, apesar de seu verniz carregado de expectativa, é talvez o melhor rótulo que temos para o conjunto interdisciplinar de habilidades que estão se tornando cada vez mais importantes em muitas aplicações na indústria e na academia. Esta peça interdisciplinar é a chave: em minha opinião, a melhor definição existente de ciência de dados é ilustrada pelo Diagrama de Venn de Ciência de Dados de Drew Conway, publicado pela primeira vez em seu blog em setembro de 2010:"
   ]
  },
  {
   "cell_type": "markdown",
   "id": "53fe71a0",
   "metadata": {},
   "source": [
    "![Data Science Venn Diagram](https://images.squarespace-cdn.com/content/v1/5150aec6e4b0e340ec52710a/1364352051365-HZAS3CLBF7ABLE3F5OBY/Data_Science_VD.png?format=750w)\n",
    "\n",
    "<small>(Source: [Drew Conway](http://drewconway.com/zia/2013/3/26/the-data-science-venn-diagram). Used by permission.)</small>"
   ]
  },
  {
   "cell_type": "markdown",
   "id": "9234d637",
   "metadata": {},
   "source": [
    "Embora alguns dos rótulos de interseção sejam um tanto irônicos, este diagrama captura a essência do que eu acho que as pessoas querem dizer quando dizem \"ciência de dados\": é fundamentalmente um assunto interdisciplinar. A ciência de dados compreende três áreas distintas e sobrepostas: as habilidades de um estatístico que sabe como modelar e resumir conjuntos de dados (que estão cada vez maiores); as habilidades de um cientista da computação que pode projetar e usar algoritmos para armazenar, processar e visualizar esses dados com eficiência; e o domínio da <i>expertise</i> - o que podemos pensar como treinamento \"clássico\" em um assunto - necessária tanto para formular as perguntas certas quanto para colocar suas respostas no contexto.\n",
    "\n",
    "Com isso em mente, eu o encorajaria a pensar em ciência de dados não como um novo domínio de conhecimento a ser aprendido, mas um novo conjunto de habilidades que você pode aplicar em sua área de especialização atual. Esteja você relatando resultados eleitorais, prevendo retornos de ações, otimizando cliques em anúncios online, identificando microorganismos em fotos de microscópio, buscando novas classes de objetos astronômicos ou trabalhando com dados em qualquer outro campo, o objetivo deste livro é fornecer a você a capacidade de pergunte e responda novas perguntas sobre a área de assunto escolhida."
   ]
  },
  {
   "cell_type": "markdown",
   "id": "9524b0da",
   "metadata": {},
   "source": [
    "## Para quem é este livro?\n",
    "\n",
    "Em minhas aulas na Universidade de Washington e em várias conferências e encontros com foco em tecnologia, uma das perguntas mais comuns que ouvi é esta: \"como devo aprender Python?\"\n",
    "As pessoas que perguntam isso são geralmente estudantes, desenvolvedores ou pesquisadores com mentalidade técnica, muitas vezes com uma sólida experiência em escrever códigos e usar ferramentas computacionais e numéricas.\n",
    "A maioria dessas pessoas não querem aprender Python *por si só*, mas querem aprender a linguagem com o objetivo de usá-la como uma ferramenta para uso intensivo de dados e ciência computacional.\n",
    "Embora uma grande colcha de retalhos de vídeos, postagens em blogs e tutoriais para esse público esteja disponível online, há muito tempo fico frustrado com a falta de uma única resposta adequada para essa pergunta; foi isso que inspirou este livro.\n",
    "\n",
    "O livro não pretende ser uma introdução ao Python ou à programação em geral; Presumo que o leitor tenha familiaridade com a linguagem Python, incluindo definição de funções, atribuição de variáveis, chamada de métodos de objetos, controle do fluxo de um programa e outras tarefas básicas.\n",
    "Em vez disso, destina-se a ajudar os usuários de Python a aprender a usar as bibliotecas de pilha de ciência de dados do Python, como IPython, NumPy, Pandas, Matplotlib, Scikit-Learn e ferramentas relacionadas - para armazenar, manipular e obter informações de dados de maneira eficaz."
   ]
  },
  {
   "cell_type": "markdown",
   "id": "b7f0eaa9",
   "metadata": {},
   "source": [
    "## Por que Python?\n",
    "\n",
    "Python surgiu nas últimas décadas como uma ferramenta de primeira classe para tarefas de computação científica, incluindo a análise e visualização de grandes conjuntos de dados.\n",
    "Isso pode ter sido uma surpresa para os criadores da linguagem Python: a linguagem em si não foi projetada especificamente para a análise de dados ou computação científica.\n",
    "A utilidade do Python para a ciência de dados deriva principalmente do grande e ativo ecossistema de pacotes de terceiros: *NumPy* para manipulação de dados homogêneos baseados em array (matrizes), *Pandas* para manipulação de dados heterogêneos e rotulados, *SciPy* para dados científicos comuns tarefas de computação, *Matplotlib* para visualização de dados com qualidade de publicação, *IPython* para execução interativa e compartilhamento de código, *Scikit-Learn* para aprendizado de máquina e muitas outras ferramentas que serão mencionadas nas páginas a seguir.\n",
    "\n",
    "Se você está procurando um guia para a linguagem Python em si, sugiro o projeto irmão deste livro, \"[Um tour rápido pela linguagem Python](https://jakevdp.github.io/WhirlwindTourOfPython)\".\n",
    "Este breve relatório fornece um tour pelos recursos essenciais da linguagem Python, voltado para cientistas de dados que já estão familiarizados com uma ou mais outras linguagens de programação."
   ]
  },
  {
   "cell_type": "markdown",
   "id": "aef633aa",
   "metadata": {},
   "source": [
    "### Python 2 vs Python 3\n",
    "\n",
    "Este livro usa a sintaxe do Python 3, que contém aprimoramentos de linguagem que não são compatíveis com a série 2.x do Python.\n",
    "Embora o Python 3.0 tenha sido lançado pela primeira vez em 2008, a adoção tem sido relativamente lenta, particularmente nas comunidades científica e de desenvolvimento da web.\n",
    "Isso ocorre principalmente porque levou algum tempo para que muitos dos pacotes e kits de ferramentas essenciais de terceiros se tornassem compatíveis com as novas linguagens internas.\n",
    "Desde o início de 2014, no entanto, as versões estáveis das ferramentas mais importantes no ecossistema de ciência de dados são totalmente compatíveis com Python 2 e 3 e, portanto, este livro usará a sintaxe Python 3 mais recente.\n",
    "No entanto, a grande maioria dos fragmentos de código neste livro também funcionará sem modificação no Python 2: nos casos em que uma sintaxe incompatível com Py2 for usada, farei todo o possível para observá-la explicitamente."
   ]
  },
  {
   "cell_type": "markdown",
   "id": "14496d2d",
   "metadata": {},
   "source": [
    "## Esboço do livro\n",
    "\n",
    "Cada capítulo deste livro enfoca um pacote ou ferramenta particular que contribui com uma parte fundamental da história do Python Data Science.\n",
    "\n",
    "1. IPython e Jupyter: esses pacotes fornecem o ambiente computacional no qual trabalham muitos cientistas de dados que usam Python.\n",
    "2. NumPy: esta biblioteca fornece o `` ndarray`` para armazenamento e manipulação eficientes de matrizes de dados densos em Python.\n",
    "3. Pandas: esta biblioteca fornece o `` DataFrame`` para armazenamento e manipulação eficientes de dados rotulados / colunares em Python.\n",
    "4. Matplotlib: esta biblioteca fornece recursos para uma gama flexível de visualizações de dados em Python.\n",
    "5. Scikit-Learn: esta biblioteca fornece implementações Python eficientes e limpas dos algoritmos de aprendizado de máquina mais importantes e estabelecidos.\n",
    "\n",
    "O mundo PyData é certamente muito maior do que esses cinco pacotes e está crescendo a cada dia.\n",
    "Com isso em mente, faço todas as tentativas dessas páginas para fornecer referências a outros esforços, projetos e pacotes interessantes que estão ultrapassando os limites do que pode ser feito em Python.\n",
    "No entanto, esses cinco são atualmente fundamentais para grande parte do trabalho que está sendo feito no espaço da ciência de dados Python, e espero que continuem importantes mesmo que o ecossistema continue crescendo ao seu redor."
   ]
  },
  {
   "cell_type": "markdown",
   "id": "9cf8f8f4",
   "metadata": {},
   "source": [
    "## Usando exemplos de código\n",
    "\n",
    "O material complementar (exemplos de código, figuras, etc.) está disponível para download em http://github.com/jakevdp/PythonDataScienceHandbook/. Este livro está aqui para ajudá-lo a realizar seu trabalho. Em geral, se o código de exemplo é oferecido com este livro, você pode usá-lo em seus programas e documentação. Você não precisa entrar em contato conosco para obter permissão, a menos que esteja reproduzindo uma parte significativa do código. Por exemplo, escrever um programa que usa vários pedaços de código deste livro não requer permissão. Vender ou distribuir um CD-ROM de exemplos de livros O’Reilly requer permissão. Responder a uma pergunta citando este livro e citando um código de exemplo não requer permissão. Incorporar uma quantidade significativa de código de exemplo deste livro na documentação do seu produto requer permissão.\n",
    "\n",
    "Agradecemos, mas não exigimos atribuição. Uma atribuição geralmente inclui o título, autor, editora e ISBN. Por exemplo:\n",
    "\n",
    "> *The Python Data Science Handbook* por Jake VanderPlas (O’Reilly). Copyright 2016 Jake VanderPlas, 978-1-491-91205-8.\n",
    "\n",
    "Se você acha que o uso de exemplos de código está fora do uso justo ou da permissão fornecida acima, sinta-se à vontade para nos contatar em permissions@oreilly.com."
   ]
  },
  {
   "cell_type": "code",
   "execution_count": null,
   "id": "86528876",
   "metadata": {},
   "outputs": [],
   "source": []
  },
  {
   "cell_type": "markdown",
   "id": "c5d37860",
   "metadata": {},
   "source": [
    "# 1. IPython: além do Python normal <a id='ipython'></a>"
   ]
  },
  {
   "cell_type": "markdown",
   "id": "5449e1f6",
   "metadata": {},
   "source": [
    "<!--NAVIGATION-->\n",
    "< [Prefácio](#preface) | [Índice](#index) | [Ajuda e Documentação do IPhyton](#help_documentation) >\n",
    "\n",
    "<a href=\"https://colab.research.google.com/github/jakevdp/PythonDataScienceHandbook/blob/master/notebooks/01.00-IPython-Beyond-Normal-Python.ipynb\"><img align=\"left\" src=\"https://colab.research.google.com/assets/colab-badge.svg\" alt=\"Open in Colab\" title=\"Open and Execute in Google Colaboratory\"></a>\n"
   ]
  },
  {
   "cell_type": "markdown",
   "id": "ab9abcf4",
   "metadata": {},
   "source": [
    "Existem muitas opções para ambientes de desenvolvimento para Python, e muitas vezes me perguntam qual eu uso em meu próprio trabalho.\n",
    "Minha resposta às vezes surpreende as pessoas: meu ambiente preferido é [IPython](http://ipython.org/) e mais um editor de texto (no meu caso, Emacs ou Atom dependendo do meu humor).\n",
    "IPython (abreviação de *Interactive Python*) foi iniciado em 2001 por Fernando Perez como um interpretador Python aprimorado e, desde então, se tornou um projeto com o objetivo de fornecer, nas palavras de Perez, \"Ferramentas para todo o ciclo de vida da computação de pesquisa.\"\n",
    "Se Python é o motor de nossa tarefa de ciência de dados, você pode pensar em IPython como o painel de controle interativo.\n",
    "\n",
    "Além de ser uma interface interativa útil para Python, o IPython também fornece uma série de adições sintáticas úteis para a linguagem; vamos cobrir as mais úteis dessas adições aqui.\n",
    "Além disso, o IPython está intimamente ligado ao [projeto Jupyter](http://jupyter.org), que fornece um bloco de notas baseado em navegador que é útil para desenvolvimento, colaboração, compartilhamento e até publicação de resultados de ciência de dados.\n",
    "O bloco de notas IPython é na verdade um caso especial da estrutura de bloco de notas Jupyter (*Jupyter Notebook*) mais ampla, que abrange blocos de notas para Julia, R e outras linguagens de programação.\n",
    "Como exemplo da utilidade do formato de *notebook*, basta olhar para a página que você está lendo: todo o manuscrito deste livro foi composto como um conjunto de blocos de notas IPython.\n",
    "\n",
    "IPython é sobre como usar Python efetivamente para computação científica interativa e com uso intensivo de dados.\n",
    "Este capítulo começará percorrendo alguns dos recursos do IPython que são úteis para a prática da ciência de dados, focando especialmente na sintaxe que oferece além dos recursos padrão do Python.\n",
    "A seguir, vamos nos aprofundar um pouco mais em alguns dos \"comandos mágicos\" (*Magic Tools*) mais úteis que podem acelerar tarefas comuns na criação e no uso de código de ciência de dados.\n",
    "Por fim, abordaremos alguns dos recursos do bloco de notas que o tornam útil na compreensão de dados e no compartilhamento de resultados."
   ]
  },
  {
   "cell_type": "markdown",
   "id": "6b88c678",
   "metadata": {},
   "source": [
    "## Shell ou Notebook?\n",
    "\n",
    "Existem dois meios principais de usar IPython que discutiremos neste capítulo: o IPython shell e o IPython notebook.\n",
    "A maior parte do material neste capítulo é relevante para ambos, e os exemplos irão alternar entre eles dependendo do que for mais conveniente.\n",
    "Nas poucas seções que são relevantes apenas para um ou outro, declararemos explicitamente esse fato.\n",
    "Antes de começar, algumas palavras sobre como iniciar o IPython shell e o IPython notebook."
   ]
  },
  {
   "cell_type": "markdown",
   "id": "03d66e6f",
   "metadata": {},
   "source": [
    "### Lançando o IPython Shell\n",
    "\n",
    "Este capítulo, como a maior parte deste livro, não foi projetado para ser absorvido passivamente.\n",
    "Recomendo que, ao lê-lo, você acompanhe e experimente as ferramentas e a sintaxe que abordamos: a memória muscular que você constrói ao fazer isso será muito mais útil do que o simples ato de ler sobre ela.\n",
    "Comece iniciando o interpretador IPython digitando **``ipython``** na linha de comando; alternativamente, se você instalou uma distribuição como Anaconda ou EPD, pode haver um inicializador específico para seu sistema (discutiremos isso mais detalhadamente em [Ajuda e documentação em IPython](#help_documentation)\n",
    "\n",
    "Depois de fazer isso, você verá um prompt como o seguinte:\n",
    "```ipython\n",
    "IPython 4.0.1 - Um Python interativo aprimorado.\n",
    "? -> Introdução e visão geral dos recursos do IPython.\n",
    "% quickref -> Referência rápida.\n",
    "help -> O próprio sistema de ajuda do Python.\n",
    "object? -> Detalhes sobre 'objeto', use 'objeto ??' para detalhes extras.\n",
    "In [1]:\n",
    "```\n",
    "<p>\n",
    "Com isso, você está pronto para seguir em frente."
   ]
  },
  {
   "cell_type": "markdown",
   "id": "b864eca4",
   "metadata": {},
   "source": [
    "### Lançando o Jupyter Notebook\n",
    "\n",
    "O notebook Jupyter é uma interface gráfica baseada em navegador para o IPython shell e se baseia em um rico conjunto de recursos de exibição dinâmica.\n",
    "Além de executar instruções Python / IPython, o notebook permite ao usuário incluir texto formatado, visualizações estáticas e dinâmicas, equações matemáticas, widgets JavaScript e muito mais.\n",
    "Além disso, esses documentos podem ser salvos de forma que outras pessoas os abram e executem o código em seus próprios sistemas.\n",
    "\n",
    "Embora o bloco de notas IPython seja visualizado e editado por meio da janela do navegador da web, ele deve se conectar a um processo Python em execução para executar o código.\n",
    "Esse processo (conhecido como \"kernel\") pode ser iniciado executando o seguinte comando no shell do sistema:\n",
    "\n",
    "```ipython\n",
    "$ jupyter notebook\n",
    "```\n",
    "\n",
    "Este comando irá lançar um servidor web local que ficará visível para o seu navegador.\n",
    "Ele imediatamente cospe um registro mostrando o que está fazendo; esse registro será semelhante a este:\n",
    "\n",
    "```ipython\n",
    "$ jupyter notebook\n",
    "[NotebookApp] Serving notebooks from local directory: /Users/jakevdp/PythonDataScienceHandbook\n",
    "[NotebookApp] 0 active kernels\n",
    "[NotebookApp] The IPython Notebook is running at: http://localhost:8888/\n",
    "[NotebookApp] Use Control-C to stop this server and shut down all kernels (twice to skip confirmation).\n",
    "```\n",
    "\n",
    "Ao emitir o comando, seu navegador padrão deve abrir automaticamente e navegar para o URL local listado;\n",
    "o endereço exato dependerá do seu sistema.\n",
    "Se o navegador não abrir automaticamente, você pode abrir uma janela e abrir manualmente este endereço (*http://localhost:8888/* neste exemplo)."
   ]
  },
  {
   "cell_type": "markdown",
   "id": "88237bee",
   "metadata": {},
   "source": [
    "<!--BOOK_INFORMATION-->\n",
    "<img align=\"left\" style=\"padding-right:10px;\" src=\"https://github.com/jakevdp/PythonDataScienceHandbook/blob/master/notebooks/figures/PDSH-cover-small.png?raw=true\">\n",
    "\n",
    "*Esse notebook contém trechos do [Python Data Science Handbook](http://shop.oreilly.com/product/0636920034919.do) por Jake VanderPlas; o conteúdo está disponível [on GitHub](https://github.com/jakevdp/PythonDataScienceHandbook).*\n",
    "*O texto é publicado sob o [CC-BY-NC-ND license](https://creativecommons.org/licenses/by-nc-nd/3.0/us/legalcode), and code is lançado sob o [MIT license](https://opensource.org/licenses/MIT). Se você achar este conteúdo útil, considere apoiar o trabalho  [comprando o livro](http://shop.oreilly.com/product/0636920034919.do)!*"
   ]
  },
  {
   "cell_type": "markdown",
   "id": "4c8b43ae",
   "metadata": {},
   "source": [
    "## 1.1 Ajuda e documentação no IPython <a id='help_documentation'></a>"
   ]
  },
  {
   "cell_type": "markdown",
   "id": "2eaa2121",
   "metadata": {},
   "source": [
    "<!--NAVIGATION-->\n",
    "< [IPython: Além do Python Normal](#ipython) | [Índice](#index) | [Atalhos de teclado no IPython Shell](#shortcuts) >\n",
    "\n",
    "<a href=\"https://colab.research.google.com/github/jakevdp/PythonDataScienceHandbook/blob/master/notebooks/01.01-Help-And-Documentation.ipynb\"><img align=\"left\" src=\"https://colab.research.google.com/assets/colab-badge.svg\" alt=\"Open in Colab\" title=\"Open and Execute in Google Colaboratory\"></a>"
   ]
  },
  {
   "cell_type": "markdown",
   "id": "1c8bb87b",
   "metadata": {},
   "source": [
    "Se você não leu nenhuma outra seção neste capítulo, leia esta: Acho que as ferramentas discutidas aqui são as contribuições mais transformadoras do IPython para meu fluxo de trabalho diário.\n",
    "\n",
    "Quando uma pessoa com mentalidade tecnológica é solicitada a ajudar um amigo, parente ou colega com um problema de computador, na maioria das vezes é menos uma questão de saber a resposta do que de saber como encontrar rapidamente uma resposta desconhecida.\n",
    "Na ciência de dados é o mesmo: recursos pesquisáveis ​​da web, como documentação online, tópicos de listas de discussão e respostas StackOverflow contêm uma riqueza de informações, mesmo (especialmente?) Se for um tópico que você já pesquisou antes.\n",
    "Ser um praticante eficaz da ciência de dados é menos sobre memorizar a ferramenta ou comando que você deve usar para todas as situações possíveis, e mais sobre aprender a encontrar efetivamente as informações que você não conhece, seja por meio de um mecanismo de pesquisa na web ou outro meio.\n",
    "\n",
    "Uma das funções mais úteis do IPython / Jupyter é reduzir a lacuna entre o usuário e o tipo de documentação e pesquisa que o ajudará a fazer seu trabalho com eficácia.\n",
    "Embora as pesquisas na web ainda desempenhem um papel na resposta a perguntas complicadas, uma quantidade incrível de informações pode ser encontrada apenas por meio do IPython.\n",
    "Alguns exemplos das perguntas que o IPython pode ajudar a responder com apenas alguns toques de tecla:\n",
    "\n",
    "- Como faço para chamar essa função? Que argumentos e opções ele tem?\n",
    "- Qual é a aparência do código-fonte deste objeto Python?\n",
    "- O que tem nesse pacote que importei? Quais atributos ou métodos este objeto possui?\n",
    "\n",
    "Aqui, discutiremos as ferramentas do IPython para acessar rapidamente essas informações, nomeadamente o caractere ``? `` Para explorar a documentação, os caracteres `` ?? `` para explorar o código-fonte e a tecla Tab para autocompletar."
   ]
  },
  {
   "cell_type": "markdown",
   "id": "2d9ab97c",
   "metadata": {},
   "source": [
    "## Acessando a documentação com ``? ``\n",
    "\n",
    "A linguagem Python e seu ecossistema de ciência de dados são construídos com o usuário em mente, e uma grande parte disso é o acesso à documentação.\n",
    "Cada objeto Python contém a referência a uma string, conhecida como * doc string *, que na maioria dos casos conterá um resumo conciso do objeto e como usá-lo.\n",
    "Python tem uma função `` help () `` embutida que pode acessar essas informações e imprimir os resultados.\n",
    "Por exemplo, para ver a documentação da função incorporada `` len``, você pode fazer o seguinte:\n",
    "\n",
    "```ipython\n",
    "In [1]: help(len)\n",
    "Help on built-in function len in module builtins:\n",
    "\n",
    "len(...)\n",
    "    len(object) -> integer\n",
    "    \n",
    "    Return the number of items of a sequence or mapping.\n",
    "```\n",
    "Dependendo do seu intérprete, essas informações podem ser exibidas como texto embutido ou em alguma janela pop-up separada."
   ]
  },
  {
   "cell_type": "markdown",
   "id": "a2a79536",
   "metadata": {},
   "source": [
    "**Insira seu código abaixo:**"
   ]
  },
  {
   "cell_type": "code",
   "execution_count": null,
   "id": "c0a17453",
   "metadata": {},
   "outputs": [],
   "source": []
  },
  {
   "cell_type": "code",
   "execution_count": null,
   "id": "417d52a4",
   "metadata": {},
   "outputs": [],
   "source": []
  },
  {
   "cell_type": "code",
   "execution_count": null,
   "id": "48c15058",
   "metadata": {},
   "outputs": [],
   "source": []
  },
  {
   "cell_type": "code",
   "execution_count": null,
   "id": "5b002bdf",
   "metadata": {},
   "outputs": [],
   "source": []
  },
  {
   "cell_type": "code",
   "execution_count": null,
   "id": "3aa76d8e",
   "metadata": {},
   "outputs": [],
   "source": []
  },
  {
   "cell_type": "markdown",
   "id": "ef34d0f6",
   "metadata": {},
   "source": [
    "Como encontrar ajuda em um objeto é tão comum e útil, o IPython apresenta o caractere ``? `` Como um atalho para acessar esta documentação e outras informações relevantes:\n",
    "\n",
    "```ipython\n",
    "In [2]: len?\n",
    "Type:        builtin_function_or_method\n",
    "String form: <built-in function len>\n",
    "Namespace:   Python builtin\n",
    "Docstring:\n",
    "len(object) -> integer\n",
    "\n",
    "Return the number of items of a sequence or mapping.\n",
    "```"
   ]
  },
  {
   "cell_type": "markdown",
   "id": "8854b211",
   "metadata": {},
   "source": [
    "**Insira seu código abaixo:**"
   ]
  },
  {
   "cell_type": "code",
   "execution_count": null,
   "id": "ef7924d7",
   "metadata": {},
   "outputs": [],
   "source": []
  },
  {
   "cell_type": "code",
   "execution_count": null,
   "id": "60e06858",
   "metadata": {},
   "outputs": [],
   "source": []
  },
  {
   "cell_type": "code",
   "execution_count": null,
   "id": "b09f4206",
   "metadata": {},
   "outputs": [],
   "source": []
  },
  {
   "cell_type": "code",
   "execution_count": null,
   "id": "1c470de4",
   "metadata": {},
   "outputs": [],
   "source": []
  },
  {
   "cell_type": "code",
   "execution_count": null,
   "id": "96635dd4",
   "metadata": {},
   "outputs": [],
   "source": []
  },
  {
   "cell_type": "markdown",
   "id": "4633a0de",
   "metadata": {},
   "source": [
    "Essa notação funciona para quase tudo, incluindo métodos de objeto:\n",
    "\n",
    "```ipython\n",
    "In [3]: L = [1, 2, 3]\n",
    "In [4]: L.insert?\n",
    "Type:        builtin_function_or_method\n",
    "String form: <built-in method insert of list object at 0x1024b8ea8>\n",
    "Docstring:   L.insert(index, object) -- insert object before index\n",
    "```\n",
    "\n",
    "ou ainda os próprios objetos, com a documentação de seu tipo:\n",
    "\n",
    "```ipython\n",
    "In [5]: L?\n",
    "Type:        list\n",
    "String form: [1, 2, 3]\n",
    "Length:      3\n",
    "Docstring:\n",
    "list() -> new empty list\n",
    "list(iterable) -> new list initialized from iterable's items\n",
    "```"
   ]
  },
  {
   "cell_type": "markdown",
   "id": "ba3f9e28",
   "metadata": {},
   "source": [
    "**Insira seu código abaixo:**"
   ]
  },
  {
   "cell_type": "code",
   "execution_count": null,
   "id": "52b9ddf5",
   "metadata": {},
   "outputs": [],
   "source": []
  },
  {
   "cell_type": "code",
   "execution_count": null,
   "id": "1c3cf35a",
   "metadata": {},
   "outputs": [],
   "source": []
  },
  {
   "cell_type": "code",
   "execution_count": null,
   "id": "41c31153",
   "metadata": {},
   "outputs": [],
   "source": []
  },
  {
   "cell_type": "code",
   "execution_count": null,
   "id": "ac7359e9",
   "metadata": {},
   "outputs": [],
   "source": []
  },
  {
   "cell_type": "code",
   "execution_count": null,
   "id": "9d319046",
   "metadata": {},
   "outputs": [],
   "source": []
  },
  {
   "cell_type": "markdown",
   "id": "3a543d6c",
   "metadata": {},
   "source": [
    "É importante ressaltar que isso funcionará até mesmo para funções ou outros objetos que você mesmo criar! Aqui definiremos uma pequena função com uma docstring:\n",
    "\n",
    "```ipython\n",
    "In [6]: def square(a):\n",
    "  ....:     \"\"\"Return the square of a.\"\"\"\n",
    "  ....:     return a ** 2\n",
    "  ....:\n",
    "```\n",
    "Observe que, para criar uma docstring para nossa função, simplesmente colocamos uma string literal na primeira linha. Como as strings de doc geralmente têm várias linhas, por convenção usamos a notação de aspas triplas do Python para strings de várias linhas."
   ]
  },
  {
   "cell_type": "markdown",
   "id": "3191a23c",
   "metadata": {},
   "source": [
    "**Insira seu código abaixo:**"
   ]
  },
  {
   "cell_type": "code",
   "execution_count": null,
   "id": "e828384f",
   "metadata": {},
   "outputs": [],
   "source": []
  },
  {
   "cell_type": "code",
   "execution_count": null,
   "id": "00444571",
   "metadata": {},
   "outputs": [],
   "source": []
  },
  {
   "cell_type": "code",
   "execution_count": null,
   "id": "95847a51",
   "metadata": {},
   "outputs": [],
   "source": []
  },
  {
   "cell_type": "code",
   "execution_count": null,
   "id": "9218cec4",
   "metadata": {},
   "outputs": [],
   "source": []
  },
  {
   "cell_type": "code",
   "execution_count": null,
   "id": "972a2e2c",
   "metadata": {},
   "outputs": [],
   "source": []
  },
  {
   "cell_type": "markdown",
   "id": "7c2b9ee5",
   "metadata": {},
   "source": [
    "Agora usaremos a marca ``? `` Para encontrar esta string doc:\n",
    "\n",
    "```ipython\n",
    "In [7]: square?\n",
    "Type:        function\n",
    "String form: <function square at 0x103713cb0>\n",
    "Definition:  square(a)\n",
    "Docstring:   Return the square of a.\n",
    "```\n",
    "\n",
    "Este acesso rápido à documentação por meio de docstrings é uma razão pela qual você deve adquirir o hábito de sempre adicionar tal documentação embutida ao código que você escreve!"
   ]
  },
  {
   "cell_type": "markdown",
   "id": "21228f42",
   "metadata": {},
   "source": [
    "**Insira seu código abaixo:**"
   ]
  },
  {
   "cell_type": "code",
   "execution_count": null,
   "id": "a1de4b59",
   "metadata": {},
   "outputs": [],
   "source": []
  },
  {
   "cell_type": "code",
   "execution_count": null,
   "id": "1a2bdf1b",
   "metadata": {},
   "outputs": [],
   "source": []
  },
  {
   "cell_type": "code",
   "execution_count": null,
   "id": "25059a5e",
   "metadata": {},
   "outputs": [],
   "source": []
  },
  {
   "cell_type": "code",
   "execution_count": null,
   "id": "f200c735",
   "metadata": {},
   "outputs": [],
   "source": []
  },
  {
   "cell_type": "code",
   "execution_count": null,
   "id": "6a47da3a",
   "metadata": {},
   "outputs": [],
   "source": []
  },
  {
   "cell_type": "markdown",
   "id": "e9725e48",
   "metadata": {},
   "source": [
    "## Acessando o código-fonte com `` ?? `` \n",
    "Como a linguagem Python é facilmente legível, outro nível de percepção geralmente pode ser obtido lendo o código-fonte do objeto sobre o qual você está curioso. IPython fornece um atalho para o código-fonte com o ponto de interrogação duplo (``??``):\n",
    "\n",
    "```ipython\n",
    "In [8]: square??\n",
    "Type:        function\n",
    "String form: <function square at 0x103713cb0>\n",
    "Definition:  square(a)\n",
    "Source:\n",
    "def square(a):\n",
    "    \"Return the square of a\"\n",
    "    return a ** 2\n",
    "```\n",
    "\n",
    "Para funções simples como essa, o ponto de interrogação duplo pode fornecer uma visão rápida dos detalhes sob o capô."
   ]
  },
  {
   "cell_type": "markdown",
   "id": "c0e4540a",
   "metadata": {},
   "source": [
    "**Insira seu código abaixo:**"
   ]
  },
  {
   "cell_type": "code",
   "execution_count": null,
   "id": "c16685fd",
   "metadata": {},
   "outputs": [],
   "source": []
  },
  {
   "cell_type": "code",
   "execution_count": null,
   "id": "264b9ec4",
   "metadata": {},
   "outputs": [],
   "source": []
  },
  {
   "cell_type": "code",
   "execution_count": null,
   "id": "d5b72cc7",
   "metadata": {},
   "outputs": [],
   "source": []
  },
  {
   "cell_type": "code",
   "execution_count": null,
   "id": "252d775a",
   "metadata": {},
   "outputs": [],
   "source": []
  },
  {
   "cell_type": "code",
   "execution_count": null,
   "id": "f269bfaa",
   "metadata": {},
   "outputs": [],
   "source": []
  },
  {
   "cell_type": "markdown",
   "id": "b6506c5f",
   "metadata": {},
   "source": [
    "Se você brincar com isso, você notará que às vezes o sufixo `` ?? `` não exibe nenhum código-fonte: isso geralmente ocorre porque o objeto em questão não é implementado em Python, mas em C ou algum outro compilado linguagem de extensão. Se for este o caso, o sufixo `` ?? `` dá a mesma saída que o sufixo ``? ``. Você encontrará isso particularmente com muitos dos objetos e tipos integrados do Python, por exemplo, `` len`` acima:\n",
    "\n",
    "\n",
    "```ipython\n",
    "In [9]: len??\n",
    "Type:        builtin_function_or_method\n",
    "String form: <built-in function len>\n",
    "Namespace:   Python builtin\n",
    "Docstring:\n",
    "len(object) -> integer\n",
    "\n",
    "Return the number of items of a sequence or mapping.\n",
    "```\n",
    "\n",
    "Usar ``? `` E / ou `` ?? `` fornece uma interface poderosa e rápida para encontrar informações sobre o que qualquer função ou módulo Python faz."
   ]
  },
  {
   "cell_type": "markdown",
   "id": "ccf4a843",
   "metadata": {},
   "source": [
    "**Insira seu código abaixo:**"
   ]
  },
  {
   "cell_type": "code",
   "execution_count": null,
   "id": "709006dc",
   "metadata": {},
   "outputs": [],
   "source": []
  },
  {
   "cell_type": "code",
   "execution_count": null,
   "id": "a913cf58",
   "metadata": {},
   "outputs": [],
   "source": []
  },
  {
   "cell_type": "code",
   "execution_count": null,
   "id": "98f72871",
   "metadata": {},
   "outputs": [],
   "source": []
  },
  {
   "cell_type": "code",
   "execution_count": null,
   "id": "cfb3e62e",
   "metadata": {},
   "outputs": [],
   "source": []
  },
  {
   "cell_type": "code",
   "execution_count": null,
   "id": "a7ddd52e",
   "metadata": {},
   "outputs": [],
   "source": []
  },
  {
   "cell_type": "markdown",
   "id": "952f3c21",
   "metadata": {},
   "source": [
    "## Explorando Módulos com Completamento de Aba \n",
    "A outra interface útil do IPython é o uso da tecla tab para autocompletar e explorar o conteúdo de objetos, módulos e espaços de nomes. Nos exemplos a seguir, usaremos `` <TAB> `` para indicar quando a tecla Tab deve ser pressionada."
   ]
  },
  {
   "cell_type": "markdown",
   "id": "87112b58",
   "metadata": {},
   "source": [
    "### Preenchimento do conteúdo do objeto com tabulação\n",
    "\n",
    "Cada objeto Python possui vários atributos e métodos associados a ele. Como com a função `` help`` discutida antes, Python tem uma função `` dir`` embutida que retorna uma lista delas, mas a interface de preenchimento de tabulação é muito mais fácil de usar na prática. Para ver uma lista de todos os atributos disponíveis de um objeto, você pode digitar o nome do objeto seguido por um ponto (\"``.``\") e a tecla Tab:\n",
    "\n",
    "\n",
    "```ipython\n",
    "In [10]: L.<TAB>\n",
    "L.append   L.copy     L.extend   L.insert   L.remove   L.sort     \n",
    "L.clear    L.count    L.index    L.pop      L.reverse  \n",
    "```\n",
    "\n",
    "Para restringir a lista, você pode digitar o primeiro caractere ou vários caracteres do nome e a tecla Tab encontrará os atributos e métodos correspondentes:\n",
    "\n",
    "\n",
    "```ipython\n",
    "In [10]: L.c<TAB>\n",
    "L.clear  L.copy   L.count  \n",
    "\n",
    "In [10]: L.co<TAB>\n",
    "L.copy   L.count \n",
    "```\n",
    "\n",
    "Se houver apenas uma opção, pressione a tecla Tab para completar a linha para você. Por exemplo, o seguinte será instantaneamente substituído por `` L.count``:\n",
    "\n",
    "```ipython\n",
    "In [10]: L.cou<TAB>\n",
    "\n",
    "```\n",
    "\n",
    "Embora o Python não tenha uma distinção estritamente imposta entre atributos públicos / externos e atributos privados / internos, por convenção, um sublinhado anterior é usado para denotar tais métodos. Para maior clareza, esses métodos privados e métodos especiais são omitidos da lista por padrão, mas é possível listá-los digitando explicitamente o sublinhado:\n",
    "\n",
    "```ipython\n",
    "In [10]: L._<TAB>\n",
    "L.__add__           L.__gt__            L.__reduce__\n",
    "L.__class__         L.__hash__          L.__reduce_ex__\n",
    "```\n",
    "\n",
    "Para resumir, mostramos apenas as primeiras linhas da saída. A maioria deles são métodos especiais de sublinhado duplo do Python (freqüentemente apelidados de métodos \"dunder\")."
   ]
  },
  {
   "cell_type": "markdown",
   "id": "88b2b09a",
   "metadata": {},
   "source": [
    "**Insira seu código abaixo:**"
   ]
  },
  {
   "cell_type": "code",
   "execution_count": null,
   "id": "156761e7",
   "metadata": {},
   "outputs": [],
   "source": []
  },
  {
   "cell_type": "code",
   "execution_count": null,
   "id": "bd2e719f",
   "metadata": {},
   "outputs": [],
   "source": []
  },
  {
   "cell_type": "code",
   "execution_count": null,
   "id": "2b5a330a",
   "metadata": {},
   "outputs": [],
   "source": []
  },
  {
   "cell_type": "code",
   "execution_count": null,
   "id": "82577266",
   "metadata": {},
   "outputs": [],
   "source": []
  },
  {
   "cell_type": "code",
   "execution_count": null,
   "id": "6f971a77",
   "metadata": {},
   "outputs": [],
   "source": []
  },
  {
   "cell_type": "markdown",
   "id": "cb8b04d5",
   "metadata": {},
   "source": [
    "### Preenchimento de tabulação quando importar\n",
    "\n",
    "O preenchimento de tabulação também é útil ao importar objetos de pacotes. Aqui, vamos usá-lo para encontrar todas as importações possíveis no pacote `` itertools`` que começam com `` co``:\n",
    "```\n",
    "In [10]: from itertools import co<TAB>\n",
    "combinations                   compress\n",
    "combinations_with_replacement  count\n",
    "```\n",
    "Da mesma forma, você pode usar o preenchimento com tab para ver quais importações estão disponíveis em seu sistema (isso mudará dependendo de quais scripts e módulos de terceiros estão visíveis para sua sessão Python):\n",
    "```\n",
    "In [10]: import <TAB>\n",
    "Display all 399 possibilities? (y or n)\n",
    "Crypto              dis                 py_compile\n",
    "Cython              distutils           pyclbr\n",
    "...                 ...                 ...\n",
    "difflib             pwd                 zmq\n",
    "\n",
    "In [10]: import h<TAB>\n",
    "hashlib             hmac                http         \n",
    "heapq               html                husl         \n",
    "```\n",
    "(Observe que, para resumir, não imprimi aqui todos os 399 pacotes e módulos importáveis ​​em meu sistema.)"
   ]
  },
  {
   "cell_type": "markdown",
   "id": "6f262c7d",
   "metadata": {},
   "source": [
    "**Insira seu código abaixo:**"
   ]
  },
  {
   "cell_type": "code",
   "execution_count": null,
   "id": "e562389d",
   "metadata": {},
   "outputs": [],
   "source": []
  },
  {
   "cell_type": "code",
   "execution_count": null,
   "id": "b2037a8c",
   "metadata": {},
   "outputs": [],
   "source": []
  },
  {
   "cell_type": "code",
   "execution_count": null,
   "id": "d36b49e0",
   "metadata": {},
   "outputs": [],
   "source": []
  },
  {
   "cell_type": "code",
   "execution_count": null,
   "id": "188d1974",
   "metadata": {},
   "outputs": [],
   "source": []
  },
  {
   "cell_type": "code",
   "execution_count": null,
   "id": "72e82175",
   "metadata": {},
   "outputs": [],
   "source": []
  },
  {
   "cell_type": "markdown",
   "id": "a30217be",
   "metadata": {},
   "source": [
    "### Além do preenchimento da guia: correspondência de curinga\n",
    "\n",
    "O preenchimento com tabulação é útil se você conhece os primeiros caracteres do objeto ou atributo que está procurando, mas não ajuda muito se desejar combinar caracteres no meio ou no final da palavra. Para este caso de uso, o IPython fornece um meio de correspondência curinga para nomes usando o caractere `` * ``.\n",
    "\n",
    "Por exemplo, podemos usar isso para listar todos os objetos no namespace que termina com `` Warning``:\n",
    "\n",
    "```ipython\n",
    "In [10]: *Warning?\n",
    "BytesWarning                  RuntimeWarning\n",
    "DeprecationWarning            SyntaxWarning\n",
    "FutureWarning                 UnicodeWarning\n",
    "ImportWarning                 UserWarning\n",
    "PendingDeprecationWarning     Warning\n",
    "ResourceWarning\n",
    "```\n",
    "\n",
    "Observe que o caractere `` * `` corresponde a qualquer string, incluindo a string vazia.\n",
    "\n",
    "Da forma similar, suponha que estejamos procurando um método string que contenha a palavra `` find`` em algum lugar em seu nome. Podemos pesquisar desta forma:\n",
    "\n",
    "```ipython\n",
    "In [10]: str.*find*?\n",
    "str.find\n",
    "str.rfind\n",
    "```\n",
    "\n",
    "Acho que esse tipo de pesquisa de curinga flexível pode ser muito útil para encontrar um comando específico quando estiver conhecendo um novo pacote ou me familiarizando com um outro."
   ]
  },
  {
   "cell_type": "markdown",
   "id": "ff6667e9",
   "metadata": {},
   "source": [
    "**Insira seu código abaixo:**"
   ]
  },
  {
   "cell_type": "code",
   "execution_count": null,
   "id": "9dca6681",
   "metadata": {},
   "outputs": [],
   "source": []
  },
  {
   "cell_type": "code",
   "execution_count": null,
   "id": "3dc94b23",
   "metadata": {},
   "outputs": [],
   "source": []
  },
  {
   "cell_type": "code",
   "execution_count": null,
   "id": "14429d51",
   "metadata": {},
   "outputs": [],
   "source": []
  },
  {
   "cell_type": "code",
   "execution_count": null,
   "id": "5f005040",
   "metadata": {},
   "outputs": [],
   "source": []
  },
  {
   "cell_type": "code",
   "execution_count": null,
   "id": "b7846152",
   "metadata": {},
   "outputs": [],
   "source": []
  },
  {
   "cell_type": "markdown",
   "id": "d710d9a4",
   "metadata": {},
   "source": [
    "<!--BOOK_INFORMATION-->\n",
    "<img align=\"left\" style=\"padding-right:10px;\" src=\"https://github.com/jakevdp/PythonDataScienceHandbook/blob/master/notebooks/figures/PDSH-cover-small.png?raw=true\">\n",
    "\n",
    "*Esse notebook contém trechos do [Python Data Science Handbook](http://shop.oreilly.com/product/0636920034919.do) por Jake VanderPlas; o conteúdo está disponível [on GitHub](https://github.com/jakevdp/PythonDataScienceHandbook).*\n",
    "*O texto é publicado sob o [CC-BY-NC-ND license](https://creativecommons.org/licenses/by-nc-nd/3.0/us/legalcode), and code is lançado sob o [MIT license](https://opensource.org/licenses/MIT). Se você achar este conteúdo útil, considere apoiar o trabalho  [comprando o livro](http://shop.oreilly.com/product/0636920034919.do)!*"
   ]
  },
  {
   "cell_type": "markdown",
   "id": "8848d478",
   "metadata": {},
   "source": [
    "## 1.2 Atalhos de teclado no IPython Shell <a id='shortcuts'></a>"
   ]
  },
  {
   "cell_type": "markdown",
   "id": "cdb8f92c",
   "metadata": {},
   "source": [
    "<!--NAVIGATION-->\n",
    "< [Ajuda e documentação no IPython](#help_documentation) | [Índice](#index) | [IPython Magic Commands](#magic) >\n",
    "\n",
    "<a href=\"https://colab.research.google.com/github/jakevdp/PythonDataScienceHandbook/blob/master/notebooks/01.02-Shell-Keyboard-Shortcuts.ipynb\"><img align=\"left\" src=\"https://colab.research.google.com/assets/colab-badge.svg\" alt=\"Open in Colab\" title=\"Open and Execute in Google Colaboratory\"></a>\n"
   ]
  },
  {
   "cell_type": "markdown",
   "id": "1e68f8d6",
   "metadata": {},
   "source": [
    "Se você passa algum tempo no computador, provavelmente encontrou um uso para atalhos de teclado em seu fluxo de trabalho.\n",
    "Mais familiares talvez sejam o Cmd-C e o Cmd-V (ou Ctrl-C e Ctrl-V) para copiar e colar em uma ampla variedade de programas e sistemas.\n",
    "Usuários avançados tendem a ir ainda mais longe: editores de texto populares como Emacs, Vim e outros fornecem aos usuários uma gama incrível de operações por meio de combinações intrincadas de pressionamentos de tecla.\n",
    "\n",
    "O shell IPython não vai tão longe, mas fornece uma série de atalhos de teclado para navegação rápida enquanto digita comandos.\n",
    "Esses atalhos não são de fato fornecidos pelo próprio IPython, mas por meio de sua dependência da biblioteca GNU Readline: como tal, alguns dos seguintes atalhos podem ser diferentes dependendo da configuração do seu sistema.\n",
    "Além disso, embora alguns desses atalhos funcionem no bloco de notas baseado em navegador, esta seção é principalmente sobre atalhos no shell IPython.\n",
    "\n",
    "Depois de se acostumar com eles, eles podem ser muito úteis para executar rapidamente certos comandos sem mover as mãos da posição \"inicial\" do teclado.\n",
    "Se você for um usuário Emacs ou se tiver experiência com shells do estilo Linux, o seguinte será bastante familiar.\n",
    "Agruparemos esses atalhos dentro de algumas categorias: *atalhos de navegação*, *atalhos de entrada de texto*, *atalhos de histórico de comando*, and *Atalhos diversos*\n"
   ]
  },
  {
   "cell_type": "markdown",
   "id": "96ab4475",
   "metadata": {},
   "source": [
    "## Atalhos de navegação\n",
    "\n",
    "\n",
    "Embora o uso das teclas de seta esquerda e direita para mover para trás e para frente na linha seja bastante óbvio, existem outras opções que não requerem mover suas mãos da posição \"inicial\" do teclado:\n",
    "\n",
    "| Pressionamento de tecla                   | Ação                                       |\n",
    "|-------------------------------------------|--------------------------------------------|\n",
    "| ``Ctrl-a``                                | Move o cursor para o início da linha       |\n",
    "| ``Ctrl-e``                                | Move o cursor para o final da linha        |\n",
    "| ``Ctrl-b`` ou tecla de seta para esquerda | Move o cursor um caractere para trás       |\n",
    "| ``Ctrl-f`` ou tecla de seta para direita  | Move o cursor um caractere para frente     |\n"
   ]
  },
  {
   "cell_type": "markdown",
   "id": "fc8816ae",
   "metadata": {},
   "source": [
    "## Atalhos de entrada de texto\n",
    "\n",
    "Embora todos estejam familiarizados com o uso da tecla Backspace para excluir o caractere anterior, alcançar a tecla geralmente requer uma pequena ginástica com os dedos e apenas exclui um único caractere por vez. No IPython, existem vários atalhos para remover parte do texto que você está digitando. Os mais úteis imediatamente são os comandos para excluir linhas inteiras de texto. Você saberá que eles se tornaram uma segunda natureza se você estiver usando uma combinação de Ctrl-b e Ctrl-d em vez de usar a tecla Backspace para excluir o caractere anterior!\n",
    "\n",
    "| Pressionamento de tecla       | Ação                                                            |\n",
    "|-------------------------------|-----------------------------------------------------------------|\n",
    "| tecla Backspace               | Deleta caractere anterior na linha                              |\n",
    "| ``Ctrl-d``                    | Deleta próximo caractere na linha                               |\n",
    "| ``Ctrl-k``                    | Corta o texto de um cursor para o final da linha                |\n",
    "| ``Ctrl-u``                    | Corta o texto do início da linha até o cursor                   |\n",
    "| ``Ctrl-y``                    | Arrancar (ou seja, colar) o texto que foi cortado anteriormente |\n",
    "| ``Ctrl-t``                    | Transpor (ou seja, trocar) os dois caracteres anteriores        |\n"
   ]
  },
  {
   "cell_type": "markdown",
   "id": "39b991b3",
   "metadata": {},
   "source": [
    "## Atalhos do histórico de comandos \n",
    "\n",
    "Talvez os atalhos mais impactantes discutidos aqui sejam aqueles que o IPython fornece para navegar no histórico de comandos. Este histórico de comando vai além de sua sessão IPython atual: todo o seu histórico de comando é armazenado em um banco de dados SQLite no diretório de perfil IPython. A maneira mais direta de acessá-los é com as teclas de seta para cima e para baixo para percorrer o histórico, mas também existem outras opções:\n",
    "\n",
    "| Pressionamento de tecla                   | Ação                                       |\n",
    "|-------------------------------------------|--------------------------------------------|\n",
    "| ``Ctrl-p`` (ou a tecla de seta para cima) | Acesse o comando anterior no histórico     |\n",
    "| ``Ctrl-n`` (ou a tecla de seta para baixo)| Acesse o próximo comando no histórico      |\n",
    "| ``Ctrl-r``                                | Pesquisa reversa no histórico de comandos  |\n"
   ]
  },
  {
   "cell_type": "markdown",
   "id": "f23a1610",
   "metadata": {},
   "source": [
    "A busca reversa pode ser particularmente útil. Lembre-se de que na seção anterior definimos uma função chamada ``square``. Vamos fazer uma busca reversa em nosso histórico Python a partir de um novo shell IPython e encontrar essa definição novamente. Ao pressionar Ctrl-r no terminal IPython, você verá o seguinte prompt:\n",
    "\n",
    "\n",
    "```ipython\n",
    "In [1]:\n",
    "(reverse-i-search)`': \n",
    "```\n",
    "\n",
    "Se você começar a digitar caracteres neste prompt, o IPython preencherá automaticamente o comando mais recente, se houver, que corresponda a esses caracteres:\n",
    "\n",
    "\n",
    "```ipython\n",
    "In [1]: \n",
    "(reverse-i-search)`sqa': square??\n",
    "```\n",
    "\n",
    "A qualquer momento, você pode adicionar mais caracteres para refinar a pesquisa ou pressionar Ctrl-r novamente para pesquisar outro comando que corresponda à consulta. Se você acompanhou a seção anterior, pressionar Ctrl-r mais duas vezes dá:\n",
    "\n",
    "\n",
    "```ipython\n",
    "In [1]: \n",
    "(reverse-i-search)`sqa': def square(a):\n",
    "    \"\"\"Return the square of a\"\"\"\n",
    "    return a ** 2\n",
    "```\n",
    "\n",
    "Depois de encontrar o comando que está procurando, pressione Return e a pesquisa será encerrada. Podemos então usar o comando recuperado e continuar com nossa sessão:\n",
    "\n",
    "\n",
    "```ipython\n",
    "In [1]: def square(a):\n",
    "    \"\"\"Return the square of a\"\"\"\n",
    "    return a ** 2\n",
    "\n",
    "In [2]: square(2)\n",
    "Out[2]: 4\n",
    "```\n",
    "\n",
    "Observe que Ctrl-p / Ctrl-n ou as teclas de seta para cima / para baixo também podem ser usadas para pesquisar no histórico, mas apenas combinando caracteres no início da linha. Ou seja, se você digitar **``def``** e pressionar Ctrl-p, ele encontrará o comando mais recente (se houver) em seu histórico que começa com os caracteres ``def``.\n"
   ]
  },
  {
   "cell_type": "markdown",
   "id": "80fef51f",
   "metadata": {},
   "source": [
    "**Insira seu código abaixo:**"
   ]
  },
  {
   "cell_type": "code",
   "execution_count": null,
   "id": "1f65b0bd",
   "metadata": {},
   "outputs": [],
   "source": []
  },
  {
   "cell_type": "code",
   "execution_count": null,
   "id": "0a17b0ab",
   "metadata": {},
   "outputs": [],
   "source": []
  },
  {
   "cell_type": "code",
   "execution_count": null,
   "id": "8e8c32a5",
   "metadata": {},
   "outputs": [],
   "source": []
  },
  {
   "cell_type": "code",
   "execution_count": null,
   "id": "b9d2190a",
   "metadata": {},
   "outputs": [],
   "source": []
  },
  {
   "cell_type": "code",
   "execution_count": null,
   "id": "138cbf05",
   "metadata": {},
   "outputs": [],
   "source": []
  },
  {
   "cell_type": "markdown",
   "id": "fe0a6209",
   "metadata": {},
   "source": [
    "## Atalhos diversos\n",
    "\n",
    "Finalmente, existem alguns atalhos diversos que não se encaixam em nenhuma das categorias anteriores, mas são úteis saber:\n",
    "\n",
    "| Pressionamento de tecla       | Ação                                       |\n",
    "|-------------------------------|--------------------------------------------|\n",
    "| ``Ctrl-l``                    | Limpar a tela do terminal                  |\n",
    "| ``Ctrl-c``                    | Interromper o comando Python atual         |\n",
    "| ``Ctrl-d``                    | Sair da sessão IPython                     |\n",
    "\n",
    "O Ctrl-c em particular pode ser útil quando você inicia inadvertidamente um trabalho de execução muito longa."
   ]
  },
  {
   "cell_type": "markdown",
   "id": "496072e5",
   "metadata": {},
   "source": [
    "Embora alguns dos atalhos discutidos aqui possam parecer um pouco enfadonhos no início, eles rapidamente se tornam automáticos com a prática. Depois de desenvolver essa memória muscular, suspeito que você até desejará que eles estivessem disponíveis em outros contextos."
   ]
  },
  {
   "cell_type": "markdown",
   "id": "66e80dd9",
   "metadata": {},
   "source": [
    "<!--BOOK_INFORMATION-->\n",
    "<img align=\"left\" style=\"padding-right:10px;\" src=\"https://github.com/jakevdp/PythonDataScienceHandbook/blob/master/notebooks/figures/PDSH-cover-small.png?raw=true\">\n",
    "\n",
    "*Esse notebook contém trechos do [Python Data Science Handbook](http://shop.oreilly.com/product/0636920034919.do) por Jake VanderPlas; o conteúdo está disponível [on GitHub](https://github.com/jakevdp/PythonDataScienceHandbook).*\n",
    "*O texto é publicado sob o [CC-BY-NC-ND license](https://creativecommons.org/licenses/by-nc-nd/3.0/us/legalcode), and code is lançado sob o [MIT license](https://opensource.org/licenses/MIT). Se você achar este conteúdo útil, considere apoiar o trabalho  [comprando o livro](http://shop.oreilly.com/product/0636920034919.do)!*"
   ]
  },
  {
   "cell_type": "markdown",
   "id": "48c42342",
   "metadata": {},
   "source": [
    "## 1.3 Comandos mágicos do IPython <a id='magic'></a>"
   ]
  },
  {
   "cell_type": "markdown",
   "id": "7d4da366",
   "metadata": {},
   "source": [
    "<!--NAVIGATION-->\n",
    "< [Atalhos de teclado no IPython Shell](#shortcuts) | [Índice](#index) | [Histórico de Input e Output](#history_in_out) >\n",
    "\n",
    "<a href=\"https://colab.research.google.com/github/jakevdp/PythonDataScienceHandbook/blob/master/notebooks/01.02-Shell-Keyboard-Shortcuts.ipynb\"><img align=\"left\" src=\"https://colab.research.google.com/assets/colab-badge.svg\" alt=\"Open in Colab\" title=\"Open and Execute in Google Colaboratory\"></a>"
   ]
  },
  {
   "cell_type": "markdown",
   "id": "e024af66",
   "metadata": {},
   "source": [
    "As duas seções anteriores mostraram como o IPython permite que você use e explore o Python de maneira eficiente e interativa. Aqui, começaremos a discutir alguns dos aprimoramentos que o IPython adiciona à sintaxe normal do Python. Eles são conhecidos no IPython como *comandos mágicos* e são prefixados pelo caractere ``% ``. Esses comandos mágicos são projetados para resolver sucintamente vários problemas comuns na análise de dados padrão. Os comandos mágicos vêm em dois sabores: *line magics*, que são denotados por um único prefixo ``% `` e operam em uma única linha de entrada, e *cell magics*, que são denotados por um duplo ``%%`` prefixar e operar em várias linhas de entrada. Demonstraremos e discutiremos alguns breves exemplos aqui e voltaremos a uma discussão mais focada de vários comandos mágicos úteis posteriormente neste capítulo.\n"
   ]
  },
  {
   "cell_type": "markdown",
   "id": "0e89606d",
   "metadata": {},
   "source": [
    "## Colando Blocos de Código: ``%paste`` e ``%cpaste``\n",
    "\n",
    "Ao trabalhar no interpretador IPython, uma pegadinha comum é que colar blocos de código de várias linhas pode levar a erros inesperados, especialmente quando marcadores de indentação e de interpretador estão envolvidos. Um caso comum é encontrar algum código de exemplo em um site e desejar colá-lo em seu interpretador. Considere a seguinte função simples:\n",
    "\n",
    "\n",
    "``` python\n",
    ">>> def donothing(x):\n",
    "...     return x\n",
    "\n",
    "```\n",
    "O código é formatado como apareceria no interpretador Python e, se você copiar e colar isso diretamente no IPython, obterá um erro:\n",
    "\n",
    "\n",
    "```ipython\n",
    "In [2]: >>> def donothing(x):\n",
    "   ...:     ...     return x\n",
    "   ...:     \n",
    "  File \"<ipython-input-20-5a66c8964687>\", line 2\n",
    "    ...     return x\n",
    "                 ^\n",
    "SyntaxError: invalid syntax\n",
    "```\n",
    "\n",
    "Na colagem direta, o interpretador fica confuso com os caracteres adicionais de prompt. Mas não se preocupe - a função mágica ``%paste`` do IPython foi projetada para lidar com este tipo exato de entrada marcada com várias linhas:\n",
    "\n",
    "\n",
    "```ipython\n",
    "In [3]: %paste\n",
    ">>> def donothing(x):\n",
    "...     return x\n",
    "\n",
    "## -- End pasted text --\n",
    "```\n",
    "\n",
    "O comando ``%paste`` insere e executa o código, então agora a função está pronta para ser usada:\n",
    "\n",
    "```ipython\n",
    "In [4]: donothing(10)\n",
    "Out[4]: 10\n",
    "```\n",
    "\n",
    "Um comando com uma intenção semelhante é ``%cpaste``, que abre um prompt multilinha interativo no qual você pode colar um ou mais pedaços de código para serem executados em um lote:\n",
    "\n",
    "\n",
    "```ipython\n",
    "In [5]: %cpaste\n",
    "Pasting code; enter '--' alone on the line to stop or use Ctrl-D.\n",
    ":>>> def donothing(x):\n",
    ":...     return x\n",
    ":--\n",
    "```\n",
    "\n",
    "Esses comandos mágicos, como outros que veremos, disponibilizam funcionalidades que seriam difíceis ou impossíveis em um interpretador Python padrão."
   ]
  },
  {
   "cell_type": "markdown",
   "id": "57771c1a",
   "metadata": {},
   "source": [
    "**Insira seu código abaixo:**"
   ]
  },
  {
   "cell_type": "code",
   "execution_count": null,
   "id": "8a2ab431",
   "metadata": {},
   "outputs": [],
   "source": []
  },
  {
   "cell_type": "code",
   "execution_count": null,
   "id": "8346ce41",
   "metadata": {},
   "outputs": [],
   "source": []
  },
  {
   "cell_type": "code",
   "execution_count": null,
   "id": "f26d22d8",
   "metadata": {},
   "outputs": [],
   "source": []
  },
  {
   "cell_type": "code",
   "execution_count": null,
   "id": "73c7d1c1",
   "metadata": {},
   "outputs": [],
   "source": []
  },
  {
   "cell_type": "code",
   "execution_count": null,
   "id": "c92210e2",
   "metadata": {},
   "outputs": [],
   "source": []
  },
  {
   "cell_type": "markdown",
   "id": "8d0af8a9",
   "metadata": {},
   "source": [
    "## Executando Código Externo: ``%run``\n",
    "Conforme você começa a desenvolver um código mais extenso, provavelmente se verá trabalhando tanto em IPython para exploração interativa quanto em um editor de texto para armazenar o código que deseja reutilizar. \n",
    "Em vez de executar esse código em uma nova janela, pode ser conveniente executá-lo em sua sessão IPython. Isso pode ser feito com a mágica ``%run``.\n",
    "\n",
    "\n",
    "Por exemplo, imagine que você criou um arquivo ``myscript.py`` com o seguinte conteúdo:\n",
    "\n",
    "\n",
    "```python\n",
    "#-------------------------------------\n",
    "# file: myscript.py\n",
    "\n",
    "def square(x):\n",
    "    \"\"\"square a number\"\"\"\n",
    "    return x ** 2\n",
    "\n",
    "for N in range(1, 4):\n",
    "    print(N, \"squared is\", square(N))\n",
    "```\n",
    "\n",
    "Você pode executar isso a partir de sua sessão IPython da seguinte maneira:\n",
    "\n",
    "```ipython\n",
    "In [6]: %run myscript.py\n",
    "1 squared is 1\n",
    "2 squared is 4\n",
    "3 squared is 9\n",
    "```\n",
    "\n",
    "Observe também que, depois de executar este script, todas as funções definidas nele estarão disponíveis para uso em sua sessão IPython:\n",
    "\n",
    "```ipython\n",
    "In [7]: square(5)\n",
    "Out[7]: 25\n",
    "```\n",
    "\n",
    "Existem várias opções para ajustar como seu código é executado; você pode ver a documentação da maneira normal, digitando **``%run?``** no interpretador IPython."
   ]
  },
  {
   "cell_type": "markdown",
   "id": "e683c4dd",
   "metadata": {},
   "source": [
    "**Insira seu código abaixo:**"
   ]
  },
  {
   "cell_type": "code",
   "execution_count": null,
   "id": "e359c139",
   "metadata": {},
   "outputs": [],
   "source": []
  },
  {
   "cell_type": "code",
   "execution_count": null,
   "id": "3dcea382",
   "metadata": {},
   "outputs": [],
   "source": []
  },
  {
   "cell_type": "code",
   "execution_count": null,
   "id": "e52b5c95",
   "metadata": {},
   "outputs": [],
   "source": []
  },
  {
   "cell_type": "code",
   "execution_count": null,
   "id": "dad98a85",
   "metadata": {},
   "outputs": [],
   "source": []
  },
  {
   "cell_type": "code",
   "execution_count": null,
   "id": "6d2def7d",
   "metadata": {},
   "outputs": [],
   "source": []
  },
  {
   "cell_type": "markdown",
   "id": "2ec40086",
   "metadata": {},
   "source": [
    "## Execução do código de tempo: ``%timeit``\n",
    "Outro exemplo de função mágica útil é ``%timeit``, que determinará automaticamente o tempo de execução da instrução Python de uma linha que a segue.\n",
    "Por exemplo, podemos querer verificar o desempenho da compreensão de uma lista:\n",
    "\n",
    "```ipython\n",
    "In [8]: %timeit L = [n ** 2 for n in range(1000)]\n",
    "1000 loops, best of 3: 325 µs per loop\n",
    "```\n",
    "\n",
    "O benefício do ``% timeit`` é que para comandos curtos, ele executa automaticamente várias execuções para obter resultados mais robustos.\n",
    "Para instruções de várias linhas, adicionar um segundo sinal de ``% `` transformará isso em uma *magic cell* que pode lidar com várias linhas de entrada.\n",
    "Por exemplo, aqui está a construção equivalente com um -loop ``for``:\n",
    "\n",
    "\n",
    "```ipython\n",
    "In [9]: %%timeit\n",
    "   ...: L = []\n",
    "   ...: for n in range(1000):\n",
    "   ...:     L.append(n ** 2)\n",
    "   ...: \n",
    "1000 loops, best of 3: 373 µs per loop\n",
    "```\n",
    "\n",
    "Podemos ver imediatamente que as compreensões de lista são cerca de 10% mais rápidas do que a construção do -loop ``for`` equivalente neste caso.\n",
    "Exploraremos o ``%timeit`` e outras abordagens para cronometrar e criar perfis de código em [Código para criar perfis e cronômetrar](#profile_time)."
   ]
  },
  {
   "cell_type": "markdown",
   "id": "44ad7f6a",
   "metadata": {},
   "source": [
    "**Insira seu código abaixo:**"
   ]
  },
  {
   "cell_type": "code",
   "execution_count": null,
   "id": "86e705e9",
   "metadata": {},
   "outputs": [],
   "source": []
  },
  {
   "cell_type": "code",
   "execution_count": null,
   "id": "b388c5d8",
   "metadata": {},
   "outputs": [],
   "source": []
  },
  {
   "cell_type": "code",
   "execution_count": null,
   "id": "608c0eac",
   "metadata": {},
   "outputs": [],
   "source": []
  },
  {
   "cell_type": "code",
   "execution_count": null,
   "id": "55a8f41c",
   "metadata": {},
   "outputs": [],
   "source": []
  },
  {
   "cell_type": "code",
   "execution_count": null,
   "id": "abe439b3",
   "metadata": {},
   "outputs": [],
   "source": []
  },
  {
   "cell_type": "markdown",
   "id": "1a286c42",
   "metadata": {},
   "source": [
    "## Ajuda sobre funções mágicas: ``?``, ``%magic``, e ``%lsmagic``\n",
    "\n",
    "Como as funções normais do Python, as funções mágicas do IPython têm docstrings, e isso é útil a documentação pode ser acessada da maneira padrão. \n",
    "Então, por exemplo, para ler a documentação da mágica ``%timeit`` simplesmente digite isto:\n",
    "\n",
    "```ipython\n",
    "In [10]: %timeit?\n",
    "```\n",
    "\n",
    "A documentação para outras funções pode ser acessada de forma semelhante. \n",
    "Para acessar uma descrição geral das funções mágicas disponíveis, incluindo alguns exemplos, você pode digitar isto:\n",
    "\n",
    "\n",
    "```ipython\n",
    "In [11]: %magic\n",
    "```\n",
    "\n",
    "Para obter uma lista rápida e simples de todas as funções mágicas disponíveis, digite o seguinte:\n",
    "\n",
    "\n",
    "```ipython\n",
    "In [12]: %lsmagic\n",
    "```\n",
    "\n",
    "Finalmente, mencionarei que é bastante simples definir suas próprias funções mágicas, se desejar.\n",
    "Não discutiremos isso aqui, mas se você estiver interessado, consulte as referências listadas em [Mais recursos do IPython](#more_resources).\n"
   ]
  },
  {
   "cell_type": "markdown",
   "id": "fe4188e4",
   "metadata": {},
   "source": [
    "**Insira seu código abaixo:**"
   ]
  },
  {
   "cell_type": "code",
   "execution_count": null,
   "id": "43d61f7e",
   "metadata": {},
   "outputs": [],
   "source": []
  },
  {
   "cell_type": "code",
   "execution_count": null,
   "id": "391c65c9",
   "metadata": {},
   "outputs": [],
   "source": []
  },
  {
   "cell_type": "code",
   "execution_count": null,
   "id": "d02bf63d",
   "metadata": {},
   "outputs": [],
   "source": []
  },
  {
   "cell_type": "markdown",
   "id": "ef3b8152",
   "metadata": {},
   "source": [
    "<!--BOOK_INFORMATION-->\n",
    "<img align=\"left\" style=\"padding-right:10px;\" src=\"https://github.com/jakevdp/PythonDataScienceHandbook/blob/master/notebooks/figures/PDSH-cover-small.png?raw=true\">\n",
    "\n",
    "*Esse notebook contém trechos do [Python Data Science Handbook](http://shop.oreilly.com/product/0636920034919.do) por Jake VanderPlas; o conteúdo está disponível [on GitHub](https://github.com/jakevdp/PythonDataScienceHandbook).*\n",
    "*O texto é publicado sob o [CC-BY-NC-ND license](https://creativecommons.org/licenses/by-nc-nd/3.0/us/legalcode), and code is lançado sob o [MIT license](https://opensource.org/licenses/MIT). Se você achar este conteúdo útil, considere apoiar o trabalho  [comprando o livro](http://shop.oreilly.com/product/0636920034919.do)!*"
   ]
  },
  {
   "cell_type": "markdown",
   "id": "3d08fe37",
   "metadata": {},
   "source": [
    "## 1.4 Histórico de Input e Output <a id='history_in_out'></a>"
   ]
  },
  {
   "cell_type": "markdown",
   "id": "bea0c8c3",
   "metadata": {},
   "source": [
    "<!--NAVIGATION-->\n",
    "< [Comandos Mágicos do IPython](#magic) | [Índice](#index) | [Comandos Shell e IPython](#ipython_shell_commmands) >\n",
    "\n",
    "<a href=\"https://colab.research.google.com/github/jakevdp/PythonDataScienceHandbook/blob/master/notebooks/01.04-Input-Output-History.ipynb\"><img align=\"left\" src=\"https://colab.research.google.com/assets/colab-badge.svg\" alt=\"Open in Colab\" title=\"Open and Execute in Google Colaboratory\"></a>"
   ]
  },
  {
   "cell_type": "markdown",
   "id": "699314bf",
   "metadata": {},
   "source": [
    "Anteriormente, vimos que o shell IPython permite que você acesse os comandos anteriores com as teclas de seta para cima e para baixo ou, de forma equivalente, os atalhos Ctrl-p / Ctrl-n.\n",
    "Além disso, tanto no shell quanto no notebook, o IPython expõe várias maneiras de obter a saída de comandos anteriores, bem como versões de string dos próprios comandos. Vamos explorá-los aqui."
   ]
  },
  {
   "cell_type": "markdown",
   "id": "56fee222",
   "metadata": {},
   "source": [
    "## Objetos `` In`` e `` Out`` do IPython\n",
    "\n",
    "Agora eu imagino que você esteja bem familiarizado com os prompts do estilo ``In [1]:``/``Out [1]:`` usados pelo IPython.\n",
    "Mas acontece que não são apenas uma decoração bonita: eles dão uma pista de como você pode acessar entradas e saídas anteriores em sua sessão atual.\n",
    "Imagine que você inicia uma sessão semelhante a esta:\n",
    "\n",
    "```ipython\n",
    "In [1]: import math\n",
    "\n",
    "In [2]: math.sin(2)\n",
    "Out[2]: 0.9092974268256817\n",
    "\n",
    "In [3]: math.cos(2)\n",
    "Out[3]: -0.4161468365471424\n",
    "```\n"
   ]
  },
  {
   "cell_type": "markdown",
   "id": "e631c654",
   "metadata": {},
   "source": [
    "**Insira seu código abaixo:**"
   ]
  },
  {
   "cell_type": "code",
   "execution_count": null,
   "id": "ae3d91fc",
   "metadata": {},
   "outputs": [],
   "source": []
  },
  {
   "cell_type": "code",
   "execution_count": null,
   "id": "fdc4dda8",
   "metadata": {},
   "outputs": [],
   "source": []
  },
  {
   "cell_type": "code",
   "execution_count": null,
   "id": "034d9825",
   "metadata": {},
   "outputs": [],
   "source": []
  },
  {
   "cell_type": "markdown",
   "id": "aa423801",
   "metadata": {},
   "source": [
    "Importamos o pacote ``math`` embutido e, em seguida, calculamos o seno e o cosseno do número 2. Essas entradas e saídas são exibidas no shell com rótulos ``In``/`` Out``, mas há mais o IPython na verdade cria algumas variáveis Python chamadas ``In`` e ``Out`` que são automaticamente atualizadas para refletem esta história:\n",
    "\n",
    "\n",
    "```ipython\n",
    "In [4]: print(In)\n",
    "['', 'import math', 'math.sin(2)', 'math.cos(2)', 'print(In)']\n",
    "\n",
    "In [5]: Out\n",
    "Out[5]: {2: 0.9092974268256817, 3: -0.4161468365471424}\n",
    "```"
   ]
  },
  {
   "cell_type": "markdown",
   "id": "3fe756d8",
   "metadata": {},
   "source": [
    "**Insira seu código abaixo:**"
   ]
  },
  {
   "cell_type": "code",
   "execution_count": null,
   "id": "a98dc7ec",
   "metadata": {},
   "outputs": [],
   "source": []
  },
  {
   "cell_type": "code",
   "execution_count": null,
   "id": "170aee0e",
   "metadata": {},
   "outputs": [],
   "source": []
  },
  {
   "cell_type": "markdown",
   "id": "02ed8098",
   "metadata": {},
   "source": [
    "\n",
    "O objeto ``In`` é uma lista, que mantém o controle dos comandos em ordem (o primeiro item da lista é um marcador de posição para que ``In [1]`` possa se referir ao primeiro comando):\n",
    "\n",
    "\n",
    "```ipython\n",
    "In [6]: print(In[1])\n",
    "import math\n",
    "```\n",
    "\n",
    "O objeto ``Out`` não é uma lista, mas um dicionário mapeando os números de entrada para suas saídas (se houver):\n",
    "\n",
    "```ipython\n",
    "In [7]: print(Out[2])\n",
    "0.9092974268256817\n",
    "```\n",
    "\n",
    "Observe que nem todas as operações têm saídas: por exemplo, as instruções ``import`` e ``print`` não afetam a saída.\n",
    "O último pode ser surpreendente, mas faz sentido se você considerar que `` print`` é uma função que retorna ``None``; para resumir, qualquer comando que retorne ``None`` não é adicionado a ``Out``.\n",
    "\n",
    "Isso pode ser útil se você quiser interagir com resultados anteriores.\n",
    "Por exemplo, vamos verificar a soma de ``sin (2) ** 2`` e ``cos (2) ** 2`` usando os resultados calculados anteriormente:\n",
    "\n",
    "```ipython\n",
    "In [8]: Out[2] ** 2 + Out[3] ** 2\n",
    "Out[8]: 1.0\n",
    "```\n",
    "\n",
    "O resultado é ``1.0`` como esperaríamos da conhecida identidade trigonométrica.\n",
    "Neste caso, usar esses resultados anteriores provavelmente não é necessário, mas pode se tornar muito útil se você executar um cálculo muito caro e quiser reutilizar o resultado!"
   ]
  },
  {
   "cell_type": "markdown",
   "id": "f13e1682",
   "metadata": {},
   "source": [
    "**Insira seu código abaixo:**"
   ]
  },
  {
   "cell_type": "code",
   "execution_count": null,
   "id": "39c49795",
   "metadata": {},
   "outputs": [],
   "source": []
  },
  {
   "cell_type": "code",
   "execution_count": null,
   "id": "02cda93a",
   "metadata": {},
   "outputs": [],
   "source": []
  },
  {
   "cell_type": "code",
   "execution_count": null,
   "id": "c65e8733",
   "metadata": {},
   "outputs": [],
   "source": []
  },
  {
   "cell_type": "code",
   "execution_count": null,
   "id": "bf1d8312",
   "metadata": {},
   "outputs": [],
   "source": []
  },
  {
   "cell_type": "code",
   "execution_count": null,
   "id": "d3905a2e",
   "metadata": {},
   "outputs": [],
   "source": []
  },
  {
   "cell_type": "markdown",
   "id": "76cd5bd8",
   "metadata": {},
   "source": [
    "## Atalhos de sublinhado e saídas anteriores\n",
    "\n",
    "O shell Python padrão contém apenas um atalho simples para acessar a saída anterior; a variável ``_`` (ou seja, um único sublinhado) é mantida atualizada com a saída anterior; isso também funciona no IPython:\n",
    "\n",
    "\n",
    "```ipython\n",
    "In [9]: print(_)\n",
    "1.0\n",
    "```\n",
    "\n",
    "Mas o IPython leva isso um pouco mais longe - você pode usar um sublinhado duplo para acessar a penúltima saída e um sublinhado triplo para acessar a penúltima saída (pulando quaisquer comandos sem saída):\n",
    "\n",
    "\n",
    "```ipython\n",
    "In [10]: print(__)\n",
    "-0.4161468365471424\n",
    "\n",
    "In [11]: print(___)\n",
    "0.9092974268256817\n",
    "```\n",
    "\n",
    "O IPython para por aí: mais de três sublinhados começa a ficar um pouco difícil de contar e, nesse ponto, é mais fácil referir-se à saída por número de linha. \n",
    "\n",
    "Há mais um atalho que devemos mencionar, no entanto um atalho para ``Out [X]`` é ``_X`` (ou seja, um único sublinhado seguido pelo número da linha):\n",
    "\n",
    "```ipython\n",
    "In [12]: Out[2]\n",
    "Out[12]: 0.9092974268256817\n",
    "\n",
    "In [13]: _2\n",
    "Out[13]: 0.9092974268256817\n",
    "```"
   ]
  },
  {
   "cell_type": "markdown",
   "id": "5d095fca",
   "metadata": {},
   "source": [
    "**Insira seu código abaixo:**"
   ]
  },
  {
   "cell_type": "markdown",
   "id": "5d36d84a",
   "metadata": {},
   "source": []
  },
  {
   "cell_type": "code",
   "execution_count": null,
   "id": "ae8c4361",
   "metadata": {},
   "outputs": [],
   "source": []
  },
  {
   "cell_type": "code",
   "execution_count": null,
   "id": "25664179",
   "metadata": {},
   "outputs": [],
   "source": []
  },
  {
   "cell_type": "code",
   "execution_count": null,
   "id": "be1ea6b5",
   "metadata": {},
   "outputs": [],
   "source": []
  },
  {
   "cell_type": "code",
   "execution_count": null,
   "id": "a7025338",
   "metadata": {},
   "outputs": [],
   "source": []
  },
  {
   "cell_type": "markdown",
   "id": "2beca6d5",
   "metadata": {},
   "source": [
    "## Supressão de saída \n",
    "Às vezes, você pode desejar suprimir a saída de uma instrução (isso talvez seja mais comum com os comandos de plotagem que exploraremos em [Introdução ao Matplotlib] (#matplotlib)).\n",
    "Ou talvez o comando que você está executando produza um resultado que você prefere não armazenar em seu histórico de saída, talvez para que possa ser desalocado quando outras referências forem removidas.\n",
    "A maneira mais fácil de suprimir a saída de um comando é adicionar um ponto e vírgula ao final da linha:\n",
    "\n",
    "\n",
    "```ipython\n",
    "In [14]: math.sin(2) + math.cos(2);\n",
    "```\n",
    "\n",
    "Note that the result is computed silently, and the output is neither displayed on the screen or stored in the ``Out`` dictionary:\n",
    "\n",
    "```ipython\n",
    "In [15]: 14 in Out\n",
    "Out[15]: False\n",
    "```"
   ]
  },
  {
   "cell_type": "markdown",
   "id": "96e30250",
   "metadata": {},
   "source": [
    "**Insira seu código abaixo:**"
   ]
  },
  {
   "cell_type": "markdown",
   "id": "f935f786",
   "metadata": {},
   "source": []
  },
  {
   "cell_type": "code",
   "execution_count": null,
   "id": "abaf39a2",
   "metadata": {},
   "outputs": [],
   "source": []
  },
  {
   "cell_type": "code",
   "execution_count": null,
   "id": "a953631b",
   "metadata": {},
   "outputs": [],
   "source": []
  },
  {
   "cell_type": "code",
   "execution_count": null,
   "id": "fd3e0ce2",
   "metadata": {},
   "outputs": [],
   "source": []
  },
  {
   "cell_type": "code",
   "execution_count": null,
   "id": "3dfe38f0",
   "metadata": {},
   "outputs": [],
   "source": []
  },
  {
   "cell_type": "markdown",
   "id": "4429581b",
   "metadata": {},
   "source": [
    "## Comandos mágicos relacionados\n",
    "Para acessar um lote de entradas anteriores de uma vez, o comando mágico ``%history`` é muito útil. Aqui está como você pode imprimir as primeiras quatro entradas:\n",
    "\n",
    "\n",
    "```ipython\n",
    "In [16]: %history -n 1-4\n",
    "   1: import math\n",
    "   2: math.sin(2)\n",
    "   3: math.cos(2)\n",
    "   4: print(In)\n",
    "```\n",
    "\n",
    "Como de costume, você pode digitar ``%history?`` Para obter mais informações e uma descrição das opções disponíveis. \n",
    "Outros comandos mágicos semelhantes são ``%rerun`` (que irá reexecutar parte do histórico de comandos) e ``% save`` (que salva algum conjunto do histórico de comandos em um arquivo).\n",
    "Para obter mais informações, sugiro explorá-los usando a funcionalidade de ajuda ``?`` Discutida em [Ajuda e documentação em IPython](#help_documentation).\n"
   ]
  },
  {
   "cell_type": "markdown",
   "id": "9f741491",
   "metadata": {},
   "source": [
    "**Insira seu código abaixo:**"
   ]
  },
  {
   "cell_type": "code",
   "execution_count": null,
   "id": "6ba833d8",
   "metadata": {},
   "outputs": [],
   "source": []
  },
  {
   "cell_type": "code",
   "execution_count": null,
   "id": "467a34d8",
   "metadata": {},
   "outputs": [],
   "source": []
  },
  {
   "cell_type": "code",
   "execution_count": null,
   "id": "abfc54f8",
   "metadata": {},
   "outputs": [],
   "source": []
  },
  {
   "cell_type": "code",
   "execution_count": null,
   "id": "d6f72f26",
   "metadata": {},
   "outputs": [],
   "source": []
  },
  {
   "cell_type": "code",
   "execution_count": null,
   "id": "f960c000",
   "metadata": {},
   "outputs": [],
   "source": []
  },
  {
   "cell_type": "markdown",
   "id": "901dc039",
   "metadata": {},
   "source": [
    "<!--BOOK_INFORMATION-->\n",
    "<img align=\"left\" style=\"padding-right:10px;\" src=\"https://github.com/jakevdp/PythonDataScienceHandbook/blob/master/notebooks/figures/PDSH-cover-small.png?raw=true\">\n",
    "\n",
    "*Esse notebook contém trechos do [Python Data Science Handbook](http://shop.oreilly.com/product/0636920034919.do) por Jake VanderPlas; o conteúdo está disponível [on GitHub](https://github.com/jakevdp/PythonDataScienceHandbook).*\n",
    "*O texto é publicado sob o [CC-BY-NC-ND license](https://creativecommons.org/licenses/by-nc-nd/3.0/us/legalcode), and code is lançado sob o [MIT license](https://opensource.org/licenses/MIT). Se você achar este conteúdo útil, considere apoiar o trabalho  [comprando o livro](http://shop.oreilly.com/product/0636920034919.do)!*"
   ]
  },
  {
   "cell_type": "markdown",
   "id": "872f8d81",
   "metadata": {},
   "source": [
    "# Comandos Shell e IPython <a id='ipython_shell_commmands'></a>"
   ]
  },
  {
   "cell_type": "markdown",
   "id": "271bf95a",
   "metadata": {},
   "source": [
    "<!--NAVIGATION-->\n",
    "< [Histórico de Input e Output](#history_in_out) | [Índice](#index) | [Errors and Debugging] (#erros) >\n",
    "\n",
    "<a href=\"https://colab.research.google.com/github/jakevdp/PythonDataScienceHandbook/blob/master/notebooks/01.05-IPython-And-Shell-Commands.ipynb\"><img align=\"left\" src=\"https://colab.research.google.com/assets/colab-badge.svg\" alt=\"Open in Colab\" title=\"Open and Execute in Google Colaboratory\"></a>"
   ]
  },
  {
   "cell_type": "code",
   "execution_count": null,
   "id": "ad95c61e",
   "metadata": {},
   "outputs": [],
   "source": []
  }
 ],
 "metadata": {
  "kernelspec": {
   "display_name": "Python 3 (ipykernel)",
   "language": "python",
   "name": "python3"
  },
  "language_info": {
   "codemirror_mode": {
    "name": "ipython",
    "version": 3
   },
   "file_extension": ".py",
   "mimetype": "text/x-python",
   "name": "python",
   "nbconvert_exporter": "python",
   "pygments_lexer": "ipython3",
   "version": "3.9.7"
  }
 },
 "nbformat": 4,
 "nbformat_minor": 5
}
