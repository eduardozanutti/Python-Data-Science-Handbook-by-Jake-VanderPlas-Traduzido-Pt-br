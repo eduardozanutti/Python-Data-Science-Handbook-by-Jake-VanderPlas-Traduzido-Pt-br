{
 "cells": [
  {
   "cell_type": "markdown",
   "id": "c1de6733",
   "metadata": {},
   "source": [
    "# Python - Livro de mão para Ciência de Dados (Data Science)"
   ]
  },
  {
   "cell_type": "markdown",
   "id": "c187c57a",
   "metadata": {},
   "source": [
    "<!--BOOK_INFORMATION-->\n",
    "<img align=\"left\" style=\"padding-right:10px;\" src=\"phyton_data_science_handbook/images/PDSH-cover-small.png\">\n",
    "\n",
    "*This notebook contains an excerpt from the [Python Data Science Handbook](http://shop.oreilly.com/product/0636920034919.do) by Jake VanderPlas; the content is available [on GitHub](https://github.com/jakevdp/PythonDataScienceHandbook).*\n",
    "\n",
    "*The text is released under the [CC-BY-NC-ND license](https://creativecommons.org/licenses/by-nc-nd/3.0/us/legalcode), and code is released under the [MIT license](https://opensource.org/licenses/MIT). If you find this content useful, please consider supporting the work by [buying the book](http://shop.oreilly.com/product/0636920034919.do)!*"
   ]
  },
  {
   "cell_type": "markdown",
   "id": "a137a9e7",
   "metadata": {},
   "source": [
    "<!--NAVIGATION-->\n",
    "| [Contents](Index.ipynb) | [IPython: Beyond Normal Python](01.00-IPython-Beyond-Normal-Python.ipynb) >\n",
    "\n",
    "<a href=\"https://colab.research.google.com/github/jakevdp/PythonDataScienceHandbook/blob/master/notebooks/00.00-Preface.ipynb\"><img align=\"left\" src=\"https://colab.research.google.com/assets/colab-badge.svg\" alt=\"Open in Colab\" title=\"Open and Execute in Google Colaboratory\"></a>"
   ]
  },
  {
   "cell_type": "markdown",
   "id": "8a941929",
   "metadata": {},
   "source": [
    "# Prefácio"
   ]
  },
  {
   "cell_type": "markdown",
   "id": "edf2ae27",
   "metadata": {},
   "source": [
    "## O que é Data Science?\n",
    "Este é um livro sobre como fazer ciência de dados com Python, o que imediatamente levanta a questão: o que é ciência de dados? É uma definição surpreendentemente difícil de definir, especialmente considerando o quão onipresente o termo se tornou. Os críticos vocais têm rejeitado o termo de várias maneiras como um rótulo supérfluo (afinal, que ciência não envolve dados?) Ou um chavão simples que só existe para salgar currículos e chamar a atenção de recrutadores de tecnologia excessivamente zelosos.\n",
    "\n",
    "Em minha mente, essas críticas deixam passar algo importante. A ciência de dados, apesar de seu verniz carregado de expectativa, é talvez o melhor rótulo que temos para o conjunto interdisciplinar de habilidades que estão se tornando cada vez mais importantes em muitas aplicações na indústria e na academia. Esta peça interdisciplinar é a chave: em minha opinião, a melhor definição existente de ciência de dados é ilustrada pelo Diagrama de Venn de Ciência de Dados de Drew Conway, publicado pela primeira vez em seu blog em setembro de 2010:"
   ]
  },
  {
   "cell_type": "markdown",
   "id": "53fe71a0",
   "metadata": {},
   "source": [
    "![Data Science Venn Diagram](https://images.squarespace-cdn.com/content/v1/5150aec6e4b0e340ec52710a/1364352051365-HZAS3CLBF7ABLE3F5OBY/Data_Science_VD.png?format=750w)\n",
    "\n",
    "<small>(Source: [Drew Conway](http://drewconway.com/zia/2013/3/26/the-data-science-venn-diagram). Used by permission.)</small>"
   ]
  },
  {
   "cell_type": "markdown",
   "id": "9234d637",
   "metadata": {},
   "source": [
    "Embora alguns dos rótulos de interseção sejam um tanto irônicos, este diagrama captura a essência do que eu acho que as pessoas querem dizer quando dizem \"ciência de dados\": é fundamentalmente um assunto interdisciplinar. A ciência de dados compreende três áreas distintas e sobrepostas: as habilidades de um estatístico que sabe como modelar e resumir conjuntos de dados (que estão cada vez maiores); as habilidades de um cientista da computação que pode projetar e usar algoritmos para armazenar, processar e visualizar esses dados com eficiência; e o domínio da <i>expertise</i> - o que podemos pensar como treinamento \"clássico\" em um assunto - necessária tanto para formular as perguntas certas quanto para colocar suas respostas no contexto.\n",
    "\n",
    "Com isso em mente, eu o encorajaria a pensar em ciência de dados não como um novo domínio de conhecimento a ser aprendido, mas um novo conjunto de habilidades que você pode aplicar em sua área de especialização atual. Esteja você relatando resultados eleitorais, prevendo retornos de ações, otimizando cliques em anúncios online, identificando microorganismos em fotos de microscópio, buscando novas classes de objetos astronômicos ou trabalhando com dados em qualquer outro campo, o objetivo deste livro é fornecer a você a capacidade de pergunte e responda novas perguntas sobre a área de assunto escolhida."
   ]
  },
  {
   "cell_type": "markdown",
   "id": "9524b0da",
   "metadata": {},
   "source": [
    "## Para quem é este livro?\n",
    "\n",
    "Em minhas aulas na Universidade de Washington e em várias conferências e encontros com foco em tecnologia, uma das perguntas mais comuns que ouvi é esta: \"como devo aprender Python?\"\n",
    "As pessoas que perguntam isso são geralmente estudantes, desenvolvedores ou pesquisadores com mentalidade técnica, muitas vezes com uma sólida experiência em escrever códigos e usar ferramentas computacionais e numéricas.\n",
    "A maioria dessas pessoas não querem aprender Python *por si só*, mas querem aprender a linguagem com o objetivo de usá-la como uma ferramenta para uso intensivo de dados e ciência computacional.\n",
    "Embora uma grande colcha de retalhos de vídeos, postagens em blogs e tutoriais para esse público esteja disponível online, há muito tempo fico frustrado com a falta de uma única resposta adequada para essa pergunta; foi isso que inspirou este livro.\n",
    "\n",
    "O livro não pretende ser uma introdução ao Python ou à programação em geral; Presumo que o leitor tenha familiaridade com a linguagem Python, incluindo definição de funções, atribuição de variáveis, chamada de métodos de objetos, controle do fluxo de um programa e outras tarefas básicas.\n",
    "Em vez disso, destina-se a ajudar os usuários de Python a aprender a usar as bibliotecas de pilha de ciência de dados do Python, como IPython, NumPy, Pandas, Matplotlib, Scikit-Learn e ferramentas relacionadas - para armazenar, manipular e obter informações de dados de maneira eficaz."
   ]
  },
  {
   "cell_type": "markdown",
   "id": "b7f0eaa9",
   "metadata": {},
   "source": [
    "## Por que Python?\n",
    "\n",
    "Python surgiu nas últimas décadas como uma ferramenta de primeira classe para tarefas de computação científica, incluindo a análise e visualização de grandes conjuntos de dados.\n",
    "Isso pode ter sido uma surpresa para os criadores da linguagem Python: a linguagem em si não foi projetada especificamente para a análise de dados ou computação científica.\n",
    "A utilidade do Python para a ciência de dados deriva principalmente do grande e ativo ecossistema de pacotes de terceiros: *NumPy* para manipulação de dados homogêneos baseados em array (matrizes), *Pandas* para manipulação de dados heterogêneos e rotulados, *SciPy* para dados científicos comuns tarefas de computação, *Matplotlib* para visualização de dados com qualidade de publicação, *IPython* para execução interativa e compartilhamento de código, *Scikit-Learn* para aprendizado de máquina e muitas outras ferramentas que serão mencionadas nas páginas a seguir.\n",
    "\n",
    "Se você está procurando um guia para a linguagem Python em si, sugiro o projeto irmão deste livro, \"[Um tour rápido pela linguagem Python](https://jakevdp.github.io/WhirlwindTourOfPython)\".\n",
    "Este breve relatório fornece um tour pelos recursos essenciais da linguagem Python, voltado para cientistas de dados que já estão familiarizados com uma ou mais outras linguagens de programação."
   ]
  },
  {
   "cell_type": "markdown",
   "id": "aef633aa",
   "metadata": {},
   "source": [
    "### Python 2 vs Python 3\n",
    "\n",
    "Este livro usa a sintaxe do Python 3, que contém aprimoramentos de linguagem que não são compatíveis com a série 2.x do Python.\n",
    "Embora o Python 3.0 tenha sido lançado pela primeira vez em 2008, a adoção tem sido relativamente lenta, particularmente nas comunidades científica e de desenvolvimento da web.\n",
    "Isso ocorre principalmente porque levou algum tempo para que muitos dos pacotes e kits de ferramentas essenciais de terceiros se tornassem compatíveis com as novas linguagens internas.\n",
    "Desde o início de 2014, no entanto, as versões estáveis das ferramentas mais importantes no ecossistema de ciência de dados são totalmente compatíveis com Python 2 e 3 e, portanto, este livro usará a sintaxe Python 3 mais recente.\n",
    "No entanto, a grande maioria dos fragmentos de código neste livro também funcionará sem modificação no Python 2: nos casos em que uma sintaxe incompatível com Py2 for usada, farei todo o possível para observá-la explicitamente."
   ]
  },
  {
   "cell_type": "markdown",
   "id": "14496d2d",
   "metadata": {},
   "source": [
    "## Esboço do livro\n",
    "\n",
    "Cada capítulo deste livro enfoca um pacote ou ferramenta particular que contribui com uma parte fundamental da história do Python Data Science.\n",
    "\n",
    "1. IPython e Jupyter: esses pacotes fornecem o ambiente computacional no qual trabalham muitos cientistas de dados que usam Python.\n",
    "2. NumPy: esta biblioteca fornece o `` ndarray`` para armazenamento e manipulação eficientes de matrizes de dados densos em Python.\n",
    "3. Pandas: esta biblioteca fornece o `` DataFrame`` para armazenamento e manipulação eficientes de dados rotulados / colunares em Python.\n",
    "4. Matplotlib: esta biblioteca fornece recursos para uma gama flexível de visualizações de dados em Python.\n",
    "5. Scikit-Learn: esta biblioteca fornece implementações Python eficientes e limpas dos algoritmos de aprendizado de máquina mais importantes e estabelecidos.\n",
    "\n",
    "O mundo PyData é certamente muito maior do que esses cinco pacotes e está crescendo a cada dia.\n",
    "Com isso em mente, faço todas as tentativas dessas páginas para fornecer referências a outros esforços, projetos e pacotes interessantes que estão ultrapassando os limites do que pode ser feito em Python.\n",
    "No entanto, esses cinco são atualmente fundamentais para grande parte do trabalho que está sendo feito no espaço da ciência de dados Python, e espero que continuem importantes mesmo que o ecossistema continue crescendo ao seu redor."
   ]
  },
  {
   "cell_type": "markdown",
   "id": "9cf8f8f4",
   "metadata": {},
   "source": [
    "## Usando exemplos de código\n",
    "\n",
    "O material complementar (exemplos de código, figuras, etc.) está disponível para download em http://github.com/jakevdp/PythonDataScienceHandbook/. Este livro está aqui para ajudá-lo a realizar seu trabalho. Em geral, se o código de exemplo é oferecido com este livro, você pode usá-lo em seus programas e documentação. Você não precisa entrar em contato conosco para obter permissão, a menos que esteja reproduzindo uma parte significativa do código. Por exemplo, escrever um programa que usa vários pedaços de código deste livro não requer permissão. Vender ou distribuir um CD-ROM de exemplos de livros O’Reilly requer permissão. Responder a uma pergunta citando este livro e citando um código de exemplo não requer permissão. Incorporar uma quantidade significativa de código de exemplo deste livro na documentação do seu produto requer permissão.\n",
    "\n",
    "Agradecemos, mas não exigimos atribuição. Uma atribuição geralmente inclui o título, autor, editora e ISBN. Por exemplo:\n",
    "\n",
    "> *The Python Data Science Handbook* por Jake VanderPlas (O’Reilly). Copyright 2016 Jake VanderPlas, 978-1-491-91205-8.\n",
    "\n",
    "Se você acha que o uso de exemplos de código está fora do uso justo ou da permissão fornecida acima, sinta-se à vontade para nos contatar em permissions@oreilly.com."
   ]
  },
  {
   "cell_type": "markdown",
   "id": "c5d37860",
   "metadata": {},
   "source": [
    "# IPython: além do Python normal"
   ]
  },
  {
   "cell_type": "markdown",
   "id": "ab9abcf4",
   "metadata": {},
   "source": [
    "Existem muitas opções para ambientes de desenvolvimento para Python, e muitas vezes me perguntam qual eu uso em meu próprio trabalho.\n",
    "Minha resposta às vezes surpreende as pessoas: meu ambiente preferido é [IPython](http://ipython.org/) e mais um editor de texto (no meu caso, Emacs ou Atom dependendo do meu humor).\n",
    "IPython (abreviação de *Interactive Python*) foi iniciado em 2001 por Fernando Perez como um interpretador Python aprimorado e, desde então, se tornou um projeto com o objetivo de fornecer, nas palavras de Perez, \"Ferramentas para todo o ciclo de vida da computação de pesquisa.\"\n",
    "Se Python é o motor de nossa tarefa de ciência de dados, você pode pensar em IPython como o painel de controle interativo.\n",
    "\n",
    "Além de ser uma interface interativa útil para Python, o IPython também fornece uma série de adições sintáticas úteis para a linguagem; vamos cobrir as mais úteis dessas adições aqui.\n",
    "Além disso, o IPython está intimamente ligado ao [projeto Jupyter](http://jupyter.org), que fornece um bloco de notas baseado em navegador que é útil para desenvolvimento, colaboração, compartilhamento e até publicação de resultados de ciência de dados.\n",
    "O bloco de notas IPython é na verdade um caso especial da estrutura de bloco de notas Jupyter (*Jupyter Notebook*) mais ampla, que abrange blocos de notas para Julia, R e outras linguagens de programação.\n",
    "Como exemplo da utilidade do formato de *notebook*, basta olhar para a página que você está lendo: todo o manuscrito deste livro foi composto como um conjunto de blocos de notas IPython.\n",
    "\n",
    "IPython é sobre como usar Python efetivamente para computação científica interativa e com uso intensivo de dados.\n",
    "Este capítulo começará percorrendo alguns dos recursos do IPython que são úteis para a prática da ciência de dados, focando especialmente na sintaxe que oferece além dos recursos padrão do Python.\n",
    "A seguir, vamos nos aprofundar um pouco mais em alguns dos \"comandos mágicos\" (*Magic Tools*) mais úteis que podem acelerar tarefas comuns na criação e no uso de código de ciência de dados.\n",
    "Por fim, abordaremos alguns dos recursos do bloco de notas que o tornam útil na compreensão de dados e no compartilhamento de resultados."
   ]
  },
  {
   "cell_type": "markdown",
   "id": "6b88c678",
   "metadata": {},
   "source": [
    "## Shell ou Notebook?\n",
    "\n",
    "Existem dois meios principais de usar IPython que discutiremos neste capítulo: o IPython shell e o IPython notebook.\n",
    "A maior parte do material neste capítulo é relevante para ambos, e os exemplos irão alternar entre eles dependendo do que for mais conveniente.\n",
    "Nas poucas seções que são relevantes apenas para um ou outro, declararemos explicitamente esse fato.\n",
    "Antes de começar, algumas palavras sobre como iniciar o IPython shell e o IPython notebook."
   ]
  },
  {
   "cell_type": "markdown",
   "id": "03d66e6f",
   "metadata": {},
   "source": [
    "### Lançando o IPython Shell\n",
    "\n",
    "Este capítulo, como a maior parte deste livro, não foi projetado para ser absorvido passivamente.\n",
    "Recomendo que, ao lê-lo, você acompanhe e experimente as ferramentas e a sintaxe que abordamos: a memória muscular que você constrói ao fazer isso será muito mais útil do que o simples ato de ler sobre ela.\n",
    "Comece iniciando o interpretador IPython digitando **``ipython``** na linha de comando; alternativamente, se você instalou uma distribuição como Anaconda ou EPD, pode haver um inicializador específico para seu sistema (discutiremos isso mais detalhadamente em [Ajuda e documentação em IPython](01.01-Help-And-Documentation.ipynb) )\n",
    "\n",
    "Depois de fazer isso, você verá um prompt como o seguinte:\n",
    "```IPython 4.0.1 - Um Python interativo aprimorado.\n",
    "? -> Introdução e visão geral dos recursos do IPython.\n",
    "% quickref -> Referência rápida.\n",
    "help -> O próprio sistema de ajuda do Python.\n",
    "objeto? -> Detalhes sobre 'objeto', use 'objeto ??' para detalhes extras.\n",
    "Em [1]:```\n",
    "<p>\n",
    "Com isso, você está pronto para seguir em frente."
   ]
  },
  {
   "cell_type": "markdown",
   "id": "b864eca4",
   "metadata": {},
   "source": [
    "### Lançando o Jupyter Notebook\n",
    "\n",
    "O notebook Jupyter é uma interface gráfica baseada em navegador para o IPython shell e se baseia em um rico conjunto de recursos de exibição dinâmica.\n",
    "Além de executar instruções Python / IPython, o notebook permite ao usuário incluir texto formatado, visualizações estáticas e dinâmicas, equações matemáticas, widgets JavaScript e muito mais.\n",
    "Além disso, esses documentos podem ser salvos de forma que outras pessoas os abram e executem o código em seus próprios sistemas.\n",
    "\n",
    "Embora o bloco de notas IPython seja visualizado e editado por meio da janela do navegador da web, ele deve se conectar a um processo Python em execução para executar o código.\n",
    "Esse processo (conhecido como \"kernel\") pode ser iniciado executando o seguinte comando no shell do sistema:\n",
    "\n",
    "```$ jupyter notebook```\n",
    "\n",
    "Este comando irá lançar um servidor web local que ficará visível para o seu navegador.\n",
    "Ele imediatamente cospe um registro mostrando o que está fazendo; esse registro será semelhante a este:\n",
    "\n",
    "```$ jupyter notebook\n",
    "[NotebookApp] Serving notebooks from local directory: /Users/jakevdp/PythonDataScienceHandbook\n",
    "[NotebookApp] 0 active kernels\n",
    "[NotebookApp] The IPython Notebook is running at: http://localhost:8888/\n",
    "[NotebookApp] Use Control-C to stop this server and shut down all kernels (twice to skip confirmation).```\n",
    "\n",
    "Ao emitir o comando, seu navegador padrão deve abrir automaticamente e navegar para o URL local listado;\n",
    "o endereço exato dependerá do seu sistema.\n",
    "Se o navegador não abrir automaticamente, você pode abrir uma janela e abrir manualmente este endereço (*http://localhost:8888/* neste exemplo)."
   ]
  },
  {
   "cell_type": "markdown",
   "id": "b88822c4",
   "metadata": {},
   "source": [
    "# Help and Documentation in IPython"
   ]
  },
  {
   "cell_type": "code",
   "execution_count": null,
   "id": "457d1b2b",
   "metadata": {},
   "outputs": [],
   "source": []
  }
 ],
 "metadata": {
  "kernelspec": {
   "display_name": "Python 3 (ipykernel)",
   "language": "python",
   "name": "python3"
  },
  "language_info": {
   "codemirror_mode": {
    "name": "ipython",
    "version": 3
   },
   "file_extension": ".py",
   "mimetype": "text/x-python",
   "name": "python",
   "nbconvert_exporter": "python",
   "pygments_lexer": "ipython3",
   "version": "3.9.7"
  }
 },
 "nbformat": 4,
 "nbformat_minor": 5
}
