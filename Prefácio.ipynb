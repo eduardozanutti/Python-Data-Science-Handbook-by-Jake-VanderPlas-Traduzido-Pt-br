{
 "cells": [
  {
   "cell_type": "markdown",
   "id": "885def74",
   "metadata": {},
   "source": [
    "# Python - Livro de mão para Ciência de Dados (Data Science)"
   ]
  },
  {
   "cell_type": "markdown",
   "id": "48535b99",
   "metadata": {},
   "source": [
    "*Jake VanderPlas*\n",
    "\n",
    "![Book Cover](phyton_data_science_handbook/images/PDSH-cover.png)"
   ]
  },
  {
   "cell_type": "markdown",
   "id": "5a91e716",
   "metadata": {},
   "source": [
    "Esta é a versão do notebook Jupyter do [Python Data Science Handbook](http://shop.oreilly.com/product/0636920034919.do) por Jake VanderPlas; o conteúdo está disponível [no GitHub](https://github.com/jakevdp/PythonDataScienceHandbook).*\n",
    "O texto é publicado sob o [CC-BY-NC-ND license](https://creativecommons.org/licenses/by-nc-nd/3.0/us/legalcode), e o código é lançado sob o [MIT license](https://opensource.org/licenses/MIT). Se você achar este conteúdo útil, considere apoiar o trabalho [comprando o livro](http://shop.oreilly.com/product/0636920034919.do)!"
   ]
  },
  {
   "cell_type": "markdown",
   "id": "86d28867",
   "metadata": {},
   "source": [
    "## Tabela de conteúdos <a id='index'></a>\n",
    "\n",
    "### [Prefácio](#preface)\n",
    "\n",
    "### [1. IPython: Além do Python normal](#ipython)\n",
    "- [Ajuda e Documentação no IPython](#help_documentation)\n",
    "- [Keyboard Shortcuts in the IPython Shell]\n",
    "- [IPython Magic Commands]\n",
    "- [Input and Output History]\n",
    "- [IPython and Shell Commands]\n",
    "- [Errors and Debugging]\n",
    "- [Profiling and Timing Code]\n",
    "- [More IPython Resources]\n",
    "\n",
    "### [2. Introduction to NumPy]\n",
    "- [Understanding Data Types in Python]\n",
    "- [The Basics of NumPy Arrays]\n",
    "- [Computation on NumPy Arrays: Universal Functions]\n",
    "- [Aggregations: Min, Max, and Everything In Between]\n",
    "- [Computation on Arrays: Broadcasting]\n",
    "- [Comparisons, Masks, and Boolean Logic]\n",
    "- [Fancy Indexing]\n",
    "- [Sorting Arrays]\n",
    "- [Structured Data: NumPy's Structured Arrays]\n",
    "\n",
    "### [3. Data Manipulation with Pandas]\n",
    "- [Introducing Pandas Objects]\n",
    "- [Data Indexing and Selection]\n",
    "- [Operating on Data in Pandas]\n",
    "- [Handling Missing Data]\n",
    "- [Hierarchical Indexing]\n",
    "- [Combining Datasets: Concat and Append]\n",
    "- [Combining Datasets: Merge and Join]\n",
    "- [Aggregation and Grouping]\n",
    "- [Pivot Tables]\n",
    "- [Vectorized String Operations]\n",
    "- [Working with Time Series]\n",
    "- [High-Performance Pandas: eval() and query()]\n",
    "- [Further Resources]\n",
    "\n",
    "### [4. Visualization with Matplotlib]\n",
    "- [Simple Line Plots]\n",
    "- [Simple Scatter Plots]\n",
    "- [Visualizing Errors]\n",
    "- [Density and Contour Plots]\n",
    "- [Histograms, Binnings, and Density]\n",
    "- [Customizing Plot Legends]\n",
    "- [Customizing Colorbars]\n",
    "- [Multiple Subplots]\n",
    "- [Text and Annotation]\n",
    "- [Customizing Ticks]\n",
    "- [Customizing Matplotlib: Configurations and Stylesheets]\n",
    "- [Three-Dimensional Plotting in Matplotlib]\n",
    "- [Geographic Data with Basemap]\n",
    "- [Visualization with Seaborn]\n",
    "- [Further Resources]\n",
    "\n",
    "### [5. Machine Learning]\n",
    "- [What Is Machine Learning?]\n",
    "- [Introducing Scikit-Learn]\n",
    "- [Hyperparameters and Model Validation]\n",
    "- [Feature Engineering]\n",
    "- [In Depth: Naive Bayes Classification]\n",
    "- [In Depth: Linear Regression]\n",
    "- [In-Depth: Support Vector Machines]\n",
    "- [In-Depth: Decision Trees and Random Forests]\n",
    "- [In Depth: Principal Component Analysis]\n",
    "- [In-Depth: Manifold Learning]\n",
    "- [In Depth: k-Means Clustering]\n",
    "- [In Depth: Gaussian Mixture Models]\n",
    "- [In-Depth: Kernel Density Estimation]\n",
    "- [Application: A Face Detection Pipeline]\n",
    "- [Further Machine Learning Resources]\n",
    "\n",
    "### [Appendix: Figure Code]"
   ]
  },
  {
   "cell_type": "markdown",
   "id": "c1de6733",
   "metadata": {},
   "source": [
    "# Python - Livro de mão para Ciência de Dados (Data Science)"
   ]
  },
  {
   "cell_type": "markdown",
   "id": "c187c57a",
   "metadata": {},
   "source": [
    "<!--BOOK_INFORMATION-->\n",
    "<img align=\"left\" style=\"padding-right:10px;\" src=\"phyton_data_science_handbook/images/PDSH-cover-small.png\">\n",
    "\n",
    "*Esse notebook contém trechos do [Python Data Science Handbook](http://shop.oreilly.com/product/0636920034919.do) por Jake VanderPlas; o conteúdo está disponível [on GitHub](https://github.com/jakevdp/PythonDataScienceHandbook).*\n",
    "*O texto é publicado sob o [CC-BY-NC-ND license](https://creativecommons.org/licenses/by-nc-nd/3.0/us/legalcode), and code is lançado sob o [MIT license](https://opensource.org/licenses/MIT). Se você achar este conteúdo útil, considere apoiar o trabalho  [comprando o livro](http://shop.oreilly.com/product/0636920034919.do)!*"
   ]
  },
  {
   "cell_type": "markdown",
   "id": "a137a9e7",
   "metadata": {},
   "source": [
    "<!--NAVIGATION-->\n",
    "| [Contents](Index.ipynb) | [IPython: além do Python Normal](#ipython) >\n",
    "\n",
    "<a href=\"https://colab.research.google.com/github/jakevdp/PythonDataScienceHandbook/blob/master/notebooks/00.00-Preface.ipynb\"><img align=\"left\" src=\"https://colab.research.google.com/assets/colab-badge.svg\" alt=\"Open in Colab\" title=\"Open and Execute in Google Colaboratory\"></a>"
   ]
  },
  {
   "cell_type": "markdown",
   "id": "8a941929",
   "metadata": {},
   "source": [
    "# Prefácio <a id='preface'></a>\n",
    "[Voltar ao Índice](#index)"
   ]
  },
  {
   "cell_type": "markdown",
   "id": "edf2ae27",
   "metadata": {},
   "source": [
    "## O que é Data Science?\n",
    "Este é um livro sobre como fazer ciência de dados com Python, o que imediatamente levanta a questão: o que é ciência de dados? É uma definição surpreendentemente difícil de definir, especialmente considerando o quão onipresente o termo se tornou. Os críticos vocais têm rejeitado o termo de várias maneiras como um rótulo supérfluo (afinal, que ciência não envolve dados?) Ou um chavão simples que só existe para salgar currículos e chamar a atenção de recrutadores de tecnologia excessivamente zelosos.\n",
    "\n",
    "Em minha mente, essas críticas deixam passar algo importante. A ciência de dados, apesar de seu verniz carregado de expectativa, é talvez o melhor rótulo que temos para o conjunto interdisciplinar de habilidades que estão se tornando cada vez mais importantes em muitas aplicações na indústria e na academia. Esta peça interdisciplinar é a chave: em minha opinião, a melhor definição existente de ciência de dados é ilustrada pelo Diagrama de Venn de Ciência de Dados de Drew Conway, publicado pela primeira vez em seu blog em setembro de 2010:"
   ]
  },
  {
   "cell_type": "markdown",
   "id": "53fe71a0",
   "metadata": {},
   "source": [
    "![Data Science Venn Diagram](https://images.squarespace-cdn.com/content/v1/5150aec6e4b0e340ec52710a/1364352051365-HZAS3CLBF7ABLE3F5OBY/Data_Science_VD.png?format=750w)\n",
    "\n",
    "<small>(Source: [Drew Conway](http://drewconway.com/zia/2013/3/26/the-data-science-venn-diagram). Used by permission.)</small>"
   ]
  },
  {
   "cell_type": "markdown",
   "id": "9234d637",
   "metadata": {},
   "source": [
    "Embora alguns dos rótulos de interseção sejam um tanto irônicos, este diagrama captura a essência do que eu acho que as pessoas querem dizer quando dizem \"ciência de dados\": é fundamentalmente um assunto interdisciplinar. A ciência de dados compreende três áreas distintas e sobrepostas: as habilidades de um estatístico que sabe como modelar e resumir conjuntos de dados (que estão cada vez maiores); as habilidades de um cientista da computação que pode projetar e usar algoritmos para armazenar, processar e visualizar esses dados com eficiência; e o domínio da <i>expertise</i> - o que podemos pensar como treinamento \"clássico\" em um assunto - necessária tanto para formular as perguntas certas quanto para colocar suas respostas no contexto.\n",
    "\n",
    "Com isso em mente, eu o encorajaria a pensar em ciência de dados não como um novo domínio de conhecimento a ser aprendido, mas um novo conjunto de habilidades que você pode aplicar em sua área de especialização atual. Esteja você relatando resultados eleitorais, prevendo retornos de ações, otimizando cliques em anúncios online, identificando microorganismos em fotos de microscópio, buscando novas classes de objetos astronômicos ou trabalhando com dados em qualquer outro campo, o objetivo deste livro é fornecer a você a capacidade de pergunte e responda novas perguntas sobre a área de assunto escolhida."
   ]
  },
  {
   "cell_type": "markdown",
   "id": "9524b0da",
   "metadata": {},
   "source": [
    "## Para quem é este livro?\n",
    "\n",
    "Em minhas aulas na Universidade de Washington e em várias conferências e encontros com foco em tecnologia, uma das perguntas mais comuns que ouvi é esta: \"como devo aprender Python?\"\n",
    "As pessoas que perguntam isso são geralmente estudantes, desenvolvedores ou pesquisadores com mentalidade técnica, muitas vezes com uma sólida experiência em escrever códigos e usar ferramentas computacionais e numéricas.\n",
    "A maioria dessas pessoas não querem aprender Python *por si só*, mas querem aprender a linguagem com o objetivo de usá-la como uma ferramenta para uso intensivo de dados e ciência computacional.\n",
    "Embora uma grande colcha de retalhos de vídeos, postagens em blogs e tutoriais para esse público esteja disponível online, há muito tempo fico frustrado com a falta de uma única resposta adequada para essa pergunta; foi isso que inspirou este livro.\n",
    "\n",
    "O livro não pretende ser uma introdução ao Python ou à programação em geral; Presumo que o leitor tenha familiaridade com a linguagem Python, incluindo definição de funções, atribuição de variáveis, chamada de métodos de objetos, controle do fluxo de um programa e outras tarefas básicas.\n",
    "Em vez disso, destina-se a ajudar os usuários de Python a aprender a usar as bibliotecas de pilha de ciência de dados do Python, como IPython, NumPy, Pandas, Matplotlib, Scikit-Learn e ferramentas relacionadas - para armazenar, manipular e obter informações de dados de maneira eficaz."
   ]
  },
  {
   "cell_type": "markdown",
   "id": "b7f0eaa9",
   "metadata": {},
   "source": [
    "## Por que Python?\n",
    "\n",
    "Python surgiu nas últimas décadas como uma ferramenta de primeira classe para tarefas de computação científica, incluindo a análise e visualização de grandes conjuntos de dados.\n",
    "Isso pode ter sido uma surpresa para os criadores da linguagem Python: a linguagem em si não foi projetada especificamente para a análise de dados ou computação científica.\n",
    "A utilidade do Python para a ciência de dados deriva principalmente do grande e ativo ecossistema de pacotes de terceiros: *NumPy* para manipulação de dados homogêneos baseados em array (matrizes), *Pandas* para manipulação de dados heterogêneos e rotulados, *SciPy* para dados científicos comuns tarefas de computação, *Matplotlib* para visualização de dados com qualidade de publicação, *IPython* para execução interativa e compartilhamento de código, *Scikit-Learn* para aprendizado de máquina e muitas outras ferramentas que serão mencionadas nas páginas a seguir.\n",
    "\n",
    "Se você está procurando um guia para a linguagem Python em si, sugiro o projeto irmão deste livro, \"[Um tour rápido pela linguagem Python](https://jakevdp.github.io/WhirlwindTourOfPython)\".\n",
    "Este breve relatório fornece um tour pelos recursos essenciais da linguagem Python, voltado para cientistas de dados que já estão familiarizados com uma ou mais outras linguagens de programação."
   ]
  },
  {
   "cell_type": "markdown",
   "id": "aef633aa",
   "metadata": {},
   "source": [
    "### Python 2 vs Python 3\n",
    "\n",
    "Este livro usa a sintaxe do Python 3, que contém aprimoramentos de linguagem que não são compatíveis com a série 2.x do Python.\n",
    "Embora o Python 3.0 tenha sido lançado pela primeira vez em 2008, a adoção tem sido relativamente lenta, particularmente nas comunidades científica e de desenvolvimento da web.\n",
    "Isso ocorre principalmente porque levou algum tempo para que muitos dos pacotes e kits de ferramentas essenciais de terceiros se tornassem compatíveis com as novas linguagens internas.\n",
    "Desde o início de 2014, no entanto, as versões estáveis das ferramentas mais importantes no ecossistema de ciência de dados são totalmente compatíveis com Python 2 e 3 e, portanto, este livro usará a sintaxe Python 3 mais recente.\n",
    "No entanto, a grande maioria dos fragmentos de código neste livro também funcionará sem modificação no Python 2: nos casos em que uma sintaxe incompatível com Py2 for usada, farei todo o possível para observá-la explicitamente."
   ]
  },
  {
   "cell_type": "markdown",
   "id": "14496d2d",
   "metadata": {},
   "source": [
    "## Esboço do livro\n",
    "\n",
    "Cada capítulo deste livro enfoca um pacote ou ferramenta particular que contribui com uma parte fundamental da história do Python Data Science.\n",
    "\n",
    "1. IPython e Jupyter: esses pacotes fornecem o ambiente computacional no qual trabalham muitos cientistas de dados que usam Python.\n",
    "2. NumPy: esta biblioteca fornece o `` ndarray`` para armazenamento e manipulação eficientes de matrizes de dados densos em Python.\n",
    "3. Pandas: esta biblioteca fornece o `` DataFrame`` para armazenamento e manipulação eficientes de dados rotulados / colunares em Python.\n",
    "4. Matplotlib: esta biblioteca fornece recursos para uma gama flexível de visualizações de dados em Python.\n",
    "5. Scikit-Learn: esta biblioteca fornece implementações Python eficientes e limpas dos algoritmos de aprendizado de máquina mais importantes e estabelecidos.\n",
    "\n",
    "O mundo PyData é certamente muito maior do que esses cinco pacotes e está crescendo a cada dia.\n",
    "Com isso em mente, faço todas as tentativas dessas páginas para fornecer referências a outros esforços, projetos e pacotes interessantes que estão ultrapassando os limites do que pode ser feito em Python.\n",
    "No entanto, esses cinco são atualmente fundamentais para grande parte do trabalho que está sendo feito no espaço da ciência de dados Python, e espero que continuem importantes mesmo que o ecossistema continue crescendo ao seu redor."
   ]
  },
  {
   "cell_type": "markdown",
   "id": "9cf8f8f4",
   "metadata": {},
   "source": [
    "## Usando exemplos de código\n",
    "\n",
    "O material complementar (exemplos de código, figuras, etc.) está disponível para download em http://github.com/jakevdp/PythonDataScienceHandbook/. Este livro está aqui para ajudá-lo a realizar seu trabalho. Em geral, se o código de exemplo é oferecido com este livro, você pode usá-lo em seus programas e documentação. Você não precisa entrar em contato conosco para obter permissão, a menos que esteja reproduzindo uma parte significativa do código. Por exemplo, escrever um programa que usa vários pedaços de código deste livro não requer permissão. Vender ou distribuir um CD-ROM de exemplos de livros O’Reilly requer permissão. Responder a uma pergunta citando este livro e citando um código de exemplo não requer permissão. Incorporar uma quantidade significativa de código de exemplo deste livro na documentação do seu produto requer permissão.\n",
    "\n",
    "Agradecemos, mas não exigimos atribuição. Uma atribuição geralmente inclui o título, autor, editora e ISBN. Por exemplo:\n",
    "\n",
    "> *The Python Data Science Handbook* por Jake VanderPlas (O’Reilly). Copyright 2016 Jake VanderPlas, 978-1-491-91205-8.\n",
    "\n",
    "Se você acha que o uso de exemplos de código está fora do uso justo ou da permissão fornecida acima, sinta-se à vontade para nos contatar em permissions@oreilly.com."
   ]
  },
  {
   "cell_type": "markdown",
   "id": "c5d37860",
   "metadata": {},
   "source": [
    "# 1. IPython: além do Python normal <a id='ipython'></a>\n",
    "[Voltar ao Índice](#index)"
   ]
  },
  {
   "cell_type": "markdown",
   "id": "ab9abcf4",
   "metadata": {},
   "source": [
    "Existem muitas opções para ambientes de desenvolvimento para Python, e muitas vezes me perguntam qual eu uso em meu próprio trabalho.\n",
    "Minha resposta às vezes surpreende as pessoas: meu ambiente preferido é [IPython](http://ipython.org/) e mais um editor de texto (no meu caso, Emacs ou Atom dependendo do meu humor).\n",
    "IPython (abreviação de *Interactive Python*) foi iniciado em 2001 por Fernando Perez como um interpretador Python aprimorado e, desde então, se tornou um projeto com o objetivo de fornecer, nas palavras de Perez, \"Ferramentas para todo o ciclo de vida da computação de pesquisa.\"\n",
    "Se Python é o motor de nossa tarefa de ciência de dados, você pode pensar em IPython como o painel de controle interativo.\n",
    "\n",
    "Além de ser uma interface interativa útil para Python, o IPython também fornece uma série de adições sintáticas úteis para a linguagem; vamos cobrir as mais úteis dessas adições aqui.\n",
    "Além disso, o IPython está intimamente ligado ao [projeto Jupyter](http://jupyter.org), que fornece um bloco de notas baseado em navegador que é útil para desenvolvimento, colaboração, compartilhamento e até publicação de resultados de ciência de dados.\n",
    "O bloco de notas IPython é na verdade um caso especial da estrutura de bloco de notas Jupyter (*Jupyter Notebook*) mais ampla, que abrange blocos de notas para Julia, R e outras linguagens de programação.\n",
    "Como exemplo da utilidade do formato de *notebook*, basta olhar para a página que você está lendo: todo o manuscrito deste livro foi composto como um conjunto de blocos de notas IPython.\n",
    "\n",
    "IPython é sobre como usar Python efetivamente para computação científica interativa e com uso intensivo de dados.\n",
    "Este capítulo começará percorrendo alguns dos recursos do IPython que são úteis para a prática da ciência de dados, focando especialmente na sintaxe que oferece além dos recursos padrão do Python.\n",
    "A seguir, vamos nos aprofundar um pouco mais em alguns dos \"comandos mágicos\" (*Magic Tools*) mais úteis que podem acelerar tarefas comuns na criação e no uso de código de ciência de dados.\n",
    "Por fim, abordaremos alguns dos recursos do bloco de notas que o tornam útil na compreensão de dados e no compartilhamento de resultados."
   ]
  },
  {
   "cell_type": "markdown",
   "id": "6b88c678",
   "metadata": {},
   "source": [
    "## Shell ou Notebook?\n",
    "\n",
    "Existem dois meios principais de usar IPython que discutiremos neste capítulo: o IPython shell e o IPython notebook.\n",
    "A maior parte do material neste capítulo é relevante para ambos, e os exemplos irão alternar entre eles dependendo do que for mais conveniente.\n",
    "Nas poucas seções que são relevantes apenas para um ou outro, declararemos explicitamente esse fato.\n",
    "Antes de começar, algumas palavras sobre como iniciar o IPython shell e o IPython notebook."
   ]
  },
  {
   "cell_type": "markdown",
   "id": "03d66e6f",
   "metadata": {},
   "source": [
    "### Lançando o IPython Shell\n",
    "\n",
    "Este capítulo, como a maior parte deste livro, não foi projetado para ser absorvido passivamente.\n",
    "Recomendo que, ao lê-lo, você acompanhe e experimente as ferramentas e a sintaxe que abordamos: a memória muscular que você constrói ao fazer isso será muito mais útil do que o simples ato de ler sobre ela.\n",
    "Comece iniciando o interpretador IPython digitando **``ipython``** na linha de comando; alternativamente, se você instalou uma distribuição como Anaconda ou EPD, pode haver um inicializador específico para seu sistema (discutiremos isso mais detalhadamente em [Ajuda e documentação em IPython](#help_documentation)\n",
    "\n",
    "Depois de fazer isso, você verá um prompt como o seguinte:\n",
    "```ipython\n",
    "IPython 4.0.1 - Um Python interativo aprimorado.\n",
    "? -> Introdução e visão geral dos recursos do IPython.\n",
    "% quickref -> Referência rápida.\n",
    "help -> O próprio sistema de ajuda do Python.\n",
    "object? -> Detalhes sobre 'objeto', use 'objeto ??' para detalhes extras.\n",
    "In [1]:\n",
    "```\n",
    "<p>\n",
    "Com isso, você está pronto para seguir em frente."
   ]
  },
  {
   "cell_type": "markdown",
   "id": "b864eca4",
   "metadata": {},
   "source": [
    "### Lançando o Jupyter Notebook\n",
    "\n",
    "O notebook Jupyter é uma interface gráfica baseada em navegador para o IPython shell e se baseia em um rico conjunto de recursos de exibição dinâmica.\n",
    "Além de executar instruções Python / IPython, o notebook permite ao usuário incluir texto formatado, visualizações estáticas e dinâmicas, equações matemáticas, widgets JavaScript e muito mais.\n",
    "Além disso, esses documentos podem ser salvos de forma que outras pessoas os abram e executem o código em seus próprios sistemas.\n",
    "\n",
    "Embora o bloco de notas IPython seja visualizado e editado por meio da janela do navegador da web, ele deve se conectar a um processo Python em execução para executar o código.\n",
    "Esse processo (conhecido como \"kernel\") pode ser iniciado executando o seguinte comando no shell do sistema:\n",
    "\n",
    "```ipython\n",
    "$ jupyter notebook\n",
    "```\n",
    "\n",
    "Este comando irá lançar um servidor web local que ficará visível para o seu navegador.\n",
    "Ele imediatamente cospe um registro mostrando o que está fazendo; esse registro será semelhante a este:\n",
    "\n",
    "```ipython\n",
    "$ jupyter notebook\n",
    "[NotebookApp] Serving notebooks from local directory: /Users/jakevdp/PythonDataScienceHandbook\n",
    "[NotebookApp] 0 active kernels\n",
    "[NotebookApp] The IPython Notebook is running at: http://localhost:8888/\n",
    "[NotebookApp] Use Control-C to stop this server and shut down all kernels (twice to skip confirmation).\n",
    "```\n",
    "\n",
    "Ao emitir o comando, seu navegador padrão deve abrir automaticamente e navegar para o URL local listado;\n",
    "o endereço exato dependerá do seu sistema.\n",
    "Se o navegador não abrir automaticamente, você pode abrir uma janela e abrir manualmente este endereço (*http://localhost:8888/* neste exemplo)."
   ]
  },
  {
   "cell_type": "markdown",
   "id": "4c8b43ae",
   "metadata": {},
   "source": [
    "## 1.1 Ajuda e documentação no IPython <a id='help_documentation'></a>\n",
    "[Voltar ao Índice](#index)"
   ]
  },
  {
   "cell_type": "markdown",
   "id": "1c8bb87b",
   "metadata": {},
   "source": [
    "Se você não leu nenhuma outra seção neste capítulo, leia esta: Acho que as ferramentas discutidas aqui são as contribuições mais transformadoras do IPython para meu fluxo de trabalho diário.\n",
    "\n",
    "Quando uma pessoa com mentalidade tecnológica é solicitada a ajudar um amigo, parente ou colega com um problema de computador, na maioria das vezes é menos uma questão de saber a resposta do que de saber como encontrar rapidamente uma resposta desconhecida.\n",
    "Na ciência de dados é o mesmo: recursos pesquisáveis ​​da web, como documentação online, tópicos de listas de discussão e respostas StackOverflow contêm uma riqueza de informações, mesmo (especialmente?) Se for um tópico que você já pesquisou antes.\n",
    "Ser um praticante eficaz da ciência de dados é menos sobre memorizar a ferramenta ou comando que você deve usar para todas as situações possíveis, e mais sobre aprender a encontrar efetivamente as informações que você não conhece, seja por meio de um mecanismo de pesquisa na web ou outro meio.\n",
    "\n",
    "Uma das funções mais úteis do IPython / Jupyter é reduzir a lacuna entre o usuário e o tipo de documentação e pesquisa que o ajudará a fazer seu trabalho com eficácia.\n",
    "Embora as pesquisas na web ainda desempenhem um papel na resposta a perguntas complicadas, uma quantidade incrível de informações pode ser encontrada apenas por meio do IPython.\n",
    "Alguns exemplos das perguntas que o IPython pode ajudar a responder com apenas alguns toques de tecla:\n",
    "\n",
    "- Como faço para chamar essa função? Que argumentos e opções ele tem?\n",
    "- Qual é a aparência do código-fonte deste objeto Python?\n",
    "- O que tem nesse pacote que importei? Quais atributos ou métodos este objeto possui?\n",
    "\n",
    "Aqui, discutiremos as ferramentas do IPython para acessar rapidamente essas informações, nomeadamente o caractere ``? `` Para explorar a documentação, os caracteres `` ?? `` para explorar o código-fonte e a tecla Tab para autocompletar."
   ]
  },
  {
   "cell_type": "markdown",
   "id": "2d9ab97c",
   "metadata": {},
   "source": [
    "## Acessando a documentação com ``? ``\n",
    "\n",
    "A linguagem Python e seu ecossistema de ciência de dados são construídos com o usuário em mente, e uma grande parte disso é o acesso à documentação.\n",
    "Cada objeto Python contém a referência a uma string, conhecida como * doc string *, que na maioria dos casos conterá um resumo conciso do objeto e como usá-lo.\n",
    "Python tem uma função `` help () `` embutida que pode acessar essas informações e imprimir os resultados.\n",
    "Por exemplo, para ver a documentação da função incorporada `` len``, você pode fazer o seguinte:\n",
    "\n",
    "```ipython\n",
    "In [1]: help(len)\n",
    "Help on built-in function len in module builtins:\n",
    "\n",
    "len(...)\n",
    "    len(object) -> integer\n",
    "    \n",
    "    Return the number of items of a sequence or mapping.\n",
    "```\n",
    "Dependendo do seu intérprete, essas informações podem ser exibidas como texto embutido ou em alguma janela pop-up separada."
   ]
  },
  {
   "cell_type": "markdown",
   "id": "ef34d0f6",
   "metadata": {},
   "source": [
    "Como encontrar ajuda em um objeto é tão comum e útil, o IPython apresenta o caractere ``? `` Como um atalho para acessar esta documentação e outras informações relevantes:\n",
    "\n",
    "```ipython\n",
    "In [2]: len?\n",
    "Type:        builtin_function_or_method\n",
    "String form: <built-in function len>\n",
    "Namespace:   Python builtin\n",
    "Docstring:\n",
    "len(object) -> integer\n",
    "\n",
    "Return the number of items of a sequence or mapping.\n",
    "```"
   ]
  },
  {
   "cell_type": "markdown",
   "id": "4633a0de",
   "metadata": {},
   "source": [
    "Essa notação funciona para quase tudo, incluindo métodos de objeto:\n",
    "\n",
    "```ipython\n",
    "In [3]: L = [1, 2, 3]\n",
    "In [4]: L.insert?\n",
    "Type:        builtin_function_or_method\n",
    "String form: <built-in method insert of list object at 0x1024b8ea8>\n",
    "Docstring:   L.insert(index, object) -- insert object before index\n",
    "```\n",
    "\n",
    "ou ainda os próprios objetos, com a documentação de seu tipo:\n",
    "\n",
    "```ipython\n",
    "In [5]: L?\n",
    "Type:        list\n",
    "String form: [1, 2, 3]\n",
    "Length:      3\n",
    "Docstring:\n",
    "list() -> new empty list\n",
    "list(iterable) -> new list initialized from iterable's items\n",
    "```"
   ]
  },
  {
   "cell_type": "markdown",
   "id": "3a543d6c",
   "metadata": {},
   "source": [
    "É importante ressaltar que isso funcionará até mesmo para funções ou outros objetos que você mesmo criar! Aqui definiremos uma pequena função com uma docstring:\n",
    "\n",
    "```ipython\n",
    "In [6]: def square(a):\n",
    "  ....:     \"\"\"Return the square of a.\"\"\"\n",
    "  ....:     return a ** 2\n",
    "  ....:\n",
    "```\n",
    "Observe que, para criar uma docstring para nossa função, simplesmente colocamos uma string literal na primeira linha. Como as strings de doc geralmente têm várias linhas, por convenção usamos a notação de aspas triplas do Python para strings de várias linhas."
   ]
  },
  {
   "cell_type": "markdown",
   "id": "7c2b9ee5",
   "metadata": {},
   "source": [
    "Agora usaremos a marca ``? `` Para encontrar esta string doc:\n",
    "\n",
    "```ipython\n",
    "In [7]: square?\n",
    "Type:        function\n",
    "String form: <function square at 0x103713cb0>\n",
    "Definition:  square(a)\n",
    "Docstring:   Return the square of a.\n",
    "```\n",
    "\n",
    "Este acesso rápido à documentação por meio de docstrings é uma razão pela qual você deve adquirir o hábito de sempre adicionar tal documentação embutida ao código que você escreve!"
   ]
  },
  {
   "cell_type": "markdown",
   "id": "e9725e48",
   "metadata": {},
   "source": [
    "## Acessando o código-fonte com `` ?? `` \n",
    "Como a linguagem Python é facilmente legível, outro nível de percepção geralmente pode ser obtido lendo o código-fonte do objeto sobre o qual você está curioso. IPython fornece um atalho para o código-fonte com o ponto de interrogação duplo (``??``):\n",
    "\n",
    "```ipython\n",
    "In [8]: square??\n",
    "Type:        function\n",
    "String form: <function square at 0x103713cb0>\n",
    "Definition:  square(a)\n",
    "Source:\n",
    "def square(a):\n",
    "    \"Return the square of a\"\n",
    "    return a ** 2\n",
    "```\n",
    "\n",
    "Para funções simples como essa, o ponto de interrogação duplo pode fornecer uma visão rápida dos detalhes sob o capô."
   ]
  },
  {
   "cell_type": "markdown",
   "id": "b6506c5f",
   "metadata": {},
   "source": [
    "Se você brincar com isso, você notará que às vezes o sufixo `` ?? `` não exibe nenhum código-fonte: isso geralmente ocorre porque o objeto em questão não é implementado em Python, mas em C ou algum outro compilado linguagem de extensão. Se for este o caso, o sufixo `` ?? `` dá a mesma saída que o sufixo ``? ``. Você encontrará isso particularmente com muitos dos objetos e tipos integrados do Python, por exemplo, `` len`` acima:\n",
    "\n",
    "\n",
    "```ipython\n",
    "In [9]: len??\n",
    "Type:        builtin_function_or_method\n",
    "String form: <built-in function len>\n",
    "Namespace:   Python builtin\n",
    "Docstring:\n",
    "len(object) -> integer\n",
    "\n",
    "Return the number of items of a sequence or mapping.\n",
    "```\n",
    "\n",
    "Usar ``? `` E / ou `` ?? `` fornece uma interface poderosa e rápida para encontrar informações sobre o que qualquer função ou módulo Python faz."
   ]
  },
  {
   "cell_type": "markdown",
   "id": "952f3c21",
   "metadata": {},
   "source": [
    "## Explorando Módulos com Completamento de Aba \n",
    "A outra interface útil do IPython é o uso da tecla tab para autocompletar e explorar o conteúdo de objetos, módulos e espaços de nomes. Nos exemplos a seguir, usaremos `` <TAB> `` para indicar quando a tecla Tab deve ser pressionada."
   ]
  },
  {
   "cell_type": "markdown",
   "id": "87112b58",
   "metadata": {},
   "source": [
    "### Preenchimento do conteúdo do objeto com tabulação\n",
    "\n",
    "Cada objeto Python possui vários atributos e métodos associados a ele. Como com a função `` help`` discutida antes, Python tem uma função `` dir`` embutida que retorna uma lista delas, mas a interface de preenchimento de tabulação é muito mais fácil de usar na prática. Para ver uma lista de todos os atributos disponíveis de um objeto, você pode digitar o nome do objeto seguido por um ponto (\"``.``\") e a tecla Tab:\n",
    "\n",
    "\n",
    "```ipython\n",
    "In [10]: L.<TAB>\n",
    "L.append   L.copy     L.extend   L.insert   L.remove   L.sort     \n",
    "L.clear    L.count    L.index    L.pop      L.reverse  \n",
    "```\n",
    "\n",
    "Para restringir a lista, você pode digitar o primeiro caractere ou vários caracteres do nome e a tecla Tab encontrará os atributos e métodos correspondentes:\n",
    "\n",
    "\n",
    "```ipython\n",
    "In [10]: L.c<TAB>\n",
    "L.clear  L.copy   L.count  \n",
    "\n",
    "In [10]: L.co<TAB>\n",
    "L.copy   L.count \n",
    "```\n",
    "\n",
    "Se houver apenas uma opção, pressione a tecla Tab para completar a linha para você. Por exemplo, o seguinte será instantaneamente substituído por `` L.count``:\n",
    "\n",
    "```ipython\n",
    "In [10]: L.cou<TAB>\n",
    "\n",
    "```\n",
    "\n",
    "Embora o Python não tenha uma distinção estritamente imposta entre atributos públicos / externos e atributos privados / internos, por convenção, um sublinhado anterior é usado para denotar tais métodos. Para maior clareza, esses métodos privados e métodos especiais são omitidos da lista por padrão, mas é possível listá-los digitando explicitamente o sublinhado:\n",
    "\n",
    "```ipython\n",
    "In [10]: L._<TAB>\n",
    "L.__add__           L.__gt__            L.__reduce__\n",
    "L.__class__         L.__hash__          L.__reduce_ex__\n",
    "```\n",
    "\n",
    "Para resumir, mostramos apenas as primeiras linhas da saída. A maioria deles são métodos especiais de sublinhado duplo do Python (freqüentemente apelidados de métodos \"dunder\")."
   ]
  },
  {
   "cell_type": "markdown",
   "id": "cb8b04d5",
   "metadata": {},
   "source": [
    "### Preenchimento de tabulação quando importar\n",
    "\n",
    "O preenchimento de tabulação também é útil ao importar objetos de pacotes. Aqui, vamos usá-lo para encontrar todas as importações possíveis no pacote `` itertools`` que começam com `` co``:\n",
    "```\n",
    "In [10]: from itertools import co<TAB>\n",
    "combinations                   compress\n",
    "combinations_with_replacement  count\n",
    "```\n",
    "Da mesma forma, você pode usar o preenchimento com tab para ver quais importações estão disponíveis em seu sistema (isso mudará dependendo de quais scripts e módulos de terceiros estão visíveis para sua sessão Python):\n",
    "```\n",
    "In [10]: import <TAB>\n",
    "Display all 399 possibilities? (y or n)\n",
    "Crypto              dis                 py_compile\n",
    "Cython              distutils           pyclbr\n",
    "...                 ...                 ...\n",
    "difflib             pwd                 zmq\n",
    "\n",
    "In [10]: import h<TAB>\n",
    "hashlib             hmac                http         \n",
    "heapq               html                husl         \n",
    "```\n",
    "(Observe que, para resumir, não imprimi aqui todos os 399 pacotes e módulos importáveis ​​em meu sistema.)"
   ]
  },
  {
   "cell_type": "markdown",
   "id": "a30217be",
   "metadata": {},
   "source": [
    "### Além do preenchimento da guia: correspondência de curinga\n",
    "\n",
    "O preenchimento com tabulação é útil se você conhece os primeiros caracteres do objeto ou atributo que está procurando, mas não ajuda muito se desejar combinar caracteres no meio ou no final da palavra. Para este caso de uso, o IPython fornece um meio de correspondência curinga para nomes usando o caractere `` * ``.\n",
    "\n",
    "Por exemplo, podemos usar isso para listar todos os objetos no namespace que termina com `` Warning``:\n",
    "\n",
    "```ipython\n",
    "In [10]: *Warning?\n",
    "BytesWarning                  RuntimeWarning\n",
    "DeprecationWarning            SyntaxWarning\n",
    "FutureWarning                 UnicodeWarning\n",
    "ImportWarning                 UserWarning\n",
    "PendingDeprecationWarning     Warning\n",
    "ResourceWarning\n",
    "```\n",
    "\n",
    "Observe que o caractere `` * `` corresponde a qualquer string, incluindo a string vazia.\n",
    "\n",
    "Da forma similar, suponha que estejamos procurando um método string que contenha a palavra `` find`` em algum lugar em seu nome. Podemos pesquisar desta forma:\n",
    "\n",
    "```ipython\n",
    "In [10]: str.*find*?\n",
    "str.find\n",
    "str.rfind\n",
    "```\n",
    "\n",
    "Acho que esse tipo de pesquisa de curinga flexível pode ser muito útil para encontrar um comando específico quando estiver conhecendo um novo pacote ou me familiarizando com um outro."
   ]
  },
  {
   "cell_type": "code",
   "execution_count": null,
   "id": "177434f3",
   "metadata": {},
   "outputs": [],
   "source": []
  }
 ],
 "metadata": {
  "kernelspec": {
   "display_name": "Python 3 (ipykernel)",
   "language": "python",
   "name": "python3"
  },
  "language_info": {
   "codemirror_mode": {
    "name": "ipython",
    "version": 3
   },
   "file_extension": ".py",
   "mimetype": "text/x-python",
   "name": "python",
   "nbconvert_exporter": "python",
   "pygments_lexer": "ipython3",
   "version": "3.9.7"
  }
 },
 "nbformat": 4,
 "nbformat_minor": 5
}
